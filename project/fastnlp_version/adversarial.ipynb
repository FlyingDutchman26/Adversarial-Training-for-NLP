{
 "cells": [
  {
   "cell_type": "code",
   "execution_count": 1,
   "metadata": {},
   "outputs": [
    {
     "name": "stderr",
     "output_type": "stream",
     "text": [
      "/remote-home/pjli/anaconda3/envs/nlptorch/lib/python3.7/site-packages/tqdm/auto.py:22: TqdmWarning: IProgress not found. Please update jupyter and ipywidgets. See https://ipywidgets.readthedocs.io/en/stable/user_install.html\n",
      "  from .autonotebook import tqdm as notebook_tqdm\n"
     ]
    },
    {
     "data": {
      "text/html": [
       "<pre style=\"white-space:pre;overflow-x:auto;line-height:normal;font-family:Menlo,'DejaVu Sans Mono',consolas,'Courier New',monospace\">\n",
       "</pre>\n"
      ],
      "text/plain": [
       "\n"
      ]
     },
     "metadata": {},
     "output_type": "display_data"
    }
   ],
   "source": [
    "import sys\n",
    "from datasets import load_from_disk\n",
    "from fastNLP import DataSet,Vocabulary,prepare_torch_dataloader\n",
    "from fastNLP.io import DataBundle\n",
    "\n",
    "sys.path.append('..')\n",
    "nerdata = load_from_disk(dataset_path='../peoples_daily_ner')\n",
    "train_dataset = DataSet.from_pandas(nerdata['train'].to_pandas())\n",
    "val_dataset = DataSet.from_pandas(nerdata['validation'].to_pandas())\n",
    "test_dataset = DataSet.from_pandas(nerdata['test'].to_pandas())\n",
    "\n",
    "\n",
    "datasets = {\"train\":train_dataset,\"val\":val_dataset,\"test\":test_dataset}\n",
    "data_bundle = DataBundle(datasets=datasets)"
   ]
  },
  {
   "cell_type": "code",
   "execution_count": 2,
   "metadata": {},
   "outputs": [
    {
     "name": "stdout",
     "output_type": "stream",
     "text": [
      "                                                                                \r"
     ]
    },
    {
     "data": {
      "text/plain": [
       "In total 3 datasets:\n",
       "\ttrain has 20864 instances.\n",
       "\tval has 2318 instances.\n",
       "\ttest has 4636 instances."
      ]
     },
     "execution_count": 2,
     "metadata": {},
     "output_type": "execute_result"
    }
   ],
   "source": [
    "data_bundle.apply_more(lambda ins:{'words': ins['tokens'], 'seq_len': len(ins['tokens']), 'target': ins['ner_tags']},\n",
    "                   progress_bar=\"tqdm\")\n",
    "data_bundle.delete_field('tokens')\n",
    "data_bundle.delete_field('ner_tags')\n",
    "data_bundle.delete_field('id')\n",
    "data_bundle.drop(lambda ins:ins['seq_len'] <= 0) # 清理长度为0 的数据，否则构建词典出问题"
   ]
  },
  {
   "cell_type": "code",
   "execution_count": 3,
   "metadata": {},
   "outputs": [
    {
     "data": {
      "text/plain": [
       "Vocabulary(['O', 'B-PER', 'I-PER', 'B-ORG', 'I-ORG']...)"
      ]
     },
     "execution_count": 3,
     "metadata": {},
     "output_type": "execute_result"
    }
   ],
   "source": [
    "token_vocab = Vocabulary()\n",
    "token_vocab.from_dataset(data_bundle.get_dataset('train'), field_name='words')\n",
    "token_vocab.index_dataset(data_bundle.get_dataset('train'), field_name='words')\n",
    "token_vocab.index_dataset(data_bundle.get_dataset('val'), field_name='words')\n",
    "token_vocab.index_dataset(data_bundle.get_dataset('test'), field_name='words')\n",
    "label_vocab = Vocabulary(padding=None, unknown=None)\n",
    "label_vocab.add_word_lst(['O', 'B-PER', 'I-PER', 'B-ORG', 'I-ORG', 'B-LOC', 'I-LOC'])"
   ]
  },
  {
   "cell_type": "code",
   "execution_count": 4,
   "metadata": {},
   "outputs": [],
   "source": [
    "train_dataloader = prepare_torch_dataloader(train_dataset, batch_size=16, shuffle=True)\n",
    "evaluate_dataloader = prepare_torch_dataloader(val_dataset, batch_size=16)\n",
    "test_dataloader = prepare_torch_dataloader(test_dataset,batch_size=16)"
   ]
  },
  {
   "cell_type": "code",
   "execution_count": 5,
   "metadata": {},
   "outputs": [],
   "source": [
    "from fastNLP.models.torch import BiLSTMCRF\n",
    "from fastNLP import Trainer, Evaluator, SpanFPreRecMetric,LoadBestModelCallback, TorchWarmupCallback, Accuracy\n",
    "\n",
    "callbacks = [\n",
    "    LoadBestModelCallback(),\n",
    "    TorchWarmupCallback(),\n",
    "]\n",
    "\n",
    "model = BiLSTMCRF(embed=(len(token_vocab), 150), num_classes=len(label_vocab),\n",
    "                  num_layers=1, hidden_size=150, dropout=0.2)\n",
    "\n",
    "from torch.optim import AdamW\n",
    "\n",
    "optimizers = AdamW(params=model.parameters(), lr=1e-3)"
   ]
  },
  {
   "cell_type": "code",
   "execution_count": 7,
   "metadata": {},
   "outputs": [],
   "source": [
    "from FGM import FGM\n",
    "from PGD import PGD\n",
    "from FreeLB import FreeLB\n",
    "\n",
    "fgm = FGM(model)\n",
    "pgd = PGD(model)\n",
    "freelb = FreeLB(model)\n",
    "\n",
    "def batch_step_fn_fgm(trainer, batch):\n",
    "    outputs = trainer.train_step(batch)\n",
    "    trainer.backward(outputs)\n",
    "    # 对抗训练\n",
    "    fgm.attack()\n",
    "    outputs = trainer.train_step(batch)\n",
    "    trainer.backward(outputs)\n",
    "    fgm.restore()\n",
    "    trainer.step()\n",
    "    trainer.zero_grad()\n",
    "\n",
    "def batch_step_fn_pgd(trainer, batch):\n",
    "    outputs = trainer.train_step(batch)\n",
    "    trainer.backward(outputs)\n",
    "    pgd.backup_grad()\n",
    "    K = pgd.k\n",
    "    for t in range(K):\n",
    "        pgd.attack(is_first_attack=(t==0))\n",
    "        if t == K-1:\n",
    "            pgd.restore_grad()\n",
    "        else:\n",
    "            trainer.zero_grad()\n",
    "            \n",
    "        outputs = trainer.train_step(batch)\n",
    "        trainer.backward(outputs)\n",
    "    pgd.restore()\n",
    "    trainer.step()\n",
    "    trainer.zero_grad()\n",
    "    \n",
    "def batch_step_fn_freelb(trainer, batch):\n",
    "    outputs = trainer.train_step(batch)\n",
    "    trainer.backwards(outputs)\n",
    "    K = freelb.k\n",
    "    for t in range(K):\n",
    "        freelb.backup_grad()\n",
    "        trainer.zero_grad()\n",
    "        freelb.attack(is_first_attack=(t==0))        \n",
    "        outputs = trainer.train_step(batch)\n",
    "        trainer.backward(outputs)\n",
    "        freelb.backup_r_grad()\n",
    "        freelb.upgrade_grad()\n",
    "        freelb.upgrade_r_at()\n",
    "    freelb.restore()\n",
    "    trainer.step()\n",
    "    trainer.zero_grad()"
   ]
  },
  {
   "cell_type": "code",
   "execution_count": 8,
   "metadata": {},
   "outputs": [],
   "source": [
    "deviceId = 7\n",
    "batch_step_fn = batch_step_fn_pgd\n",
    "trainer = Trainer(\n",
    "    model=model,\n",
    "    driver='torch',\n",
    "    device=deviceId,  # 'cuda'\n",
    "    n_epochs=10,\n",
    "    optimizers=optimizers,\n",
    "    train_dataloader=train_dataloader,\n",
    "    evaluate_dataloaders=evaluate_dataloader,\n",
    "    metrics={'F1': SpanFPreRecMetric(tag_vocab=label_vocab),'acc':Accuracy()},\n",
    "    progress_bar = 'tqdm',\n",
    "    evaluate_every= 200, # -1代表每个epoch一次评估,正数代表batch个批次一次评估\n",
    "    callbacks=callbacks,\n",
    "    monitor='f#F1',\n",
    "    batch_step_fn=batch_step_fn,\n",
    "    \n",
    ")\n",
    "\n",
    "testor = Evaluator(\n",
    "    model=model,\n",
    "    driver='torch',\n",
    "    device = deviceId,\n",
    "    dataloaders=test_dataloader,\n",
    "    metrics={'F1': SpanFPreRecMetric(tag_vocab=label_vocab),'acc':Accuracy()}\n",
    ") "
   ]
  },
  {
   "cell_type": "code",
   "execution_count": 9,
   "metadata": {},
   "outputs": [
    {
     "data": {
      "text/html": [
       "<pre style=\"white-space:pre;overflow-x:auto;line-height:normal;font-family:Menlo,'DejaVu Sans Mono',consolas,'Courier New',monospace\"><span style=\"color: #7fbfbf; text-decoration-color: #7fbfbf\">[15:55:59] </span><span style=\"color: #000080; text-decoration-color: #000080\">INFO    </span> Running evaluator sanity check for <span style=\"color: #008080; text-decoration-color: #008080; font-weight: bold\">2</span> batches.              <a href=\"file:///remote-home/pjli/anaconda3/envs/nlptorch/lib/python3.7/site-packages/fastNLP/core/controllers/trainer.py\"><span style=\"color: #7f7f7f; text-decoration-color: #7f7f7f\">trainer.py</span></a><span style=\"color: #7f7f7f; text-decoration-color: #7f7f7f\">:</span><a href=\"file:///remote-home/pjli/anaconda3/envs/nlptorch/lib/python3.7/site-packages/fastNLP/core/controllers/trainer.py#661\"><span style=\"color: #7f7f7f; text-decoration-color: #7f7f7f\">661</span></a>\n",
       "</pre>\n"
      ],
      "text/plain": [
       "\u001b[2;36m[15:55:59]\u001b[0m\u001b[2;36m \u001b[0m\u001b[34mINFO    \u001b[0m Running evaluator sanity check for \u001b[1;36m2\u001b[0m batches.              \u001b]8;id=880304;file:///remote-home/pjli/anaconda3/envs/nlptorch/lib/python3.7/site-packages/fastNLP/core/controllers/trainer.py\u001b\\\u001b[2mtrainer.py\u001b[0m\u001b]8;;\u001b\\\u001b[2m:\u001b[0m\u001b]8;id=974825;file:///remote-home/pjli/anaconda3/envs/nlptorch/lib/python3.7/site-packages/fastNLP/core/controllers/trainer.py#661\u001b\\\u001b[2m661\u001b[0m\u001b]8;;\u001b\\\n"
      ]
     },
     "metadata": {},
     "output_type": "display_data"
    },
    {
     "name": "stdout",
     "output_type": "stream",
     "text": [
      "Epoch:0:   2%|▏         | [00:51<1:17:42, 473.47s/it, ]   \n",
      "\u001b[A\n",
      "\u001b[A\n",
      "\u001b[A\n",
      "\u001b[A\n",
      "\u001b[A\n",
      "\u001b[A\n",
      "\u001b[A\n",
      "\u001b[A\n",
      "\u001b[A\n",
      "\u001b[A\n",
      "\u001b[A\n",
      "\u001b[A\n",
      "\u001b[A\n",
      "\u001b[A\n",
      "\u001b[A\n",
      "\u001b[A\n",
      "\u001b[A\n",
      "\u001b[A\n",
      "\u001b[A\n",
      "\u001b[A\n",
      "\u001b[A\n",
      "\u001b[A\n",
      "\u001b[A\n",
      "\u001b[A\n",
      "\u001b[A\n",
      "\u001b[A\n",
      "\u001b[A\n",
      "\u001b[A\n",
      "\u001b[A\n",
      "\u001b[A\n",
      "\u001b[A\n",
      "\u001b[A\n",
      "\u001b[A\n",
      "\u001b[A\n",
      "\u001b[A\n",
      "\u001b[A\n",
      "\u001b[A\n",
      "\u001b[A\n",
      "\u001b[A\n",
      "\u001b[A\n",
      "\u001b[A\n",
      "\u001b[A\n",
      "\u001b[A\n",
      "\u001b[A\n",
      "\u001b[A\n",
      "\u001b[A\n",
      "\u001b[A\n",
      "\u001b[A\n",
      "\u001b[A\n",
      "\u001b[A"
     ]
    },
    {
     "data": {
      "text/html": [
       "<pre style=\"white-space:pre;overflow-x:auto;line-height:normal;font-family:Menlo,'DejaVu Sans Mono',consolas,'Courier New',monospace\"><span style=\"color: #7fbfbf; text-decoration-color: #7fbfbf\">[15:56:58] </span><span style=\"color: #000080; text-decoration-color: #000080\">INFO    </span> ++++++++++Eval. results on Epoch:<span style=\"color: #008080; text-decoration-color: #008080; font-weight: bold\">0</span>,              <a href=\"file:///remote-home/pjli/anaconda3/envs/nlptorch/lib/python3.7/site-packages/fastNLP/core/callbacks/progress_callback.py\"><span style=\"color: #7f7f7f; text-decoration-color: #7f7f7f\">progress_callback.py</span></a><span style=\"color: #7f7f7f; text-decoration-color: #7f7f7f\">:</span><a href=\"file:///remote-home/pjli/anaconda3/envs/nlptorch/lib/python3.7/site-packages/fastNLP/core/callbacks/progress_callback.py#322\"><span style=\"color: #7f7f7f; text-decoration-color: #7f7f7f\">322</span></a>\n",
       "<span style=\"color: #7fbfbf; text-decoration-color: #7fbfbf\">           </span>         Batch:<span style=\"color: #008080; text-decoration-color: #008080; font-weight: bold\">200</span>++++++++++                              <span style=\"color: #7f7f7f; text-decoration-color: #7f7f7f\">                        </span>\n",
       "</pre>\n"
      ],
      "text/plain": [
       "\u001b[2;36m[15:56:58]\u001b[0m\u001b[2;36m \u001b[0m\u001b[34mINFO    \u001b[0m ++++++++++Eval. results on Epoch:\u001b[1;36m0\u001b[0m,              \u001b]8;id=465354;file:///remote-home/pjli/anaconda3/envs/nlptorch/lib/python3.7/site-packages/fastNLP/core/callbacks/progress_callback.py\u001b\\\u001b[2mprogress_callback.py\u001b[0m\u001b]8;;\u001b\\\u001b[2m:\u001b[0m\u001b]8;id=606710;file:///remote-home/pjli/anaconda3/envs/nlptorch/lib/python3.7/site-packages/fastNLP/core/callbacks/progress_callback.py#322\u001b\\\u001b[2m322\u001b[0m\u001b]8;;\u001b\\\n",
       "\u001b[2;36m           \u001b[0m         Batch:\u001b[1;36m200\u001b[0m++++++++++                              \u001b[2m                        \u001b[0m\n"
      ]
     },
     "metadata": {},
     "output_type": "display_data"
    },
    {
     "data": {
      "text/html": [
       "<pre style=\"white-space:pre;overflow-x:auto;line-height:normal;font-family:Menlo,'DejaVu Sans Mono',consolas,'Courier New',monospace\"><span style=\"color: #7fbfbf; text-decoration-color: #7fbfbf\">           </span><span style=\"color: #000080; text-decoration-color: #000080\">INFO    </span> <span style=\"font-weight: bold\">{</span><span style=\"color: #008000; text-decoration-color: #008000\">\"f#F1\"</span>: <span style=\"color: #008080; text-decoration-color: #008080; font-weight: bold\">0.0</span>, <span style=\"color: #008000; text-decoration-color: #008000\">\"pre#F1\"</span>: <span style=\"color: #008080; text-decoration-color: #008080; font-weight: bold\">0.0</span>, <span style=\"color: #008000; text-decoration-color: #008000\">\"rec#F1\"</span>: <span style=\"color: #008080; text-decoration-color: #008080; font-weight: bold\">0.0</span>,      <a href=\"file:///remote-home/pjli/anaconda3/envs/nlptorch/lib/python3.7/site-packages/fastNLP/core/callbacks/progress_callback.py\"><span style=\"color: #7f7f7f; text-decoration-color: #7f7f7f\">progress_callback.py</span></a><span style=\"color: #7f7f7f; text-decoration-color: #7f7f7f\">:</span><a href=\"file:///remote-home/pjli/anaconda3/envs/nlptorch/lib/python3.7/site-packages/fastNLP/core/callbacks/progress_callback.py#327\"><span style=\"color: #7f7f7f; text-decoration-color: #7f7f7f\">327</span></a>\n",
       "<span style=\"color: #7fbfbf; text-decoration-color: #7fbfbf\">           </span>         <span style=\"color: #008000; text-decoration-color: #008000\">\"acc#acc\"</span>: <span style=\"color: #008080; text-decoration-color: #008080; font-weight: bold\">0.859152</span><span style=\"font-weight: bold\">}</span>                             <span style=\"color: #7f7f7f; text-decoration-color: #7f7f7f\">                        </span>\n",
       "</pre>\n"
      ],
      "text/plain": [
       "\u001b[2;36m          \u001b[0m\u001b[2;36m \u001b[0m\u001b[34mINFO    \u001b[0m \u001b[1m{\u001b[0m\u001b[32m\"f#F1\"\u001b[0m: \u001b[1;36m0.0\u001b[0m, \u001b[32m\"pre#F1\"\u001b[0m: \u001b[1;36m0.0\u001b[0m, \u001b[32m\"rec#F1\"\u001b[0m: \u001b[1;36m0.0\u001b[0m,      \u001b]8;id=229299;file:///remote-home/pjli/anaconda3/envs/nlptorch/lib/python3.7/site-packages/fastNLP/core/callbacks/progress_callback.py\u001b\\\u001b[2mprogress_callback.py\u001b[0m\u001b]8;;\u001b\\\u001b[2m:\u001b[0m\u001b]8;id=467902;file:///remote-home/pjli/anaconda3/envs/nlptorch/lib/python3.7/site-packages/fastNLP/core/callbacks/progress_callback.py#327\u001b\\\u001b[2m327\u001b[0m\u001b]8;;\u001b\\\n",
       "\u001b[2;36m           \u001b[0m         \u001b[32m\"acc#acc\"\u001b[0m: \u001b[1;36m0.859152\u001b[0m\u001b[1m}\u001b[0m                             \u001b[2m                        \u001b[0m\n"
      ]
     },
     "metadata": {},
     "output_type": "display_data"
    },
    {
     "name": "stdout",
     "output_type": "stream",
     "text": [
      "Epoch:0:   3%|▎         | [01:46<55:08, 341.32s/it, ]   \n",
      "\u001b[A\n",
      "\u001b[A\n",
      "\u001b[A\n",
      "\u001b[A\n",
      "\u001b[A\n",
      "\u001b[A\n",
      "\u001b[A\n",
      "\u001b[A\n",
      "\u001b[A\n",
      "\u001b[A\n",
      "\u001b[A\n",
      "\u001b[A\n",
      "\u001b[A\n",
      "\u001b[A\n",
      "\u001b[A\n",
      "\u001b[A\n",
      "\u001b[A\n",
      "\u001b[A\n",
      "\u001b[A\n",
      "\u001b[A\n",
      "\u001b[A\n",
      "\u001b[A\n",
      "\u001b[A\n",
      "\u001b[A\n",
      "\u001b[A\n",
      "\u001b[A\n",
      "\u001b[A\n",
      "\u001b[A\n",
      "\u001b[A\n",
      "\u001b[A\n",
      "\u001b[A\n",
      "\u001b[A\n",
      "\u001b[A\n",
      "\u001b[A\n",
      "\u001b[A\n",
      "\u001b[A\n",
      "\u001b[A\n",
      "\u001b[A\n",
      "\u001b[A\n",
      "\u001b[A\n",
      "\u001b[A"
     ]
    },
    {
     "data": {
      "text/html": [
       "<pre style=\"white-space:pre;overflow-x:auto;line-height:normal;font-family:Menlo,'DejaVu Sans Mono',consolas,'Courier New',monospace\"><span style=\"color: #7fbfbf; text-decoration-color: #7fbfbf\">[15:57:51] </span><span style=\"color: #000080; text-decoration-color: #000080\">INFO    </span> ++++++++++Eval. results on Epoch:<span style=\"color: #008080; text-decoration-color: #008080; font-weight: bold\">0</span>,              <a href=\"file:///remote-home/pjli/anaconda3/envs/nlptorch/lib/python3.7/site-packages/fastNLP/core/callbacks/progress_callback.py\"><span style=\"color: #7f7f7f; text-decoration-color: #7f7f7f\">progress_callback.py</span></a><span style=\"color: #7f7f7f; text-decoration-color: #7f7f7f\">:</span><a href=\"file:///remote-home/pjli/anaconda3/envs/nlptorch/lib/python3.7/site-packages/fastNLP/core/callbacks/progress_callback.py#322\"><span style=\"color: #7f7f7f; text-decoration-color: #7f7f7f\">322</span></a>\n",
       "<span style=\"color: #7fbfbf; text-decoration-color: #7fbfbf\">           </span>         Batch:<span style=\"color: #008080; text-decoration-color: #008080; font-weight: bold\">400</span>++++++++++                              <span style=\"color: #7f7f7f; text-decoration-color: #7f7f7f\">                        </span>\n",
       "</pre>\n"
      ],
      "text/plain": [
       "\u001b[2;36m[15:57:51]\u001b[0m\u001b[2;36m \u001b[0m\u001b[34mINFO    \u001b[0m ++++++++++Eval. results on Epoch:\u001b[1;36m0\u001b[0m,              \u001b]8;id=479037;file:///remote-home/pjli/anaconda3/envs/nlptorch/lib/python3.7/site-packages/fastNLP/core/callbacks/progress_callback.py\u001b\\\u001b[2mprogress_callback.py\u001b[0m\u001b]8;;\u001b\\\u001b[2m:\u001b[0m\u001b]8;id=709009;file:///remote-home/pjli/anaconda3/envs/nlptorch/lib/python3.7/site-packages/fastNLP/core/callbacks/progress_callback.py#322\u001b\\\u001b[2m322\u001b[0m\u001b]8;;\u001b\\\n",
       "\u001b[2;36m           \u001b[0m         Batch:\u001b[1;36m400\u001b[0m++++++++++                              \u001b[2m                        \u001b[0m\n"
      ]
     },
     "metadata": {},
     "output_type": "display_data"
    },
    {
     "data": {
      "text/html": [
       "<pre style=\"white-space:pre;overflow-x:auto;line-height:normal;font-family:Menlo,'DejaVu Sans Mono',consolas,'Courier New',monospace\"><span style=\"color: #7fbfbf; text-decoration-color: #7fbfbf\">           </span><span style=\"color: #000080; text-decoration-color: #000080\">INFO    </span> <span style=\"font-weight: bold\">{</span><span style=\"color: #008000; text-decoration-color: #008000\">\"f#F1\"</span>: <span style=\"color: #008080; text-decoration-color: #008080; font-weight: bold\">0.000907</span>, <span style=\"color: #008000; text-decoration-color: #008000\">\"pre#F1\"</span>: <span style=\"color: #008080; text-decoration-color: #008080; font-weight: bold\">0.001073</span>, <span style=\"color: #008000; text-decoration-color: #008000\">\"rec#F1\"</span>: <a href=\"file:///remote-home/pjli/anaconda3/envs/nlptorch/lib/python3.7/site-packages/fastNLP/core/callbacks/progress_callback.py\"><span style=\"color: #7f7f7f; text-decoration-color: #7f7f7f\">progress_callback.py</span></a><span style=\"color: #7f7f7f; text-decoration-color: #7f7f7f\">:</span><a href=\"file:///remote-home/pjli/anaconda3/envs/nlptorch/lib/python3.7/site-packages/fastNLP/core/callbacks/progress_callback.py#327\"><span style=\"color: #7f7f7f; text-decoration-color: #7f7f7f\">327</span></a>\n",
       "<span style=\"color: #7fbfbf; text-decoration-color: #7fbfbf\">           </span>         <span style=\"color: #008080; text-decoration-color: #008080; font-weight: bold\">0.000786</span>, <span style=\"color: #008000; text-decoration-color: #008000\">\"acc#acc\"</span>: <span style=\"color: #008080; text-decoration-color: #008080; font-weight: bold\">0.865587</span><span style=\"font-weight: bold\">}</span>                   <span style=\"color: #7f7f7f; text-decoration-color: #7f7f7f\">                        </span>\n",
       "</pre>\n"
      ],
      "text/plain": [
       "\u001b[2;36m          \u001b[0m\u001b[2;36m \u001b[0m\u001b[34mINFO    \u001b[0m \u001b[1m{\u001b[0m\u001b[32m\"f#F1\"\u001b[0m: \u001b[1;36m0.000907\u001b[0m, \u001b[32m\"pre#F1\"\u001b[0m: \u001b[1;36m0.001073\u001b[0m, \u001b[32m\"rec#F1\"\u001b[0m: \u001b]8;id=242996;file:///remote-home/pjli/anaconda3/envs/nlptorch/lib/python3.7/site-packages/fastNLP/core/callbacks/progress_callback.py\u001b\\\u001b[2mprogress_callback.py\u001b[0m\u001b]8;;\u001b\\\u001b[2m:\u001b[0m\u001b]8;id=407311;file:///remote-home/pjli/anaconda3/envs/nlptorch/lib/python3.7/site-packages/fastNLP/core/callbacks/progress_callback.py#327\u001b\\\u001b[2m327\u001b[0m\u001b]8;;\u001b\\\n",
       "\u001b[2;36m           \u001b[0m         \u001b[1;36m0.000786\u001b[0m, \u001b[32m\"acc#acc\"\u001b[0m: \u001b[1;36m0.865587\u001b[0m\u001b[1m}\u001b[0m                   \u001b[2m                        \u001b[0m\n"
      ]
     },
     "metadata": {},
     "output_type": "display_data"
    },
    {
     "name": "stdout",
     "output_type": "stream",
     "text": [
      "Epoch:0:   5%|▍         | [02:43<1:05:17, 410.65s/it, ] \n",
      "\u001b[A\n",
      "\u001b[A\n",
      "\u001b[A\n",
      "\u001b[A\n",
      "\u001b[A\n",
      "\u001b[A\n",
      "\u001b[A\n",
      "\u001b[A\n",
      "\u001b[A\n",
      "\u001b[A\n",
      "\u001b[A\n",
      "\u001b[A\n",
      "\u001b[A\n",
      "\u001b[A\n",
      "\u001b[A\n",
      "\u001b[A\n",
      "\u001b[A\n",
      "\u001b[A\n",
      "\u001b[A\n",
      "\u001b[A\n",
      "\u001b[A\n",
      "\u001b[A\n",
      "\u001b[A\n",
      "\u001b[A\n",
      "\u001b[A\n",
      "\u001b[A\n",
      "\u001b[A\n",
      "\u001b[A\n",
      "\u001b[A\n",
      "\u001b[A\n",
      "\u001b[A\n",
      "\u001b[A\n",
      "\u001b[A\n",
      "\u001b[A\n",
      "\u001b[A\n",
      "\u001b[A\n",
      "\u001b[A\n",
      "\u001b[A\n",
      "\u001b[A\n",
      "\u001b[A\n",
      "\u001b[A\n",
      "\u001b[A\n",
      "\u001b[A"
     ]
    },
    {
     "data": {
      "text/html": [
       "<pre style=\"white-space:pre;overflow-x:auto;line-height:normal;font-family:Menlo,'DejaVu Sans Mono',consolas,'Courier New',monospace\"><span style=\"color: #7fbfbf; text-decoration-color: #7fbfbf\">[15:58:48] </span><span style=\"color: #000080; text-decoration-color: #000080\">INFO    </span> ++++++++++Eval. results on Epoch:<span style=\"color: #008080; text-decoration-color: #008080; font-weight: bold\">0</span>,              <a href=\"file:///remote-home/pjli/anaconda3/envs/nlptorch/lib/python3.7/site-packages/fastNLP/core/callbacks/progress_callback.py\"><span style=\"color: #7f7f7f; text-decoration-color: #7f7f7f\">progress_callback.py</span></a><span style=\"color: #7f7f7f; text-decoration-color: #7f7f7f\">:</span><a href=\"file:///remote-home/pjli/anaconda3/envs/nlptorch/lib/python3.7/site-packages/fastNLP/core/callbacks/progress_callback.py#322\"><span style=\"color: #7f7f7f; text-decoration-color: #7f7f7f\">322</span></a>\n",
       "<span style=\"color: #7fbfbf; text-decoration-color: #7fbfbf\">           </span>         Batch:<span style=\"color: #008080; text-decoration-color: #008080; font-weight: bold\">600</span>++++++++++                              <span style=\"color: #7f7f7f; text-decoration-color: #7f7f7f\">                        </span>\n",
       "</pre>\n"
      ],
      "text/plain": [
       "\u001b[2;36m[15:58:48]\u001b[0m\u001b[2;36m \u001b[0m\u001b[34mINFO    \u001b[0m ++++++++++Eval. results on Epoch:\u001b[1;36m0\u001b[0m,              \u001b]8;id=556287;file:///remote-home/pjli/anaconda3/envs/nlptorch/lib/python3.7/site-packages/fastNLP/core/callbacks/progress_callback.py\u001b\\\u001b[2mprogress_callback.py\u001b[0m\u001b]8;;\u001b\\\u001b[2m:\u001b[0m\u001b]8;id=22290;file:///remote-home/pjli/anaconda3/envs/nlptorch/lib/python3.7/site-packages/fastNLP/core/callbacks/progress_callback.py#322\u001b\\\u001b[2m322\u001b[0m\u001b]8;;\u001b\\\n",
       "\u001b[2;36m           \u001b[0m         Batch:\u001b[1;36m600\u001b[0m++++++++++                              \u001b[2m                        \u001b[0m\n"
      ]
     },
     "metadata": {},
     "output_type": "display_data"
    },
    {
     "data": {
      "text/html": [
       "<pre style=\"white-space:pre;overflow-x:auto;line-height:normal;font-family:Menlo,'DejaVu Sans Mono',consolas,'Courier New',monospace\"><span style=\"color: #7fbfbf; text-decoration-color: #7fbfbf\">           </span><span style=\"color: #000080; text-decoration-color: #000080\">INFO    </span> <span style=\"font-weight: bold\">{</span><span style=\"color: #008000; text-decoration-color: #008000\">\"f#F1\"</span>: <span style=\"color: #008080; text-decoration-color: #008080; font-weight: bold\">0.008974</span>, <span style=\"color: #008000; text-decoration-color: #008000\">\"pre#F1\"</span>: <span style=\"color: #008080; text-decoration-color: #008080; font-weight: bold\">0.008358</span>, <span style=\"color: #008000; text-decoration-color: #008000\">\"rec#F1\"</span>: <a href=\"file:///remote-home/pjli/anaconda3/envs/nlptorch/lib/python3.7/site-packages/fastNLP/core/callbacks/progress_callback.py\"><span style=\"color: #7f7f7f; text-decoration-color: #7f7f7f\">progress_callback.py</span></a><span style=\"color: #7f7f7f; text-decoration-color: #7f7f7f\">:</span><a href=\"file:///remote-home/pjli/anaconda3/envs/nlptorch/lib/python3.7/site-packages/fastNLP/core/callbacks/progress_callback.py#327\"><span style=\"color: #7f7f7f; text-decoration-color: #7f7f7f\">327</span></a>\n",
       "<span style=\"color: #7fbfbf; text-decoration-color: #7fbfbf\">           </span>         <span style=\"color: #008080; text-decoration-color: #008080; font-weight: bold\">0.009688</span>, <span style=\"color: #008000; text-decoration-color: #008000\">\"acc#acc\"</span>: <span style=\"color: #008080; text-decoration-color: #008080; font-weight: bold\">0.89189</span><span style=\"font-weight: bold\">}</span>                    <span style=\"color: #7f7f7f; text-decoration-color: #7f7f7f\">                        </span>\n",
       "</pre>\n"
      ],
      "text/plain": [
       "\u001b[2;36m          \u001b[0m\u001b[2;36m \u001b[0m\u001b[34mINFO    \u001b[0m \u001b[1m{\u001b[0m\u001b[32m\"f#F1\"\u001b[0m: \u001b[1;36m0.008974\u001b[0m, \u001b[32m\"pre#F1\"\u001b[0m: \u001b[1;36m0.008358\u001b[0m, \u001b[32m\"rec#F1\"\u001b[0m: \u001b]8;id=564882;file:///remote-home/pjli/anaconda3/envs/nlptorch/lib/python3.7/site-packages/fastNLP/core/callbacks/progress_callback.py\u001b\\\u001b[2mprogress_callback.py\u001b[0m\u001b]8;;\u001b\\\u001b[2m:\u001b[0m\u001b]8;id=310694;file:///remote-home/pjli/anaconda3/envs/nlptorch/lib/python3.7/site-packages/fastNLP/core/callbacks/progress_callback.py#327\u001b\\\u001b[2m327\u001b[0m\u001b]8;;\u001b\\\n",
       "\u001b[2;36m           \u001b[0m         \u001b[1;36m0.009688\u001b[0m, \u001b[32m\"acc#acc\"\u001b[0m: \u001b[1;36m0.89189\u001b[0m\u001b[1m}\u001b[0m                    \u001b[2m                        \u001b[0m\n"
      ]
     },
     "metadata": {},
     "output_type": "display_data"
    },
    {
     "name": "stdout",
     "output_type": "stream",
     "text": [
      "Epoch:0:   6%|▌         | [03:38<45:35, 291.43s/it, ]   \n",
      "\u001b[A\n",
      "\u001b[A\n",
      "\u001b[A\n",
      "\u001b[A\n",
      "\u001b[A\n",
      "\u001b[A\n",
      "\u001b[A\n",
      "\u001b[A\n",
      "\u001b[A\n",
      "\u001b[A\n",
      "\u001b[A\n",
      "\u001b[A\n",
      "\u001b[A\n",
      "\u001b[A\n",
      "\u001b[A\n",
      "\u001b[A\n",
      "\u001b[A\n",
      "\u001b[A\n",
      "\u001b[A\n",
      "\u001b[A\n",
      "\u001b[A\n",
      "\u001b[A\n",
      "\u001b[A\n",
      "\u001b[A\n",
      "\u001b[A\n",
      "\u001b[A\n",
      "\u001b[A\n",
      "\u001b[A\n",
      "\u001b[A\n",
      "\u001b[A\n",
      "\u001b[A\n",
      "\u001b[A\n",
      "\u001b[A\n",
      "\u001b[A\n",
      "\u001b[A\n",
      "\u001b[A\n",
      "\u001b[A\n",
      "\u001b[A\n",
      "\u001b[A\n",
      "\u001b[A\n",
      "\u001b[A"
     ]
    },
    {
     "data": {
      "text/html": [
       "<pre style=\"white-space:pre;overflow-x:auto;line-height:normal;font-family:Menlo,'DejaVu Sans Mono',consolas,'Courier New',monospace\"><span style=\"color: #7fbfbf; text-decoration-color: #7fbfbf\">[15:59:43] </span><span style=\"color: #000080; text-decoration-color: #000080\">INFO    </span> ++++++++++Eval. results on Epoch:<span style=\"color: #008080; text-decoration-color: #008080; font-weight: bold\">0</span>,              <a href=\"file:///remote-home/pjli/anaconda3/envs/nlptorch/lib/python3.7/site-packages/fastNLP/core/callbacks/progress_callback.py\"><span style=\"color: #7f7f7f; text-decoration-color: #7f7f7f\">progress_callback.py</span></a><span style=\"color: #7f7f7f; text-decoration-color: #7f7f7f\">:</span><a href=\"file:///remote-home/pjli/anaconda3/envs/nlptorch/lib/python3.7/site-packages/fastNLP/core/callbacks/progress_callback.py#322\"><span style=\"color: #7f7f7f; text-decoration-color: #7f7f7f\">322</span></a>\n",
       "<span style=\"color: #7fbfbf; text-decoration-color: #7fbfbf\">           </span>         Batch:<span style=\"color: #008080; text-decoration-color: #008080; font-weight: bold\">800</span>++++++++++                              <span style=\"color: #7f7f7f; text-decoration-color: #7f7f7f\">                        </span>\n",
       "</pre>\n"
      ],
      "text/plain": [
       "\u001b[2;36m[15:59:43]\u001b[0m\u001b[2;36m \u001b[0m\u001b[34mINFO    \u001b[0m ++++++++++Eval. results on Epoch:\u001b[1;36m0\u001b[0m,              \u001b]8;id=209349;file:///remote-home/pjli/anaconda3/envs/nlptorch/lib/python3.7/site-packages/fastNLP/core/callbacks/progress_callback.py\u001b\\\u001b[2mprogress_callback.py\u001b[0m\u001b]8;;\u001b\\\u001b[2m:\u001b[0m\u001b]8;id=587630;file:///remote-home/pjli/anaconda3/envs/nlptorch/lib/python3.7/site-packages/fastNLP/core/callbacks/progress_callback.py#322\u001b\\\u001b[2m322\u001b[0m\u001b]8;;\u001b\\\n",
       "\u001b[2;36m           \u001b[0m         Batch:\u001b[1;36m800\u001b[0m++++++++++                              \u001b[2m                        \u001b[0m\n"
      ]
     },
     "metadata": {},
     "output_type": "display_data"
    },
    {
     "data": {
      "text/html": [
       "<pre style=\"white-space:pre;overflow-x:auto;line-height:normal;font-family:Menlo,'DejaVu Sans Mono',consolas,'Courier New',monospace\"><span style=\"color: #7fbfbf; text-decoration-color: #7fbfbf\">           </span><span style=\"color: #000080; text-decoration-color: #000080\">INFO    </span> <span style=\"font-weight: bold\">{</span><span style=\"color: #008000; text-decoration-color: #008000\">\"f#F1\"</span>: <span style=\"color: #008080; text-decoration-color: #008080; font-weight: bold\">0.012722</span>, <span style=\"color: #008000; text-decoration-color: #008000\">\"pre#F1\"</span>: <span style=\"color: #008080; text-decoration-color: #008080; font-weight: bold\">0.010253</span>, <span style=\"color: #008000; text-decoration-color: #008000\">\"rec#F1\"</span>: <a href=\"file:///remote-home/pjli/anaconda3/envs/nlptorch/lib/python3.7/site-packages/fastNLP/core/callbacks/progress_callback.py\"><span style=\"color: #7f7f7f; text-decoration-color: #7f7f7f\">progress_callback.py</span></a><span style=\"color: #7f7f7f; text-decoration-color: #7f7f7f\">:</span><a href=\"file:///remote-home/pjli/anaconda3/envs/nlptorch/lib/python3.7/site-packages/fastNLP/core/callbacks/progress_callback.py#327\"><span style=\"color: #7f7f7f; text-decoration-color: #7f7f7f\">327</span></a>\n",
       "<span style=\"color: #7fbfbf; text-decoration-color: #7fbfbf\">           </span>         <span style=\"color: #008080; text-decoration-color: #008080; font-weight: bold\">0.016758</span>, <span style=\"color: #008000; text-decoration-color: #008000\">\"acc#acc\"</span>: <span style=\"color: #008080; text-decoration-color: #008080; font-weight: bold\">0.898052</span><span style=\"font-weight: bold\">}</span>                   <span style=\"color: #7f7f7f; text-decoration-color: #7f7f7f\">                        </span>\n",
       "</pre>\n"
      ],
      "text/plain": [
       "\u001b[2;36m          \u001b[0m\u001b[2;36m \u001b[0m\u001b[34mINFO    \u001b[0m \u001b[1m{\u001b[0m\u001b[32m\"f#F1\"\u001b[0m: \u001b[1;36m0.012722\u001b[0m, \u001b[32m\"pre#F1\"\u001b[0m: \u001b[1;36m0.010253\u001b[0m, \u001b[32m\"rec#F1\"\u001b[0m: \u001b]8;id=873425;file:///remote-home/pjli/anaconda3/envs/nlptorch/lib/python3.7/site-packages/fastNLP/core/callbacks/progress_callback.py\u001b\\\u001b[2mprogress_callback.py\u001b[0m\u001b]8;;\u001b\\\u001b[2m:\u001b[0m\u001b]8;id=837353;file:///remote-home/pjli/anaconda3/envs/nlptorch/lib/python3.7/site-packages/fastNLP/core/callbacks/progress_callback.py#327\u001b\\\u001b[2m327\u001b[0m\u001b]8;;\u001b\\\n",
       "\u001b[2;36m           \u001b[0m         \u001b[1;36m0.016758\u001b[0m, \u001b[32m\"acc#acc\"\u001b[0m: \u001b[1;36m0.898052\u001b[0m\u001b[1m}\u001b[0m                   \u001b[2m                        \u001b[0m\n"
      ]
     },
     "metadata": {},
     "output_type": "display_data"
    },
    {
     "name": "stdout",
     "output_type": "stream",
     "text": [
      "Epoch:0:   8%|▊         | [04:35<59:29, 386.59s/it, ]   \n",
      "\u001b[A\n",
      "\u001b[A\n",
      "\u001b[A\n",
      "\u001b[A\n",
      "\u001b[A\n",
      "\u001b[A\n",
      "\u001b[A\n",
      "\u001b[A\n",
      "\u001b[A\n",
      "\u001b[A\n",
      "\u001b[A\n",
      "\u001b[A\n",
      "\u001b[A\n",
      "\u001b[A\n",
      "\u001b[A\n",
      "\u001b[A\n",
      "\u001b[A\n",
      "\u001b[A\n",
      "\u001b[A\n",
      "\u001b[A\n",
      "\u001b[A\n",
      "\u001b[A\n",
      "\u001b[A\n",
      "\u001b[A\n",
      "\u001b[A\n",
      "\u001b[A\n",
      "\u001b[A\n",
      "\u001b[A\n",
      "\u001b[A\n",
      "\u001b[A\n",
      "\u001b[A\n",
      "\u001b[A\n",
      "\u001b[A\n",
      "\u001b[A\n",
      "\u001b[A\n",
      "\u001b[A\n",
      "\u001b[A\n",
      "\u001b[A\n",
      "\u001b[A\n",
      "\u001b[A\n",
      "\u001b[A\n",
      "\u001b[A"
     ]
    },
    {
     "data": {
      "text/html": [
       "<pre style=\"white-space:pre;overflow-x:auto;line-height:normal;font-family:Menlo,'DejaVu Sans Mono',consolas,'Courier New',monospace\"><span style=\"color: #7fbfbf; text-decoration-color: #7fbfbf\">[16:00:40] </span><span style=\"color: #000080; text-decoration-color: #000080\">INFO    </span> ++++++++++Eval. results on Epoch:<span style=\"color: #008080; text-decoration-color: #008080; font-weight: bold\">0</span>,              <a href=\"file:///remote-home/pjli/anaconda3/envs/nlptorch/lib/python3.7/site-packages/fastNLP/core/callbacks/progress_callback.py\"><span style=\"color: #7f7f7f; text-decoration-color: #7f7f7f\">progress_callback.py</span></a><span style=\"color: #7f7f7f; text-decoration-color: #7f7f7f\">:</span><a href=\"file:///remote-home/pjli/anaconda3/envs/nlptorch/lib/python3.7/site-packages/fastNLP/core/callbacks/progress_callback.py#322\"><span style=\"color: #7f7f7f; text-decoration-color: #7f7f7f\">322</span></a>\n",
       "<span style=\"color: #7fbfbf; text-decoration-color: #7fbfbf\">           </span>         Batch:<span style=\"color: #008080; text-decoration-color: #008080; font-weight: bold\">1000</span>++++++++++                             <span style=\"color: #7f7f7f; text-decoration-color: #7f7f7f\">                        </span>\n",
       "</pre>\n"
      ],
      "text/plain": [
       "\u001b[2;36m[16:00:40]\u001b[0m\u001b[2;36m \u001b[0m\u001b[34mINFO    \u001b[0m ++++++++++Eval. results on Epoch:\u001b[1;36m0\u001b[0m,              \u001b]8;id=635555;file:///remote-home/pjli/anaconda3/envs/nlptorch/lib/python3.7/site-packages/fastNLP/core/callbacks/progress_callback.py\u001b\\\u001b[2mprogress_callback.py\u001b[0m\u001b]8;;\u001b\\\u001b[2m:\u001b[0m\u001b]8;id=615602;file:///remote-home/pjli/anaconda3/envs/nlptorch/lib/python3.7/site-packages/fastNLP/core/callbacks/progress_callback.py#322\u001b\\\u001b[2m322\u001b[0m\u001b]8;;\u001b\\\n",
       "\u001b[2;36m           \u001b[0m         Batch:\u001b[1;36m1000\u001b[0m++++++++++                             \u001b[2m                        \u001b[0m\n"
      ]
     },
     "metadata": {},
     "output_type": "display_data"
    },
    {
     "data": {
      "text/html": [
       "<pre style=\"white-space:pre;overflow-x:auto;line-height:normal;font-family:Menlo,'DejaVu Sans Mono',consolas,'Courier New',monospace\"><span style=\"color: #7fbfbf; text-decoration-color: #7fbfbf\">           </span><span style=\"color: #000080; text-decoration-color: #000080\">INFO    </span> <span style=\"font-weight: bold\">{</span><span style=\"color: #008000; text-decoration-color: #008000\">\"f#F1\"</span>: <span style=\"color: #008080; text-decoration-color: #008080; font-weight: bold\">0.018958</span>, <span style=\"color: #008000; text-decoration-color: #008000\">\"pre#F1\"</span>: <span style=\"color: #008080; text-decoration-color: #008080; font-weight: bold\">0.014067</span>, <span style=\"color: #008000; text-decoration-color: #008000\">\"rec#F1\"</span>: <a href=\"file:///remote-home/pjli/anaconda3/envs/nlptorch/lib/python3.7/site-packages/fastNLP/core/callbacks/progress_callback.py\"><span style=\"color: #7f7f7f; text-decoration-color: #7f7f7f\">progress_callback.py</span></a><span style=\"color: #7f7f7f; text-decoration-color: #7f7f7f\">:</span><a href=\"file:///remote-home/pjli/anaconda3/envs/nlptorch/lib/python3.7/site-packages/fastNLP/core/callbacks/progress_callback.py#327\"><span style=\"color: #7f7f7f; text-decoration-color: #7f7f7f\">327</span></a>\n",
       "<span style=\"color: #7fbfbf; text-decoration-color: #7fbfbf\">           </span>         <span style=\"color: #008080; text-decoration-color: #008080; font-weight: bold\">0.029065</span>, <span style=\"color: #008000; text-decoration-color: #008000\">\"acc#acc\"</span>: <span style=\"color: #008080; text-decoration-color: #008080; font-weight: bold\">0.900218</span><span style=\"font-weight: bold\">}</span>                   <span style=\"color: #7f7f7f; text-decoration-color: #7f7f7f\">                        </span>\n",
       "</pre>\n"
      ],
      "text/plain": [
       "\u001b[2;36m          \u001b[0m\u001b[2;36m \u001b[0m\u001b[34mINFO    \u001b[0m \u001b[1m{\u001b[0m\u001b[32m\"f#F1\"\u001b[0m: \u001b[1;36m0.018958\u001b[0m, \u001b[32m\"pre#F1\"\u001b[0m: \u001b[1;36m0.014067\u001b[0m, \u001b[32m\"rec#F1\"\u001b[0m: \u001b]8;id=427743;file:///remote-home/pjli/anaconda3/envs/nlptorch/lib/python3.7/site-packages/fastNLP/core/callbacks/progress_callback.py\u001b\\\u001b[2mprogress_callback.py\u001b[0m\u001b]8;;\u001b\\\u001b[2m:\u001b[0m\u001b]8;id=913023;file:///remote-home/pjli/anaconda3/envs/nlptorch/lib/python3.7/site-packages/fastNLP/core/callbacks/progress_callback.py#327\u001b\\\u001b[2m327\u001b[0m\u001b]8;;\u001b\\\n",
       "\u001b[2;36m           \u001b[0m         \u001b[1;36m0.029065\u001b[0m, \u001b[32m\"acc#acc\"\u001b[0m: \u001b[1;36m0.900218\u001b[0m\u001b[1m}\u001b[0m                   \u001b[2m                        \u001b[0m\n"
      ]
     },
     "metadata": {},
     "output_type": "display_data"
    },
    {
     "name": "stdout",
     "output_type": "stream",
     "text": [
      "Epoch:0:   9%|▉         | [05:29<45:03, 297.77s/it, ]   \n",
      "\u001b[A\n",
      "\u001b[A\n",
      "\u001b[A\n",
      "\u001b[A\n",
      "\u001b[A\n",
      "\u001b[A\n",
      "\u001b[A\n",
      "\u001b[A\n",
      "\u001b[A\n",
      "\u001b[A\n",
      "\u001b[A\n",
      "\u001b[A\n",
      "\u001b[A\n",
      "\u001b[A\n",
      "\u001b[A\n",
      "\u001b[A\n",
      "\u001b[A\n",
      "\u001b[A\n",
      "\u001b[A\n",
      "\u001b[A\n",
      "\u001b[A\n",
      "\u001b[A\n",
      "\u001b[A\n",
      "\u001b[A\n",
      "\u001b[A\n",
      "\u001b[A\n",
      "\u001b[A\n",
      "\u001b[A\n",
      "\u001b[A\n",
      "\u001b[A\n",
      "\u001b[A\n",
      "\u001b[A\n",
      "\u001b[A\n",
      "\u001b[A\n",
      "\u001b[A\n",
      "\u001b[A\n",
      "\u001b[A\n",
      "\u001b[A\n",
      "\u001b[A\n",
      "\u001b[A\n",
      "\u001b[A\n",
      "\u001b[A"
     ]
    },
    {
     "data": {
      "text/html": [
       "<pre style=\"white-space:pre;overflow-x:auto;line-height:normal;font-family:Menlo,'DejaVu Sans Mono',consolas,'Courier New',monospace\"><span style=\"color: #7fbfbf; text-decoration-color: #7fbfbf\">[16:01:35] </span><span style=\"color: #000080; text-decoration-color: #000080\">INFO    </span> ++++++++++Eval. results on Epoch:<span style=\"color: #008080; text-decoration-color: #008080; font-weight: bold\">0</span>,              <a href=\"file:///remote-home/pjli/anaconda3/envs/nlptorch/lib/python3.7/site-packages/fastNLP/core/callbacks/progress_callback.py\"><span style=\"color: #7f7f7f; text-decoration-color: #7f7f7f\">progress_callback.py</span></a><span style=\"color: #7f7f7f; text-decoration-color: #7f7f7f\">:</span><a href=\"file:///remote-home/pjli/anaconda3/envs/nlptorch/lib/python3.7/site-packages/fastNLP/core/callbacks/progress_callback.py#322\"><span style=\"color: #7f7f7f; text-decoration-color: #7f7f7f\">322</span></a>\n",
       "<span style=\"color: #7fbfbf; text-decoration-color: #7fbfbf\">           </span>         Batch:<span style=\"color: #008080; text-decoration-color: #008080; font-weight: bold\">1200</span>++++++++++                             <span style=\"color: #7f7f7f; text-decoration-color: #7f7f7f\">                        </span>\n",
       "</pre>\n"
      ],
      "text/plain": [
       "\u001b[2;36m[16:01:35]\u001b[0m\u001b[2;36m \u001b[0m\u001b[34mINFO    \u001b[0m ++++++++++Eval. results on Epoch:\u001b[1;36m0\u001b[0m,              \u001b]8;id=760761;file:///remote-home/pjli/anaconda3/envs/nlptorch/lib/python3.7/site-packages/fastNLP/core/callbacks/progress_callback.py\u001b\\\u001b[2mprogress_callback.py\u001b[0m\u001b]8;;\u001b\\\u001b[2m:\u001b[0m\u001b]8;id=841419;file:///remote-home/pjli/anaconda3/envs/nlptorch/lib/python3.7/site-packages/fastNLP/core/callbacks/progress_callback.py#322\u001b\\\u001b[2m322\u001b[0m\u001b]8;;\u001b\\\n",
       "\u001b[2;36m           \u001b[0m         Batch:\u001b[1;36m1200\u001b[0m++++++++++                             \u001b[2m                        \u001b[0m\n"
      ]
     },
     "metadata": {},
     "output_type": "display_data"
    },
    {
     "data": {
      "text/html": [
       "<pre style=\"white-space:pre;overflow-x:auto;line-height:normal;font-family:Menlo,'DejaVu Sans Mono',consolas,'Courier New',monospace\"><span style=\"color: #7fbfbf; text-decoration-color: #7fbfbf\">           </span><span style=\"color: #000080; text-decoration-color: #000080\">INFO    </span> <span style=\"font-weight: bold\">{</span><span style=\"color: #008000; text-decoration-color: #008000\">\"f#F1\"</span>: <span style=\"color: #008080; text-decoration-color: #008080; font-weight: bold\">0.132761</span>, <span style=\"color: #008000; text-decoration-color: #008000\">\"pre#F1\"</span>: <span style=\"color: #008080; text-decoration-color: #008080; font-weight: bold\">0.110607</span>, <span style=\"color: #008000; text-decoration-color: #008000\">\"rec#F1\"</span>: <a href=\"file:///remote-home/pjli/anaconda3/envs/nlptorch/lib/python3.7/site-packages/fastNLP/core/callbacks/progress_callback.py\"><span style=\"color: #7f7f7f; text-decoration-color: #7f7f7f\">progress_callback.py</span></a><span style=\"color: #7f7f7f; text-decoration-color: #7f7f7f\">:</span><a href=\"file:///remote-home/pjli/anaconda3/envs/nlptorch/lib/python3.7/site-packages/fastNLP/core/callbacks/progress_callback.py#327\"><span style=\"color: #7f7f7f; text-decoration-color: #7f7f7f\">327</span></a>\n",
       "<span style=\"color: #7fbfbf; text-decoration-color: #7fbfbf\">           </span>         <span style=\"color: #008080; text-decoration-color: #008080; font-weight: bold\">0.166012</span>, <span style=\"color: #008000; text-decoration-color: #008000\">\"acc#acc\"</span>: <span style=\"color: #008080; text-decoration-color: #008080; font-weight: bold\">0.92026</span><span style=\"font-weight: bold\">}</span>                    <span style=\"color: #7f7f7f; text-decoration-color: #7f7f7f\">                        </span>\n",
       "</pre>\n"
      ],
      "text/plain": [
       "\u001b[2;36m          \u001b[0m\u001b[2;36m \u001b[0m\u001b[34mINFO    \u001b[0m \u001b[1m{\u001b[0m\u001b[32m\"f#F1\"\u001b[0m: \u001b[1;36m0.132761\u001b[0m, \u001b[32m\"pre#F1\"\u001b[0m: \u001b[1;36m0.110607\u001b[0m, \u001b[32m\"rec#F1\"\u001b[0m: \u001b]8;id=456683;file:///remote-home/pjli/anaconda3/envs/nlptorch/lib/python3.7/site-packages/fastNLP/core/callbacks/progress_callback.py\u001b\\\u001b[2mprogress_callback.py\u001b[0m\u001b]8;;\u001b\\\u001b[2m:\u001b[0m\u001b]8;id=263530;file:///remote-home/pjli/anaconda3/envs/nlptorch/lib/python3.7/site-packages/fastNLP/core/callbacks/progress_callback.py#327\u001b\\\u001b[2m327\u001b[0m\u001b]8;;\u001b\\\n",
       "\u001b[2;36m           \u001b[0m         \u001b[1;36m0.166012\u001b[0m, \u001b[32m\"acc#acc\"\u001b[0m: \u001b[1;36m0.92026\u001b[0m\u001b[1m}\u001b[0m                    \u001b[2m                        \u001b[0m\n"
      ]
     },
     "metadata": {},
     "output_type": "display_data"
    },
    {
     "name": "stdout",
     "output_type": "stream",
     "text": [
      "Epoch:1:  11%|█         | [06:24<44:55, 301.94s/it, ]   \n",
      "\u001b[A\n",
      "\u001b[A\n",
      "\u001b[A\n",
      "\u001b[A\n",
      "\u001b[A\n",
      "\u001b[A\n",
      "\u001b[A\n",
      "\u001b[A\n",
      "\u001b[A\n",
      "\u001b[A\n",
      "\u001b[A\n",
      "\u001b[A\n",
      "\u001b[A\n",
      "\u001b[A\n",
      "\u001b[A\n",
      "\u001b[A\n",
      "\u001b[A\n",
      "\u001b[A\n",
      "\u001b[A\n",
      "\u001b[A\n",
      "\u001b[A\n",
      "\u001b[A\n",
      "\u001b[A\n",
      "\u001b[A\n",
      "\u001b[A\n",
      "\u001b[A\n",
      "\u001b[A\n",
      "\u001b[A\n",
      "\u001b[A\n",
      "\u001b[A\n",
      "\u001b[A\n",
      "\u001b[A\n",
      "\u001b[A\n",
      "\u001b[A\n",
      "\u001b[A\n",
      "\u001b[A\n",
      "\u001b[A\n",
      "\u001b[A\n",
      "\u001b[A\n",
      "\u001b[A\n",
      "\u001b[A"
     ]
    },
    {
     "data": {
      "text/html": [
       "<pre style=\"white-space:pre;overflow-x:auto;line-height:normal;font-family:Menlo,'DejaVu Sans Mono',consolas,'Courier New',monospace\"><span style=\"color: #7fbfbf; text-decoration-color: #7fbfbf\">[16:02:30] </span><span style=\"color: #000080; text-decoration-color: #000080\">INFO    </span> ++++++++++Eval. results on Epoch:<span style=\"color: #008080; text-decoration-color: #008080; font-weight: bold\">1</span>,              <a href=\"file:///remote-home/pjli/anaconda3/envs/nlptorch/lib/python3.7/site-packages/fastNLP/core/callbacks/progress_callback.py\"><span style=\"color: #7f7f7f; text-decoration-color: #7f7f7f\">progress_callback.py</span></a><span style=\"color: #7f7f7f; text-decoration-color: #7f7f7f\">:</span><a href=\"file:///remote-home/pjli/anaconda3/envs/nlptorch/lib/python3.7/site-packages/fastNLP/core/callbacks/progress_callback.py#322\"><span style=\"color: #7f7f7f; text-decoration-color: #7f7f7f\">322</span></a>\n",
       "<span style=\"color: #7fbfbf; text-decoration-color: #7fbfbf\">           </span>         Batch:<span style=\"color: #008080; text-decoration-color: #008080; font-weight: bold\">96</span>++++++++++                               <span style=\"color: #7f7f7f; text-decoration-color: #7f7f7f\">                        </span>\n",
       "</pre>\n"
      ],
      "text/plain": [
       "\u001b[2;36m[16:02:30]\u001b[0m\u001b[2;36m \u001b[0m\u001b[34mINFO    \u001b[0m ++++++++++Eval. results on Epoch:\u001b[1;36m1\u001b[0m,              \u001b]8;id=158951;file:///remote-home/pjli/anaconda3/envs/nlptorch/lib/python3.7/site-packages/fastNLP/core/callbacks/progress_callback.py\u001b\\\u001b[2mprogress_callback.py\u001b[0m\u001b]8;;\u001b\\\u001b[2m:\u001b[0m\u001b]8;id=296785;file:///remote-home/pjli/anaconda3/envs/nlptorch/lib/python3.7/site-packages/fastNLP/core/callbacks/progress_callback.py#322\u001b\\\u001b[2m322\u001b[0m\u001b]8;;\u001b\\\n",
       "\u001b[2;36m           \u001b[0m         Batch:\u001b[1;36m96\u001b[0m++++++++++                               \u001b[2m                        \u001b[0m\n"
      ]
     },
     "metadata": {},
     "output_type": "display_data"
    },
    {
     "data": {
      "text/html": [
       "<pre style=\"white-space:pre;overflow-x:auto;line-height:normal;font-family:Menlo,'DejaVu Sans Mono',consolas,'Courier New',monospace\"><span style=\"color: #7fbfbf; text-decoration-color: #7fbfbf\">           </span><span style=\"color: #000080; text-decoration-color: #000080\">INFO    </span> <span style=\"font-weight: bold\">{</span><span style=\"color: #008000; text-decoration-color: #008000\">\"f#F1\"</span>: <span style=\"color: #008080; text-decoration-color: #008080; font-weight: bold\">0.2451</span>, <span style=\"color: #008000; text-decoration-color: #008000\">\"pre#F1\"</span>: <span style=\"color: #008080; text-decoration-color: #008080; font-weight: bold\">0.215062</span>, <span style=\"color: #008000; text-decoration-color: #008000\">\"rec#F1\"</span>:   <a href=\"file:///remote-home/pjli/anaconda3/envs/nlptorch/lib/python3.7/site-packages/fastNLP/core/callbacks/progress_callback.py\"><span style=\"color: #7f7f7f; text-decoration-color: #7f7f7f\">progress_callback.py</span></a><span style=\"color: #7f7f7f; text-decoration-color: #7f7f7f\">:</span><a href=\"file:///remote-home/pjli/anaconda3/envs/nlptorch/lib/python3.7/site-packages/fastNLP/core/callbacks/progress_callback.py#327\"><span style=\"color: #7f7f7f; text-decoration-color: #7f7f7f\">327</span></a>\n",
       "<span style=\"color: #7fbfbf; text-decoration-color: #7fbfbf\">           </span>         <span style=\"color: #008080; text-decoration-color: #008080; font-weight: bold\">0.284891</span>, <span style=\"color: #008000; text-decoration-color: #008000\">\"acc#acc\"</span>: <span style=\"color: #008080; text-decoration-color: #008080; font-weight: bold\">0.934532</span><span style=\"font-weight: bold\">}</span>                   <span style=\"color: #7f7f7f; text-decoration-color: #7f7f7f\">                        </span>\n",
       "</pre>\n"
      ],
      "text/plain": [
       "\u001b[2;36m          \u001b[0m\u001b[2;36m \u001b[0m\u001b[34mINFO    \u001b[0m \u001b[1m{\u001b[0m\u001b[32m\"f#F1\"\u001b[0m: \u001b[1;36m0.2451\u001b[0m, \u001b[32m\"pre#F1\"\u001b[0m: \u001b[1;36m0.215062\u001b[0m, \u001b[32m\"rec#F1\"\u001b[0m:   \u001b]8;id=158827;file:///remote-home/pjli/anaconda3/envs/nlptorch/lib/python3.7/site-packages/fastNLP/core/callbacks/progress_callback.py\u001b\\\u001b[2mprogress_callback.py\u001b[0m\u001b]8;;\u001b\\\u001b[2m:\u001b[0m\u001b]8;id=889114;file:///remote-home/pjli/anaconda3/envs/nlptorch/lib/python3.7/site-packages/fastNLP/core/callbacks/progress_callback.py#327\u001b\\\u001b[2m327\u001b[0m\u001b]8;;\u001b\\\n",
       "\u001b[2;36m           \u001b[0m         \u001b[1;36m0.284891\u001b[0m, \u001b[32m\"acc#acc\"\u001b[0m: \u001b[1;36m0.934532\u001b[0m\u001b[1m}\u001b[0m                   \u001b[2m                        \u001b[0m\n"
      ]
     },
     "metadata": {},
     "output_type": "display_data"
    },
    {
     "name": "stdout",
     "output_type": "stream",
     "text": [
      "Epoch:1:  12%|█▏        | [07:19<47:50, 327.21s/it, ]   \n",
      "\u001b[A\n",
      "\u001b[A\n",
      "\u001b[A\n",
      "\u001b[A\n",
      "\u001b[A\n",
      "\u001b[A\n",
      "\u001b[A\n",
      "\u001b[A\n",
      "\u001b[A\n",
      "\u001b[A\n",
      "\u001b[A\n",
      "\u001b[A\n",
      "\u001b[A\n",
      "\u001b[A\n",
      "\u001b[A\n",
      "\u001b[A\n",
      "\u001b[A\n",
      "\u001b[A\n",
      "\u001b[A\n",
      "\u001b[A\n",
      "\u001b[A\n",
      "\u001b[A\n",
      "\u001b[A\n",
      "\u001b[A\n",
      "\u001b[A\n",
      "\u001b[A\n",
      "\u001b[A\n",
      "\u001b[A\n",
      "\u001b[A\n",
      "\u001b[A\n",
      "\u001b[A\n",
      "\u001b[A\n",
      "\u001b[A\n",
      "\u001b[A\n",
      "\u001b[A\n",
      "\u001b[A\n",
      "\u001b[A\n",
      "\u001b[A\n",
      "\u001b[A\n",
      "\u001b[A\n",
      "\u001b[A\n",
      "\u001b[A\n",
      "\u001b[A\n",
      "\u001b[A\n",
      "\u001b[A\n",
      "\u001b[A\n",
      "\u001b[A\n",
      "\u001b[A\n",
      "\u001b[A"
     ]
    },
    {
     "data": {
      "text/html": [
       "<pre style=\"white-space:pre;overflow-x:auto;line-height:normal;font-family:Menlo,'DejaVu Sans Mono',consolas,'Courier New',monospace\"><span style=\"color: #7fbfbf; text-decoration-color: #7fbfbf\">[16:03:26] </span><span style=\"color: #000080; text-decoration-color: #000080\">INFO    </span> ++++++++++Eval. results on Epoch:<span style=\"color: #008080; text-decoration-color: #008080; font-weight: bold\">1</span>,              <a href=\"file:///remote-home/pjli/anaconda3/envs/nlptorch/lib/python3.7/site-packages/fastNLP/core/callbacks/progress_callback.py\"><span style=\"color: #7f7f7f; text-decoration-color: #7f7f7f\">progress_callback.py</span></a><span style=\"color: #7f7f7f; text-decoration-color: #7f7f7f\">:</span><a href=\"file:///remote-home/pjli/anaconda3/envs/nlptorch/lib/python3.7/site-packages/fastNLP/core/callbacks/progress_callback.py#322\"><span style=\"color: #7f7f7f; text-decoration-color: #7f7f7f\">322</span></a>\n",
       "<span style=\"color: #7fbfbf; text-decoration-color: #7fbfbf\">           </span>         Batch:<span style=\"color: #008080; text-decoration-color: #008080; font-weight: bold\">296</span>++++++++++                              <span style=\"color: #7f7f7f; text-decoration-color: #7f7f7f\">                        </span>\n",
       "</pre>\n"
      ],
      "text/plain": [
       "\u001b[2;36m[16:03:26]\u001b[0m\u001b[2;36m \u001b[0m\u001b[34mINFO    \u001b[0m ++++++++++Eval. results on Epoch:\u001b[1;36m1\u001b[0m,              \u001b]8;id=230082;file:///remote-home/pjli/anaconda3/envs/nlptorch/lib/python3.7/site-packages/fastNLP/core/callbacks/progress_callback.py\u001b\\\u001b[2mprogress_callback.py\u001b[0m\u001b]8;;\u001b\\\u001b[2m:\u001b[0m\u001b]8;id=458622;file:///remote-home/pjli/anaconda3/envs/nlptorch/lib/python3.7/site-packages/fastNLP/core/callbacks/progress_callback.py#322\u001b\\\u001b[2m322\u001b[0m\u001b]8;;\u001b\\\n",
       "\u001b[2;36m           \u001b[0m         Batch:\u001b[1;36m296\u001b[0m++++++++++                              \u001b[2m                        \u001b[0m\n"
      ]
     },
     "metadata": {},
     "output_type": "display_data"
    },
    {
     "data": {
      "text/html": [
       "<pre style=\"white-space:pre;overflow-x:auto;line-height:normal;font-family:Menlo,'DejaVu Sans Mono',consolas,'Courier New',monospace\"><span style=\"color: #7fbfbf; text-decoration-color: #7fbfbf\">           </span><span style=\"color: #000080; text-decoration-color: #000080\">INFO    </span> <span style=\"font-weight: bold\">{</span><span style=\"color: #008000; text-decoration-color: #008000\">\"f#F1\"</span>: <span style=\"color: #008080; text-decoration-color: #008080; font-weight: bold\">0.362924</span>, <span style=\"color: #008000; text-decoration-color: #008000\">\"pre#F1\"</span>: <span style=\"color: #008080; text-decoration-color: #008080; font-weight: bold\">0.361885</span>, <span style=\"color: #008000; text-decoration-color: #008000\">\"rec#F1\"</span>: <a href=\"file:///remote-home/pjli/anaconda3/envs/nlptorch/lib/python3.7/site-packages/fastNLP/core/callbacks/progress_callback.py\"><span style=\"color: #7f7f7f; text-decoration-color: #7f7f7f\">progress_callback.py</span></a><span style=\"color: #7f7f7f; text-decoration-color: #7f7f7f\">:</span><a href=\"file:///remote-home/pjli/anaconda3/envs/nlptorch/lib/python3.7/site-packages/fastNLP/core/callbacks/progress_callback.py#327\"><span style=\"color: #7f7f7f; text-decoration-color: #7f7f7f\">327</span></a>\n",
       "<span style=\"color: #7fbfbf; text-decoration-color: #7fbfbf\">           </span>         <span style=\"color: #008080; text-decoration-color: #008080; font-weight: bold\">0.36397</span>, <span style=\"color: #008000; text-decoration-color: #008000\">\"acc#acc\"</span>: <span style=\"color: #008080; text-decoration-color: #008080; font-weight: bold\">0.944598</span><span style=\"font-weight: bold\">}</span>                    <span style=\"color: #7f7f7f; text-decoration-color: #7f7f7f\">                        </span>\n",
       "</pre>\n"
      ],
      "text/plain": [
       "\u001b[2;36m          \u001b[0m\u001b[2;36m \u001b[0m\u001b[34mINFO    \u001b[0m \u001b[1m{\u001b[0m\u001b[32m\"f#F1\"\u001b[0m: \u001b[1;36m0.362924\u001b[0m, \u001b[32m\"pre#F1\"\u001b[0m: \u001b[1;36m0.361885\u001b[0m, \u001b[32m\"rec#F1\"\u001b[0m: \u001b]8;id=135683;file:///remote-home/pjli/anaconda3/envs/nlptorch/lib/python3.7/site-packages/fastNLP/core/callbacks/progress_callback.py\u001b\\\u001b[2mprogress_callback.py\u001b[0m\u001b]8;;\u001b\\\u001b[2m:\u001b[0m\u001b]8;id=853850;file:///remote-home/pjli/anaconda3/envs/nlptorch/lib/python3.7/site-packages/fastNLP/core/callbacks/progress_callback.py#327\u001b\\\u001b[2m327\u001b[0m\u001b]8;;\u001b\\\n",
       "\u001b[2;36m           \u001b[0m         \u001b[1;36m0.36397\u001b[0m, \u001b[32m\"acc#acc\"\u001b[0m: \u001b[1;36m0.944598\u001b[0m\u001b[1m}\u001b[0m                    \u001b[2m                        \u001b[0m\n"
      ]
     },
     "metadata": {},
     "output_type": "display_data"
    },
    {
     "name": "stdout",
     "output_type": "stream",
     "text": [
      "Epoch:1:  14%|█▍        | [08:18<55:24, 385.71s/it, ]   \n",
      "\u001b[A\n",
      "\u001b[A\n",
      "\u001b[A\n",
      "\u001b[A\n",
      "\u001b[A\n",
      "\u001b[A\n",
      "\u001b[A\n",
      "\u001b[A\n",
      "\u001b[A\n",
      "\u001b[A\n",
      "\u001b[A\n",
      "\u001b[A\n",
      "\u001b[A\n",
      "\u001b[A\n",
      "\u001b[A\n",
      "\u001b[A\n",
      "\u001b[A\n",
      "\u001b[A\n",
      "\u001b[A\n",
      "\u001b[A\n",
      "\u001b[A\n",
      "\u001b[A\n",
      "\u001b[A\n",
      "\u001b[A\n",
      "\u001b[A\n",
      "\u001b[A\n",
      "\u001b[A\n",
      "\u001b[A\n",
      "\u001b[A\n",
      "\u001b[A\n",
      "\u001b[A\n",
      "\u001b[A\n",
      "\u001b[A\n",
      "\u001b[A\n",
      "\u001b[A\n",
      "\u001b[A\n",
      "\u001b[A\n",
      "\u001b[A\n",
      "\u001b[A\n",
      "\u001b[A\n",
      "\u001b[A\n",
      "\u001b[A\n",
      "\u001b[A\n",
      "\u001b[A\n",
      "\u001b[A\n",
      "\u001b[A\n",
      "\u001b[A\n",
      "\u001b[A"
     ]
    },
    {
     "data": {
      "text/html": [
       "<pre style=\"white-space:pre;overflow-x:auto;line-height:normal;font-family:Menlo,'DejaVu Sans Mono',consolas,'Courier New',monospace\"><span style=\"color: #7fbfbf; text-decoration-color: #7fbfbf\">[16:04:24] </span><span style=\"color: #000080; text-decoration-color: #000080\">INFO    </span> ++++++++++Eval. results on Epoch:<span style=\"color: #008080; text-decoration-color: #008080; font-weight: bold\">1</span>,              <a href=\"file:///remote-home/pjli/anaconda3/envs/nlptorch/lib/python3.7/site-packages/fastNLP/core/callbacks/progress_callback.py\"><span style=\"color: #7f7f7f; text-decoration-color: #7f7f7f\">progress_callback.py</span></a><span style=\"color: #7f7f7f; text-decoration-color: #7f7f7f\">:</span><a href=\"file:///remote-home/pjli/anaconda3/envs/nlptorch/lib/python3.7/site-packages/fastNLP/core/callbacks/progress_callback.py#322\"><span style=\"color: #7f7f7f; text-decoration-color: #7f7f7f\">322</span></a>\n",
       "<span style=\"color: #7fbfbf; text-decoration-color: #7fbfbf\">           </span>         Batch:<span style=\"color: #008080; text-decoration-color: #008080; font-weight: bold\">496</span>++++++++++                              <span style=\"color: #7f7f7f; text-decoration-color: #7f7f7f\">                        </span>\n",
       "</pre>\n"
      ],
      "text/plain": [
       "\u001b[2;36m[16:04:24]\u001b[0m\u001b[2;36m \u001b[0m\u001b[34mINFO    \u001b[0m ++++++++++Eval. results on Epoch:\u001b[1;36m1\u001b[0m,              \u001b]8;id=644935;file:///remote-home/pjli/anaconda3/envs/nlptorch/lib/python3.7/site-packages/fastNLP/core/callbacks/progress_callback.py\u001b\\\u001b[2mprogress_callback.py\u001b[0m\u001b]8;;\u001b\\\u001b[2m:\u001b[0m\u001b]8;id=881222;file:///remote-home/pjli/anaconda3/envs/nlptorch/lib/python3.7/site-packages/fastNLP/core/callbacks/progress_callback.py#322\u001b\\\u001b[2m322\u001b[0m\u001b]8;;\u001b\\\n",
       "\u001b[2;36m           \u001b[0m         Batch:\u001b[1;36m496\u001b[0m++++++++++                              \u001b[2m                        \u001b[0m\n"
      ]
     },
     "metadata": {},
     "output_type": "display_data"
    },
    {
     "data": {
      "text/html": [
       "<pre style=\"white-space:pre;overflow-x:auto;line-height:normal;font-family:Menlo,'DejaVu Sans Mono',consolas,'Courier New',monospace\"><span style=\"color: #7fbfbf; text-decoration-color: #7fbfbf\">           </span><span style=\"color: #000080; text-decoration-color: #000080\">INFO    </span> <span style=\"font-weight: bold\">{</span><span style=\"color: #008000; text-decoration-color: #008000\">\"f#F1\"</span>: <span style=\"color: #008080; text-decoration-color: #008080; font-weight: bold\">0.432146</span>, <span style=\"color: #008000; text-decoration-color: #008000\">\"pre#F1\"</span>: <span style=\"color: #008080; text-decoration-color: #008080; font-weight: bold\">0.437065</span>, <span style=\"color: #008000; text-decoration-color: #008000\">\"rec#F1\"</span>: <a href=\"file:///remote-home/pjli/anaconda3/envs/nlptorch/lib/python3.7/site-packages/fastNLP/core/callbacks/progress_callback.py\"><span style=\"color: #7f7f7f; text-decoration-color: #7f7f7f\">progress_callback.py</span></a><span style=\"color: #7f7f7f; text-decoration-color: #7f7f7f\">:</span><a href=\"file:///remote-home/pjli/anaconda3/envs/nlptorch/lib/python3.7/site-packages/fastNLP/core/callbacks/progress_callback.py#327\"><span style=\"color: #7f7f7f; text-decoration-color: #7f7f7f\">327</span></a>\n",
       "<span style=\"color: #7fbfbf; text-decoration-color: #7fbfbf\">           </span>         <span style=\"color: #008080; text-decoration-color: #008080; font-weight: bold\">0.427337</span>, <span style=\"color: #008000; text-decoration-color: #008000\">\"acc#acc\"</span>: <span style=\"color: #008080; text-decoration-color: #008080; font-weight: bold\">0.947838</span><span style=\"font-weight: bold\">}</span>                   <span style=\"color: #7f7f7f; text-decoration-color: #7f7f7f\">                        </span>\n",
       "</pre>\n"
      ],
      "text/plain": [
       "\u001b[2;36m          \u001b[0m\u001b[2;36m \u001b[0m\u001b[34mINFO    \u001b[0m \u001b[1m{\u001b[0m\u001b[32m\"f#F1\"\u001b[0m: \u001b[1;36m0.432146\u001b[0m, \u001b[32m\"pre#F1\"\u001b[0m: \u001b[1;36m0.437065\u001b[0m, \u001b[32m\"rec#F1\"\u001b[0m: \u001b]8;id=349783;file:///remote-home/pjli/anaconda3/envs/nlptorch/lib/python3.7/site-packages/fastNLP/core/callbacks/progress_callback.py\u001b\\\u001b[2mprogress_callback.py\u001b[0m\u001b]8;;\u001b\\\u001b[2m:\u001b[0m\u001b]8;id=77822;file:///remote-home/pjli/anaconda3/envs/nlptorch/lib/python3.7/site-packages/fastNLP/core/callbacks/progress_callback.py#327\u001b\\\u001b[2m327\u001b[0m\u001b]8;;\u001b\\\n",
       "\u001b[2;36m           \u001b[0m         \u001b[1;36m0.427337\u001b[0m, \u001b[32m\"acc#acc\"\u001b[0m: \u001b[1;36m0.947838\u001b[0m\u001b[1m}\u001b[0m                   \u001b[2m                        \u001b[0m\n"
      ]
     },
     "metadata": {},
     "output_type": "display_data"
    },
    {
     "name": "stdout",
     "output_type": "stream",
     "text": [
      "Epoch:1:  15%|█▌        | [09:17<56:25, 399.82s/it, ]   \n",
      "\u001b[A\n",
      "\u001b[A\n",
      "\u001b[A\n",
      "\u001b[A\n",
      "\u001b[A\n",
      "\u001b[A\n",
      "\u001b[A\n",
      "\u001b[A\n",
      "\u001b[A\n",
      "\u001b[A\n",
      "\u001b[A\n",
      "\u001b[A\n",
      "\u001b[A\n",
      "\u001b[A\n",
      "\u001b[A\n",
      "\u001b[A\n",
      "\u001b[A\n",
      "\u001b[A\n",
      "\u001b[A\n",
      "\u001b[A\n",
      "\u001b[A\n",
      "\u001b[A\n",
      "\u001b[A\n",
      "\u001b[A\n",
      "\u001b[A\n",
      "\u001b[A\n",
      "\u001b[A\n",
      "\u001b[A\n",
      "\u001b[A\n",
      "\u001b[A\n",
      "\u001b[A\n",
      "\u001b[A\n",
      "\u001b[A\n",
      "\u001b[A\n",
      "\u001b[A\n",
      "\u001b[A\n",
      "\u001b[A\n",
      "\u001b[A\n",
      "\u001b[A\n",
      "\u001b[A\n",
      "\u001b[A\n",
      "\u001b[A\n",
      "\u001b[A\n",
      "\u001b[A"
     ]
    },
    {
     "data": {
      "text/html": [
       "<pre style=\"white-space:pre;overflow-x:auto;line-height:normal;font-family:Menlo,'DejaVu Sans Mono',consolas,'Courier New',monospace\"><span style=\"color: #7fbfbf; text-decoration-color: #7fbfbf\">[16:05:23] </span><span style=\"color: #000080; text-decoration-color: #000080\">INFO    </span> ++++++++++Eval. results on Epoch:<span style=\"color: #008080; text-decoration-color: #008080; font-weight: bold\">1</span>,              <a href=\"file:///remote-home/pjli/anaconda3/envs/nlptorch/lib/python3.7/site-packages/fastNLP/core/callbacks/progress_callback.py\"><span style=\"color: #7f7f7f; text-decoration-color: #7f7f7f\">progress_callback.py</span></a><span style=\"color: #7f7f7f; text-decoration-color: #7f7f7f\">:</span><a href=\"file:///remote-home/pjli/anaconda3/envs/nlptorch/lib/python3.7/site-packages/fastNLP/core/callbacks/progress_callback.py#322\"><span style=\"color: #7f7f7f; text-decoration-color: #7f7f7f\">322</span></a>\n",
       "<span style=\"color: #7fbfbf; text-decoration-color: #7fbfbf\">           </span>         Batch:<span style=\"color: #008080; text-decoration-color: #008080; font-weight: bold\">696</span>++++++++++                              <span style=\"color: #7f7f7f; text-decoration-color: #7f7f7f\">                        </span>\n",
       "</pre>\n"
      ],
      "text/plain": [
       "\u001b[2;36m[16:05:23]\u001b[0m\u001b[2;36m \u001b[0m\u001b[34mINFO    \u001b[0m ++++++++++Eval. results on Epoch:\u001b[1;36m1\u001b[0m,              \u001b]8;id=202329;file:///remote-home/pjli/anaconda3/envs/nlptorch/lib/python3.7/site-packages/fastNLP/core/callbacks/progress_callback.py\u001b\\\u001b[2mprogress_callback.py\u001b[0m\u001b]8;;\u001b\\\u001b[2m:\u001b[0m\u001b]8;id=312698;file:///remote-home/pjli/anaconda3/envs/nlptorch/lib/python3.7/site-packages/fastNLP/core/callbacks/progress_callback.py#322\u001b\\\u001b[2m322\u001b[0m\u001b]8;;\u001b\\\n",
       "\u001b[2;36m           \u001b[0m         Batch:\u001b[1;36m696\u001b[0m++++++++++                              \u001b[2m                        \u001b[0m\n"
      ]
     },
     "metadata": {},
     "output_type": "display_data"
    },
    {
     "data": {
      "text/html": [
       "<pre style=\"white-space:pre;overflow-x:auto;line-height:normal;font-family:Menlo,'DejaVu Sans Mono',consolas,'Courier New',monospace\"><span style=\"color: #7fbfbf; text-decoration-color: #7fbfbf\">           </span><span style=\"color: #000080; text-decoration-color: #000080\">INFO    </span> <span style=\"font-weight: bold\">{</span><span style=\"color: #008000; text-decoration-color: #008000\">\"f#F1\"</span>: <span style=\"color: #008080; text-decoration-color: #008080; font-weight: bold\">0.503558</span>, <span style=\"color: #008000; text-decoration-color: #008000\">\"pre#F1\"</span>: <span style=\"color: #008080; text-decoration-color: #008080; font-weight: bold\">0.527372</span>, <span style=\"color: #008000; text-decoration-color: #008000\">\"rec#F1\"</span>: <a href=\"file:///remote-home/pjli/anaconda3/envs/nlptorch/lib/python3.7/site-packages/fastNLP/core/callbacks/progress_callback.py\"><span style=\"color: #7f7f7f; text-decoration-color: #7f7f7f\">progress_callback.py</span></a><span style=\"color: #7f7f7f; text-decoration-color: #7f7f7f\">:</span><a href=\"file:///remote-home/pjli/anaconda3/envs/nlptorch/lib/python3.7/site-packages/fastNLP/core/callbacks/progress_callback.py#327\"><span style=\"color: #7f7f7f; text-decoration-color: #7f7f7f\">327</span></a>\n",
       "<span style=\"color: #7fbfbf; text-decoration-color: #7fbfbf\">           </span>         <span style=\"color: #008080; text-decoration-color: #008080; font-weight: bold\">0.481802</span>, <span style=\"color: #008000; text-decoration-color: #008000\">\"acc#acc\"</span>: <span style=\"color: #008080; text-decoration-color: #008080; font-weight: bold\">0.953208</span><span style=\"font-weight: bold\">}</span>                   <span style=\"color: #7f7f7f; text-decoration-color: #7f7f7f\">                        </span>\n",
       "</pre>\n"
      ],
      "text/plain": [
       "\u001b[2;36m          \u001b[0m\u001b[2;36m \u001b[0m\u001b[34mINFO    \u001b[0m \u001b[1m{\u001b[0m\u001b[32m\"f#F1\"\u001b[0m: \u001b[1;36m0.503558\u001b[0m, \u001b[32m\"pre#F1\"\u001b[0m: \u001b[1;36m0.527372\u001b[0m, \u001b[32m\"rec#F1\"\u001b[0m: \u001b]8;id=877522;file:///remote-home/pjli/anaconda3/envs/nlptorch/lib/python3.7/site-packages/fastNLP/core/callbacks/progress_callback.py\u001b\\\u001b[2mprogress_callback.py\u001b[0m\u001b]8;;\u001b\\\u001b[2m:\u001b[0m\u001b]8;id=498171;file:///remote-home/pjli/anaconda3/envs/nlptorch/lib/python3.7/site-packages/fastNLP/core/callbacks/progress_callback.py#327\u001b\\\u001b[2m327\u001b[0m\u001b]8;;\u001b\\\n",
       "\u001b[2;36m           \u001b[0m         \u001b[1;36m0.481802\u001b[0m, \u001b[32m\"acc#acc\"\u001b[0m: \u001b[1;36m0.953208\u001b[0m\u001b[1m}\u001b[0m                   \u001b[2m                        \u001b[0m\n"
      ]
     },
     "metadata": {},
     "output_type": "display_data"
    },
    {
     "name": "stdout",
     "output_type": "stream",
     "text": [
      "Epoch:1:  17%|█▋        | [10:14<57:17, 413.47s/it, ]   \n",
      "\u001b[A\n",
      "\u001b[A\n",
      "\u001b[A\n",
      "\u001b[A\n",
      "\u001b[A\n",
      "\u001b[A\n",
      "\u001b[A\n",
      "\u001b[A\n",
      "\u001b[A\n",
      "\u001b[A\n",
      "\u001b[A\n",
      "\u001b[A\n",
      "\u001b[A\n",
      "\u001b[A\n",
      "\u001b[A\n",
      "\u001b[A\n",
      "\u001b[A\n",
      "\u001b[A\n",
      "\u001b[A\n",
      "\u001b[A\n",
      "\u001b[A\n",
      "\u001b[A\n",
      "\u001b[A\n",
      "\u001b[A\n",
      "\u001b[A\n",
      "\u001b[A\n",
      "\u001b[A\n",
      "\u001b[A\n",
      "\u001b[A\n",
      "\u001b[A\n",
      "\u001b[A\n",
      "\u001b[A\n",
      "\u001b[A\n",
      "\u001b[A\n",
      "\u001b[A\n",
      "\u001b[A\n",
      "\u001b[A\n",
      "\u001b[A\n",
      "\u001b[A\n",
      "\u001b[A\n",
      "\u001b[A\n",
      "\u001b[A\n",
      "\u001b[A\n",
      "\u001b[A\n",
      "\u001b[A\n",
      "\u001b[A"
     ]
    },
    {
     "data": {
      "text/html": [
       "<pre style=\"white-space:pre;overflow-x:auto;line-height:normal;font-family:Menlo,'DejaVu Sans Mono',consolas,'Courier New',monospace\"><span style=\"color: #7fbfbf; text-decoration-color: #7fbfbf\">[16:06:20] </span><span style=\"color: #000080; text-decoration-color: #000080\">INFO    </span> ++++++++++Eval. results on Epoch:<span style=\"color: #008080; text-decoration-color: #008080; font-weight: bold\">1</span>,              <a href=\"file:///remote-home/pjli/anaconda3/envs/nlptorch/lib/python3.7/site-packages/fastNLP/core/callbacks/progress_callback.py\"><span style=\"color: #7f7f7f; text-decoration-color: #7f7f7f\">progress_callback.py</span></a><span style=\"color: #7f7f7f; text-decoration-color: #7f7f7f\">:</span><a href=\"file:///remote-home/pjli/anaconda3/envs/nlptorch/lib/python3.7/site-packages/fastNLP/core/callbacks/progress_callback.py#322\"><span style=\"color: #7f7f7f; text-decoration-color: #7f7f7f\">322</span></a>\n",
       "<span style=\"color: #7fbfbf; text-decoration-color: #7fbfbf\">           </span>         Batch:<span style=\"color: #008080; text-decoration-color: #008080; font-weight: bold\">896</span>++++++++++                              <span style=\"color: #7f7f7f; text-decoration-color: #7f7f7f\">                        </span>\n",
       "</pre>\n"
      ],
      "text/plain": [
       "\u001b[2;36m[16:06:20]\u001b[0m\u001b[2;36m \u001b[0m\u001b[34mINFO    \u001b[0m ++++++++++Eval. results on Epoch:\u001b[1;36m1\u001b[0m,              \u001b]8;id=884080;file:///remote-home/pjli/anaconda3/envs/nlptorch/lib/python3.7/site-packages/fastNLP/core/callbacks/progress_callback.py\u001b\\\u001b[2mprogress_callback.py\u001b[0m\u001b]8;;\u001b\\\u001b[2m:\u001b[0m\u001b]8;id=73352;file:///remote-home/pjli/anaconda3/envs/nlptorch/lib/python3.7/site-packages/fastNLP/core/callbacks/progress_callback.py#322\u001b\\\u001b[2m322\u001b[0m\u001b]8;;\u001b\\\n",
       "\u001b[2;36m           \u001b[0m         Batch:\u001b[1;36m896\u001b[0m++++++++++                              \u001b[2m                        \u001b[0m\n"
      ]
     },
     "metadata": {},
     "output_type": "display_data"
    },
    {
     "data": {
      "text/html": [
       "<pre style=\"white-space:pre;overflow-x:auto;line-height:normal;font-family:Menlo,'DejaVu Sans Mono',consolas,'Courier New',monospace\"><span style=\"color: #7fbfbf; text-decoration-color: #7fbfbf\">           </span><span style=\"color: #000080; text-decoration-color: #000080\">INFO    </span> <span style=\"font-weight: bold\">{</span><span style=\"color: #008000; text-decoration-color: #008000\">\"f#F1\"</span>: <span style=\"color: #008080; text-decoration-color: #008080; font-weight: bold\">0.564546</span>, <span style=\"color: #008000; text-decoration-color: #008000\">\"pre#F1\"</span>: <span style=\"color: #008080; text-decoration-color: #008080; font-weight: bold\">0.574019</span>, <span style=\"color: #008000; text-decoration-color: #008000\">\"rec#F1\"</span>: <a href=\"file:///remote-home/pjli/anaconda3/envs/nlptorch/lib/python3.7/site-packages/fastNLP/core/callbacks/progress_callback.py\"><span style=\"color: #7f7f7f; text-decoration-color: #7f7f7f\">progress_callback.py</span></a><span style=\"color: #7f7f7f; text-decoration-color: #7f7f7f\">:</span><a href=\"file:///remote-home/pjli/anaconda3/envs/nlptorch/lib/python3.7/site-packages/fastNLP/core/callbacks/progress_callback.py#327\"><span style=\"color: #7f7f7f; text-decoration-color: #7f7f7f\">327</span></a>\n",
       "<span style=\"color: #7fbfbf; text-decoration-color: #7fbfbf\">           </span>         <span style=\"color: #008080; text-decoration-color: #008080; font-weight: bold\">0.555381</span>, <span style=\"color: #008000; text-decoration-color: #008000\">\"acc#acc\"</span>: <span style=\"color: #008080; text-decoration-color: #008080; font-weight: bold\">0.958378</span><span style=\"font-weight: bold\">}</span>                   <span style=\"color: #7f7f7f; text-decoration-color: #7f7f7f\">                        </span>\n",
       "</pre>\n"
      ],
      "text/plain": [
       "\u001b[2;36m          \u001b[0m\u001b[2;36m \u001b[0m\u001b[34mINFO    \u001b[0m \u001b[1m{\u001b[0m\u001b[32m\"f#F1\"\u001b[0m: \u001b[1;36m0.564546\u001b[0m, \u001b[32m\"pre#F1\"\u001b[0m: \u001b[1;36m0.574019\u001b[0m, \u001b[32m\"rec#F1\"\u001b[0m: \u001b]8;id=205177;file:///remote-home/pjli/anaconda3/envs/nlptorch/lib/python3.7/site-packages/fastNLP/core/callbacks/progress_callback.py\u001b\\\u001b[2mprogress_callback.py\u001b[0m\u001b]8;;\u001b\\\u001b[2m:\u001b[0m\u001b]8;id=282878;file:///remote-home/pjli/anaconda3/envs/nlptorch/lib/python3.7/site-packages/fastNLP/core/callbacks/progress_callback.py#327\u001b\\\u001b[2m327\u001b[0m\u001b]8;;\u001b\\\n",
       "\u001b[2;36m           \u001b[0m         \u001b[1;36m0.555381\u001b[0m, \u001b[32m\"acc#acc\"\u001b[0m: \u001b[1;36m0.958378\u001b[0m\u001b[1m}\u001b[0m                   \u001b[2m                        \u001b[0m\n"
      ]
     },
     "metadata": {},
     "output_type": "display_data"
    },
    {
     "name": "stdout",
     "output_type": "stream",
     "text": [
      "Epoch:1:  18%|█▊        | [11:13<41:48, 307.41s/it, ]   \n",
      "\u001b[A\n",
      "\u001b[A\n",
      "\u001b[A\n",
      "\u001b[A\n",
      "\u001b[A\n",
      "\u001b[A\n",
      "\u001b[A\n",
      "\u001b[A\n",
      "\u001b[A\n",
      "\u001b[A\n",
      "\u001b[A\n",
      "\u001b[A\n",
      "\u001b[A\n",
      "\u001b[A\n",
      "\u001b[A\n",
      "\u001b[A\n",
      "\u001b[A\n",
      "\u001b[A\n",
      "\u001b[A\n",
      "\u001b[A\n",
      "\u001b[A\n",
      "\u001b[A\n",
      "\u001b[A\n",
      "\u001b[A\n",
      "\u001b[A\n",
      "\u001b[A\n",
      "\u001b[A\n",
      "\u001b[A\n",
      "\u001b[A\n",
      "\u001b[A\n",
      "\u001b[A\n",
      "\u001b[A\n",
      "\u001b[A\n",
      "\u001b[A\n",
      "\u001b[A\n",
      "\u001b[A\n",
      "\u001b[A\n",
      "\u001b[A\n",
      "\u001b[A\n",
      "\u001b[A"
     ]
    },
    {
     "data": {
      "text/html": [
       "<pre style=\"white-space:pre;overflow-x:auto;line-height:normal;font-family:Menlo,'DejaVu Sans Mono',consolas,'Courier New',monospace\"><span style=\"color: #7fbfbf; text-decoration-color: #7fbfbf\">[16:07:18] </span><span style=\"color: #000080; text-decoration-color: #000080\">INFO    </span> ++++++++++Eval. results on Epoch:<span style=\"color: #008080; text-decoration-color: #008080; font-weight: bold\">1</span>,              <a href=\"file:///remote-home/pjli/anaconda3/envs/nlptorch/lib/python3.7/site-packages/fastNLP/core/callbacks/progress_callback.py\"><span style=\"color: #7f7f7f; text-decoration-color: #7f7f7f\">progress_callback.py</span></a><span style=\"color: #7f7f7f; text-decoration-color: #7f7f7f\">:</span><a href=\"file:///remote-home/pjli/anaconda3/envs/nlptorch/lib/python3.7/site-packages/fastNLP/core/callbacks/progress_callback.py#322\"><span style=\"color: #7f7f7f; text-decoration-color: #7f7f7f\">322</span></a>\n",
       "<span style=\"color: #7fbfbf; text-decoration-color: #7fbfbf\">           </span>         Batch:<span style=\"color: #008080; text-decoration-color: #008080; font-weight: bold\">1096</span>++++++++++                             <span style=\"color: #7f7f7f; text-decoration-color: #7f7f7f\">                        </span>\n",
       "</pre>\n"
      ],
      "text/plain": [
       "\u001b[2;36m[16:07:18]\u001b[0m\u001b[2;36m \u001b[0m\u001b[34mINFO    \u001b[0m ++++++++++Eval. results on Epoch:\u001b[1;36m1\u001b[0m,              \u001b]8;id=134386;file:///remote-home/pjli/anaconda3/envs/nlptorch/lib/python3.7/site-packages/fastNLP/core/callbacks/progress_callback.py\u001b\\\u001b[2mprogress_callback.py\u001b[0m\u001b]8;;\u001b\\\u001b[2m:\u001b[0m\u001b]8;id=140932;file:///remote-home/pjli/anaconda3/envs/nlptorch/lib/python3.7/site-packages/fastNLP/core/callbacks/progress_callback.py#322\u001b\\\u001b[2m322\u001b[0m\u001b]8;;\u001b\\\n",
       "\u001b[2;36m           \u001b[0m         Batch:\u001b[1;36m1096\u001b[0m++++++++++                             \u001b[2m                        \u001b[0m\n"
      ]
     },
     "metadata": {},
     "output_type": "display_data"
    },
    {
     "data": {
      "text/html": [
       "<pre style=\"white-space:pre;overflow-x:auto;line-height:normal;font-family:Menlo,'DejaVu Sans Mono',consolas,'Courier New',monospace\"><span style=\"color: #7fbfbf; text-decoration-color: #7fbfbf\">           </span><span style=\"color: #000080; text-decoration-color: #000080\">INFO    </span> <span style=\"font-weight: bold\">{</span><span style=\"color: #008000; text-decoration-color: #008000\">\"f#F1\"</span>: <span style=\"color: #008080; text-decoration-color: #008080; font-weight: bold\">0.59141</span>, <span style=\"color: #008000; text-decoration-color: #008000\">\"pre#F1\"</span>: <span style=\"color: #008080; text-decoration-color: #008080; font-weight: bold\">0.623512</span>, <span style=\"color: #008000; text-decoration-color: #008000\">\"rec#F1\"</span>:  <a href=\"file:///remote-home/pjli/anaconda3/envs/nlptorch/lib/python3.7/site-packages/fastNLP/core/callbacks/progress_callback.py\"><span style=\"color: #7f7f7f; text-decoration-color: #7f7f7f\">progress_callback.py</span></a><span style=\"color: #7f7f7f; text-decoration-color: #7f7f7f\">:</span><a href=\"file:///remote-home/pjli/anaconda3/envs/nlptorch/lib/python3.7/site-packages/fastNLP/core/callbacks/progress_callback.py#327\"><span style=\"color: #7f7f7f; text-decoration-color: #7f7f7f\">327</span></a>\n",
       "<span style=\"color: #7fbfbf; text-decoration-color: #7fbfbf\">           </span>         <span style=\"color: #008080; text-decoration-color: #008080; font-weight: bold\">0.562451</span>, <span style=\"color: #008000; text-decoration-color: #008000\">\"acc#acc\"</span>: <span style=\"color: #008080; text-decoration-color: #008080; font-weight: bold\">0.959661</span><span style=\"font-weight: bold\">}</span>                   <span style=\"color: #7f7f7f; text-decoration-color: #7f7f7f\">                        </span>\n",
       "</pre>\n"
      ],
      "text/plain": [
       "\u001b[2;36m          \u001b[0m\u001b[2;36m \u001b[0m\u001b[34mINFO    \u001b[0m \u001b[1m{\u001b[0m\u001b[32m\"f#F1\"\u001b[0m: \u001b[1;36m0.59141\u001b[0m, \u001b[32m\"pre#F1\"\u001b[0m: \u001b[1;36m0.623512\u001b[0m, \u001b[32m\"rec#F1\"\u001b[0m:  \u001b]8;id=487393;file:///remote-home/pjli/anaconda3/envs/nlptorch/lib/python3.7/site-packages/fastNLP/core/callbacks/progress_callback.py\u001b\\\u001b[2mprogress_callback.py\u001b[0m\u001b]8;;\u001b\\\u001b[2m:\u001b[0m\u001b]8;id=732874;file:///remote-home/pjli/anaconda3/envs/nlptorch/lib/python3.7/site-packages/fastNLP/core/callbacks/progress_callback.py#327\u001b\\\u001b[2m327\u001b[0m\u001b]8;;\u001b\\\n",
       "\u001b[2;36m           \u001b[0m         \u001b[1;36m0.562451\u001b[0m, \u001b[32m\"acc#acc\"\u001b[0m: \u001b[1;36m0.959661\u001b[0m\u001b[1m}\u001b[0m                   \u001b[2m                        \u001b[0m\n"
      ]
     },
     "metadata": {},
     "output_type": "display_data"
    },
    {
     "name": "stdout",
     "output_type": "stream",
     "text": [
      "Epoch:1:  20%|█▉        | [12:09<48:49, 365.93s/it, ]   \n",
      "\u001b[A\n",
      "\u001b[A\n",
      "\u001b[A\n",
      "\u001b[A\n",
      "\u001b[A\n",
      "\u001b[A\n",
      "\u001b[A\n",
      "\u001b[A\n",
      "\u001b[A\n",
      "\u001b[A\n",
      "\u001b[A\n",
      "\u001b[A\n",
      "\u001b[A\n",
      "\u001b[A\n",
      "\u001b[A\n",
      "\u001b[A\n",
      "\u001b[A\n",
      "\u001b[A\n",
      "\u001b[A\n",
      "\u001b[A\n",
      "\u001b[A\n",
      "\u001b[A\n",
      "\u001b[A\n",
      "\u001b[A\n",
      "\u001b[A\n",
      "\u001b[A\n",
      "\u001b[A\n",
      "\u001b[A\n",
      "\u001b[A\n",
      "\u001b[A\n",
      "\u001b[A\n",
      "\u001b[A\n",
      "\u001b[A\n",
      "\u001b[A\n",
      "\u001b[A\n",
      "\u001b[A\n",
      "\u001b[A\n",
      "\u001b[A\n",
      "\u001b[A\n",
      "\u001b[A"
     ]
    },
    {
     "data": {
      "text/html": [
       "<pre style=\"white-space:pre;overflow-x:auto;line-height:normal;font-family:Menlo,'DejaVu Sans Mono',consolas,'Courier New',monospace\"><span style=\"color: #7fbfbf; text-decoration-color: #7fbfbf\">[16:08:14] </span><span style=\"color: #000080; text-decoration-color: #000080\">INFO    </span> ++++++++++Eval. results on Epoch:<span style=\"color: #008080; text-decoration-color: #008080; font-weight: bold\">1</span>,              <a href=\"file:///remote-home/pjli/anaconda3/envs/nlptorch/lib/python3.7/site-packages/fastNLP/core/callbacks/progress_callback.py\"><span style=\"color: #7f7f7f; text-decoration-color: #7f7f7f\">progress_callback.py</span></a><span style=\"color: #7f7f7f; text-decoration-color: #7f7f7f\">:</span><a href=\"file:///remote-home/pjli/anaconda3/envs/nlptorch/lib/python3.7/site-packages/fastNLP/core/callbacks/progress_callback.py#322\"><span style=\"color: #7f7f7f; text-decoration-color: #7f7f7f\">322</span></a>\n",
       "<span style=\"color: #7fbfbf; text-decoration-color: #7fbfbf\">           </span>         Batch:<span style=\"color: #008080; text-decoration-color: #008080; font-weight: bold\">1296</span>++++++++++                             <span style=\"color: #7f7f7f; text-decoration-color: #7f7f7f\">                        </span>\n",
       "</pre>\n"
      ],
      "text/plain": [
       "\u001b[2;36m[16:08:14]\u001b[0m\u001b[2;36m \u001b[0m\u001b[34mINFO    \u001b[0m ++++++++++Eval. results on Epoch:\u001b[1;36m1\u001b[0m,              \u001b]8;id=758402;file:///remote-home/pjli/anaconda3/envs/nlptorch/lib/python3.7/site-packages/fastNLP/core/callbacks/progress_callback.py\u001b\\\u001b[2mprogress_callback.py\u001b[0m\u001b]8;;\u001b\\\u001b[2m:\u001b[0m\u001b]8;id=101166;file:///remote-home/pjli/anaconda3/envs/nlptorch/lib/python3.7/site-packages/fastNLP/core/callbacks/progress_callback.py#322\u001b\\\u001b[2m322\u001b[0m\u001b]8;;\u001b\\\n",
       "\u001b[2;36m           \u001b[0m         Batch:\u001b[1;36m1296\u001b[0m++++++++++                             \u001b[2m                        \u001b[0m\n"
      ]
     },
     "metadata": {},
     "output_type": "display_data"
    },
    {
     "data": {
      "text/html": [
       "<pre style=\"white-space:pre;overflow-x:auto;line-height:normal;font-family:Menlo,'DejaVu Sans Mono',consolas,'Courier New',monospace\"><span style=\"color: #7fbfbf; text-decoration-color: #7fbfbf\">           </span><span style=\"color: #000080; text-decoration-color: #000080\">INFO    </span> <span style=\"font-weight: bold\">{</span><span style=\"color: #008000; text-decoration-color: #008000\">\"f#F1\"</span>: <span style=\"color: #008080; text-decoration-color: #008080; font-weight: bold\">0.634793</span>, <span style=\"color: #008000; text-decoration-color: #008000\">\"pre#F1\"</span>: <span style=\"color: #008080; text-decoration-color: #008080; font-weight: bold\">0.649671</span>, <span style=\"color: #008000; text-decoration-color: #008000\">\"rec#F1\"</span>: <a href=\"file:///remote-home/pjli/anaconda3/envs/nlptorch/lib/python3.7/site-packages/fastNLP/core/callbacks/progress_callback.py\"><span style=\"color: #7f7f7f; text-decoration-color: #7f7f7f\">progress_callback.py</span></a><span style=\"color: #7f7f7f; text-decoration-color: #7f7f7f\">:</span><a href=\"file:///remote-home/pjli/anaconda3/envs/nlptorch/lib/python3.7/site-packages/fastNLP/core/callbacks/progress_callback.py#327\"><span style=\"color: #7f7f7f; text-decoration-color: #7f7f7f\">327</span></a>\n",
       "<span style=\"color: #7fbfbf; text-decoration-color: #7fbfbf\">           </span>         <span style=\"color: #008080; text-decoration-color: #008080; font-weight: bold\">0.620581</span>, <span style=\"color: #008000; text-decoration-color: #008000\">\"acc#acc\"</span>: <span style=\"color: #008080; text-decoration-color: #008080; font-weight: bold\">0.963502</span><span style=\"font-weight: bold\">}</span>                   <span style=\"color: #7f7f7f; text-decoration-color: #7f7f7f\">                        </span>\n",
       "</pre>\n"
      ],
      "text/plain": [
       "\u001b[2;36m          \u001b[0m\u001b[2;36m \u001b[0m\u001b[34mINFO    \u001b[0m \u001b[1m{\u001b[0m\u001b[32m\"f#F1\"\u001b[0m: \u001b[1;36m0.634793\u001b[0m, \u001b[32m\"pre#F1\"\u001b[0m: \u001b[1;36m0.649671\u001b[0m, \u001b[32m\"rec#F1\"\u001b[0m: \u001b]8;id=359856;file:///remote-home/pjli/anaconda3/envs/nlptorch/lib/python3.7/site-packages/fastNLP/core/callbacks/progress_callback.py\u001b\\\u001b[2mprogress_callback.py\u001b[0m\u001b]8;;\u001b\\\u001b[2m:\u001b[0m\u001b]8;id=438483;file:///remote-home/pjli/anaconda3/envs/nlptorch/lib/python3.7/site-packages/fastNLP/core/callbacks/progress_callback.py#327\u001b\\\u001b[2m327\u001b[0m\u001b]8;;\u001b\\\n",
       "\u001b[2;36m           \u001b[0m         \u001b[1;36m0.620581\u001b[0m, \u001b[32m\"acc#acc\"\u001b[0m: \u001b[1;36m0.963502\u001b[0m\u001b[1m}\u001b[0m                   \u001b[2m                        \u001b[0m\n"
      ]
     },
     "metadata": {},
     "output_type": "display_data"
    },
    {
     "name": "stdout",
     "output_type": "stream",
     "text": [
      "Epoch:2:  21%|██▏       | [13:08<35:32, 271.62s/it, ]   \n",
      "\u001b[A\n",
      "\u001b[A\n",
      "\u001b[A\n",
      "\u001b[A\n",
      "\u001b[A\n",
      "\u001b[A\n",
      "\u001b[A\n",
      "\u001b[A\n",
      "\u001b[A\n",
      "\u001b[A\n",
      "\u001b[A\n",
      "\u001b[A\n",
      "\u001b[A\n",
      "\u001b[A\n",
      "\u001b[A\n",
      "\u001b[A\n",
      "\u001b[A\n",
      "\u001b[A\n",
      "\u001b[A\n",
      "\u001b[A\n",
      "\u001b[A\n",
      "\u001b[A\n",
      "\u001b[A\n",
      "\u001b[A\n",
      "\u001b[A\n",
      "\u001b[A\n",
      "\u001b[A\n",
      "\u001b[A\n",
      "\u001b[A\n",
      "\u001b[A\n",
      "\u001b[A\n",
      "\u001b[A\n",
      "\u001b[A\n",
      "\u001b[A\n",
      "\u001b[A\n",
      "\u001b[A\n",
      "\u001b[A\n",
      "\u001b[A\n",
      "\u001b[A\n",
      "\u001b[A"
     ]
    },
    {
     "data": {
      "text/html": [
       "<pre style=\"white-space:pre;overflow-x:auto;line-height:normal;font-family:Menlo,'DejaVu Sans Mono',consolas,'Courier New',monospace\"><span style=\"color: #7fbfbf; text-decoration-color: #7fbfbf\">[16:09:13] </span><span style=\"color: #000080; text-decoration-color: #000080\">INFO    </span> ++++++++++Eval. results on Epoch:<span style=\"color: #008080; text-decoration-color: #008080; font-weight: bold\">2</span>,              <a href=\"file:///remote-home/pjli/anaconda3/envs/nlptorch/lib/python3.7/site-packages/fastNLP/core/callbacks/progress_callback.py\"><span style=\"color: #7f7f7f; text-decoration-color: #7f7f7f\">progress_callback.py</span></a><span style=\"color: #7f7f7f; text-decoration-color: #7f7f7f\">:</span><a href=\"file:///remote-home/pjli/anaconda3/envs/nlptorch/lib/python3.7/site-packages/fastNLP/core/callbacks/progress_callback.py#322\"><span style=\"color: #7f7f7f; text-decoration-color: #7f7f7f\">322</span></a>\n",
       "<span style=\"color: #7fbfbf; text-decoration-color: #7fbfbf\">           </span>         Batch:<span style=\"color: #008080; text-decoration-color: #008080; font-weight: bold\">192</span>++++++++++                              <span style=\"color: #7f7f7f; text-decoration-color: #7f7f7f\">                        </span>\n",
       "</pre>\n"
      ],
      "text/plain": [
       "\u001b[2;36m[16:09:13]\u001b[0m\u001b[2;36m \u001b[0m\u001b[34mINFO    \u001b[0m ++++++++++Eval. results on Epoch:\u001b[1;36m2\u001b[0m,              \u001b]8;id=929273;file:///remote-home/pjli/anaconda3/envs/nlptorch/lib/python3.7/site-packages/fastNLP/core/callbacks/progress_callback.py\u001b\\\u001b[2mprogress_callback.py\u001b[0m\u001b]8;;\u001b\\\u001b[2m:\u001b[0m\u001b]8;id=979638;file:///remote-home/pjli/anaconda3/envs/nlptorch/lib/python3.7/site-packages/fastNLP/core/callbacks/progress_callback.py#322\u001b\\\u001b[2m322\u001b[0m\u001b]8;;\u001b\\\n",
       "\u001b[2;36m           \u001b[0m         Batch:\u001b[1;36m192\u001b[0m++++++++++                              \u001b[2m                        \u001b[0m\n"
      ]
     },
     "metadata": {},
     "output_type": "display_data"
    },
    {
     "data": {
      "text/html": [
       "<pre style=\"white-space:pre;overflow-x:auto;line-height:normal;font-family:Menlo,'DejaVu Sans Mono',consolas,'Courier New',monospace\"><span style=\"color: #7fbfbf; text-decoration-color: #7fbfbf\">           </span><span style=\"color: #000080; text-decoration-color: #000080\">INFO    </span> <span style=\"font-weight: bold\">{</span><span style=\"color: #008000; text-decoration-color: #008000\">\"f#F1\"</span>: <span style=\"color: #008080; text-decoration-color: #008080; font-weight: bold\">0.643847</span>, <span style=\"color: #008000; text-decoration-color: #008000\">\"pre#F1\"</span>: <span style=\"color: #008080; text-decoration-color: #008080; font-weight: bold\">0.683839</span>, <span style=\"color: #008000; text-decoration-color: #008000\">\"rec#F1\"</span>: <a href=\"file:///remote-home/pjli/anaconda3/envs/nlptorch/lib/python3.7/site-packages/fastNLP/core/callbacks/progress_callback.py\"><span style=\"color: #7f7f7f; text-decoration-color: #7f7f7f\">progress_callback.py</span></a><span style=\"color: #7f7f7f; text-decoration-color: #7f7f7f\">:</span><a href=\"file:///remote-home/pjli/anaconda3/envs/nlptorch/lib/python3.7/site-packages/fastNLP/core/callbacks/progress_callback.py#327\"><span style=\"color: #7f7f7f; text-decoration-color: #7f7f7f\">327</span></a>\n",
       "<span style=\"color: #7fbfbf; text-decoration-color: #7fbfbf\">           </span>         <span style=\"color: #008080; text-decoration-color: #008080; font-weight: bold\">0.608274</span>, <span style=\"color: #008000; text-decoration-color: #008000\">\"acc#acc\"</span>: <span style=\"color: #008080; text-decoration-color: #008080; font-weight: bold\">0.962383</span><span style=\"font-weight: bold\">}</span>                   <span style=\"color: #7f7f7f; text-decoration-color: #7f7f7f\">                        </span>\n",
       "</pre>\n"
      ],
      "text/plain": [
       "\u001b[2;36m          \u001b[0m\u001b[2;36m \u001b[0m\u001b[34mINFO    \u001b[0m \u001b[1m{\u001b[0m\u001b[32m\"f#F1\"\u001b[0m: \u001b[1;36m0.643847\u001b[0m, \u001b[32m\"pre#F1\"\u001b[0m: \u001b[1;36m0.683839\u001b[0m, \u001b[32m\"rec#F1\"\u001b[0m: \u001b]8;id=392745;file:///remote-home/pjli/anaconda3/envs/nlptorch/lib/python3.7/site-packages/fastNLP/core/callbacks/progress_callback.py\u001b\\\u001b[2mprogress_callback.py\u001b[0m\u001b]8;;\u001b\\\u001b[2m:\u001b[0m\u001b]8;id=687764;file:///remote-home/pjli/anaconda3/envs/nlptorch/lib/python3.7/site-packages/fastNLP/core/callbacks/progress_callback.py#327\u001b\\\u001b[2m327\u001b[0m\u001b]8;;\u001b\\\n",
       "\u001b[2;36m           \u001b[0m         \u001b[1;36m0.608274\u001b[0m, \u001b[32m\"acc#acc\"\u001b[0m: \u001b[1;36m0.962383\u001b[0m\u001b[1m}\u001b[0m                   \u001b[2m                        \u001b[0m\n"
      ]
     },
     "metadata": {},
     "output_type": "display_data"
    },
    {
     "name": "stdout",
     "output_type": "stream",
     "text": [
      "Epoch:2:  23%|██▎       | [14:04<39:47, 310.15s/it, ]   \n",
      "\u001b[A\n",
      "\u001b[A\n",
      "\u001b[A\n",
      "\u001b[A\n",
      "\u001b[A\n",
      "\u001b[A\n",
      "\u001b[A\n",
      "\u001b[A\n",
      "\u001b[A\n",
      "\u001b[A\n",
      "\u001b[A\n",
      "\u001b[A\n",
      "\u001b[A\n",
      "\u001b[A\n",
      "\u001b[A\n",
      "\u001b[A\n",
      "\u001b[A\n",
      "\u001b[A\n",
      "\u001b[A\n",
      "\u001b[A\n",
      "\u001b[A\n",
      "\u001b[A\n",
      "\u001b[A\n",
      "\u001b[A\n",
      "\u001b[A\n",
      "\u001b[A\n",
      "\u001b[A\n",
      "\u001b[A\n",
      "\u001b[A\n",
      "\u001b[A\n",
      "\u001b[A\n",
      "\u001b[A\n",
      "\u001b[A\n",
      "\u001b[A\n",
      "\u001b[A\n",
      "\u001b[A\n",
      "\u001b[A\n",
      "\u001b[A\n",
      "\u001b[A\n",
      "\u001b[A\n",
      "\u001b[A\n",
      "\u001b[A\n",
      "\u001b[A"
     ]
    },
    {
     "data": {
      "text/html": [
       "<pre style=\"white-space:pre;overflow-x:auto;line-height:normal;font-family:Menlo,'DejaVu Sans Mono',consolas,'Courier New',monospace\"><span style=\"color: #7fbfbf; text-decoration-color: #7fbfbf\">[16:10:10] </span><span style=\"color: #000080; text-decoration-color: #000080\">INFO    </span> ++++++++++Eval. results on Epoch:<span style=\"color: #008080; text-decoration-color: #008080; font-weight: bold\">2</span>,              <a href=\"file:///remote-home/pjli/anaconda3/envs/nlptorch/lib/python3.7/site-packages/fastNLP/core/callbacks/progress_callback.py\"><span style=\"color: #7f7f7f; text-decoration-color: #7f7f7f\">progress_callback.py</span></a><span style=\"color: #7f7f7f; text-decoration-color: #7f7f7f\">:</span><a href=\"file:///remote-home/pjli/anaconda3/envs/nlptorch/lib/python3.7/site-packages/fastNLP/core/callbacks/progress_callback.py#322\"><span style=\"color: #7f7f7f; text-decoration-color: #7f7f7f\">322</span></a>\n",
       "<span style=\"color: #7fbfbf; text-decoration-color: #7fbfbf\">           </span>         Batch:<span style=\"color: #008080; text-decoration-color: #008080; font-weight: bold\">392</span>++++++++++                              <span style=\"color: #7f7f7f; text-decoration-color: #7f7f7f\">                        </span>\n",
       "</pre>\n"
      ],
      "text/plain": [
       "\u001b[2;36m[16:10:10]\u001b[0m\u001b[2;36m \u001b[0m\u001b[34mINFO    \u001b[0m ++++++++++Eval. results on Epoch:\u001b[1;36m2\u001b[0m,              \u001b]8;id=84675;file:///remote-home/pjli/anaconda3/envs/nlptorch/lib/python3.7/site-packages/fastNLP/core/callbacks/progress_callback.py\u001b\\\u001b[2mprogress_callback.py\u001b[0m\u001b]8;;\u001b\\\u001b[2m:\u001b[0m\u001b]8;id=775122;file:///remote-home/pjli/anaconda3/envs/nlptorch/lib/python3.7/site-packages/fastNLP/core/callbacks/progress_callback.py#322\u001b\\\u001b[2m322\u001b[0m\u001b]8;;\u001b\\\n",
       "\u001b[2;36m           \u001b[0m         Batch:\u001b[1;36m392\u001b[0m++++++++++                              \u001b[2m                        \u001b[0m\n"
      ]
     },
     "metadata": {},
     "output_type": "display_data"
    },
    {
     "data": {
      "text/html": [
       "<pre style=\"white-space:pre;overflow-x:auto;line-height:normal;font-family:Menlo,'DejaVu Sans Mono',consolas,'Courier New',monospace\"><span style=\"color: #7fbfbf; text-decoration-color: #7fbfbf\">           </span><span style=\"color: #000080; text-decoration-color: #000080\">INFO    </span> <span style=\"font-weight: bold\">{</span><span style=\"color: #008000; text-decoration-color: #008000\">\"f#F1\"</span>: <span style=\"color: #008080; text-decoration-color: #008080; font-weight: bold\">0.671197</span>, <span style=\"color: #008000; text-decoration-color: #008000\">\"pre#F1\"</span>: <span style=\"color: #008080; text-decoration-color: #008080; font-weight: bold\">0.713443</span>, <span style=\"color: #008000; text-decoration-color: #008000\">\"rec#F1\"</span>: <a href=\"file:///remote-home/pjli/anaconda3/envs/nlptorch/lib/python3.7/site-packages/fastNLP/core/callbacks/progress_callback.py\"><span style=\"color: #7f7f7f; text-decoration-color: #7f7f7f\">progress_callback.py</span></a><span style=\"color: #7f7f7f; text-decoration-color: #7f7f7f\">:</span><a href=\"file:///remote-home/pjli/anaconda3/envs/nlptorch/lib/python3.7/site-packages/fastNLP/core/callbacks/progress_callback.py#327\"><span style=\"color: #7f7f7f; text-decoration-color: #7f7f7f\">327</span></a>\n",
       "<span style=\"color: #7fbfbf; text-decoration-color: #7fbfbf\">           </span>         <span style=\"color: #008080; text-decoration-color: #008080; font-weight: bold\">0.633674</span>, <span style=\"color: #008000; text-decoration-color: #008000\">\"acc#acc\"</span>: <span style=\"color: #008080; text-decoration-color: #008080; font-weight: bold\">0.964795</span><span style=\"font-weight: bold\">}</span>                   <span style=\"color: #7f7f7f; text-decoration-color: #7f7f7f\">                        </span>\n",
       "</pre>\n"
      ],
      "text/plain": [
       "\u001b[2;36m          \u001b[0m\u001b[2;36m \u001b[0m\u001b[34mINFO    \u001b[0m \u001b[1m{\u001b[0m\u001b[32m\"f#F1\"\u001b[0m: \u001b[1;36m0.671197\u001b[0m, \u001b[32m\"pre#F1\"\u001b[0m: \u001b[1;36m0.713443\u001b[0m, \u001b[32m\"rec#F1\"\u001b[0m: \u001b]8;id=240169;file:///remote-home/pjli/anaconda3/envs/nlptorch/lib/python3.7/site-packages/fastNLP/core/callbacks/progress_callback.py\u001b\\\u001b[2mprogress_callback.py\u001b[0m\u001b]8;;\u001b\\\u001b[2m:\u001b[0m\u001b]8;id=302542;file:///remote-home/pjli/anaconda3/envs/nlptorch/lib/python3.7/site-packages/fastNLP/core/callbacks/progress_callback.py#327\u001b\\\u001b[2m327\u001b[0m\u001b]8;;\u001b\\\n",
       "\u001b[2;36m           \u001b[0m         \u001b[1;36m0.633674\u001b[0m, \u001b[32m\"acc#acc\"\u001b[0m: \u001b[1;36m0.964795\u001b[0m\u001b[1m}\u001b[0m                   \u001b[2m                        \u001b[0m\n"
      ]
     },
     "metadata": {},
     "output_type": "display_data"
    },
    {
     "name": "stdout",
     "output_type": "stream",
     "text": [
      "Epoch:2:  25%|██▍       | [15:02<49:36, 394.39s/it, ]   \n",
      "\u001b[A\n",
      "\u001b[A\n",
      "\u001b[A\n",
      "\u001b[A\n",
      "\u001b[A\n",
      "\u001b[A\n",
      "\u001b[A\n",
      "\u001b[A\n",
      "\u001b[A\n",
      "\u001b[A\n",
      "\u001b[A\n",
      "\u001b[A\n",
      "\u001b[A\n",
      "\u001b[A\n",
      "\u001b[A\n",
      "\u001b[A\n",
      "\u001b[A\n",
      "\u001b[A\n",
      "\u001b[A\n",
      "\u001b[A\n",
      "\u001b[A\n",
      "\u001b[A\n",
      "\u001b[A\n",
      "\u001b[A\n",
      "\u001b[A\n",
      "\u001b[A\n",
      "\u001b[A\n",
      "\u001b[A\n",
      "\u001b[A\n",
      "\u001b[A\n",
      "\u001b[A\n",
      "\u001b[A\n",
      "\u001b[A\n",
      "\u001b[A\n",
      "\u001b[A\n",
      "\u001b[A\n",
      "\u001b[A\n",
      "\u001b[A\n",
      "\u001b[A\n",
      "\u001b[A"
     ]
    },
    {
     "data": {
      "text/html": [
       "<pre style=\"white-space:pre;overflow-x:auto;line-height:normal;font-family:Menlo,'DejaVu Sans Mono',consolas,'Courier New',monospace\"><span style=\"color: #7fbfbf; text-decoration-color: #7fbfbf\">[16:11:07] </span><span style=\"color: #000080; text-decoration-color: #000080\">INFO    </span> ++++++++++Eval. results on Epoch:<span style=\"color: #008080; text-decoration-color: #008080; font-weight: bold\">2</span>,              <a href=\"file:///remote-home/pjli/anaconda3/envs/nlptorch/lib/python3.7/site-packages/fastNLP/core/callbacks/progress_callback.py\"><span style=\"color: #7f7f7f; text-decoration-color: #7f7f7f\">progress_callback.py</span></a><span style=\"color: #7f7f7f; text-decoration-color: #7f7f7f\">:</span><a href=\"file:///remote-home/pjli/anaconda3/envs/nlptorch/lib/python3.7/site-packages/fastNLP/core/callbacks/progress_callback.py#322\"><span style=\"color: #7f7f7f; text-decoration-color: #7f7f7f\">322</span></a>\n",
       "<span style=\"color: #7fbfbf; text-decoration-color: #7fbfbf\">           </span>         Batch:<span style=\"color: #008080; text-decoration-color: #008080; font-weight: bold\">592</span>++++++++++                              <span style=\"color: #7f7f7f; text-decoration-color: #7f7f7f\">                        </span>\n",
       "</pre>\n"
      ],
      "text/plain": [
       "\u001b[2;36m[16:11:07]\u001b[0m\u001b[2;36m \u001b[0m\u001b[34mINFO    \u001b[0m ++++++++++Eval. results on Epoch:\u001b[1;36m2\u001b[0m,              \u001b]8;id=344277;file:///remote-home/pjli/anaconda3/envs/nlptorch/lib/python3.7/site-packages/fastNLP/core/callbacks/progress_callback.py\u001b\\\u001b[2mprogress_callback.py\u001b[0m\u001b]8;;\u001b\\\u001b[2m:\u001b[0m\u001b]8;id=942920;file:///remote-home/pjli/anaconda3/envs/nlptorch/lib/python3.7/site-packages/fastNLP/core/callbacks/progress_callback.py#322\u001b\\\u001b[2m322\u001b[0m\u001b]8;;\u001b\\\n",
       "\u001b[2;36m           \u001b[0m         Batch:\u001b[1;36m592\u001b[0m++++++++++                              \u001b[2m                        \u001b[0m\n"
      ]
     },
     "metadata": {},
     "output_type": "display_data"
    },
    {
     "data": {
      "text/html": [
       "<pre style=\"white-space:pre;overflow-x:auto;line-height:normal;font-family:Menlo,'DejaVu Sans Mono',consolas,'Courier New',monospace\"><span style=\"color: #7fbfbf; text-decoration-color: #7fbfbf\">           </span><span style=\"color: #000080; text-decoration-color: #000080\">INFO    </span> <span style=\"font-weight: bold\">{</span><span style=\"color: #008000; text-decoration-color: #008000\">\"f#F1\"</span>: <span style=\"color: #008080; text-decoration-color: #008080; font-weight: bold\">0.6783</span>, <span style=\"color: #008000; text-decoration-color: #008000\">\"pre#F1\"</span>: <span style=\"color: #008080; text-decoration-color: #008080; font-weight: bold\">0.733191</span>, <span style=\"color: #008000; text-decoration-color: #008000\">\"rec#F1\"</span>:   <a href=\"file:///remote-home/pjli/anaconda3/envs/nlptorch/lib/python3.7/site-packages/fastNLP/core/callbacks/progress_callback.py\"><span style=\"color: #7f7f7f; text-decoration-color: #7f7f7f\">progress_callback.py</span></a><span style=\"color: #7f7f7f; text-decoration-color: #7f7f7f\">:</span><a href=\"file:///remote-home/pjli/anaconda3/envs/nlptorch/lib/python3.7/site-packages/fastNLP/core/callbacks/progress_callback.py#327\"><span style=\"color: #7f7f7f; text-decoration-color: #7f7f7f\">327</span></a>\n",
       "<span style=\"color: #7fbfbf; text-decoration-color: #7fbfbf\">           </span>         <span style=\"color: #008080; text-decoration-color: #008080; font-weight: bold\">0.631055</span>, <span style=\"color: #008000; text-decoration-color: #008000\">\"acc#acc\"</span>: <span style=\"color: #008080; text-decoration-color: #008080; font-weight: bold\">0.964221</span><span style=\"font-weight: bold\">}</span>                   <span style=\"color: #7f7f7f; text-decoration-color: #7f7f7f\">                        </span>\n",
       "</pre>\n"
      ],
      "text/plain": [
       "\u001b[2;36m          \u001b[0m\u001b[2;36m \u001b[0m\u001b[34mINFO    \u001b[0m \u001b[1m{\u001b[0m\u001b[32m\"f#F1\"\u001b[0m: \u001b[1;36m0.6783\u001b[0m, \u001b[32m\"pre#F1\"\u001b[0m: \u001b[1;36m0.733191\u001b[0m, \u001b[32m\"rec#F1\"\u001b[0m:   \u001b]8;id=210181;file:///remote-home/pjli/anaconda3/envs/nlptorch/lib/python3.7/site-packages/fastNLP/core/callbacks/progress_callback.py\u001b\\\u001b[2mprogress_callback.py\u001b[0m\u001b]8;;\u001b\\\u001b[2m:\u001b[0m\u001b]8;id=987518;file:///remote-home/pjli/anaconda3/envs/nlptorch/lib/python3.7/site-packages/fastNLP/core/callbacks/progress_callback.py#327\u001b\\\u001b[2m327\u001b[0m\u001b]8;;\u001b\\\n",
       "\u001b[2;36m           \u001b[0m         \u001b[1;36m0.631055\u001b[0m, \u001b[32m\"acc#acc\"\u001b[0m: \u001b[1;36m0.964221\u001b[0m\u001b[1m}\u001b[0m                   \u001b[2m                        \u001b[0m\n"
      ]
     },
     "metadata": {},
     "output_type": "display_data"
    },
    {
     "name": "stdout",
     "output_type": "stream",
     "text": [
      "Epoch:2:  26%|██▌       | [16:00<37:28, 304.14s/it, ]   \n",
      "\u001b[A\n",
      "\u001b[A\n",
      "\u001b[A\n",
      "\u001b[A\n",
      "\u001b[A\n",
      "\u001b[A\n",
      "\u001b[A\n",
      "\u001b[A\n",
      "\u001b[A\n",
      "\u001b[A\n",
      "\u001b[A\n",
      "\u001b[A\n",
      "\u001b[A\n",
      "\u001b[A\n",
      "\u001b[A\n",
      "\u001b[A\n",
      "\u001b[A\n",
      "\u001b[A\n",
      "\u001b[A\n",
      "\u001b[A\n",
      "\u001b[A\n",
      "\u001b[A\n",
      "\u001b[A\n",
      "\u001b[A\n",
      "\u001b[A\n",
      "\u001b[A\n",
      "\u001b[A\n",
      "\u001b[A\n",
      "\u001b[A\n",
      "\u001b[A\n",
      "\u001b[A\n",
      "\u001b[A\n",
      "\u001b[A\n",
      "\u001b[A\n",
      "\u001b[A\n",
      "\u001b[A\n",
      "\u001b[A\n",
      "\u001b[A\n",
      "\u001b[A\n",
      "\u001b[A\n",
      "\u001b[A\n",
      "\u001b[A\n",
      "\u001b[A"
     ]
    },
    {
     "data": {
      "text/html": [
       "<pre style=\"white-space:pre;overflow-x:auto;line-height:normal;font-family:Menlo,'DejaVu Sans Mono',consolas,'Courier New',monospace\"><span style=\"color: #7fbfbf; text-decoration-color: #7fbfbf\">[16:12:05] </span><span style=\"color: #000080; text-decoration-color: #000080\">INFO    </span> ++++++++++Eval. results on Epoch:<span style=\"color: #008080; text-decoration-color: #008080; font-weight: bold\">2</span>,              <a href=\"file:///remote-home/pjli/anaconda3/envs/nlptorch/lib/python3.7/site-packages/fastNLP/core/callbacks/progress_callback.py\"><span style=\"color: #7f7f7f; text-decoration-color: #7f7f7f\">progress_callback.py</span></a><span style=\"color: #7f7f7f; text-decoration-color: #7f7f7f\">:</span><a href=\"file:///remote-home/pjli/anaconda3/envs/nlptorch/lib/python3.7/site-packages/fastNLP/core/callbacks/progress_callback.py#322\"><span style=\"color: #7f7f7f; text-decoration-color: #7f7f7f\">322</span></a>\n",
       "<span style=\"color: #7fbfbf; text-decoration-color: #7fbfbf\">           </span>         Batch:<span style=\"color: #008080; text-decoration-color: #008080; font-weight: bold\">792</span>++++++++++                              <span style=\"color: #7f7f7f; text-decoration-color: #7f7f7f\">                        </span>\n",
       "</pre>\n"
      ],
      "text/plain": [
       "\u001b[2;36m[16:12:05]\u001b[0m\u001b[2;36m \u001b[0m\u001b[34mINFO    \u001b[0m ++++++++++Eval. results on Epoch:\u001b[1;36m2\u001b[0m,              \u001b]8;id=242271;file:///remote-home/pjli/anaconda3/envs/nlptorch/lib/python3.7/site-packages/fastNLP/core/callbacks/progress_callback.py\u001b\\\u001b[2mprogress_callback.py\u001b[0m\u001b]8;;\u001b\\\u001b[2m:\u001b[0m\u001b]8;id=556794;file:///remote-home/pjli/anaconda3/envs/nlptorch/lib/python3.7/site-packages/fastNLP/core/callbacks/progress_callback.py#322\u001b\\\u001b[2m322\u001b[0m\u001b]8;;\u001b\\\n",
       "\u001b[2;36m           \u001b[0m         Batch:\u001b[1;36m792\u001b[0m++++++++++                              \u001b[2m                        \u001b[0m\n"
      ]
     },
     "metadata": {},
     "output_type": "display_data"
    },
    {
     "data": {
      "text/html": [
       "<pre style=\"white-space:pre;overflow-x:auto;line-height:normal;font-family:Menlo,'DejaVu Sans Mono',consolas,'Courier New',monospace\"><span style=\"color: #7fbfbf; text-decoration-color: #7fbfbf\">           </span><span style=\"color: #000080; text-decoration-color: #000080\">INFO    </span> <span style=\"font-weight: bold\">{</span><span style=\"color: #008000; text-decoration-color: #008000\">\"f#F1\"</span>: <span style=\"color: #008080; text-decoration-color: #008080; font-weight: bold\">0.700465</span>, <span style=\"color: #008000; text-decoration-color: #008000\">\"pre#F1\"</span>: <span style=\"color: #008080; text-decoration-color: #008080; font-weight: bold\">0.75777</span>, <span style=\"color: #008000; text-decoration-color: #008000\">\"rec#F1\"</span>:  <a href=\"file:///remote-home/pjli/anaconda3/envs/nlptorch/lib/python3.7/site-packages/fastNLP/core/callbacks/progress_callback.py\"><span style=\"color: #7f7f7f; text-decoration-color: #7f7f7f\">progress_callback.py</span></a><span style=\"color: #7f7f7f; text-decoration-color: #7f7f7f\">:</span><a href=\"file:///remote-home/pjli/anaconda3/envs/nlptorch/lib/python3.7/site-packages/fastNLP/core/callbacks/progress_callback.py#327\"><span style=\"color: #7f7f7f; text-decoration-color: #7f7f7f\">327</span></a>\n",
       "<span style=\"color: #7fbfbf; text-decoration-color: #7fbfbf\">           </span>         <span style=\"color: #008080; text-decoration-color: #008080; font-weight: bold\">0.651218</span>, <span style=\"color: #008000; text-decoration-color: #008000\">\"acc#acc\"</span>: <span style=\"color: #008080; text-decoration-color: #008080; font-weight: bold\">0.966824</span><span style=\"font-weight: bold\">}</span>                   <span style=\"color: #7f7f7f; text-decoration-color: #7f7f7f\">                        </span>\n",
       "</pre>\n"
      ],
      "text/plain": [
       "\u001b[2;36m          \u001b[0m\u001b[2;36m \u001b[0m\u001b[34mINFO    \u001b[0m \u001b[1m{\u001b[0m\u001b[32m\"f#F1\"\u001b[0m: \u001b[1;36m0.700465\u001b[0m, \u001b[32m\"pre#F1\"\u001b[0m: \u001b[1;36m0.75777\u001b[0m, \u001b[32m\"rec#F1\"\u001b[0m:  \u001b]8;id=768731;file:///remote-home/pjli/anaconda3/envs/nlptorch/lib/python3.7/site-packages/fastNLP/core/callbacks/progress_callback.py\u001b\\\u001b[2mprogress_callback.py\u001b[0m\u001b]8;;\u001b\\\u001b[2m:\u001b[0m\u001b]8;id=292315;file:///remote-home/pjli/anaconda3/envs/nlptorch/lib/python3.7/site-packages/fastNLP/core/callbacks/progress_callback.py#327\u001b\\\u001b[2m327\u001b[0m\u001b]8;;\u001b\\\n",
       "\u001b[2;36m           \u001b[0m         \u001b[1;36m0.651218\u001b[0m, \u001b[32m\"acc#acc\"\u001b[0m: \u001b[1;36m0.966824\u001b[0m\u001b[1m}\u001b[0m                   \u001b[2m                        \u001b[0m\n"
      ]
     },
     "metadata": {},
     "output_type": "display_data"
    },
    {
     "name": "stdout",
     "output_type": "stream",
     "text": [
      "Epoch:2:  28%|██▊       | [16:57<39:03, 323.76s/it, ]   \n",
      "\u001b[A\n",
      "\u001b[A\n",
      "\u001b[A\n",
      "\u001b[A\n",
      "\u001b[A\n",
      "\u001b[A\n",
      "\u001b[A\n",
      "\u001b[A\n",
      "\u001b[A\n",
      "\u001b[A\n",
      "\u001b[A\n",
      "\u001b[A\n",
      "\u001b[A\n",
      "\u001b[A\n",
      "\u001b[A\n",
      "\u001b[A\n",
      "\u001b[A\n",
      "\u001b[A\n",
      "\u001b[A\n",
      "\u001b[A\n",
      "\u001b[A\n",
      "\u001b[A\n",
      "\u001b[A\n",
      "\u001b[A\n",
      "\u001b[A\n",
      "\u001b[A\n",
      "\u001b[A\n",
      "\u001b[A\n",
      "\u001b[A\n",
      "\u001b[A\n",
      "\u001b[A\n",
      "\u001b[A\n",
      "\u001b[A\n",
      "\u001b[A\n",
      "\u001b[A\n",
      "\u001b[A\n",
      "\u001b[A\n",
      "\u001b[A\n",
      "\u001b[A"
     ]
    },
    {
     "data": {
      "text/html": [
       "<pre style=\"white-space:pre;overflow-x:auto;line-height:normal;font-family:Menlo,'DejaVu Sans Mono',consolas,'Courier New',monospace\"><span style=\"color: #7fbfbf; text-decoration-color: #7fbfbf\">[16:13:02] </span><span style=\"color: #000080; text-decoration-color: #000080\">INFO    </span> ++++++++++Eval. results on Epoch:<span style=\"color: #008080; text-decoration-color: #008080; font-weight: bold\">2</span>,              <a href=\"file:///remote-home/pjli/anaconda3/envs/nlptorch/lib/python3.7/site-packages/fastNLP/core/callbacks/progress_callback.py\"><span style=\"color: #7f7f7f; text-decoration-color: #7f7f7f\">progress_callback.py</span></a><span style=\"color: #7f7f7f; text-decoration-color: #7f7f7f\">:</span><a href=\"file:///remote-home/pjli/anaconda3/envs/nlptorch/lib/python3.7/site-packages/fastNLP/core/callbacks/progress_callback.py#322\"><span style=\"color: #7f7f7f; text-decoration-color: #7f7f7f\">322</span></a>\n",
       "<span style=\"color: #7fbfbf; text-decoration-color: #7fbfbf\">           </span>         Batch:<span style=\"color: #008080; text-decoration-color: #008080; font-weight: bold\">992</span>++++++++++                              <span style=\"color: #7f7f7f; text-decoration-color: #7f7f7f\">                        </span>\n",
       "</pre>\n"
      ],
      "text/plain": [
       "\u001b[2;36m[16:13:02]\u001b[0m\u001b[2;36m \u001b[0m\u001b[34mINFO    \u001b[0m ++++++++++Eval. results on Epoch:\u001b[1;36m2\u001b[0m,              \u001b]8;id=598689;file:///remote-home/pjli/anaconda3/envs/nlptorch/lib/python3.7/site-packages/fastNLP/core/callbacks/progress_callback.py\u001b\\\u001b[2mprogress_callback.py\u001b[0m\u001b]8;;\u001b\\\u001b[2m:\u001b[0m\u001b]8;id=796795;file:///remote-home/pjli/anaconda3/envs/nlptorch/lib/python3.7/site-packages/fastNLP/core/callbacks/progress_callback.py#322\u001b\\\u001b[2m322\u001b[0m\u001b]8;;\u001b\\\n",
       "\u001b[2;36m           \u001b[0m         Batch:\u001b[1;36m992\u001b[0m++++++++++                              \u001b[2m                        \u001b[0m\n"
      ]
     },
     "metadata": {},
     "output_type": "display_data"
    },
    {
     "data": {
      "text/html": [
       "<pre style=\"white-space:pre;overflow-x:auto;line-height:normal;font-family:Menlo,'DejaVu Sans Mono',consolas,'Courier New',monospace\"><span style=\"color: #7fbfbf; text-decoration-color: #7fbfbf\">           </span><span style=\"color: #000080; text-decoration-color: #000080\">INFO    </span> <span style=\"font-weight: bold\">{</span><span style=\"color: #008000; text-decoration-color: #008000\">\"f#F1\"</span>: <span style=\"color: #008080; text-decoration-color: #008080; font-weight: bold\">0.713104</span>, <span style=\"color: #008000; text-decoration-color: #008000\">\"pre#F1\"</span>: <span style=\"color: #008080; text-decoration-color: #008080; font-weight: bold\">0.767189</span>, <span style=\"color: #008000; text-decoration-color: #008000\">\"rec#F1\"</span>: <a href=\"file:///remote-home/pjli/anaconda3/envs/nlptorch/lib/python3.7/site-packages/fastNLP/core/callbacks/progress_callback.py\"><span style=\"color: #7f7f7f; text-decoration-color: #7f7f7f\">progress_callback.py</span></a><span style=\"color: #7f7f7f; text-decoration-color: #7f7f7f\">:</span><a href=\"file:///remote-home/pjli/anaconda3/envs/nlptorch/lib/python3.7/site-packages/fastNLP/core/callbacks/progress_callback.py#327\"><span style=\"color: #7f7f7f; text-decoration-color: #7f7f7f\">327</span></a>\n",
       "<span style=\"color: #7fbfbf; text-decoration-color: #7fbfbf\">           </span>         <span style=\"color: #008080; text-decoration-color: #008080; font-weight: bold\">0.666143</span>, <span style=\"color: #008000; text-decoration-color: #008000\">\"acc#acc\"</span>: <span style=\"color: #008080; text-decoration-color: #008080; font-weight: bold\">0.968153</span><span style=\"font-weight: bold\">}</span>                   <span style=\"color: #7f7f7f; text-decoration-color: #7f7f7f\">                        </span>\n",
       "</pre>\n"
      ],
      "text/plain": [
       "\u001b[2;36m          \u001b[0m\u001b[2;36m \u001b[0m\u001b[34mINFO    \u001b[0m \u001b[1m{\u001b[0m\u001b[32m\"f#F1\"\u001b[0m: \u001b[1;36m0.713104\u001b[0m, \u001b[32m\"pre#F1\"\u001b[0m: \u001b[1;36m0.767189\u001b[0m, \u001b[32m\"rec#F1\"\u001b[0m: \u001b]8;id=79141;file:///remote-home/pjli/anaconda3/envs/nlptorch/lib/python3.7/site-packages/fastNLP/core/callbacks/progress_callback.py\u001b\\\u001b[2mprogress_callback.py\u001b[0m\u001b]8;;\u001b\\\u001b[2m:\u001b[0m\u001b]8;id=642982;file:///remote-home/pjli/anaconda3/envs/nlptorch/lib/python3.7/site-packages/fastNLP/core/callbacks/progress_callback.py#327\u001b\\\u001b[2m327\u001b[0m\u001b]8;;\u001b\\\n",
       "\u001b[2;36m           \u001b[0m         \u001b[1;36m0.666143\u001b[0m, \u001b[32m\"acc#acc\"\u001b[0m: \u001b[1;36m0.968153\u001b[0m\u001b[1m}\u001b[0m                   \u001b[2m                        \u001b[0m\n"
      ]
     },
     "metadata": {},
     "output_type": "display_data"
    },
    {
     "name": "stdout",
     "output_type": "stream",
     "text": [
      "Epoch:2:  29%|██▉       | [17:52<35:36, 301.45s/it, ]   \n",
      "\u001b[A\n",
      "\u001b[A\n",
      "\u001b[A\n",
      "\u001b[A\n",
      "\u001b[A\n",
      "\u001b[A\n",
      "\u001b[A\n",
      "\u001b[A\n",
      "\u001b[A\n",
      "\u001b[A\n",
      "\u001b[A\n",
      "\u001b[A\n",
      "\u001b[A\n",
      "\u001b[A\n",
      "\u001b[A\n",
      "\u001b[A\n",
      "\u001b[A\n",
      "\u001b[A\n",
      "\u001b[A\n",
      "\u001b[A\n",
      "\u001b[A\n",
      "\u001b[A\n",
      "\u001b[A\n",
      "\u001b[A\n",
      "\u001b[A\n",
      "\u001b[A\n",
      "\u001b[A\n",
      "\u001b[A\n",
      "\u001b[A\n",
      "\u001b[A\n",
      "\u001b[A\n",
      "\u001b[A\n",
      "\u001b[A\n",
      "\u001b[A\n",
      "\u001b[A\n",
      "\u001b[A\n",
      "\u001b[A\n",
      "\u001b[A\n",
      "\u001b[A\n",
      "\u001b[A\n",
      "\u001b[A\n",
      "\u001b[A\n",
      "\u001b[A\n",
      "\u001b[A\n",
      "\u001b[A\n",
      "\u001b[A"
     ]
    },
    {
     "data": {
      "text/html": [
       "<pre style=\"white-space:pre;overflow-x:auto;line-height:normal;font-family:Menlo,'DejaVu Sans Mono',consolas,'Courier New',monospace\"><span style=\"color: #7fbfbf; text-decoration-color: #7fbfbf\">[16:13:58] </span><span style=\"color: #000080; text-decoration-color: #000080\">INFO    </span> ++++++++++Eval. results on Epoch:<span style=\"color: #008080; text-decoration-color: #008080; font-weight: bold\">2</span>,              <a href=\"file:///remote-home/pjli/anaconda3/envs/nlptorch/lib/python3.7/site-packages/fastNLP/core/callbacks/progress_callback.py\"><span style=\"color: #7f7f7f; text-decoration-color: #7f7f7f\">progress_callback.py</span></a><span style=\"color: #7f7f7f; text-decoration-color: #7f7f7f\">:</span><a href=\"file:///remote-home/pjli/anaconda3/envs/nlptorch/lib/python3.7/site-packages/fastNLP/core/callbacks/progress_callback.py#322\"><span style=\"color: #7f7f7f; text-decoration-color: #7f7f7f\">322</span></a>\n",
       "<span style=\"color: #7fbfbf; text-decoration-color: #7fbfbf\">           </span>         Batch:<span style=\"color: #008080; text-decoration-color: #008080; font-weight: bold\">1192</span>++++++++++                             <span style=\"color: #7f7f7f; text-decoration-color: #7f7f7f\">                        </span>\n",
       "</pre>\n"
      ],
      "text/plain": [
       "\u001b[2;36m[16:13:58]\u001b[0m\u001b[2;36m \u001b[0m\u001b[34mINFO    \u001b[0m ++++++++++Eval. results on Epoch:\u001b[1;36m2\u001b[0m,              \u001b]8;id=30476;file:///remote-home/pjli/anaconda3/envs/nlptorch/lib/python3.7/site-packages/fastNLP/core/callbacks/progress_callback.py\u001b\\\u001b[2mprogress_callback.py\u001b[0m\u001b]8;;\u001b\\\u001b[2m:\u001b[0m\u001b]8;id=54246;file:///remote-home/pjli/anaconda3/envs/nlptorch/lib/python3.7/site-packages/fastNLP/core/callbacks/progress_callback.py#322\u001b\\\u001b[2m322\u001b[0m\u001b]8;;\u001b\\\n",
       "\u001b[2;36m           \u001b[0m         Batch:\u001b[1;36m1192\u001b[0m++++++++++                             \u001b[2m                        \u001b[0m\n"
      ]
     },
     "metadata": {},
     "output_type": "display_data"
    },
    {
     "data": {
      "text/html": [
       "<pre style=\"white-space:pre;overflow-x:auto;line-height:normal;font-family:Menlo,'DejaVu Sans Mono',consolas,'Courier New',monospace\"><span style=\"color: #7fbfbf; text-decoration-color: #7fbfbf\">           </span><span style=\"color: #000080; text-decoration-color: #000080\">INFO    </span> <span style=\"font-weight: bold\">{</span><span style=\"color: #008000; text-decoration-color: #008000\">\"f#F1\"</span>: <span style=\"color: #008080; text-decoration-color: #008080; font-weight: bold\">0.723509</span>, <span style=\"color: #008000; text-decoration-color: #008000\">\"pre#F1\"</span>: <span style=\"color: #008080; text-decoration-color: #008080; font-weight: bold\">0.759206</span>, <span style=\"color: #008000; text-decoration-color: #008000\">\"rec#F1\"</span>: <a href=\"file:///remote-home/pjli/anaconda3/envs/nlptorch/lib/python3.7/site-packages/fastNLP/core/callbacks/progress_callback.py\"><span style=\"color: #7f7f7f; text-decoration-color: #7f7f7f\">progress_callback.py</span></a><span style=\"color: #7f7f7f; text-decoration-color: #7f7f7f\">:</span><a href=\"file:///remote-home/pjli/anaconda3/envs/nlptorch/lib/python3.7/site-packages/fastNLP/core/callbacks/progress_callback.py#327\"><span style=\"color: #7f7f7f; text-decoration-color: #7f7f7f\">327</span></a>\n",
       "<span style=\"color: #7fbfbf; text-decoration-color: #7fbfbf\">           </span>         <span style=\"color: #008080; text-decoration-color: #008080; font-weight: bold\">0.691019</span>, <span style=\"color: #008000; text-decoration-color: #008000\">\"acc#acc\"</span>: <span style=\"color: #008080; text-decoration-color: #008080; font-weight: bold\">0.969491</span><span style=\"font-weight: bold\">}</span>                   <span style=\"color: #7f7f7f; text-decoration-color: #7f7f7f\">                        </span>\n",
       "</pre>\n"
      ],
      "text/plain": [
       "\u001b[2;36m          \u001b[0m\u001b[2;36m \u001b[0m\u001b[34mINFO    \u001b[0m \u001b[1m{\u001b[0m\u001b[32m\"f#F1\"\u001b[0m: \u001b[1;36m0.723509\u001b[0m, \u001b[32m\"pre#F1\"\u001b[0m: \u001b[1;36m0.759206\u001b[0m, \u001b[32m\"rec#F1\"\u001b[0m: \u001b]8;id=866992;file:///remote-home/pjli/anaconda3/envs/nlptorch/lib/python3.7/site-packages/fastNLP/core/callbacks/progress_callback.py\u001b\\\u001b[2mprogress_callback.py\u001b[0m\u001b]8;;\u001b\\\u001b[2m:\u001b[0m\u001b]8;id=52551;file:///remote-home/pjli/anaconda3/envs/nlptorch/lib/python3.7/site-packages/fastNLP/core/callbacks/progress_callback.py#327\u001b\\\u001b[2m327\u001b[0m\u001b]8;;\u001b\\\n",
       "\u001b[2;36m           \u001b[0m         \u001b[1;36m0.691019\u001b[0m, \u001b[32m\"acc#acc\"\u001b[0m: \u001b[1;36m0.969491\u001b[0m\u001b[1m}\u001b[0m                   \u001b[2m                        \u001b[0m\n"
      ]
     },
     "metadata": {},
     "output_type": "display_data"
    },
    {
     "name": "stdout",
     "output_type": "stream",
     "text": [
      "Epoch:3:  31%|███       | [18:50<43:14, 374.24s/it, ]   \n",
      "\u001b[A\n",
      "\u001b[A\n",
      "\u001b[A\n",
      "\u001b[A\n",
      "\u001b[A\n",
      "\u001b[A\n",
      "\u001b[A\n",
      "\u001b[A\n",
      "\u001b[A\n",
      "\u001b[A\n",
      "\u001b[A\n",
      "\u001b[A\n",
      "\u001b[A\n",
      "\u001b[A\n",
      "\u001b[A\n",
      "\u001b[A\n",
      "\u001b[A\n",
      "\u001b[A\n",
      "\u001b[A\n",
      "\u001b[A\n",
      "\u001b[A\n",
      "\u001b[A\n",
      "\u001b[A\n",
      "\u001b[A\n",
      "\u001b[A\n",
      "\u001b[A\n",
      "\u001b[A\n",
      "\u001b[A\n",
      "\u001b[A\n",
      "\u001b[A\n",
      "\u001b[A\n",
      "\u001b[A\n",
      "\u001b[A\n",
      "\u001b[A\n",
      "\u001b[A\n",
      "\u001b[A\n",
      "\u001b[A\n",
      "\u001b[A\n",
      "\u001b[A"
     ]
    },
    {
     "data": {
      "text/html": [
       "<pre style=\"white-space:pre;overflow-x:auto;line-height:normal;font-family:Menlo,'DejaVu Sans Mono',consolas,'Courier New',monospace\"><span style=\"color: #7fbfbf; text-decoration-color: #7fbfbf\">[16:14:55] </span><span style=\"color: #000080; text-decoration-color: #000080\">INFO    </span> ++++++++++Eval. results on Epoch:<span style=\"color: #008080; text-decoration-color: #008080; font-weight: bold\">3</span>,              <a href=\"file:///remote-home/pjli/anaconda3/envs/nlptorch/lib/python3.7/site-packages/fastNLP/core/callbacks/progress_callback.py\"><span style=\"color: #7f7f7f; text-decoration-color: #7f7f7f\">progress_callback.py</span></a><span style=\"color: #7f7f7f; text-decoration-color: #7f7f7f\">:</span><a href=\"file:///remote-home/pjli/anaconda3/envs/nlptorch/lib/python3.7/site-packages/fastNLP/core/callbacks/progress_callback.py#322\"><span style=\"color: #7f7f7f; text-decoration-color: #7f7f7f\">322</span></a>\n",
       "<span style=\"color: #7fbfbf; text-decoration-color: #7fbfbf\">           </span>         Batch:<span style=\"color: #008080; text-decoration-color: #008080; font-weight: bold\">88</span>++++++++++                               <span style=\"color: #7f7f7f; text-decoration-color: #7f7f7f\">                        </span>\n",
       "</pre>\n"
      ],
      "text/plain": [
       "\u001b[2;36m[16:14:55]\u001b[0m\u001b[2;36m \u001b[0m\u001b[34mINFO    \u001b[0m ++++++++++Eval. results on Epoch:\u001b[1;36m3\u001b[0m,              \u001b]8;id=690270;file:///remote-home/pjli/anaconda3/envs/nlptorch/lib/python3.7/site-packages/fastNLP/core/callbacks/progress_callback.py\u001b\\\u001b[2mprogress_callback.py\u001b[0m\u001b]8;;\u001b\\\u001b[2m:\u001b[0m\u001b]8;id=929807;file:///remote-home/pjli/anaconda3/envs/nlptorch/lib/python3.7/site-packages/fastNLP/core/callbacks/progress_callback.py#322\u001b\\\u001b[2m322\u001b[0m\u001b]8;;\u001b\\\n",
       "\u001b[2;36m           \u001b[0m         Batch:\u001b[1;36m88\u001b[0m++++++++++                               \u001b[2m                        \u001b[0m\n"
      ]
     },
     "metadata": {},
     "output_type": "display_data"
    },
    {
     "data": {
      "text/html": [
       "<pre style=\"white-space:pre;overflow-x:auto;line-height:normal;font-family:Menlo,'DejaVu Sans Mono',consolas,'Courier New',monospace\"><span style=\"color: #7fbfbf; text-decoration-color: #7fbfbf\">           </span><span style=\"color: #000080; text-decoration-color: #000080\">INFO    </span> <span style=\"font-weight: bold\">{</span><span style=\"color: #008000; text-decoration-color: #008000\">\"f#F1\"</span>: <span style=\"color: #008080; text-decoration-color: #008080; font-weight: bold\">0.735534</span>, <span style=\"color: #008000; text-decoration-color: #008000\">\"pre#F1\"</span>: <span style=\"color: #008080; text-decoration-color: #008080; font-weight: bold\">0.7782</span>, <span style=\"color: #008000; text-decoration-color: #008000\">\"rec#F1\"</span>:   <a href=\"file:///remote-home/pjli/anaconda3/envs/nlptorch/lib/python3.7/site-packages/fastNLP/core/callbacks/progress_callback.py\"><span style=\"color: #7f7f7f; text-decoration-color: #7f7f7f\">progress_callback.py</span></a><span style=\"color: #7f7f7f; text-decoration-color: #7f7f7f\">:</span><a href=\"file:///remote-home/pjli/anaconda3/envs/nlptorch/lib/python3.7/site-packages/fastNLP/core/callbacks/progress_callback.py#327\"><span style=\"color: #7f7f7f; text-decoration-color: #7f7f7f\">327</span></a>\n",
       "<span style=\"color: #7fbfbf; text-decoration-color: #7fbfbf\">           </span>         <span style=\"color: #008080; text-decoration-color: #008080; font-weight: bold\">0.697303</span>, <span style=\"color: #008000; text-decoration-color: #008000\">\"acc#acc\"</span>: <span style=\"color: #008080; text-decoration-color: #008080; font-weight: bold\">0.970365</span><span style=\"font-weight: bold\">}</span>                   <span style=\"color: #7f7f7f; text-decoration-color: #7f7f7f\">                        </span>\n",
       "</pre>\n"
      ],
      "text/plain": [
       "\u001b[2;36m          \u001b[0m\u001b[2;36m \u001b[0m\u001b[34mINFO    \u001b[0m \u001b[1m{\u001b[0m\u001b[32m\"f#F1\"\u001b[0m: \u001b[1;36m0.735534\u001b[0m, \u001b[32m\"pre#F1\"\u001b[0m: \u001b[1;36m0.7782\u001b[0m, \u001b[32m\"rec#F1\"\u001b[0m:   \u001b]8;id=78462;file:///remote-home/pjli/anaconda3/envs/nlptorch/lib/python3.7/site-packages/fastNLP/core/callbacks/progress_callback.py\u001b\\\u001b[2mprogress_callback.py\u001b[0m\u001b]8;;\u001b\\\u001b[2m:\u001b[0m\u001b]8;id=351254;file:///remote-home/pjli/anaconda3/envs/nlptorch/lib/python3.7/site-packages/fastNLP/core/callbacks/progress_callback.py#327\u001b\\\u001b[2m327\u001b[0m\u001b]8;;\u001b\\\n",
       "\u001b[2;36m           \u001b[0m         \u001b[1;36m0.697303\u001b[0m, \u001b[32m\"acc#acc\"\u001b[0m: \u001b[1;36m0.970365\u001b[0m\u001b[1m}\u001b[0m                   \u001b[2m                        \u001b[0m\n"
      ]
     },
     "metadata": {},
     "output_type": "display_data"
    },
    {
     "name": "stdout",
     "output_type": "stream",
     "text": [
      "Epoch:3:  32%|███▏      | [19:46<35:12, 311.64s/it, ]   \n",
      "\u001b[A\n",
      "\u001b[A\n",
      "\u001b[A\n",
      "\u001b[A\n",
      "\u001b[A\n",
      "\u001b[A\n",
      "\u001b[A\n",
      "\u001b[A\n",
      "\u001b[A\n",
      "\u001b[A\n",
      "\u001b[A\n",
      "\u001b[A\n",
      "\u001b[A\n",
      "\u001b[A\n",
      "\u001b[A\n",
      "\u001b[A\n",
      "\u001b[A\n",
      "\u001b[A\n",
      "\u001b[A\n",
      "\u001b[A\n",
      "\u001b[A\n",
      "\u001b[A\n",
      "\u001b[A\n",
      "\u001b[A\n",
      "\u001b[A\n",
      "\u001b[A\n",
      "\u001b[A\n",
      "\u001b[A\n",
      "\u001b[A\n",
      "\u001b[A\n",
      "\u001b[A\n",
      "\u001b[A\n",
      "\u001b[A\n",
      "\u001b[A\n",
      "\u001b[A\n",
      "\u001b[A\n",
      "\u001b[A\n",
      "\u001b[A\n",
      "\u001b[A\n",
      "\u001b[A"
     ]
    },
    {
     "data": {
      "text/html": [
       "<pre style=\"white-space:pre;overflow-x:auto;line-height:normal;font-family:Menlo,'DejaVu Sans Mono',consolas,'Courier New',monospace\"><span style=\"color: #7fbfbf; text-decoration-color: #7fbfbf\">[16:15:51] </span><span style=\"color: #000080; text-decoration-color: #000080\">INFO    </span> ++++++++++Eval. results on Epoch:<span style=\"color: #008080; text-decoration-color: #008080; font-weight: bold\">3</span>,              <a href=\"file:///remote-home/pjli/anaconda3/envs/nlptorch/lib/python3.7/site-packages/fastNLP/core/callbacks/progress_callback.py\"><span style=\"color: #7f7f7f; text-decoration-color: #7f7f7f\">progress_callback.py</span></a><span style=\"color: #7f7f7f; text-decoration-color: #7f7f7f\">:</span><a href=\"file:///remote-home/pjli/anaconda3/envs/nlptorch/lib/python3.7/site-packages/fastNLP/core/callbacks/progress_callback.py#322\"><span style=\"color: #7f7f7f; text-decoration-color: #7f7f7f\">322</span></a>\n",
       "<span style=\"color: #7fbfbf; text-decoration-color: #7fbfbf\">           </span>         Batch:<span style=\"color: #008080; text-decoration-color: #008080; font-weight: bold\">288</span>++++++++++                              <span style=\"color: #7f7f7f; text-decoration-color: #7f7f7f\">                        </span>\n",
       "</pre>\n"
      ],
      "text/plain": [
       "\u001b[2;36m[16:15:51]\u001b[0m\u001b[2;36m \u001b[0m\u001b[34mINFO    \u001b[0m ++++++++++Eval. results on Epoch:\u001b[1;36m3\u001b[0m,              \u001b]8;id=652544;file:///remote-home/pjli/anaconda3/envs/nlptorch/lib/python3.7/site-packages/fastNLP/core/callbacks/progress_callback.py\u001b\\\u001b[2mprogress_callback.py\u001b[0m\u001b]8;;\u001b\\\u001b[2m:\u001b[0m\u001b]8;id=41929;file:///remote-home/pjli/anaconda3/envs/nlptorch/lib/python3.7/site-packages/fastNLP/core/callbacks/progress_callback.py#322\u001b\\\u001b[2m322\u001b[0m\u001b]8;;\u001b\\\n",
       "\u001b[2;36m           \u001b[0m         Batch:\u001b[1;36m288\u001b[0m++++++++++                              \u001b[2m                        \u001b[0m\n"
      ]
     },
     "metadata": {},
     "output_type": "display_data"
    },
    {
     "data": {
      "text/html": [
       "<pre style=\"white-space:pre;overflow-x:auto;line-height:normal;font-family:Menlo,'DejaVu Sans Mono',consolas,'Courier New',monospace\"><span style=\"color: #7fbfbf; text-decoration-color: #7fbfbf\">           </span><span style=\"color: #000080; text-decoration-color: #000080\">INFO    </span> <span style=\"font-weight: bold\">{</span><span style=\"color: #008000; text-decoration-color: #008000\">\"f#F1\"</span>: <span style=\"color: #008080; text-decoration-color: #008080; font-weight: bold\">0.74157</span>, <span style=\"color: #008000; text-decoration-color: #008000\">\"pre#F1\"</span>: <span style=\"color: #008080; text-decoration-color: #008080; font-weight: bold\">0.774672</span>, <span style=\"color: #008000; text-decoration-color: #008000\">\"rec#F1\"</span>:  <a href=\"file:///remote-home/pjli/anaconda3/envs/nlptorch/lib/python3.7/site-packages/fastNLP/core/callbacks/progress_callback.py\"><span style=\"color: #7f7f7f; text-decoration-color: #7f7f7f\">progress_callback.py</span></a><span style=\"color: #7f7f7f; text-decoration-color: #7f7f7f\">:</span><a href=\"file:///remote-home/pjli/anaconda3/envs/nlptorch/lib/python3.7/site-packages/fastNLP/core/callbacks/progress_callback.py#327\"><span style=\"color: #7f7f7f; text-decoration-color: #7f7f7f\">327</span></a>\n",
       "<span style=\"color: #7fbfbf; text-decoration-color: #7fbfbf\">           </span>         <span style=\"color: #008080; text-decoration-color: #008080; font-weight: bold\">0.711181</span>, <span style=\"color: #008000; text-decoration-color: #008000\">\"acc#acc\"</span>: <span style=\"color: #008080; text-decoration-color: #008080; font-weight: bold\">0.970429</span><span style=\"font-weight: bold\">}</span>                   <span style=\"color: #7f7f7f; text-decoration-color: #7f7f7f\">                        </span>\n",
       "</pre>\n"
      ],
      "text/plain": [
       "\u001b[2;36m          \u001b[0m\u001b[2;36m \u001b[0m\u001b[34mINFO    \u001b[0m \u001b[1m{\u001b[0m\u001b[32m\"f#F1\"\u001b[0m: \u001b[1;36m0.74157\u001b[0m, \u001b[32m\"pre#F1\"\u001b[0m: \u001b[1;36m0.774672\u001b[0m, \u001b[32m\"rec#F1\"\u001b[0m:  \u001b]8;id=25731;file:///remote-home/pjli/anaconda3/envs/nlptorch/lib/python3.7/site-packages/fastNLP/core/callbacks/progress_callback.py\u001b\\\u001b[2mprogress_callback.py\u001b[0m\u001b]8;;\u001b\\\u001b[2m:\u001b[0m\u001b]8;id=728747;file:///remote-home/pjli/anaconda3/envs/nlptorch/lib/python3.7/site-packages/fastNLP/core/callbacks/progress_callback.py#327\u001b\\\u001b[2m327\u001b[0m\u001b]8;;\u001b\\\n",
       "\u001b[2;36m           \u001b[0m         \u001b[1;36m0.711181\u001b[0m, \u001b[32m\"acc#acc\"\u001b[0m: \u001b[1;36m0.970429\u001b[0m\u001b[1m}\u001b[0m                   \u001b[2m                        \u001b[0m\n"
      ]
     },
     "metadata": {},
     "output_type": "display_data"
    },
    {
     "name": "stdout",
     "output_type": "stream",
     "text": [
      "Epoch:3:  34%|███▎      | [20:42<33:51, 306.58s/it, ]   \n",
      "\u001b[A\n",
      "\u001b[A\n",
      "\u001b[A\n",
      "\u001b[A\n",
      "\u001b[A\n",
      "\u001b[A\n",
      "\u001b[A\n",
      "\u001b[A\n",
      "\u001b[A\n",
      "\u001b[A\n",
      "\u001b[A\n",
      "\u001b[A\n",
      "\u001b[A\n",
      "\u001b[A\n",
      "\u001b[A\n",
      "\u001b[A\n",
      "\u001b[A\n",
      "\u001b[A\n",
      "\u001b[A\n",
      "\u001b[A\n",
      "\u001b[A\n",
      "\u001b[A\n",
      "\u001b[A\n",
      "\u001b[A\n",
      "\u001b[A\n",
      "\u001b[A\n",
      "\u001b[A\n",
      "\u001b[A\n",
      "\u001b[A\n",
      "\u001b[A\n",
      "\u001b[A\n",
      "\u001b[A\n",
      "\u001b[A\n",
      "\u001b[A\n",
      "\u001b[A\n",
      "\u001b[A\n",
      "\u001b[A\n",
      "\u001b[A\n",
      "\u001b[A\n",
      "\u001b[A\n",
      "\u001b[A\n",
      "\u001b[A\n",
      "\u001b[A"
     ]
    },
    {
     "data": {
      "text/html": [
       "<pre style=\"white-space:pre;overflow-x:auto;line-height:normal;font-family:Menlo,'DejaVu Sans Mono',consolas,'Courier New',monospace\"><span style=\"color: #7fbfbf; text-decoration-color: #7fbfbf\">[16:16:48] </span><span style=\"color: #000080; text-decoration-color: #000080\">INFO    </span> ++++++++++Eval. results on Epoch:<span style=\"color: #008080; text-decoration-color: #008080; font-weight: bold\">3</span>,              <a href=\"file:///remote-home/pjli/anaconda3/envs/nlptorch/lib/python3.7/site-packages/fastNLP/core/callbacks/progress_callback.py\"><span style=\"color: #7f7f7f; text-decoration-color: #7f7f7f\">progress_callback.py</span></a><span style=\"color: #7f7f7f; text-decoration-color: #7f7f7f\">:</span><a href=\"file:///remote-home/pjli/anaconda3/envs/nlptorch/lib/python3.7/site-packages/fastNLP/core/callbacks/progress_callback.py#322\"><span style=\"color: #7f7f7f; text-decoration-color: #7f7f7f\">322</span></a>\n",
       "<span style=\"color: #7fbfbf; text-decoration-color: #7fbfbf\">           </span>         Batch:<span style=\"color: #008080; text-decoration-color: #008080; font-weight: bold\">488</span>++++++++++                              <span style=\"color: #7f7f7f; text-decoration-color: #7f7f7f\">                        </span>\n",
       "</pre>\n"
      ],
      "text/plain": [
       "\u001b[2;36m[16:16:48]\u001b[0m\u001b[2;36m \u001b[0m\u001b[34mINFO    \u001b[0m ++++++++++Eval. results on Epoch:\u001b[1;36m3\u001b[0m,              \u001b]8;id=370816;file:///remote-home/pjli/anaconda3/envs/nlptorch/lib/python3.7/site-packages/fastNLP/core/callbacks/progress_callback.py\u001b\\\u001b[2mprogress_callback.py\u001b[0m\u001b]8;;\u001b\\\u001b[2m:\u001b[0m\u001b]8;id=13601;file:///remote-home/pjli/anaconda3/envs/nlptorch/lib/python3.7/site-packages/fastNLP/core/callbacks/progress_callback.py#322\u001b\\\u001b[2m322\u001b[0m\u001b]8;;\u001b\\\n",
       "\u001b[2;36m           \u001b[0m         Batch:\u001b[1;36m488\u001b[0m++++++++++                              \u001b[2m                        \u001b[0m\n"
      ]
     },
     "metadata": {},
     "output_type": "display_data"
    },
    {
     "data": {
      "text/html": [
       "<pre style=\"white-space:pre;overflow-x:auto;line-height:normal;font-family:Menlo,'DejaVu Sans Mono',consolas,'Courier New',monospace\"><span style=\"color: #7fbfbf; text-decoration-color: #7fbfbf\">           </span><span style=\"color: #000080; text-decoration-color: #000080\">INFO    </span> <span style=\"font-weight: bold\">{</span><span style=\"color: #008000; text-decoration-color: #008000\">\"f#F1\"</span>: <span style=\"color: #008080; text-decoration-color: #008080; font-weight: bold\">0.750553</span>, <span style=\"color: #008000; text-decoration-color: #008000\">\"pre#F1\"</span>: <span style=\"color: #008080; text-decoration-color: #008080; font-weight: bold\">0.795195</span>, <span style=\"color: #008000; text-decoration-color: #008000\">\"rec#F1\"</span>: <a href=\"file:///remote-home/pjli/anaconda3/envs/nlptorch/lib/python3.7/site-packages/fastNLP/core/callbacks/progress_callback.py\"><span style=\"color: #7f7f7f; text-decoration-color: #7f7f7f\">progress_callback.py</span></a><span style=\"color: #7f7f7f; text-decoration-color: #7f7f7f\">:</span><a href=\"file:///remote-home/pjli/anaconda3/envs/nlptorch/lib/python3.7/site-packages/fastNLP/core/callbacks/progress_callback.py#327\"><span style=\"color: #7f7f7f; text-decoration-color: #7f7f7f\">327</span></a>\n",
       "<span style=\"color: #7fbfbf; text-decoration-color: #7fbfbf\">           </span>         <span style=\"color: #008080; text-decoration-color: #008080; font-weight: bold\">0.710657</span>, <span style=\"color: #008000; text-decoration-color: #008000\">\"acc#acc\"</span>: <span style=\"color: #008080; text-decoration-color: #008080; font-weight: bold\">0.97092</span><span style=\"font-weight: bold\">}</span>                    <span style=\"color: #7f7f7f; text-decoration-color: #7f7f7f\">                        </span>\n",
       "</pre>\n"
      ],
      "text/plain": [
       "\u001b[2;36m          \u001b[0m\u001b[2;36m \u001b[0m\u001b[34mINFO    \u001b[0m \u001b[1m{\u001b[0m\u001b[32m\"f#F1\"\u001b[0m: \u001b[1;36m0.750553\u001b[0m, \u001b[32m\"pre#F1\"\u001b[0m: \u001b[1;36m0.795195\u001b[0m, \u001b[32m\"rec#F1\"\u001b[0m: \u001b]8;id=394974;file:///remote-home/pjli/anaconda3/envs/nlptorch/lib/python3.7/site-packages/fastNLP/core/callbacks/progress_callback.py\u001b\\\u001b[2mprogress_callback.py\u001b[0m\u001b]8;;\u001b\\\u001b[2m:\u001b[0m\u001b]8;id=836163;file:///remote-home/pjli/anaconda3/envs/nlptorch/lib/python3.7/site-packages/fastNLP/core/callbacks/progress_callback.py#327\u001b\\\u001b[2m327\u001b[0m\u001b]8;;\u001b\\\n",
       "\u001b[2;36m           \u001b[0m         \u001b[1;36m0.710657\u001b[0m, \u001b[32m\"acc#acc\"\u001b[0m: \u001b[1;36m0.97092\u001b[0m\u001b[1m}\u001b[0m                    \u001b[2m                        \u001b[0m\n"
      ]
     },
     "metadata": {},
     "output_type": "display_data"
    },
    {
     "name": "stdout",
     "output_type": "stream",
     "text": [
      "Epoch:3:  35%|███▌      | [21:38<44:15, 410.31s/it, ]   \n",
      "\u001b[A\n",
      "\u001b[A\n",
      "\u001b[A\n",
      "\u001b[A\n",
      "\u001b[A\n",
      "\u001b[A\n",
      "\u001b[A\n",
      "\u001b[A\n",
      "\u001b[A\n",
      "\u001b[A\n",
      "\u001b[A\n",
      "\u001b[A\n",
      "\u001b[A\n",
      "\u001b[A\n",
      "\u001b[A\n",
      "\u001b[A\n",
      "\u001b[A\n",
      "\u001b[A\n",
      "\u001b[A\n",
      "\u001b[A\n",
      "\u001b[A\n",
      "\u001b[A\n",
      "\u001b[A\n",
      "\u001b[A\n",
      "\u001b[A\n",
      "\u001b[A\n",
      "\u001b[A\n",
      "\u001b[A\n",
      "\u001b[A\n",
      "\u001b[A\n",
      "\u001b[A\n",
      "\u001b[A\n",
      "\u001b[A\n",
      "\u001b[A\n",
      "\u001b[A\n",
      "\u001b[A\n",
      "\u001b[A\n",
      "\u001b[A\n",
      "\u001b[A"
     ]
    },
    {
     "data": {
      "text/html": [
       "<pre style=\"white-space:pre;overflow-x:auto;line-height:normal;font-family:Menlo,'DejaVu Sans Mono',consolas,'Courier New',monospace\"><span style=\"color: #7fbfbf; text-decoration-color: #7fbfbf\">[16:17:43] </span><span style=\"color: #000080; text-decoration-color: #000080\">INFO    </span> ++++++++++Eval. results on Epoch:<span style=\"color: #008080; text-decoration-color: #008080; font-weight: bold\">3</span>,              <a href=\"file:///remote-home/pjli/anaconda3/envs/nlptorch/lib/python3.7/site-packages/fastNLP/core/callbacks/progress_callback.py\"><span style=\"color: #7f7f7f; text-decoration-color: #7f7f7f\">progress_callback.py</span></a><span style=\"color: #7f7f7f; text-decoration-color: #7f7f7f\">:</span><a href=\"file:///remote-home/pjli/anaconda3/envs/nlptorch/lib/python3.7/site-packages/fastNLP/core/callbacks/progress_callback.py#322\"><span style=\"color: #7f7f7f; text-decoration-color: #7f7f7f\">322</span></a>\n",
       "<span style=\"color: #7fbfbf; text-decoration-color: #7fbfbf\">           </span>         Batch:<span style=\"color: #008080; text-decoration-color: #008080; font-weight: bold\">688</span>++++++++++                              <span style=\"color: #7f7f7f; text-decoration-color: #7f7f7f\">                        </span>\n",
       "</pre>\n"
      ],
      "text/plain": [
       "\u001b[2;36m[16:17:43]\u001b[0m\u001b[2;36m \u001b[0m\u001b[34mINFO    \u001b[0m ++++++++++Eval. results on Epoch:\u001b[1;36m3\u001b[0m,              \u001b]8;id=520601;file:///remote-home/pjli/anaconda3/envs/nlptorch/lib/python3.7/site-packages/fastNLP/core/callbacks/progress_callback.py\u001b\\\u001b[2mprogress_callback.py\u001b[0m\u001b]8;;\u001b\\\u001b[2m:\u001b[0m\u001b]8;id=302167;file:///remote-home/pjli/anaconda3/envs/nlptorch/lib/python3.7/site-packages/fastNLP/core/callbacks/progress_callback.py#322\u001b\\\u001b[2m322\u001b[0m\u001b]8;;\u001b\\\n",
       "\u001b[2;36m           \u001b[0m         Batch:\u001b[1;36m688\u001b[0m++++++++++                              \u001b[2m                        \u001b[0m\n"
      ]
     },
     "metadata": {},
     "output_type": "display_data"
    },
    {
     "data": {
      "text/html": [
       "<pre style=\"white-space:pre;overflow-x:auto;line-height:normal;font-family:Menlo,'DejaVu Sans Mono',consolas,'Courier New',monospace\"><span style=\"color: #7fbfbf; text-decoration-color: #7fbfbf\">           </span><span style=\"color: #000080; text-decoration-color: #000080\">INFO    </span> <span style=\"font-weight: bold\">{</span><span style=\"color: #008000; text-decoration-color: #008000\">\"f#F1\"</span>: <span style=\"color: #008080; text-decoration-color: #008080; font-weight: bold\">0.758197</span>, <span style=\"color: #008000; text-decoration-color: #008000\">\"pre#F1\"</span>: <span style=\"color: #008080; text-decoration-color: #008080; font-weight: bold\">0.792631</span>, <span style=\"color: #008000; text-decoration-color: #008000\">\"rec#F1\"</span>: <a href=\"file:///remote-home/pjli/anaconda3/envs/nlptorch/lib/python3.7/site-packages/fastNLP/core/callbacks/progress_callback.py\"><span style=\"color: #7f7f7f; text-decoration-color: #7f7f7f\">progress_callback.py</span></a><span style=\"color: #7f7f7f; text-decoration-color: #7f7f7f\">:</span><a href=\"file:///remote-home/pjli/anaconda3/envs/nlptorch/lib/python3.7/site-packages/fastNLP/core/callbacks/progress_callback.py#327\"><span style=\"color: #7f7f7f; text-decoration-color: #7f7f7f\">327</span></a>\n",
       "<span style=\"color: #7fbfbf; text-decoration-color: #7fbfbf\">           </span>         <span style=\"color: #008080; text-decoration-color: #008080; font-weight: bold\">0.72663</span>, <span style=\"color: #008000; text-decoration-color: #008000\">\"acc#acc\"</span>: <span style=\"color: #008080; text-decoration-color: #008080; font-weight: bold\">0.971239</span><span style=\"font-weight: bold\">}</span>                    <span style=\"color: #7f7f7f; text-decoration-color: #7f7f7f\">                        </span>\n",
       "</pre>\n"
      ],
      "text/plain": [
       "\u001b[2;36m          \u001b[0m\u001b[2;36m \u001b[0m\u001b[34mINFO    \u001b[0m \u001b[1m{\u001b[0m\u001b[32m\"f#F1\"\u001b[0m: \u001b[1;36m0.758197\u001b[0m, \u001b[32m\"pre#F1\"\u001b[0m: \u001b[1;36m0.792631\u001b[0m, \u001b[32m\"rec#F1\"\u001b[0m: \u001b]8;id=725382;file:///remote-home/pjli/anaconda3/envs/nlptorch/lib/python3.7/site-packages/fastNLP/core/callbacks/progress_callback.py\u001b\\\u001b[2mprogress_callback.py\u001b[0m\u001b]8;;\u001b\\\u001b[2m:\u001b[0m\u001b]8;id=312329;file:///remote-home/pjli/anaconda3/envs/nlptorch/lib/python3.7/site-packages/fastNLP/core/callbacks/progress_callback.py#327\u001b\\\u001b[2m327\u001b[0m\u001b]8;;\u001b\\\n",
       "\u001b[2;36m           \u001b[0m         \u001b[1;36m0.72663\u001b[0m, \u001b[32m\"acc#acc\"\u001b[0m: \u001b[1;36m0.971239\u001b[0m\u001b[1m}\u001b[0m                    \u001b[2m                        \u001b[0m\n"
      ]
     },
     "metadata": {},
     "output_type": "display_data"
    },
    {
     "name": "stdout",
     "output_type": "stream",
     "text": [
      "Epoch:3:  37%|███▋      | [22:39<40:55, 388.58s/it, ]   \n",
      "\u001b[A\n",
      "\u001b[A\n",
      "\u001b[A\n",
      "\u001b[A\n",
      "\u001b[A\n",
      "\u001b[A\n",
      "\u001b[A\n",
      "\u001b[A\n",
      "\u001b[A\n",
      "\u001b[A\n",
      "\u001b[A\n",
      "\u001b[A\n",
      "\u001b[A\n",
      "\u001b[A\n",
      "\u001b[A\n",
      "\u001b[A\n",
      "\u001b[A\n",
      "\u001b[A\n",
      "\u001b[A\n",
      "\u001b[A\n",
      "\u001b[A\n",
      "\u001b[A\n",
      "\u001b[A\n",
      "\u001b[A\n",
      "\u001b[A\n",
      "\u001b[A\n",
      "\u001b[A\n",
      "\u001b[A\n",
      "\u001b[A\n",
      "\u001b[A\n",
      "\u001b[A\n",
      "\u001b[A\n",
      "\u001b[A\n",
      "\u001b[A\n",
      "\u001b[A\n",
      "\u001b[A\n",
      "\u001b[A\n",
      "\u001b[A\n",
      "\u001b[A\n",
      "\u001b[A"
     ]
    },
    {
     "data": {
      "text/html": [
       "<pre style=\"white-space:pre;overflow-x:auto;line-height:normal;font-family:Menlo,'DejaVu Sans Mono',consolas,'Courier New',monospace\"><span style=\"color: #7fbfbf; text-decoration-color: #7fbfbf\">[16:18:44] </span><span style=\"color: #000080; text-decoration-color: #000080\">INFO    </span> ++++++++++Eval. results on Epoch:<span style=\"color: #008080; text-decoration-color: #008080; font-weight: bold\">3</span>,              <a href=\"file:///remote-home/pjli/anaconda3/envs/nlptorch/lib/python3.7/site-packages/fastNLP/core/callbacks/progress_callback.py\"><span style=\"color: #7f7f7f; text-decoration-color: #7f7f7f\">progress_callback.py</span></a><span style=\"color: #7f7f7f; text-decoration-color: #7f7f7f\">:</span><a href=\"file:///remote-home/pjli/anaconda3/envs/nlptorch/lib/python3.7/site-packages/fastNLP/core/callbacks/progress_callback.py#322\"><span style=\"color: #7f7f7f; text-decoration-color: #7f7f7f\">322</span></a>\n",
       "<span style=\"color: #7fbfbf; text-decoration-color: #7fbfbf\">           </span>         Batch:<span style=\"color: #008080; text-decoration-color: #008080; font-weight: bold\">888</span>++++++++++                              <span style=\"color: #7f7f7f; text-decoration-color: #7f7f7f\">                        </span>\n",
       "</pre>\n"
      ],
      "text/plain": [
       "\u001b[2;36m[16:18:44]\u001b[0m\u001b[2;36m \u001b[0m\u001b[34mINFO    \u001b[0m ++++++++++Eval. results on Epoch:\u001b[1;36m3\u001b[0m,              \u001b]8;id=526425;file:///remote-home/pjli/anaconda3/envs/nlptorch/lib/python3.7/site-packages/fastNLP/core/callbacks/progress_callback.py\u001b\\\u001b[2mprogress_callback.py\u001b[0m\u001b]8;;\u001b\\\u001b[2m:\u001b[0m\u001b]8;id=64400;file:///remote-home/pjli/anaconda3/envs/nlptorch/lib/python3.7/site-packages/fastNLP/core/callbacks/progress_callback.py#322\u001b\\\u001b[2m322\u001b[0m\u001b]8;;\u001b\\\n",
       "\u001b[2;36m           \u001b[0m         Batch:\u001b[1;36m888\u001b[0m++++++++++                              \u001b[2m                        \u001b[0m\n"
      ]
     },
     "metadata": {},
     "output_type": "display_data"
    },
    {
     "data": {
      "text/html": [
       "<pre style=\"white-space:pre;overflow-x:auto;line-height:normal;font-family:Menlo,'DejaVu Sans Mono',consolas,'Courier New',monospace\"><span style=\"color: #7fbfbf; text-decoration-color: #7fbfbf\">           </span><span style=\"color: #000080; text-decoration-color: #000080\">INFO    </span> <span style=\"font-weight: bold\">{</span><span style=\"color: #008000; text-decoration-color: #008000\">\"f#F1\"</span>: <span style=\"color: #008080; text-decoration-color: #008080; font-weight: bold\">0.759613</span>, <span style=\"color: #008000; text-decoration-color: #008000\">\"pre#F1\"</span>: <span style=\"color: #008080; text-decoration-color: #008080; font-weight: bold\">0.805043</span>, <span style=\"color: #008000; text-decoration-color: #008000\">\"rec#F1\"</span>: <a href=\"file:///remote-home/pjli/anaconda3/envs/nlptorch/lib/python3.7/site-packages/fastNLP/core/callbacks/progress_callback.py\"><span style=\"color: #7f7f7f; text-decoration-color: #7f7f7f\">progress_callback.py</span></a><span style=\"color: #7f7f7f; text-decoration-color: #7f7f7f\">:</span><a href=\"file:///remote-home/pjli/anaconda3/envs/nlptorch/lib/python3.7/site-packages/fastNLP/core/callbacks/progress_callback.py#327\"><span style=\"color: #7f7f7f; text-decoration-color: #7f7f7f\">327</span></a>\n",
       "<span style=\"color: #7fbfbf; text-decoration-color: #7fbfbf\">           </span>         <span style=\"color: #008080; text-decoration-color: #008080; font-weight: bold\">0.719036</span>, <span style=\"color: #008000; text-decoration-color: #008000\">\"acc#acc\"</span>: <span style=\"color: #008080; text-decoration-color: #008080; font-weight: bold\">0.970593</span><span style=\"font-weight: bold\">}</span>                   <span style=\"color: #7f7f7f; text-decoration-color: #7f7f7f\">                        </span>\n",
       "</pre>\n"
      ],
      "text/plain": [
       "\u001b[2;36m          \u001b[0m\u001b[2;36m \u001b[0m\u001b[34mINFO    \u001b[0m \u001b[1m{\u001b[0m\u001b[32m\"f#F1\"\u001b[0m: \u001b[1;36m0.759613\u001b[0m, \u001b[32m\"pre#F1\"\u001b[0m: \u001b[1;36m0.805043\u001b[0m, \u001b[32m\"rec#F1\"\u001b[0m: \u001b]8;id=396350;file:///remote-home/pjli/anaconda3/envs/nlptorch/lib/python3.7/site-packages/fastNLP/core/callbacks/progress_callback.py\u001b\\\u001b[2mprogress_callback.py\u001b[0m\u001b]8;;\u001b\\\u001b[2m:\u001b[0m\u001b]8;id=271333;file:///remote-home/pjli/anaconda3/envs/nlptorch/lib/python3.7/site-packages/fastNLP/core/callbacks/progress_callback.py#327\u001b\\\u001b[2m327\u001b[0m\u001b]8;;\u001b\\\n",
       "\u001b[2;36m           \u001b[0m         \u001b[1;36m0.719036\u001b[0m, \u001b[32m\"acc#acc\"\u001b[0m: \u001b[1;36m0.970593\u001b[0m\u001b[1m}\u001b[0m                   \u001b[2m                        \u001b[0m\n"
      ]
     },
     "metadata": {},
     "output_type": "display_data"
    },
    {
     "name": "stdout",
     "output_type": "stream",
     "text": [
      "Epoch:3:  38%|███▊      | [23:36<33:26, 325.43s/it, ]   \n",
      "\u001b[A\n",
      "\u001b[A\n",
      "\u001b[A\n",
      "\u001b[A\n",
      "\u001b[A\n",
      "\u001b[A\n",
      "\u001b[A\n",
      "\u001b[A\n",
      "\u001b[A\n",
      "\u001b[A\n",
      "\u001b[A\n",
      "\u001b[A\n",
      "\u001b[A\n",
      "\u001b[A\n",
      "\u001b[A\n",
      "\u001b[A\n",
      "\u001b[A\n",
      "\u001b[A\n",
      "\u001b[A\n",
      "\u001b[A\n",
      "\u001b[A\n",
      "\u001b[A\n",
      "\u001b[A\n",
      "\u001b[A\n",
      "\u001b[A\n",
      "\u001b[A\n",
      "\u001b[A\n",
      "\u001b[A\n",
      "\u001b[A\n",
      "\u001b[A\n",
      "\u001b[A\n",
      "\u001b[A\n",
      "\u001b[A\n",
      "\u001b[A\n",
      "\u001b[A\n",
      "\u001b[A\n",
      "\u001b[A\n",
      "\u001b[A\n",
      "\u001b[A\n",
      "\u001b[A\n",
      "\u001b[A"
     ]
    },
    {
     "data": {
      "text/html": [
       "<pre style=\"white-space:pre;overflow-x:auto;line-height:normal;font-family:Menlo,'DejaVu Sans Mono',consolas,'Courier New',monospace\"><span style=\"color: #7fbfbf; text-decoration-color: #7fbfbf\">[16:19:41] </span><span style=\"color: #000080; text-decoration-color: #000080\">INFO    </span> ++++++++++Eval. results on Epoch:<span style=\"color: #008080; text-decoration-color: #008080; font-weight: bold\">3</span>,              <a href=\"file:///remote-home/pjli/anaconda3/envs/nlptorch/lib/python3.7/site-packages/fastNLP/core/callbacks/progress_callback.py\"><span style=\"color: #7f7f7f; text-decoration-color: #7f7f7f\">progress_callback.py</span></a><span style=\"color: #7f7f7f; text-decoration-color: #7f7f7f\">:</span><a href=\"file:///remote-home/pjli/anaconda3/envs/nlptorch/lib/python3.7/site-packages/fastNLP/core/callbacks/progress_callback.py#322\"><span style=\"color: #7f7f7f; text-decoration-color: #7f7f7f\">322</span></a>\n",
       "<span style=\"color: #7fbfbf; text-decoration-color: #7fbfbf\">           </span>         Batch:<span style=\"color: #008080; text-decoration-color: #008080; font-weight: bold\">1088</span>++++++++++                             <span style=\"color: #7f7f7f; text-decoration-color: #7f7f7f\">                        </span>\n",
       "</pre>\n"
      ],
      "text/plain": [
       "\u001b[2;36m[16:19:41]\u001b[0m\u001b[2;36m \u001b[0m\u001b[34mINFO    \u001b[0m ++++++++++Eval. results on Epoch:\u001b[1;36m3\u001b[0m,              \u001b]8;id=552695;file:///remote-home/pjli/anaconda3/envs/nlptorch/lib/python3.7/site-packages/fastNLP/core/callbacks/progress_callback.py\u001b\\\u001b[2mprogress_callback.py\u001b[0m\u001b]8;;\u001b\\\u001b[2m:\u001b[0m\u001b]8;id=806964;file:///remote-home/pjli/anaconda3/envs/nlptorch/lib/python3.7/site-packages/fastNLP/core/callbacks/progress_callback.py#322\u001b\\\u001b[2m322\u001b[0m\u001b]8;;\u001b\\\n",
       "\u001b[2;36m           \u001b[0m         Batch:\u001b[1;36m1088\u001b[0m++++++++++                             \u001b[2m                        \u001b[0m\n"
      ]
     },
     "metadata": {},
     "output_type": "display_data"
    },
    {
     "data": {
      "text/html": [
       "<pre style=\"white-space:pre;overflow-x:auto;line-height:normal;font-family:Menlo,'DejaVu Sans Mono',consolas,'Courier New',monospace\"><span style=\"color: #7fbfbf; text-decoration-color: #7fbfbf\">           </span><span style=\"color: #000080; text-decoration-color: #000080\">INFO    </span> <span style=\"font-weight: bold\">{</span><span style=\"color: #008000; text-decoration-color: #008000\">\"f#F1\"</span>: <span style=\"color: #008080; text-decoration-color: #008080; font-weight: bold\">0.775393</span>, <span style=\"color: #008000; text-decoration-color: #008000\">\"pre#F1\"</span>: <span style=\"color: #008080; text-decoration-color: #008080; font-weight: bold\">0.811213</span>, <span style=\"color: #008000; text-decoration-color: #008000\">\"rec#F1\"</span>: <a href=\"file:///remote-home/pjli/anaconda3/envs/nlptorch/lib/python3.7/site-packages/fastNLP/core/callbacks/progress_callback.py\"><span style=\"color: #7f7f7f; text-decoration-color: #7f7f7f\">progress_callback.py</span></a><span style=\"color: #7f7f7f; text-decoration-color: #7f7f7f\">:</span><a href=\"file:///remote-home/pjli/anaconda3/envs/nlptorch/lib/python3.7/site-packages/fastNLP/core/callbacks/progress_callback.py#327\"><span style=\"color: #7f7f7f; text-decoration-color: #7f7f7f\">327</span></a>\n",
       "<span style=\"color: #7fbfbf; text-decoration-color: #7fbfbf\">           </span>         <span style=\"color: #008080; text-decoration-color: #008080; font-weight: bold\">0.742603</span>, <span style=\"color: #008000; text-decoration-color: #008000\">\"acc#acc\"</span>: <span style=\"color: #008080; text-decoration-color: #008080; font-weight: bold\">0.973032</span><span style=\"font-weight: bold\">}</span>                   <span style=\"color: #7f7f7f; text-decoration-color: #7f7f7f\">                        </span>\n",
       "</pre>\n"
      ],
      "text/plain": [
       "\u001b[2;36m          \u001b[0m\u001b[2;36m \u001b[0m\u001b[34mINFO    \u001b[0m \u001b[1m{\u001b[0m\u001b[32m\"f#F1\"\u001b[0m: \u001b[1;36m0.775393\u001b[0m, \u001b[32m\"pre#F1\"\u001b[0m: \u001b[1;36m0.811213\u001b[0m, \u001b[32m\"rec#F1\"\u001b[0m: \u001b]8;id=687069;file:///remote-home/pjli/anaconda3/envs/nlptorch/lib/python3.7/site-packages/fastNLP/core/callbacks/progress_callback.py\u001b\\\u001b[2mprogress_callback.py\u001b[0m\u001b]8;;\u001b\\\u001b[2m:\u001b[0m\u001b]8;id=86590;file:///remote-home/pjli/anaconda3/envs/nlptorch/lib/python3.7/site-packages/fastNLP/core/callbacks/progress_callback.py#327\u001b\\\u001b[2m327\u001b[0m\u001b]8;;\u001b\\\n",
       "\u001b[2;36m           \u001b[0m         \u001b[1;36m0.742603\u001b[0m, \u001b[32m\"acc#acc\"\u001b[0m: \u001b[1;36m0.973032\u001b[0m\u001b[1m}\u001b[0m                   \u001b[2m                        \u001b[0m\n"
      ]
     },
     "metadata": {},
     "output_type": "display_data"
    },
    {
     "name": "stdout",
     "output_type": "stream",
     "text": [
      "Epoch:3:  40%|███▉      | [24:31<32:14, 321.79s/it, ]   \n",
      "\u001b[A\n",
      "\u001b[A\n",
      "\u001b[A\n",
      "\u001b[A\n",
      "\u001b[A\n",
      "\u001b[A\n",
      "\u001b[A\n",
      "\u001b[A\n",
      "\u001b[A\n",
      "\u001b[A\n",
      "\u001b[A\n",
      "\u001b[A\n",
      "\u001b[A\n",
      "\u001b[A\n",
      "\u001b[A\n",
      "\u001b[A\n",
      "\u001b[A\n",
      "\u001b[A\n",
      "\u001b[A\n",
      "\u001b[A\n",
      "\u001b[A\n",
      "\u001b[A\n",
      "\u001b[A\n",
      "\u001b[A\n",
      "\u001b[A\n",
      "\u001b[A\n",
      "\u001b[A\n",
      "\u001b[A\n",
      "\u001b[A\n",
      "\u001b[A\n",
      "\u001b[A\n",
      "\u001b[A\n",
      "\u001b[A\n",
      "\u001b[A\n",
      "\u001b[A\n",
      "\u001b[A\n",
      "\u001b[A\n",
      "\u001b[A\n",
      "\u001b[A"
     ]
    },
    {
     "data": {
      "text/html": [
       "<pre style=\"white-space:pre;overflow-x:auto;line-height:normal;font-family:Menlo,'DejaVu Sans Mono',consolas,'Courier New',monospace\"><span style=\"color: #7fbfbf; text-decoration-color: #7fbfbf\">[16:20:36] </span><span style=\"color: #000080; text-decoration-color: #000080\">INFO    </span> ++++++++++Eval. results on Epoch:<span style=\"color: #008080; text-decoration-color: #008080; font-weight: bold\">3</span>,              <a href=\"file:///remote-home/pjli/anaconda3/envs/nlptorch/lib/python3.7/site-packages/fastNLP/core/callbacks/progress_callback.py\"><span style=\"color: #7f7f7f; text-decoration-color: #7f7f7f\">progress_callback.py</span></a><span style=\"color: #7f7f7f; text-decoration-color: #7f7f7f\">:</span><a href=\"file:///remote-home/pjli/anaconda3/envs/nlptorch/lib/python3.7/site-packages/fastNLP/core/callbacks/progress_callback.py#322\"><span style=\"color: #7f7f7f; text-decoration-color: #7f7f7f\">322</span></a>\n",
       "<span style=\"color: #7fbfbf; text-decoration-color: #7fbfbf\">           </span>         Batch:<span style=\"color: #008080; text-decoration-color: #008080; font-weight: bold\">1288</span>++++++++++                             <span style=\"color: #7f7f7f; text-decoration-color: #7f7f7f\">                        </span>\n",
       "</pre>\n"
      ],
      "text/plain": [
       "\u001b[2;36m[16:20:36]\u001b[0m\u001b[2;36m \u001b[0m\u001b[34mINFO    \u001b[0m ++++++++++Eval. results on Epoch:\u001b[1;36m3\u001b[0m,              \u001b]8;id=153689;file:///remote-home/pjli/anaconda3/envs/nlptorch/lib/python3.7/site-packages/fastNLP/core/callbacks/progress_callback.py\u001b\\\u001b[2mprogress_callback.py\u001b[0m\u001b]8;;\u001b\\\u001b[2m:\u001b[0m\u001b]8;id=764568;file:///remote-home/pjli/anaconda3/envs/nlptorch/lib/python3.7/site-packages/fastNLP/core/callbacks/progress_callback.py#322\u001b\\\u001b[2m322\u001b[0m\u001b]8;;\u001b\\\n",
       "\u001b[2;36m           \u001b[0m         Batch:\u001b[1;36m1288\u001b[0m++++++++++                             \u001b[2m                        \u001b[0m\n"
      ]
     },
     "metadata": {},
     "output_type": "display_data"
    },
    {
     "data": {
      "text/html": [
       "<pre style=\"white-space:pre;overflow-x:auto;line-height:normal;font-family:Menlo,'DejaVu Sans Mono',consolas,'Courier New',monospace\"><span style=\"color: #7fbfbf; text-decoration-color: #7fbfbf\">           </span><span style=\"color: #000080; text-decoration-color: #000080\">INFO    </span> <span style=\"font-weight: bold\">{</span><span style=\"color: #008000; text-decoration-color: #008000\">\"f#F1\"</span>: <span style=\"color: #008080; text-decoration-color: #008080; font-weight: bold\">0.781241</span>, <span style=\"color: #008000; text-decoration-color: #008000\">\"pre#F1\"</span>: <span style=\"color: #008080; text-decoration-color: #008080; font-weight: bold\">0.817454</span>, <span style=\"color: #008000; text-decoration-color: #008000\">\"rec#F1\"</span>: <a href=\"file:///remote-home/pjli/anaconda3/envs/nlptorch/lib/python3.7/site-packages/fastNLP/core/callbacks/progress_callback.py\"><span style=\"color: #7f7f7f; text-decoration-color: #7f7f7f\">progress_callback.py</span></a><span style=\"color: #7f7f7f; text-decoration-color: #7f7f7f\">:</span><a href=\"file:///remote-home/pjli/anaconda3/envs/nlptorch/lib/python3.7/site-packages/fastNLP/core/callbacks/progress_callback.py#327\"><span style=\"color: #7f7f7f; text-decoration-color: #7f7f7f\">327</span></a>\n",
       "<span style=\"color: #7fbfbf; text-decoration-color: #7fbfbf\">           </span>         <span style=\"color: #008080; text-decoration-color: #008080; font-weight: bold\">0.748102</span>, <span style=\"color: #008000; text-decoration-color: #008000\">\"acc#acc\"</span>: <span style=\"color: #008080; text-decoration-color: #008080; font-weight: bold\">0.973259</span><span style=\"font-weight: bold\">}</span>                   <span style=\"color: #7f7f7f; text-decoration-color: #7f7f7f\">                        </span>\n",
       "</pre>\n"
      ],
      "text/plain": [
       "\u001b[2;36m          \u001b[0m\u001b[2;36m \u001b[0m\u001b[34mINFO    \u001b[0m \u001b[1m{\u001b[0m\u001b[32m\"f#F1\"\u001b[0m: \u001b[1;36m0.781241\u001b[0m, \u001b[32m\"pre#F1\"\u001b[0m: \u001b[1;36m0.817454\u001b[0m, \u001b[32m\"rec#F1\"\u001b[0m: \u001b]8;id=707041;file:///remote-home/pjli/anaconda3/envs/nlptorch/lib/python3.7/site-packages/fastNLP/core/callbacks/progress_callback.py\u001b\\\u001b[2mprogress_callback.py\u001b[0m\u001b]8;;\u001b\\\u001b[2m:\u001b[0m\u001b]8;id=446717;file:///remote-home/pjli/anaconda3/envs/nlptorch/lib/python3.7/site-packages/fastNLP/core/callbacks/progress_callback.py#327\u001b\\\u001b[2m327\u001b[0m\u001b]8;;\u001b\\\n",
       "\u001b[2;36m           \u001b[0m         \u001b[1;36m0.748102\u001b[0m, \u001b[32m\"acc#acc\"\u001b[0m: \u001b[1;36m0.973259\u001b[0m\u001b[1m}\u001b[0m                   \u001b[2m                        \u001b[0m\n"
      ]
     },
     "metadata": {},
     "output_type": "display_data"
    },
    {
     "name": "stdout",
     "output_type": "stream",
     "text": [
      "Epoch:4:  41%|████▏     | [25:27<33:06, 339.04s/it, ]   \n",
      "\u001b[A\n",
      "\u001b[A\n",
      "\u001b[A\n",
      "\u001b[A\n",
      "\u001b[A\n",
      "\u001b[A\n",
      "\u001b[A\n",
      "\u001b[A\n",
      "\u001b[A\n",
      "\u001b[A\n",
      "\u001b[A\n",
      "\u001b[A\n",
      "\u001b[A\n",
      "\u001b[A\n",
      "\u001b[A\n",
      "\u001b[A\n",
      "\u001b[A\n",
      "\u001b[A\n",
      "\u001b[A\n",
      "\u001b[A\n",
      "\u001b[A\n",
      "\u001b[A\n",
      "\u001b[A\n",
      "\u001b[A\n",
      "\u001b[A\n",
      "\u001b[A\n",
      "\u001b[A\n",
      "\u001b[A\n",
      "\u001b[A\n",
      "\u001b[A\n",
      "\u001b[A\n",
      "\u001b[A\n",
      "\u001b[A\n",
      "\u001b[A\n",
      "\u001b[A\n",
      "\u001b[A\n",
      "\u001b[A\n",
      "\u001b[A\n",
      "\u001b[A\n",
      "\u001b[A\n",
      "\u001b[A"
     ]
    },
    {
     "data": {
      "text/html": [
       "<pre style=\"white-space:pre;overflow-x:auto;line-height:normal;font-family:Menlo,'DejaVu Sans Mono',consolas,'Courier New',monospace\"><span style=\"color: #7fbfbf; text-decoration-color: #7fbfbf\">[16:21:32] </span><span style=\"color: #000080; text-decoration-color: #000080\">INFO    </span> ----------Eval. results on Epoch:<span style=\"color: #008080; text-decoration-color: #008080; font-weight: bold\">4</span>,              <a href=\"file:///remote-home/pjli/anaconda3/envs/nlptorch/lib/python3.7/site-packages/fastNLP/core/callbacks/progress_callback.py\"><span style=\"color: #7f7f7f; text-decoration-color: #7f7f7f\">progress_callback.py</span></a><span style=\"color: #7f7f7f; text-decoration-color: #7f7f7f\">:</span><a href=\"file:///remote-home/pjli/anaconda3/envs/nlptorch/lib/python3.7/site-packages/fastNLP/core/callbacks/progress_callback.py#322\"><span style=\"color: #7f7f7f; text-decoration-color: #7f7f7f\">322</span></a>\n",
       "<span style=\"color: #7fbfbf; text-decoration-color: #7fbfbf\">           </span>         Batch:<span style=\"color: #008080; text-decoration-color: #008080; font-weight: bold\">184</span>----------                              <span style=\"color: #7f7f7f; text-decoration-color: #7f7f7f\">                        </span>\n",
       "</pre>\n"
      ],
      "text/plain": [
       "\u001b[2;36m[16:21:32]\u001b[0m\u001b[2;36m \u001b[0m\u001b[34mINFO    \u001b[0m ----------Eval. results on Epoch:\u001b[1;36m4\u001b[0m,              \u001b]8;id=706633;file:///remote-home/pjli/anaconda3/envs/nlptorch/lib/python3.7/site-packages/fastNLP/core/callbacks/progress_callback.py\u001b\\\u001b[2mprogress_callback.py\u001b[0m\u001b]8;;\u001b\\\u001b[2m:\u001b[0m\u001b]8;id=607689;file:///remote-home/pjli/anaconda3/envs/nlptorch/lib/python3.7/site-packages/fastNLP/core/callbacks/progress_callback.py#322\u001b\\\u001b[2m322\u001b[0m\u001b]8;;\u001b\\\n",
       "\u001b[2;36m           \u001b[0m         Batch:\u001b[1;36m184\u001b[0m----------                              \u001b[2m                        \u001b[0m\n"
      ]
     },
     "metadata": {},
     "output_type": "display_data"
    },
    {
     "data": {
      "text/html": [
       "<pre style=\"white-space:pre;overflow-x:auto;line-height:normal;font-family:Menlo,'DejaVu Sans Mono',consolas,'Courier New',monospace\"><span style=\"color: #7fbfbf; text-decoration-color: #7fbfbf\">           </span><span style=\"color: #000080; text-decoration-color: #000080\">INFO    </span> <span style=\"font-weight: bold\">{</span><span style=\"color: #008000; text-decoration-color: #008000\">\"f#F1\"</span>: <span style=\"color: #008080; text-decoration-color: #008080; font-weight: bold\">0.778473</span>, <span style=\"color: #008000; text-decoration-color: #008000\">\"pre#F1\"</span>: <span style=\"color: #008080; text-decoration-color: #008080; font-weight: bold\">0.830071</span>, <span style=\"color: #008000; text-decoration-color: #008000\">\"rec#F1\"</span>: <a href=\"file:///remote-home/pjli/anaconda3/envs/nlptorch/lib/python3.7/site-packages/fastNLP/core/callbacks/progress_callback.py\"><span style=\"color: #7f7f7f; text-decoration-color: #7f7f7f\">progress_callback.py</span></a><span style=\"color: #7f7f7f; text-decoration-color: #7f7f7f\">:</span><a href=\"file:///remote-home/pjli/anaconda3/envs/nlptorch/lib/python3.7/site-packages/fastNLP/core/callbacks/progress_callback.py#327\"><span style=\"color: #7f7f7f; text-decoration-color: #7f7f7f\">327</span></a>\n",
       "<span style=\"color: #7fbfbf; text-decoration-color: #7fbfbf\">           </span>         <span style=\"color: #008080; text-decoration-color: #008080; font-weight: bold\">0.732914</span>, <span style=\"color: #008000; text-decoration-color: #008000\">\"acc#acc\"</span>: <span style=\"color: #008080; text-decoration-color: #008080; font-weight: bold\">0.973032</span><span style=\"font-weight: bold\">}</span>                   <span style=\"color: #7f7f7f; text-decoration-color: #7f7f7f\">                        </span>\n",
       "</pre>\n"
      ],
      "text/plain": [
       "\u001b[2;36m          \u001b[0m\u001b[2;36m \u001b[0m\u001b[34mINFO    \u001b[0m \u001b[1m{\u001b[0m\u001b[32m\"f#F1\"\u001b[0m: \u001b[1;36m0.778473\u001b[0m, \u001b[32m\"pre#F1\"\u001b[0m: \u001b[1;36m0.830071\u001b[0m, \u001b[32m\"rec#F1\"\u001b[0m: \u001b]8;id=847731;file:///remote-home/pjli/anaconda3/envs/nlptorch/lib/python3.7/site-packages/fastNLP/core/callbacks/progress_callback.py\u001b\\\u001b[2mprogress_callback.py\u001b[0m\u001b]8;;\u001b\\\u001b[2m:\u001b[0m\u001b]8;id=212687;file:///remote-home/pjli/anaconda3/envs/nlptorch/lib/python3.7/site-packages/fastNLP/core/callbacks/progress_callback.py#327\u001b\\\u001b[2m327\u001b[0m\u001b]8;;\u001b\\\n",
       "\u001b[2;36m           \u001b[0m         \u001b[1;36m0.732914\u001b[0m, \u001b[32m\"acc#acc\"\u001b[0m: \u001b[1;36m0.973032\u001b[0m\u001b[1m}\u001b[0m                   \u001b[2m                        \u001b[0m\n"
      ]
     },
     "metadata": {},
     "output_type": "display_data"
    },
    {
     "name": "stdout",
     "output_type": "stream",
     "text": [
      "Epoch:4:  43%|████▎     | [26:26<28:58, 304.69s/it, ]   \n",
      "\u001b[A\n",
      "\u001b[A\n",
      "\u001b[A\n",
      "\u001b[A\n",
      "\u001b[A\n",
      "\u001b[A\n",
      "\u001b[A\n",
      "\u001b[A\n",
      "\u001b[A\n",
      "\u001b[A\n",
      "\u001b[A\n",
      "\u001b[A\n",
      "\u001b[A\n",
      "\u001b[A\n",
      "\u001b[A\n",
      "\u001b[A\n",
      "\u001b[A\n",
      "\u001b[A\n",
      "\u001b[A\n",
      "\u001b[A\n",
      "\u001b[A\n",
      "\u001b[A\n",
      "\u001b[A\n",
      "\u001b[A\n",
      "\u001b[A\n",
      "\u001b[A\n",
      "\u001b[A\n",
      "\u001b[A\n",
      "\u001b[A\n",
      "\u001b[A\n",
      "\u001b[A\n",
      "\u001b[A\n",
      "\u001b[A\n",
      "\u001b[A\n",
      "\u001b[A\n",
      "\u001b[A\n",
      "\u001b[A\n",
      "\u001b[A\n",
      "\u001b[A\n",
      "\u001b[A\n",
      "\u001b[A\n",
      "\u001b[A\n",
      "\u001b[A\n",
      "\u001b[A\n",
      "\u001b[A"
     ]
    },
    {
     "data": {
      "text/html": [
       "<pre style=\"white-space:pre;overflow-x:auto;line-height:normal;font-family:Menlo,'DejaVu Sans Mono',consolas,'Courier New',monospace\"><span style=\"color: #7fbfbf; text-decoration-color: #7fbfbf\">[16:22:32] </span><span style=\"color: #000080; text-decoration-color: #000080\">INFO    </span> ++++++++++Eval. results on Epoch:<span style=\"color: #008080; text-decoration-color: #008080; font-weight: bold\">4</span>,              <a href=\"file:///remote-home/pjli/anaconda3/envs/nlptorch/lib/python3.7/site-packages/fastNLP/core/callbacks/progress_callback.py\"><span style=\"color: #7f7f7f; text-decoration-color: #7f7f7f\">progress_callback.py</span></a><span style=\"color: #7f7f7f; text-decoration-color: #7f7f7f\">:</span><a href=\"file:///remote-home/pjli/anaconda3/envs/nlptorch/lib/python3.7/site-packages/fastNLP/core/callbacks/progress_callback.py#322\"><span style=\"color: #7f7f7f; text-decoration-color: #7f7f7f\">322</span></a>\n",
       "<span style=\"color: #7fbfbf; text-decoration-color: #7fbfbf\">           </span>         Batch:<span style=\"color: #008080; text-decoration-color: #008080; font-weight: bold\">384</span>++++++++++                              <span style=\"color: #7f7f7f; text-decoration-color: #7f7f7f\">                        </span>\n",
       "</pre>\n"
      ],
      "text/plain": [
       "\u001b[2;36m[16:22:32]\u001b[0m\u001b[2;36m \u001b[0m\u001b[34mINFO    \u001b[0m ++++++++++Eval. results on Epoch:\u001b[1;36m4\u001b[0m,              \u001b]8;id=387886;file:///remote-home/pjli/anaconda3/envs/nlptorch/lib/python3.7/site-packages/fastNLP/core/callbacks/progress_callback.py\u001b\\\u001b[2mprogress_callback.py\u001b[0m\u001b]8;;\u001b\\\u001b[2m:\u001b[0m\u001b]8;id=97514;file:///remote-home/pjli/anaconda3/envs/nlptorch/lib/python3.7/site-packages/fastNLP/core/callbacks/progress_callback.py#322\u001b\\\u001b[2m322\u001b[0m\u001b]8;;\u001b\\\n",
       "\u001b[2;36m           \u001b[0m         Batch:\u001b[1;36m384\u001b[0m++++++++++                              \u001b[2m                        \u001b[0m\n"
      ]
     },
     "metadata": {},
     "output_type": "display_data"
    },
    {
     "data": {
      "text/html": [
       "<pre style=\"white-space:pre;overflow-x:auto;line-height:normal;font-family:Menlo,'DejaVu Sans Mono',consolas,'Courier New',monospace\"><span style=\"color: #7fbfbf; text-decoration-color: #7fbfbf\">           </span><span style=\"color: #000080; text-decoration-color: #000080\">INFO    </span> <span style=\"font-weight: bold\">{</span><span style=\"color: #008000; text-decoration-color: #008000\">\"f#F1\"</span>: <span style=\"color: #008080; text-decoration-color: #008080; font-weight: bold\">0.790903</span>, <span style=\"color: #008000; text-decoration-color: #008000\">\"pre#F1\"</span>: <span style=\"color: #008080; text-decoration-color: #008080; font-weight: bold\">0.834983</span>, <span style=\"color: #008000; text-decoration-color: #008000\">\"rec#F1\"</span>: <a href=\"file:///remote-home/pjli/anaconda3/envs/nlptorch/lib/python3.7/site-packages/fastNLP/core/callbacks/progress_callback.py\"><span style=\"color: #7f7f7f; text-decoration-color: #7f7f7f\">progress_callback.py</span></a><span style=\"color: #7f7f7f; text-decoration-color: #7f7f7f\">:</span><a href=\"file:///remote-home/pjli/anaconda3/envs/nlptorch/lib/python3.7/site-packages/fastNLP/core/callbacks/progress_callback.py#327\"><span style=\"color: #7f7f7f; text-decoration-color: #7f7f7f\">327</span></a>\n",
       "<span style=\"color: #7fbfbf; text-decoration-color: #7fbfbf\">           </span>         <span style=\"color: #008080; text-decoration-color: #008080; font-weight: bold\">0.751244</span>, <span style=\"color: #008000; text-decoration-color: #008000\">\"acc#acc\"</span>: <span style=\"color: #008080; text-decoration-color: #008080; font-weight: bold\">0.973405</span><span style=\"font-weight: bold\">}</span>                   <span style=\"color: #7f7f7f; text-decoration-color: #7f7f7f\">                        </span>\n",
       "</pre>\n"
      ],
      "text/plain": [
       "\u001b[2;36m          \u001b[0m\u001b[2;36m \u001b[0m\u001b[34mINFO    \u001b[0m \u001b[1m{\u001b[0m\u001b[32m\"f#F1\"\u001b[0m: \u001b[1;36m0.790903\u001b[0m, \u001b[32m\"pre#F1\"\u001b[0m: \u001b[1;36m0.834983\u001b[0m, \u001b[32m\"rec#F1\"\u001b[0m: \u001b]8;id=669821;file:///remote-home/pjli/anaconda3/envs/nlptorch/lib/python3.7/site-packages/fastNLP/core/callbacks/progress_callback.py\u001b\\\u001b[2mprogress_callback.py\u001b[0m\u001b]8;;\u001b\\\u001b[2m:\u001b[0m\u001b]8;id=886797;file:///remote-home/pjli/anaconda3/envs/nlptorch/lib/python3.7/site-packages/fastNLP/core/callbacks/progress_callback.py#327\u001b\\\u001b[2m327\u001b[0m\u001b]8;;\u001b\\\n",
       "\u001b[2;36m           \u001b[0m         \u001b[1;36m0.751244\u001b[0m, \u001b[32m\"acc#acc\"\u001b[0m: \u001b[1;36m0.973405\u001b[0m\u001b[1m}\u001b[0m                   \u001b[2m                        \u001b[0m\n"
      ]
     },
     "metadata": {},
     "output_type": "display_data"
    },
    {
     "name": "stdout",
     "output_type": "stream",
     "text": [
      "Epoch:4:  44%|████▍     | [27:22<30:30, 329.66s/it, ]   \n",
      "\u001b[A\n",
      "\u001b[A\n",
      "\u001b[A\n",
      "\u001b[A\n",
      "\u001b[A\n",
      "\u001b[A\n",
      "\u001b[A\n",
      "\u001b[A\n",
      "\u001b[A\n",
      "\u001b[A\n",
      "\u001b[A\n",
      "\u001b[A\n",
      "\u001b[A\n",
      "\u001b[A\n",
      "\u001b[A\n",
      "\u001b[A\n",
      "\u001b[A\n",
      "\u001b[A\n",
      "\u001b[A\n",
      "\u001b[A\n",
      "\u001b[A\n",
      "\u001b[A\n",
      "\u001b[A\n",
      "\u001b[A\n",
      "\u001b[A\n",
      "\u001b[A\n",
      "\u001b[A\n",
      "\u001b[A\n",
      "\u001b[A\n",
      "\u001b[A\n",
      "\u001b[A\n",
      "\u001b[A\n",
      "\u001b[A\n",
      "\u001b[A\n",
      "\u001b[A\n",
      "\u001b[A\n",
      "\u001b[A\n",
      "\u001b[A\n",
      "\u001b[A\n",
      "\u001b[A\n",
      "\u001b[A\n",
      "\u001b[A"
     ]
    },
    {
     "data": {
      "text/html": [
       "<pre style=\"white-space:pre;overflow-x:auto;line-height:normal;font-family:Menlo,'DejaVu Sans Mono',consolas,'Courier New',monospace\"><span style=\"color: #7fbfbf; text-decoration-color: #7fbfbf\">[16:23:28] </span><span style=\"color: #000080; text-decoration-color: #000080\">INFO    </span> ----------Eval. results on Epoch:<span style=\"color: #008080; text-decoration-color: #008080; font-weight: bold\">4</span>,              <a href=\"file:///remote-home/pjli/anaconda3/envs/nlptorch/lib/python3.7/site-packages/fastNLP/core/callbacks/progress_callback.py\"><span style=\"color: #7f7f7f; text-decoration-color: #7f7f7f\">progress_callback.py</span></a><span style=\"color: #7f7f7f; text-decoration-color: #7f7f7f\">:</span><a href=\"file:///remote-home/pjli/anaconda3/envs/nlptorch/lib/python3.7/site-packages/fastNLP/core/callbacks/progress_callback.py#322\"><span style=\"color: #7f7f7f; text-decoration-color: #7f7f7f\">322</span></a>\n",
       "<span style=\"color: #7fbfbf; text-decoration-color: #7fbfbf\">           </span>         Batch:<span style=\"color: #008080; text-decoration-color: #008080; font-weight: bold\">584</span>----------                              <span style=\"color: #7f7f7f; text-decoration-color: #7f7f7f\">                        </span>\n",
       "</pre>\n"
      ],
      "text/plain": [
       "\u001b[2;36m[16:23:28]\u001b[0m\u001b[2;36m \u001b[0m\u001b[34mINFO    \u001b[0m ----------Eval. results on Epoch:\u001b[1;36m4\u001b[0m,              \u001b]8;id=465821;file:///remote-home/pjli/anaconda3/envs/nlptorch/lib/python3.7/site-packages/fastNLP/core/callbacks/progress_callback.py\u001b\\\u001b[2mprogress_callback.py\u001b[0m\u001b]8;;\u001b\\\u001b[2m:\u001b[0m\u001b]8;id=626395;file:///remote-home/pjli/anaconda3/envs/nlptorch/lib/python3.7/site-packages/fastNLP/core/callbacks/progress_callback.py#322\u001b\\\u001b[2m322\u001b[0m\u001b]8;;\u001b\\\n",
       "\u001b[2;36m           \u001b[0m         Batch:\u001b[1;36m584\u001b[0m----------                              \u001b[2m                        \u001b[0m\n"
      ]
     },
     "metadata": {},
     "output_type": "display_data"
    },
    {
     "data": {
      "text/html": [
       "<pre style=\"white-space:pre;overflow-x:auto;line-height:normal;font-family:Menlo,'DejaVu Sans Mono',consolas,'Courier New',monospace\"><span style=\"color: #7fbfbf; text-decoration-color: #7fbfbf\">           </span><span style=\"color: #000080; text-decoration-color: #000080\">INFO    </span> <span style=\"font-weight: bold\">{</span><span style=\"color: #008000; text-decoration-color: #008000\">\"f#F1\"</span>: <span style=\"color: #008080; text-decoration-color: #008080; font-weight: bold\">0.783629</span>, <span style=\"color: #008000; text-decoration-color: #008000\">\"pre#F1\"</span>: <span style=\"color: #008080; text-decoration-color: #008080; font-weight: bold\">0.83982</span>, <span style=\"color: #008000; text-decoration-color: #008000\">\"rec#F1\"</span>:  <a href=\"file:///remote-home/pjli/anaconda3/envs/nlptorch/lib/python3.7/site-packages/fastNLP/core/callbacks/progress_callback.py\"><span style=\"color: #7f7f7f; text-decoration-color: #7f7f7f\">progress_callback.py</span></a><span style=\"color: #7f7f7f; text-decoration-color: #7f7f7f\">:</span><a href=\"file:///remote-home/pjli/anaconda3/envs/nlptorch/lib/python3.7/site-packages/fastNLP/core/callbacks/progress_callback.py#327\"><span style=\"color: #7f7f7f; text-decoration-color: #7f7f7f\">327</span></a>\n",
       "<span style=\"color: #7fbfbf; text-decoration-color: #7fbfbf\">           </span>         <span style=\"color: #008080; text-decoration-color: #008080; font-weight: bold\">0.734485</span>, <span style=\"color: #008000; text-decoration-color: #008000\">\"acc#acc\"</span>: <span style=\"color: #008080; text-decoration-color: #008080; font-weight: bold\">0.973105</span><span style=\"font-weight: bold\">}</span>                   <span style=\"color: #7f7f7f; text-decoration-color: #7f7f7f\">                        </span>\n",
       "</pre>\n"
      ],
      "text/plain": [
       "\u001b[2;36m          \u001b[0m\u001b[2;36m \u001b[0m\u001b[34mINFO    \u001b[0m \u001b[1m{\u001b[0m\u001b[32m\"f#F1\"\u001b[0m: \u001b[1;36m0.783629\u001b[0m, \u001b[32m\"pre#F1\"\u001b[0m: \u001b[1;36m0.83982\u001b[0m, \u001b[32m\"rec#F1\"\u001b[0m:  \u001b]8;id=732804;file:///remote-home/pjli/anaconda3/envs/nlptorch/lib/python3.7/site-packages/fastNLP/core/callbacks/progress_callback.py\u001b\\\u001b[2mprogress_callback.py\u001b[0m\u001b]8;;\u001b\\\u001b[2m:\u001b[0m\u001b]8;id=473294;file:///remote-home/pjli/anaconda3/envs/nlptorch/lib/python3.7/site-packages/fastNLP/core/callbacks/progress_callback.py#327\u001b\\\u001b[2m327\u001b[0m\u001b]8;;\u001b\\\n",
       "\u001b[2;36m           \u001b[0m         \u001b[1;36m0.734485\u001b[0m, \u001b[32m\"acc#acc\"\u001b[0m: \u001b[1;36m0.973105\u001b[0m\u001b[1m}\u001b[0m                   \u001b[2m                        \u001b[0m\n"
      ]
     },
     "metadata": {},
     "output_type": "display_data"
    },
    {
     "name": "stdout",
     "output_type": "stream",
     "text": [
      "Epoch:4:  46%|████▌     | [28:21<32:02, 356.05s/it, ]   \n",
      "\u001b[A\n",
      "\u001b[A\n",
      "\u001b[A\n",
      "\u001b[A\n",
      "\u001b[A\n",
      "\u001b[A\n",
      "\u001b[A\n",
      "\u001b[A\n",
      "\u001b[A\n",
      "\u001b[A\n",
      "\u001b[A\n",
      "\u001b[A\n",
      "\u001b[A\n",
      "\u001b[A\n",
      "\u001b[A\n",
      "\u001b[A\n",
      "\u001b[A\n",
      "\u001b[A\n",
      "\u001b[A\n",
      "\u001b[A\n",
      "\u001b[A\n",
      "\u001b[A\n",
      "\u001b[A\n",
      "\u001b[A\n",
      "\u001b[A\n",
      "\u001b[A\n",
      "\u001b[A\n",
      "\u001b[A\n",
      "\u001b[A\n",
      "\u001b[A\n",
      "\u001b[A\n",
      "\u001b[A\n",
      "\u001b[A\n",
      "\u001b[A\n",
      "\u001b[A\n",
      "\u001b[A\n",
      "\u001b[A\n",
      "\u001b[A\n",
      "\u001b[A\n",
      "\u001b[A\n",
      "\u001b[A"
     ]
    },
    {
     "data": {
      "text/html": [
       "<pre style=\"white-space:pre;overflow-x:auto;line-height:normal;font-family:Menlo,'DejaVu Sans Mono',consolas,'Courier New',monospace\"><span style=\"color: #7fbfbf; text-decoration-color: #7fbfbf\">[16:24:27] </span><span style=\"color: #000080; text-decoration-color: #000080\">INFO    </span> ----------Eval. results on Epoch:<span style=\"color: #008080; text-decoration-color: #008080; font-weight: bold\">4</span>,              <a href=\"file:///remote-home/pjli/anaconda3/envs/nlptorch/lib/python3.7/site-packages/fastNLP/core/callbacks/progress_callback.py\"><span style=\"color: #7f7f7f; text-decoration-color: #7f7f7f\">progress_callback.py</span></a><span style=\"color: #7f7f7f; text-decoration-color: #7f7f7f\">:</span><a href=\"file:///remote-home/pjli/anaconda3/envs/nlptorch/lib/python3.7/site-packages/fastNLP/core/callbacks/progress_callback.py#322\"><span style=\"color: #7f7f7f; text-decoration-color: #7f7f7f\">322</span></a>\n",
       "<span style=\"color: #7fbfbf; text-decoration-color: #7fbfbf\">           </span>         Batch:<span style=\"color: #008080; text-decoration-color: #008080; font-weight: bold\">784</span>----------                              <span style=\"color: #7f7f7f; text-decoration-color: #7f7f7f\">                        </span>\n",
       "</pre>\n"
      ],
      "text/plain": [
       "\u001b[2;36m[16:24:27]\u001b[0m\u001b[2;36m \u001b[0m\u001b[34mINFO    \u001b[0m ----------Eval. results on Epoch:\u001b[1;36m4\u001b[0m,              \u001b]8;id=318390;file:///remote-home/pjli/anaconda3/envs/nlptorch/lib/python3.7/site-packages/fastNLP/core/callbacks/progress_callback.py\u001b\\\u001b[2mprogress_callback.py\u001b[0m\u001b]8;;\u001b\\\u001b[2m:\u001b[0m\u001b]8;id=676581;file:///remote-home/pjli/anaconda3/envs/nlptorch/lib/python3.7/site-packages/fastNLP/core/callbacks/progress_callback.py#322\u001b\\\u001b[2m322\u001b[0m\u001b]8;;\u001b\\\n",
       "\u001b[2;36m           \u001b[0m         Batch:\u001b[1;36m784\u001b[0m----------                              \u001b[2m                        \u001b[0m\n"
      ]
     },
     "metadata": {},
     "output_type": "display_data"
    },
    {
     "data": {
      "text/html": [
       "<pre style=\"white-space:pre;overflow-x:auto;line-height:normal;font-family:Menlo,'DejaVu Sans Mono',consolas,'Courier New',monospace\"><span style=\"color: #7fbfbf; text-decoration-color: #7fbfbf\">           </span><span style=\"color: #000080; text-decoration-color: #000080\">INFO    </span> <span style=\"font-weight: bold\">{</span><span style=\"color: #008000; text-decoration-color: #008000\">\"f#F1\"</span>: <span style=\"color: #008080; text-decoration-color: #008080; font-weight: bold\">0.786623</span>, <span style=\"color: #008000; text-decoration-color: #008000\">\"pre#F1\"</span>: <span style=\"color: #008080; text-decoration-color: #008080; font-weight: bold\">0.81441</span>, <span style=\"color: #008000; text-decoration-color: #008000\">\"rec#F1\"</span>:  <a href=\"file:///remote-home/pjli/anaconda3/envs/nlptorch/lib/python3.7/site-packages/fastNLP/core/callbacks/progress_callback.py\"><span style=\"color: #7f7f7f; text-decoration-color: #7f7f7f\">progress_callback.py</span></a><span style=\"color: #7f7f7f; text-decoration-color: #7f7f7f\">:</span><a href=\"file:///remote-home/pjli/anaconda3/envs/nlptorch/lib/python3.7/site-packages/fastNLP/core/callbacks/progress_callback.py#327\"><span style=\"color: #7f7f7f; text-decoration-color: #7f7f7f\">327</span></a>\n",
       "<span style=\"color: #7fbfbf; text-decoration-color: #7fbfbf\">           </span>         <span style=\"color: #008080; text-decoration-color: #008080; font-weight: bold\">0.76067</span>, <span style=\"color: #008000; text-decoration-color: #008000\">\"acc#acc\"</span>: <span style=\"color: #008080; text-decoration-color: #008080; font-weight: bold\">0.973623</span><span style=\"font-weight: bold\">}</span>                    <span style=\"color: #7f7f7f; text-decoration-color: #7f7f7f\">                        </span>\n",
       "</pre>\n"
      ],
      "text/plain": [
       "\u001b[2;36m          \u001b[0m\u001b[2;36m \u001b[0m\u001b[34mINFO    \u001b[0m \u001b[1m{\u001b[0m\u001b[32m\"f#F1\"\u001b[0m: \u001b[1;36m0.786623\u001b[0m, \u001b[32m\"pre#F1\"\u001b[0m: \u001b[1;36m0.81441\u001b[0m, \u001b[32m\"rec#F1\"\u001b[0m:  \u001b]8;id=870818;file:///remote-home/pjli/anaconda3/envs/nlptorch/lib/python3.7/site-packages/fastNLP/core/callbacks/progress_callback.py\u001b\\\u001b[2mprogress_callback.py\u001b[0m\u001b]8;;\u001b\\\u001b[2m:\u001b[0m\u001b]8;id=475546;file:///remote-home/pjli/anaconda3/envs/nlptorch/lib/python3.7/site-packages/fastNLP/core/callbacks/progress_callback.py#327\u001b\\\u001b[2m327\u001b[0m\u001b]8;;\u001b\\\n",
       "\u001b[2;36m           \u001b[0m         \u001b[1;36m0.76067\u001b[0m, \u001b[32m\"acc#acc\"\u001b[0m: \u001b[1;36m0.973623\u001b[0m\u001b[1m}\u001b[0m                    \u001b[2m                        \u001b[0m\n"
      ]
     },
     "metadata": {},
     "output_type": "display_data"
    },
    {
     "name": "stdout",
     "output_type": "stream",
     "text": [
      "Epoch:4:  48%|████▊     | [29:20<27:47, 317.95s/it, ]   \n",
      "\u001b[A\n",
      "\u001b[A\n",
      "\u001b[A\n",
      "\u001b[A\n",
      "\u001b[A\n",
      "\u001b[A\n",
      "\u001b[A\n",
      "\u001b[A\n",
      "\u001b[A\n",
      "\u001b[A\n",
      "\u001b[A\n",
      "\u001b[A\n",
      "\u001b[A\n",
      "\u001b[A\n",
      "\u001b[A\n",
      "\u001b[A\n",
      "\u001b[A\n",
      "\u001b[A\n",
      "\u001b[A\n",
      "\u001b[A\n",
      "\u001b[A\n",
      "\u001b[A\n",
      "\u001b[A\n",
      "\u001b[A\n",
      "\u001b[A\n",
      "\u001b[A\n",
      "\u001b[A\n",
      "\u001b[A\n",
      "\u001b[A\n",
      "\u001b[A\n",
      "\u001b[A\n",
      "\u001b[A\n",
      "\u001b[A\n",
      "\u001b[A\n",
      "\u001b[A\n",
      "\u001b[A\n",
      "\u001b[A\n",
      "\u001b[A\n",
      "\u001b[A\n",
      "\u001b[A"
     ]
    },
    {
     "data": {
      "text/html": [
       "<pre style=\"white-space:pre;overflow-x:auto;line-height:normal;font-family:Menlo,'DejaVu Sans Mono',consolas,'Courier New',monospace\"><span style=\"color: #7fbfbf; text-decoration-color: #7fbfbf\">[16:25:25] </span><span style=\"color: #000080; text-decoration-color: #000080\">INFO    </span> ----------Eval. results on Epoch:<span style=\"color: #008080; text-decoration-color: #008080; font-weight: bold\">4</span>,              <a href=\"file:///remote-home/pjli/anaconda3/envs/nlptorch/lib/python3.7/site-packages/fastNLP/core/callbacks/progress_callback.py\"><span style=\"color: #7f7f7f; text-decoration-color: #7f7f7f\">progress_callback.py</span></a><span style=\"color: #7f7f7f; text-decoration-color: #7f7f7f\">:</span><a href=\"file:///remote-home/pjli/anaconda3/envs/nlptorch/lib/python3.7/site-packages/fastNLP/core/callbacks/progress_callback.py#322\"><span style=\"color: #7f7f7f; text-decoration-color: #7f7f7f\">322</span></a>\n",
       "<span style=\"color: #7fbfbf; text-decoration-color: #7fbfbf\">           </span>         Batch:<span style=\"color: #008080; text-decoration-color: #008080; font-weight: bold\">984</span>----------                              <span style=\"color: #7f7f7f; text-decoration-color: #7f7f7f\">                        </span>\n",
       "</pre>\n"
      ],
      "text/plain": [
       "\u001b[2;36m[16:25:25]\u001b[0m\u001b[2;36m \u001b[0m\u001b[34mINFO    \u001b[0m ----------Eval. results on Epoch:\u001b[1;36m4\u001b[0m,              \u001b]8;id=366627;file:///remote-home/pjli/anaconda3/envs/nlptorch/lib/python3.7/site-packages/fastNLP/core/callbacks/progress_callback.py\u001b\\\u001b[2mprogress_callback.py\u001b[0m\u001b]8;;\u001b\\\u001b[2m:\u001b[0m\u001b]8;id=234166;file:///remote-home/pjli/anaconda3/envs/nlptorch/lib/python3.7/site-packages/fastNLP/core/callbacks/progress_callback.py#322\u001b\\\u001b[2m322\u001b[0m\u001b]8;;\u001b\\\n",
       "\u001b[2;36m           \u001b[0m         Batch:\u001b[1;36m984\u001b[0m----------                              \u001b[2m                        \u001b[0m\n"
      ]
     },
     "metadata": {},
     "output_type": "display_data"
    },
    {
     "data": {
      "text/html": [
       "<pre style=\"white-space:pre;overflow-x:auto;line-height:normal;font-family:Menlo,'DejaVu Sans Mono',consolas,'Courier New',monospace\"><span style=\"color: #7fbfbf; text-decoration-color: #7fbfbf\">           </span><span style=\"color: #000080; text-decoration-color: #000080\">INFO    </span> <span style=\"font-weight: bold\">{</span><span style=\"color: #008000; text-decoration-color: #008000\">\"f#F1\"</span>: <span style=\"color: #008080; text-decoration-color: #008080; font-weight: bold\">0.788721</span>, <span style=\"color: #008000; text-decoration-color: #008000\">\"pre#F1\"</span>: <span style=\"color: #008080; text-decoration-color: #008080; font-weight: bold\">0.813526</span>, <span style=\"color: #008000; text-decoration-color: #008000\">\"rec#F1\"</span>: <a href=\"file:///remote-home/pjli/anaconda3/envs/nlptorch/lib/python3.7/site-packages/fastNLP/core/callbacks/progress_callback.py\"><span style=\"color: #7f7f7f; text-decoration-color: #7f7f7f\">progress_callback.py</span></a><span style=\"color: #7f7f7f; text-decoration-color: #7f7f7f\">:</span><a href=\"file:///remote-home/pjli/anaconda3/envs/nlptorch/lib/python3.7/site-packages/fastNLP/core/callbacks/progress_callback.py#327\"><span style=\"color: #7f7f7f; text-decoration-color: #7f7f7f\">327</span></a>\n",
       "<span style=\"color: #7fbfbf; text-decoration-color: #7fbfbf\">           </span>         <span style=\"color: #008080; text-decoration-color: #008080; font-weight: bold\">0.765384</span>, <span style=\"color: #008000; text-decoration-color: #008000\">\"acc#acc\"</span>: <span style=\"color: #008080; text-decoration-color: #008080; font-weight: bold\">0.974151</span><span style=\"font-weight: bold\">}</span>                   <span style=\"color: #7f7f7f; text-decoration-color: #7f7f7f\">                        </span>\n",
       "</pre>\n"
      ],
      "text/plain": [
       "\u001b[2;36m          \u001b[0m\u001b[2;36m \u001b[0m\u001b[34mINFO    \u001b[0m \u001b[1m{\u001b[0m\u001b[32m\"f#F1\"\u001b[0m: \u001b[1;36m0.788721\u001b[0m, \u001b[32m\"pre#F1\"\u001b[0m: \u001b[1;36m0.813526\u001b[0m, \u001b[32m\"rec#F1\"\u001b[0m: \u001b]8;id=884386;file:///remote-home/pjli/anaconda3/envs/nlptorch/lib/python3.7/site-packages/fastNLP/core/callbacks/progress_callback.py\u001b\\\u001b[2mprogress_callback.py\u001b[0m\u001b]8;;\u001b\\\u001b[2m:\u001b[0m\u001b]8;id=887662;file:///remote-home/pjli/anaconda3/envs/nlptorch/lib/python3.7/site-packages/fastNLP/core/callbacks/progress_callback.py#327\u001b\\\u001b[2m327\u001b[0m\u001b]8;;\u001b\\\n",
       "\u001b[2;36m           \u001b[0m         \u001b[1;36m0.765384\u001b[0m, \u001b[32m\"acc#acc\"\u001b[0m: \u001b[1;36m0.974151\u001b[0m\u001b[1m}\u001b[0m                   \u001b[2m                        \u001b[0m\n"
      ]
     },
     "metadata": {},
     "output_type": "display_data"
    },
    {
     "name": "stdout",
     "output_type": "stream",
     "text": [
      "Epoch:4:  49%|████▉     | [30:15<43:05, 507.66s/it, ]   \n",
      "\u001b[A\n",
      "\u001b[A\n",
      "\u001b[A\n",
      "\u001b[A\n",
      "\u001b[A\n",
      "\u001b[A\n",
      "\u001b[A\n",
      "\u001b[A\n",
      "\u001b[A\n",
      "\u001b[A\n",
      "\u001b[A\n",
      "\u001b[A\n",
      "\u001b[A\n",
      "\u001b[A\n",
      "\u001b[A\n",
      "\u001b[A\n",
      "\u001b[A\n",
      "\u001b[A\n",
      "\u001b[A\n",
      "\u001b[A\n",
      "\u001b[A\n",
      "\u001b[A\n",
      "\u001b[A\n",
      "\u001b[A\n",
      "\u001b[A\n",
      "\u001b[A\n",
      "\u001b[A\n",
      "\u001b[A\n",
      "\u001b[A\n",
      "\u001b[A\n",
      "\u001b[A\n",
      "\u001b[A\n",
      "\u001b[A\n",
      "\u001b[A\n",
      "\u001b[A\n",
      "\u001b[A\n",
      "\u001b[A\n",
      "\u001b[A\n",
      "\u001b[A\n",
      "\u001b[A"
     ]
    },
    {
     "data": {
      "text/html": [
       "<pre style=\"white-space:pre;overflow-x:auto;line-height:normal;font-family:Menlo,'DejaVu Sans Mono',consolas,'Courier New',monospace\"><span style=\"color: #7fbfbf; text-decoration-color: #7fbfbf\">[16:26:20] </span><span style=\"color: #000080; text-decoration-color: #000080\">INFO    </span> ++++++++++Eval. results on Epoch:<span style=\"color: #008080; text-decoration-color: #008080; font-weight: bold\">4</span>,              <a href=\"file:///remote-home/pjli/anaconda3/envs/nlptorch/lib/python3.7/site-packages/fastNLP/core/callbacks/progress_callback.py\"><span style=\"color: #7f7f7f; text-decoration-color: #7f7f7f\">progress_callback.py</span></a><span style=\"color: #7f7f7f; text-decoration-color: #7f7f7f\">:</span><a href=\"file:///remote-home/pjli/anaconda3/envs/nlptorch/lib/python3.7/site-packages/fastNLP/core/callbacks/progress_callback.py#322\"><span style=\"color: #7f7f7f; text-decoration-color: #7f7f7f\">322</span></a>\n",
       "<span style=\"color: #7fbfbf; text-decoration-color: #7fbfbf\">           </span>         Batch:<span style=\"color: #008080; text-decoration-color: #008080; font-weight: bold\">1184</span>++++++++++                             <span style=\"color: #7f7f7f; text-decoration-color: #7f7f7f\">                        </span>\n",
       "</pre>\n"
      ],
      "text/plain": [
       "\u001b[2;36m[16:26:20]\u001b[0m\u001b[2;36m \u001b[0m\u001b[34mINFO    \u001b[0m ++++++++++Eval. results on Epoch:\u001b[1;36m4\u001b[0m,              \u001b]8;id=764283;file:///remote-home/pjli/anaconda3/envs/nlptorch/lib/python3.7/site-packages/fastNLP/core/callbacks/progress_callback.py\u001b\\\u001b[2mprogress_callback.py\u001b[0m\u001b]8;;\u001b\\\u001b[2m:\u001b[0m\u001b]8;id=617699;file:///remote-home/pjli/anaconda3/envs/nlptorch/lib/python3.7/site-packages/fastNLP/core/callbacks/progress_callback.py#322\u001b\\\u001b[2m322\u001b[0m\u001b]8;;\u001b\\\n",
       "\u001b[2;36m           \u001b[0m         Batch:\u001b[1;36m1184\u001b[0m++++++++++                             \u001b[2m                        \u001b[0m\n"
      ]
     },
     "metadata": {},
     "output_type": "display_data"
    },
    {
     "data": {
      "text/html": [
       "<pre style=\"white-space:pre;overflow-x:auto;line-height:normal;font-family:Menlo,'DejaVu Sans Mono',consolas,'Courier New',monospace\"><span style=\"color: #7fbfbf; text-decoration-color: #7fbfbf\">           </span><span style=\"color: #000080; text-decoration-color: #000080\">INFO    </span> <span style=\"font-weight: bold\">{</span><span style=\"color: #008000; text-decoration-color: #008000\">\"f#F1\"</span>: <span style=\"color: #008080; text-decoration-color: #008080; font-weight: bold\">0.799727</span>, <span style=\"color: #008000; text-decoration-color: #008000\">\"pre#F1\"</span>: <span style=\"color: #008080; text-decoration-color: #008080; font-weight: bold\">0.834805</span>, <span style=\"color: #008000; text-decoration-color: #008000\">\"rec#F1\"</span>: <a href=\"file:///remote-home/pjli/anaconda3/envs/nlptorch/lib/python3.7/site-packages/fastNLP/core/callbacks/progress_callback.py\"><span style=\"color: #7f7f7f; text-decoration-color: #7f7f7f\">progress_callback.py</span></a><span style=\"color: #7f7f7f; text-decoration-color: #7f7f7f\">:</span><a href=\"file:///remote-home/pjli/anaconda3/envs/nlptorch/lib/python3.7/site-packages/fastNLP/core/callbacks/progress_callback.py#327\"><span style=\"color: #7f7f7f; text-decoration-color: #7f7f7f\">327</span></a>\n",
       "<span style=\"color: #7fbfbf; text-decoration-color: #7fbfbf\">           </span>         <span style=\"color: #008080; text-decoration-color: #008080; font-weight: bold\">0.767478</span>, <span style=\"color: #008000; text-decoration-color: #008000\">\"acc#acc\"</span>: <span style=\"color: #008080; text-decoration-color: #008080; font-weight: bold\">0.974297</span><span style=\"font-weight: bold\">}</span>                   <span style=\"color: #7f7f7f; text-decoration-color: #7f7f7f\">                        </span>\n",
       "</pre>\n"
      ],
      "text/plain": [
       "\u001b[2;36m          \u001b[0m\u001b[2;36m \u001b[0m\u001b[34mINFO    \u001b[0m \u001b[1m{\u001b[0m\u001b[32m\"f#F1\"\u001b[0m: \u001b[1;36m0.799727\u001b[0m, \u001b[32m\"pre#F1\"\u001b[0m: \u001b[1;36m0.834805\u001b[0m, \u001b[32m\"rec#F1\"\u001b[0m: \u001b]8;id=79411;file:///remote-home/pjli/anaconda3/envs/nlptorch/lib/python3.7/site-packages/fastNLP/core/callbacks/progress_callback.py\u001b\\\u001b[2mprogress_callback.py\u001b[0m\u001b]8;;\u001b\\\u001b[2m:\u001b[0m\u001b]8;id=967780;file:///remote-home/pjli/anaconda3/envs/nlptorch/lib/python3.7/site-packages/fastNLP/core/callbacks/progress_callback.py#327\u001b\\\u001b[2m327\u001b[0m\u001b]8;;\u001b\\\n",
       "\u001b[2;36m           \u001b[0m         \u001b[1;36m0.767478\u001b[0m, \u001b[32m\"acc#acc\"\u001b[0m: \u001b[1;36m0.974297\u001b[0m\u001b[1m}\u001b[0m                   \u001b[2m                        \u001b[0m\n"
      ]
     },
     "metadata": {},
     "output_type": "display_data"
    },
    {
     "name": "stdout",
     "output_type": "stream",
     "text": [
      "Epoch:5:  51%|█████     | [31:10<28:34, 347.18s/it, ]   \n",
      "\u001b[A\n",
      "\u001b[A\n",
      "\u001b[A\n",
      "\u001b[A\n",
      "\u001b[A\n",
      "\u001b[A\n",
      "\u001b[A\n",
      "\u001b[A\n",
      "\u001b[A\n",
      "\u001b[A\n",
      "\u001b[A\n",
      "\u001b[A\n",
      "\u001b[A\n",
      "\u001b[A\n",
      "\u001b[A\n",
      "\u001b[A\n",
      "\u001b[A\n",
      "\u001b[A\n",
      "\u001b[A\n",
      "\u001b[A\n",
      "\u001b[A\n",
      "\u001b[A\n",
      "\u001b[A\n",
      "\u001b[A\n",
      "\u001b[A\n",
      "\u001b[A\n",
      "\u001b[A\n",
      "\u001b[A\n",
      "\u001b[A\n",
      "\u001b[A\n",
      "\u001b[A\n",
      "\u001b[A\n",
      "\u001b[A\n",
      "\u001b[A\n",
      "\u001b[A\n",
      "\u001b[A\n",
      "\u001b[A\n",
      "\u001b[A\n",
      "\u001b[A\n",
      "\u001b[A\n",
      "\u001b[A\n",
      "\u001b[A"
     ]
    },
    {
     "data": {
      "text/html": [
       "<pre style=\"white-space:pre;overflow-x:auto;line-height:normal;font-family:Menlo,'DejaVu Sans Mono',consolas,'Courier New',monospace\"><span style=\"color: #7fbfbf; text-decoration-color: #7fbfbf\">[16:27:15] </span><span style=\"color: #000080; text-decoration-color: #000080\">INFO    </span> ++++++++++Eval. results on Epoch:<span style=\"color: #008080; text-decoration-color: #008080; font-weight: bold\">5</span>,              <a href=\"file:///remote-home/pjli/anaconda3/envs/nlptorch/lib/python3.7/site-packages/fastNLP/core/callbacks/progress_callback.py\"><span style=\"color: #7f7f7f; text-decoration-color: #7f7f7f\">progress_callback.py</span></a><span style=\"color: #7f7f7f; text-decoration-color: #7f7f7f\">:</span><a href=\"file:///remote-home/pjli/anaconda3/envs/nlptorch/lib/python3.7/site-packages/fastNLP/core/callbacks/progress_callback.py#322\"><span style=\"color: #7f7f7f; text-decoration-color: #7f7f7f\">322</span></a>\n",
       "<span style=\"color: #7fbfbf; text-decoration-color: #7fbfbf\">           </span>         Batch:<span style=\"color: #008080; text-decoration-color: #008080; font-weight: bold\">80</span>++++++++++                               <span style=\"color: #7f7f7f; text-decoration-color: #7f7f7f\">                        </span>\n",
       "</pre>\n"
      ],
      "text/plain": [
       "\u001b[2;36m[16:27:15]\u001b[0m\u001b[2;36m \u001b[0m\u001b[34mINFO    \u001b[0m ++++++++++Eval. results on Epoch:\u001b[1;36m5\u001b[0m,              \u001b]8;id=398733;file:///remote-home/pjli/anaconda3/envs/nlptorch/lib/python3.7/site-packages/fastNLP/core/callbacks/progress_callback.py\u001b\\\u001b[2mprogress_callback.py\u001b[0m\u001b]8;;\u001b\\\u001b[2m:\u001b[0m\u001b]8;id=16440;file:///remote-home/pjli/anaconda3/envs/nlptorch/lib/python3.7/site-packages/fastNLP/core/callbacks/progress_callback.py#322\u001b\\\u001b[2m322\u001b[0m\u001b]8;;\u001b\\\n",
       "\u001b[2;36m           \u001b[0m         Batch:\u001b[1;36m80\u001b[0m++++++++++                               \u001b[2m                        \u001b[0m\n"
      ]
     },
     "metadata": {},
     "output_type": "display_data"
    },
    {
     "data": {
      "text/html": [
       "<pre style=\"white-space:pre;overflow-x:auto;line-height:normal;font-family:Menlo,'DejaVu Sans Mono',consolas,'Courier New',monospace\"><span style=\"color: #7fbfbf; text-decoration-color: #7fbfbf\">           </span><span style=\"color: #000080; text-decoration-color: #000080\">INFO    </span> <span style=\"font-weight: bold\">{</span><span style=\"color: #008000; text-decoration-color: #008000\">\"f#F1\"</span>: <span style=\"color: #008080; text-decoration-color: #008080; font-weight: bold\">0.808949</span>, <span style=\"color: #008000; text-decoration-color: #008000\">\"pre#F1\"</span>: <span style=\"color: #008080; text-decoration-color: #008080; font-weight: bold\">0.838864</span>, <span style=\"color: #008000; text-decoration-color: #008000\">\"rec#F1\"</span>: <a href=\"file:///remote-home/pjli/anaconda3/envs/nlptorch/lib/python3.7/site-packages/fastNLP/core/callbacks/progress_callback.py\"><span style=\"color: #7f7f7f; text-decoration-color: #7f7f7f\">progress_callback.py</span></a><span style=\"color: #7f7f7f; text-decoration-color: #7f7f7f\">:</span><a href=\"file:///remote-home/pjli/anaconda3/envs/nlptorch/lib/python3.7/site-packages/fastNLP/core/callbacks/progress_callback.py#327\"><span style=\"color: #7f7f7f; text-decoration-color: #7f7f7f\">327</span></a>\n",
       "<span style=\"color: #7fbfbf; text-decoration-color: #7fbfbf\">           </span>         <span style=\"color: #008080; text-decoration-color: #008080; font-weight: bold\">0.781095</span>, <span style=\"color: #008000; text-decoration-color: #008000\">\"acc#acc\"</span>: <span style=\"color: #008080; text-decoration-color: #008080; font-weight: bold\">0.975371</span><span style=\"font-weight: bold\">}</span>                   <span style=\"color: #7f7f7f; text-decoration-color: #7f7f7f\">                        </span>\n",
       "</pre>\n"
      ],
      "text/plain": [
       "\u001b[2;36m          \u001b[0m\u001b[2;36m \u001b[0m\u001b[34mINFO    \u001b[0m \u001b[1m{\u001b[0m\u001b[32m\"f#F1\"\u001b[0m: \u001b[1;36m0.808949\u001b[0m, \u001b[32m\"pre#F1\"\u001b[0m: \u001b[1;36m0.838864\u001b[0m, \u001b[32m\"rec#F1\"\u001b[0m: \u001b]8;id=254427;file:///remote-home/pjli/anaconda3/envs/nlptorch/lib/python3.7/site-packages/fastNLP/core/callbacks/progress_callback.py\u001b\\\u001b[2mprogress_callback.py\u001b[0m\u001b]8;;\u001b\\\u001b[2m:\u001b[0m\u001b]8;id=880519;file:///remote-home/pjli/anaconda3/envs/nlptorch/lib/python3.7/site-packages/fastNLP/core/callbacks/progress_callback.py#327\u001b\\\u001b[2m327\u001b[0m\u001b]8;;\u001b\\\n",
       "\u001b[2;36m           \u001b[0m         \u001b[1;36m0.781095\u001b[0m, \u001b[32m\"acc#acc\"\u001b[0m: \u001b[1;36m0.975371\u001b[0m\u001b[1m}\u001b[0m                   \u001b[2m                        \u001b[0m\n"
      ]
     },
     "metadata": {},
     "output_type": "display_data"
    },
    {
     "name": "stdout",
     "output_type": "stream",
     "text": [
      "Epoch:5:  52%|█████▏    | [32:05<28:38, 359.22s/it, ]   \n",
      "\u001b[A\n",
      "\u001b[A\n",
      "\u001b[A\n",
      "\u001b[A\n",
      "\u001b[A\n",
      "\u001b[A\n",
      "\u001b[A\n",
      "\u001b[A\n",
      "\u001b[A\n",
      "\u001b[A\n",
      "\u001b[A\n",
      "\u001b[A\n",
      "\u001b[A\n",
      "\u001b[A\n",
      "\u001b[A\n",
      "\u001b[A\n",
      "\u001b[A\n",
      "\u001b[A\n",
      "\u001b[A\n",
      "\u001b[A\n",
      "\u001b[A\n",
      "\u001b[A\n",
      "\u001b[A\n",
      "\u001b[A\n",
      "\u001b[A\n",
      "\u001b[A\n",
      "\u001b[A\n",
      "\u001b[A\n",
      "\u001b[A\n",
      "\u001b[A\n",
      "\u001b[A\n",
      "\u001b[A\n",
      "\u001b[A\n",
      "\u001b[A\n",
      "\u001b[A\n",
      "\u001b[A\n",
      "\u001b[A\n",
      "\u001b[A\n",
      "\u001b[A\n",
      "\u001b[A\n",
      "\u001b[A\n",
      "\u001b[A"
     ]
    },
    {
     "data": {
      "text/html": [
       "<pre style=\"white-space:pre;overflow-x:auto;line-height:normal;font-family:Menlo,'DejaVu Sans Mono',consolas,'Courier New',monospace\"><span style=\"color: #7fbfbf; text-decoration-color: #7fbfbf\">[16:28:10] </span><span style=\"color: #000080; text-decoration-color: #000080\">INFO    </span> ----------Eval. results on Epoch:<span style=\"color: #008080; text-decoration-color: #008080; font-weight: bold\">5</span>,              <a href=\"file:///remote-home/pjli/anaconda3/envs/nlptorch/lib/python3.7/site-packages/fastNLP/core/callbacks/progress_callback.py\"><span style=\"color: #7f7f7f; text-decoration-color: #7f7f7f\">progress_callback.py</span></a><span style=\"color: #7f7f7f; text-decoration-color: #7f7f7f\">:</span><a href=\"file:///remote-home/pjli/anaconda3/envs/nlptorch/lib/python3.7/site-packages/fastNLP/core/callbacks/progress_callback.py#322\"><span style=\"color: #7f7f7f; text-decoration-color: #7f7f7f\">322</span></a>\n",
       "<span style=\"color: #7fbfbf; text-decoration-color: #7fbfbf\">           </span>         Batch:<span style=\"color: #008080; text-decoration-color: #008080; font-weight: bold\">280</span>----------                              <span style=\"color: #7f7f7f; text-decoration-color: #7f7f7f\">                        </span>\n",
       "</pre>\n"
      ],
      "text/plain": [
       "\u001b[2;36m[16:28:10]\u001b[0m\u001b[2;36m \u001b[0m\u001b[34mINFO    \u001b[0m ----------Eval. results on Epoch:\u001b[1;36m5\u001b[0m,              \u001b]8;id=124364;file:///remote-home/pjli/anaconda3/envs/nlptorch/lib/python3.7/site-packages/fastNLP/core/callbacks/progress_callback.py\u001b\\\u001b[2mprogress_callback.py\u001b[0m\u001b]8;;\u001b\\\u001b[2m:\u001b[0m\u001b]8;id=992020;file:///remote-home/pjli/anaconda3/envs/nlptorch/lib/python3.7/site-packages/fastNLP/core/callbacks/progress_callback.py#322\u001b\\\u001b[2m322\u001b[0m\u001b]8;;\u001b\\\n",
       "\u001b[2;36m           \u001b[0m         Batch:\u001b[1;36m280\u001b[0m----------                              \u001b[2m                        \u001b[0m\n"
      ]
     },
     "metadata": {},
     "output_type": "display_data"
    },
    {
     "data": {
      "text/html": [
       "<pre style=\"white-space:pre;overflow-x:auto;line-height:normal;font-family:Menlo,'DejaVu Sans Mono',consolas,'Courier New',monospace\"><span style=\"color: #7fbfbf; text-decoration-color: #7fbfbf\">           </span><span style=\"color: #000080; text-decoration-color: #000080\">INFO    </span> <span style=\"font-weight: bold\">{</span><span style=\"color: #008000; text-decoration-color: #008000\">\"f#F1\"</span>: <span style=\"color: #008080; text-decoration-color: #008080; font-weight: bold\">0.804805</span>, <span style=\"color: #008000; text-decoration-color: #008000\">\"pre#F1\"</span>: <span style=\"color: #008080; text-decoration-color: #008080; font-weight: bold\">0.840605</span>, <span style=\"color: #008000; text-decoration-color: #008000\">\"rec#F1\"</span>: <a href=\"file:///remote-home/pjli/anaconda3/envs/nlptorch/lib/python3.7/site-packages/fastNLP/core/callbacks/progress_callback.py\"><span style=\"color: #7f7f7f; text-decoration-color: #7f7f7f\">progress_callback.py</span></a><span style=\"color: #7f7f7f; text-decoration-color: #7f7f7f\">:</span><a href=\"file:///remote-home/pjli/anaconda3/envs/nlptorch/lib/python3.7/site-packages/fastNLP/core/callbacks/progress_callback.py#327\"><span style=\"color: #7f7f7f; text-decoration-color: #7f7f7f\">327</span></a>\n",
       "<span style=\"color: #7fbfbf; text-decoration-color: #7fbfbf\">           </span>         <span style=\"color: #008080; text-decoration-color: #008080; font-weight: bold\">0.77193</span>, <span style=\"color: #008000; text-decoration-color: #008000\">\"acc#acc\"</span>: <span style=\"color: #008080; text-decoration-color: #008080; font-weight: bold\">0.975271</span><span style=\"font-weight: bold\">}</span>                    <span style=\"color: #7f7f7f; text-decoration-color: #7f7f7f\">                        </span>\n",
       "</pre>\n"
      ],
      "text/plain": [
       "\u001b[2;36m          \u001b[0m\u001b[2;36m \u001b[0m\u001b[34mINFO    \u001b[0m \u001b[1m{\u001b[0m\u001b[32m\"f#F1\"\u001b[0m: \u001b[1;36m0.804805\u001b[0m, \u001b[32m\"pre#F1\"\u001b[0m: \u001b[1;36m0.840605\u001b[0m, \u001b[32m\"rec#F1\"\u001b[0m: \u001b]8;id=38341;file:///remote-home/pjli/anaconda3/envs/nlptorch/lib/python3.7/site-packages/fastNLP/core/callbacks/progress_callback.py\u001b\\\u001b[2mprogress_callback.py\u001b[0m\u001b]8;;\u001b\\\u001b[2m:\u001b[0m\u001b]8;id=991114;file:///remote-home/pjli/anaconda3/envs/nlptorch/lib/python3.7/site-packages/fastNLP/core/callbacks/progress_callback.py#327\u001b\\\u001b[2m327\u001b[0m\u001b]8;;\u001b\\\n",
       "\u001b[2;36m           \u001b[0m         \u001b[1;36m0.77193\u001b[0m, \u001b[32m\"acc#acc\"\u001b[0m: \u001b[1;36m0.975271\u001b[0m\u001b[1m}\u001b[0m                    \u001b[2m                        \u001b[0m\n"
      ]
     },
     "metadata": {},
     "output_type": "display_data"
    },
    {
     "name": "stdout",
     "output_type": "stream",
     "text": [
      "Epoch:5:  54%|█████▎    | [33:05<28:06, 364.02s/it, ]   \n",
      "\u001b[A\n",
      "\u001b[A\n",
      "\u001b[A\n",
      "\u001b[A\n",
      "\u001b[A\n",
      "\u001b[A\n",
      "\u001b[A\n",
      "\u001b[A\n",
      "\u001b[A\n",
      "\u001b[A\n",
      "\u001b[A\n",
      "\u001b[A\n",
      "\u001b[A\n",
      "\u001b[A\n",
      "\u001b[A\n",
      "\u001b[A\n",
      "\u001b[A\n",
      "\u001b[A\n",
      "\u001b[A\n",
      "\u001b[A\n",
      "\u001b[A\n",
      "\u001b[A\n",
      "\u001b[A\n",
      "\u001b[A\n",
      "\u001b[A\n",
      "\u001b[A\n",
      "\u001b[A\n",
      "\u001b[A\n",
      "\u001b[A\n",
      "\u001b[A\n",
      "\u001b[A\n",
      "\u001b[A\n",
      "\u001b[A\n",
      "\u001b[A\n",
      "\u001b[A\n",
      "\u001b[A\n",
      "\u001b[A\n",
      "\u001b[A\n",
      "\u001b[A\n",
      "\u001b[A\n",
      "\u001b[A"
     ]
    },
    {
     "data": {
      "text/html": [
       "<pre style=\"white-space:pre;overflow-x:auto;line-height:normal;font-family:Menlo,'DejaVu Sans Mono',consolas,'Courier New',monospace\"><span style=\"color: #7fbfbf; text-decoration-color: #7fbfbf\">[16:29:11] </span><span style=\"color: #000080; text-decoration-color: #000080\">INFO    </span> ----------Eval. results on Epoch:<span style=\"color: #008080; text-decoration-color: #008080; font-weight: bold\">5</span>,              <a href=\"file:///remote-home/pjli/anaconda3/envs/nlptorch/lib/python3.7/site-packages/fastNLP/core/callbacks/progress_callback.py\"><span style=\"color: #7f7f7f; text-decoration-color: #7f7f7f\">progress_callback.py</span></a><span style=\"color: #7f7f7f; text-decoration-color: #7f7f7f\">:</span><a href=\"file:///remote-home/pjli/anaconda3/envs/nlptorch/lib/python3.7/site-packages/fastNLP/core/callbacks/progress_callback.py#322\"><span style=\"color: #7f7f7f; text-decoration-color: #7f7f7f\">322</span></a>\n",
       "<span style=\"color: #7fbfbf; text-decoration-color: #7fbfbf\">           </span>         Batch:<span style=\"color: #008080; text-decoration-color: #008080; font-weight: bold\">480</span>----------                              <span style=\"color: #7f7f7f; text-decoration-color: #7f7f7f\">                        </span>\n",
       "</pre>\n"
      ],
      "text/plain": [
       "\u001b[2;36m[16:29:11]\u001b[0m\u001b[2;36m \u001b[0m\u001b[34mINFO    \u001b[0m ----------Eval. results on Epoch:\u001b[1;36m5\u001b[0m,              \u001b]8;id=444540;file:///remote-home/pjli/anaconda3/envs/nlptorch/lib/python3.7/site-packages/fastNLP/core/callbacks/progress_callback.py\u001b\\\u001b[2mprogress_callback.py\u001b[0m\u001b]8;;\u001b\\\u001b[2m:\u001b[0m\u001b]8;id=846753;file:///remote-home/pjli/anaconda3/envs/nlptorch/lib/python3.7/site-packages/fastNLP/core/callbacks/progress_callback.py#322\u001b\\\u001b[2m322\u001b[0m\u001b]8;;\u001b\\\n",
       "\u001b[2;36m           \u001b[0m         Batch:\u001b[1;36m480\u001b[0m----------                              \u001b[2m                        \u001b[0m\n"
      ]
     },
     "metadata": {},
     "output_type": "display_data"
    },
    {
     "data": {
      "text/html": [
       "<pre style=\"white-space:pre;overflow-x:auto;line-height:normal;font-family:Menlo,'DejaVu Sans Mono',consolas,'Courier New',monospace\"><span style=\"color: #7fbfbf; text-decoration-color: #7fbfbf\">           </span><span style=\"color: #000080; text-decoration-color: #000080\">INFO    </span> <span style=\"font-weight: bold\">{</span><span style=\"color: #008000; text-decoration-color: #008000\">\"f#F1\"</span>: <span style=\"color: #008080; text-decoration-color: #008080; font-weight: bold\">0.797214</span>, <span style=\"color: #008000; text-decoration-color: #008000\">\"pre#F1\"</span>: <span style=\"color: #008080; text-decoration-color: #008080; font-weight: bold\">0.833048</span>, <span style=\"color: #008000; text-decoration-color: #008000\">\"rec#F1\"</span>: <a href=\"file:///remote-home/pjli/anaconda3/envs/nlptorch/lib/python3.7/site-packages/fastNLP/core/callbacks/progress_callback.py\"><span style=\"color: #7f7f7f; text-decoration-color: #7f7f7f\">progress_callback.py</span></a><span style=\"color: #7f7f7f; text-decoration-color: #7f7f7f\">:</span><a href=\"file:///remote-home/pjli/anaconda3/envs/nlptorch/lib/python3.7/site-packages/fastNLP/core/callbacks/progress_callback.py#327\"><span style=\"color: #7f7f7f; text-decoration-color: #7f7f7f\">327</span></a>\n",
       "<span style=\"color: #7fbfbf; text-decoration-color: #7fbfbf\">           </span>         <span style=\"color: #008080; text-decoration-color: #008080; font-weight: bold\">0.764336</span>, <span style=\"color: #008000; text-decoration-color: #008000\">\"acc#acc\"</span>: <span style=\"color: #008080; text-decoration-color: #008080; font-weight: bold\">0.974734</span><span style=\"font-weight: bold\">}</span>                   <span style=\"color: #7f7f7f; text-decoration-color: #7f7f7f\">                        </span>\n",
       "</pre>\n"
      ],
      "text/plain": [
       "\u001b[2;36m          \u001b[0m\u001b[2;36m \u001b[0m\u001b[34mINFO    \u001b[0m \u001b[1m{\u001b[0m\u001b[32m\"f#F1\"\u001b[0m: \u001b[1;36m0.797214\u001b[0m, \u001b[32m\"pre#F1\"\u001b[0m: \u001b[1;36m0.833048\u001b[0m, \u001b[32m\"rec#F1\"\u001b[0m: \u001b]8;id=324772;file:///remote-home/pjli/anaconda3/envs/nlptorch/lib/python3.7/site-packages/fastNLP/core/callbacks/progress_callback.py\u001b\\\u001b[2mprogress_callback.py\u001b[0m\u001b]8;;\u001b\\\u001b[2m:\u001b[0m\u001b]8;id=355105;file:///remote-home/pjli/anaconda3/envs/nlptorch/lib/python3.7/site-packages/fastNLP/core/callbacks/progress_callback.py#327\u001b\\\u001b[2m327\u001b[0m\u001b]8;;\u001b\\\n",
       "\u001b[2;36m           \u001b[0m         \u001b[1;36m0.764336\u001b[0m, \u001b[32m\"acc#acc\"\u001b[0m: \u001b[1;36m0.974734\u001b[0m\u001b[1m}\u001b[0m                   \u001b[2m                        \u001b[0m\n"
      ]
     },
     "metadata": {},
     "output_type": "display_data"
    },
    {
     "name": "stdout",
     "output_type": "stream",
     "text": [
      "Epoch:5:  55%|█████▌    | [34:06<32:47, 439.39s/it, ]   \n",
      "\u001b[A\n",
      "\u001b[A\n",
      "\u001b[A\n",
      "\u001b[A\n",
      "\u001b[A\n",
      "\u001b[A\n",
      "\u001b[A\n",
      "\u001b[A\n",
      "\u001b[A\n",
      "\u001b[A\n",
      "\u001b[A\n",
      "\u001b[A\n",
      "\u001b[A\n",
      "\u001b[A\n",
      "\u001b[A\n",
      "\u001b[A\n",
      "\u001b[A\n",
      "\u001b[A\n",
      "\u001b[A\n",
      "\u001b[A\n",
      "\u001b[A\n",
      "\u001b[A\n",
      "\u001b[A\n",
      "\u001b[A\n",
      "\u001b[A\n",
      "\u001b[A\n",
      "\u001b[A\n",
      "\u001b[A\n",
      "\u001b[A\n",
      "\u001b[A\n",
      "\u001b[A\n",
      "\u001b[A\n",
      "\u001b[A\n",
      "\u001b[A\n",
      "\u001b[A\n",
      "\u001b[A\n",
      "\u001b[A\n",
      "\u001b[A\n",
      "\u001b[A\n",
      "\u001b[A\n",
      "\u001b[A\n",
      "\u001b[A"
     ]
    },
    {
     "data": {
      "text/html": [
       "<pre style=\"white-space:pre;overflow-x:auto;line-height:normal;font-family:Menlo,'DejaVu Sans Mono',consolas,'Courier New',monospace\"><span style=\"color: #7fbfbf; text-decoration-color: #7fbfbf\">[16:30:11] </span><span style=\"color: #000080; text-decoration-color: #000080\">INFO    </span> ++++++++++Eval. results on Epoch:<span style=\"color: #008080; text-decoration-color: #008080; font-weight: bold\">5</span>,              <a href=\"file:///remote-home/pjli/anaconda3/envs/nlptorch/lib/python3.7/site-packages/fastNLP/core/callbacks/progress_callback.py\"><span style=\"color: #7f7f7f; text-decoration-color: #7f7f7f\">progress_callback.py</span></a><span style=\"color: #7f7f7f; text-decoration-color: #7f7f7f\">:</span><a href=\"file:///remote-home/pjli/anaconda3/envs/nlptorch/lib/python3.7/site-packages/fastNLP/core/callbacks/progress_callback.py#322\"><span style=\"color: #7f7f7f; text-decoration-color: #7f7f7f\">322</span></a>\n",
       "<span style=\"color: #7fbfbf; text-decoration-color: #7fbfbf\">           </span>         Batch:<span style=\"color: #008080; text-decoration-color: #008080; font-weight: bold\">680</span>++++++++++                              <span style=\"color: #7f7f7f; text-decoration-color: #7f7f7f\">                        </span>\n",
       "</pre>\n"
      ],
      "text/plain": [
       "\u001b[2;36m[16:30:11]\u001b[0m\u001b[2;36m \u001b[0m\u001b[34mINFO    \u001b[0m ++++++++++Eval. results on Epoch:\u001b[1;36m5\u001b[0m,              \u001b]8;id=281782;file:///remote-home/pjli/anaconda3/envs/nlptorch/lib/python3.7/site-packages/fastNLP/core/callbacks/progress_callback.py\u001b\\\u001b[2mprogress_callback.py\u001b[0m\u001b]8;;\u001b\\\u001b[2m:\u001b[0m\u001b]8;id=531530;file:///remote-home/pjli/anaconda3/envs/nlptorch/lib/python3.7/site-packages/fastNLP/core/callbacks/progress_callback.py#322\u001b\\\u001b[2m322\u001b[0m\u001b]8;;\u001b\\\n",
       "\u001b[2;36m           \u001b[0m         Batch:\u001b[1;36m680\u001b[0m++++++++++                              \u001b[2m                        \u001b[0m\n"
      ]
     },
     "metadata": {},
     "output_type": "display_data"
    },
    {
     "data": {
      "text/html": [
       "<pre style=\"white-space:pre;overflow-x:auto;line-height:normal;font-family:Menlo,'DejaVu Sans Mono',consolas,'Courier New',monospace\"><span style=\"color: #7fbfbf; text-decoration-color: #7fbfbf\">           </span><span style=\"color: #000080; text-decoration-color: #000080\">INFO    </span> <span style=\"font-weight: bold\">{</span><span style=\"color: #008000; text-decoration-color: #008000\">\"f#F1\"</span>: <span style=\"color: #008080; text-decoration-color: #008080; font-weight: bold\">0.809148</span>, <span style=\"color: #008000; text-decoration-color: #008000\">\"pre#F1\"</span>: <span style=\"color: #008080; text-decoration-color: #008080; font-weight: bold\">0.842642</span>, <span style=\"color: #008000; text-decoration-color: #008000\">\"rec#F1\"</span>: <a href=\"file:///remote-home/pjli/anaconda3/envs/nlptorch/lib/python3.7/site-packages/fastNLP/core/callbacks/progress_callback.py\"><span style=\"color: #7f7f7f; text-decoration-color: #7f7f7f\">progress_callback.py</span></a><span style=\"color: #7f7f7f; text-decoration-color: #7f7f7f\">:</span><a href=\"file:///remote-home/pjli/anaconda3/envs/nlptorch/lib/python3.7/site-packages/fastNLP/core/callbacks/progress_callback.py#327\"><span style=\"color: #7f7f7f; text-decoration-color: #7f7f7f\">327</span></a>\n",
       "<span style=\"color: #7fbfbf; text-decoration-color: #7fbfbf\">           </span>         <span style=\"color: #008080; text-decoration-color: #008080; font-weight: bold\">0.778214</span>, <span style=\"color: #008000; text-decoration-color: #008000\">\"acc#acc\"</span>: <span style=\"color: #008080; text-decoration-color: #008080; font-weight: bold\">0.975598</span><span style=\"font-weight: bold\">}</span>                   <span style=\"color: #7f7f7f; text-decoration-color: #7f7f7f\">                        </span>\n",
       "</pre>\n"
      ],
      "text/plain": [
       "\u001b[2;36m          \u001b[0m\u001b[2;36m \u001b[0m\u001b[34mINFO    \u001b[0m \u001b[1m{\u001b[0m\u001b[32m\"f#F1\"\u001b[0m: \u001b[1;36m0.809148\u001b[0m, \u001b[32m\"pre#F1\"\u001b[0m: \u001b[1;36m0.842642\u001b[0m, \u001b[32m\"rec#F1\"\u001b[0m: \u001b]8;id=960482;file:///remote-home/pjli/anaconda3/envs/nlptorch/lib/python3.7/site-packages/fastNLP/core/callbacks/progress_callback.py\u001b\\\u001b[2mprogress_callback.py\u001b[0m\u001b]8;;\u001b\\\u001b[2m:\u001b[0m\u001b]8;id=959655;file:///remote-home/pjli/anaconda3/envs/nlptorch/lib/python3.7/site-packages/fastNLP/core/callbacks/progress_callback.py#327\u001b\\\u001b[2m327\u001b[0m\u001b]8;;\u001b\\\n",
       "\u001b[2;36m           \u001b[0m         \u001b[1;36m0.778214\u001b[0m, \u001b[32m\"acc#acc\"\u001b[0m: \u001b[1;36m0.975598\u001b[0m\u001b[1m}\u001b[0m                   \u001b[2m                        \u001b[0m\n"
      ]
     },
     "metadata": {},
     "output_type": "display_data"
    },
    {
     "name": "stdout",
     "output_type": "stream",
     "text": [
      "Epoch:5:  57%|█████▋    | [35:03<20:45, 287.86s/it, ]   \n",
      "\u001b[A\n",
      "\u001b[A\n",
      "\u001b[A\n",
      "\u001b[A\n",
      "\u001b[A\n",
      "\u001b[A\n",
      "\u001b[A\n",
      "\u001b[A\n",
      "\u001b[A\n",
      "\u001b[A\n",
      "\u001b[A\n",
      "\u001b[A\n",
      "\u001b[A\n",
      "\u001b[A\n",
      "\u001b[A\n",
      "\u001b[A\n",
      "\u001b[A\n",
      "\u001b[A\n",
      "\u001b[A\n",
      "\u001b[A\n",
      "\u001b[A\n",
      "\u001b[A\n",
      "\u001b[A\n",
      "\u001b[A\n",
      "\u001b[A\n",
      "\u001b[A\n",
      "\u001b[A\n",
      "\u001b[A\n",
      "\u001b[A\n",
      "\u001b[A\n",
      "\u001b[A\n",
      "\u001b[A\n",
      "\u001b[A\n",
      "\u001b[A\n",
      "\u001b[A\n",
      "\u001b[A\n",
      "\u001b[A\n",
      "\u001b[A\n",
      "\u001b[A\n",
      "\u001b[A\n",
      "\u001b[A\n",
      "\u001b[A\n",
      "\u001b[A\n",
      "\u001b[A\n",
      "\u001b[A"
     ]
    },
    {
     "data": {
      "text/html": [
       "<pre style=\"white-space:pre;overflow-x:auto;line-height:normal;font-family:Menlo,'DejaVu Sans Mono',consolas,'Courier New',monospace\"><span style=\"color: #7fbfbf; text-decoration-color: #7fbfbf\">[16:31:09] </span><span style=\"color: #000080; text-decoration-color: #000080\">INFO    </span> ----------Eval. results on Epoch:<span style=\"color: #008080; text-decoration-color: #008080; font-weight: bold\">5</span>,              <a href=\"file:///remote-home/pjli/anaconda3/envs/nlptorch/lib/python3.7/site-packages/fastNLP/core/callbacks/progress_callback.py\"><span style=\"color: #7f7f7f; text-decoration-color: #7f7f7f\">progress_callback.py</span></a><span style=\"color: #7f7f7f; text-decoration-color: #7f7f7f\">:</span><a href=\"file:///remote-home/pjli/anaconda3/envs/nlptorch/lib/python3.7/site-packages/fastNLP/core/callbacks/progress_callback.py#322\"><span style=\"color: #7f7f7f; text-decoration-color: #7f7f7f\">322</span></a>\n",
       "<span style=\"color: #7fbfbf; text-decoration-color: #7fbfbf\">           </span>         Batch:<span style=\"color: #008080; text-decoration-color: #008080; font-weight: bold\">880</span>----------                              <span style=\"color: #7f7f7f; text-decoration-color: #7f7f7f\">                        </span>\n",
       "</pre>\n"
      ],
      "text/plain": [
       "\u001b[2;36m[16:31:09]\u001b[0m\u001b[2;36m \u001b[0m\u001b[34mINFO    \u001b[0m ----------Eval. results on Epoch:\u001b[1;36m5\u001b[0m,              \u001b]8;id=573776;file:///remote-home/pjli/anaconda3/envs/nlptorch/lib/python3.7/site-packages/fastNLP/core/callbacks/progress_callback.py\u001b\\\u001b[2mprogress_callback.py\u001b[0m\u001b]8;;\u001b\\\u001b[2m:\u001b[0m\u001b]8;id=666494;file:///remote-home/pjli/anaconda3/envs/nlptorch/lib/python3.7/site-packages/fastNLP/core/callbacks/progress_callback.py#322\u001b\\\u001b[2m322\u001b[0m\u001b]8;;\u001b\\\n",
       "\u001b[2;36m           \u001b[0m         Batch:\u001b[1;36m880\u001b[0m----------                              \u001b[2m                        \u001b[0m\n"
      ]
     },
     "metadata": {},
     "output_type": "display_data"
    },
    {
     "data": {
      "text/html": [
       "<pre style=\"white-space:pre;overflow-x:auto;line-height:normal;font-family:Menlo,'DejaVu Sans Mono',consolas,'Courier New',monospace\"><span style=\"color: #7fbfbf; text-decoration-color: #7fbfbf\">           </span><span style=\"color: #000080; text-decoration-color: #000080\">INFO    </span> <span style=\"font-weight: bold\">{</span><span style=\"color: #008000; text-decoration-color: #008000\">\"f#F1\"</span>: <span style=\"color: #008080; text-decoration-color: #008080; font-weight: bold\">0.808285</span>, <span style=\"color: #008000; text-decoration-color: #008000\">\"pre#F1\"</span>: <span style=\"color: #008080; text-decoration-color: #008080; font-weight: bold\">0.842614</span>, <span style=\"color: #008000; text-decoration-color: #008000\">\"rec#F1\"</span>: <a href=\"file:///remote-home/pjli/anaconda3/envs/nlptorch/lib/python3.7/site-packages/fastNLP/core/callbacks/progress_callback.py\"><span style=\"color: #7f7f7f; text-decoration-color: #7f7f7f\">progress_callback.py</span></a><span style=\"color: #7f7f7f; text-decoration-color: #7f7f7f\">:</span><a href=\"file:///remote-home/pjli/anaconda3/envs/nlptorch/lib/python3.7/site-packages/fastNLP/core/callbacks/progress_callback.py#327\"><span style=\"color: #7f7f7f; text-decoration-color: #7f7f7f\">327</span></a>\n",
       "<span style=\"color: #7fbfbf; text-decoration-color: #7fbfbf\">           </span>         <span style=\"color: #008080; text-decoration-color: #008080; font-weight: bold\">0.776643</span>, <span style=\"color: #008000; text-decoration-color: #008000\">\"acc#acc\"</span>: <span style=\"color: #008080; text-decoration-color: #008080; font-weight: bold\">0.975344</span><span style=\"font-weight: bold\">}</span>                   <span style=\"color: #7f7f7f; text-decoration-color: #7f7f7f\">                        </span>\n",
       "</pre>\n"
      ],
      "text/plain": [
       "\u001b[2;36m          \u001b[0m\u001b[2;36m \u001b[0m\u001b[34mINFO    \u001b[0m \u001b[1m{\u001b[0m\u001b[32m\"f#F1\"\u001b[0m: \u001b[1;36m0.808285\u001b[0m, \u001b[32m\"pre#F1\"\u001b[0m: \u001b[1;36m0.842614\u001b[0m, \u001b[32m\"rec#F1\"\u001b[0m: \u001b]8;id=954246;file:///remote-home/pjli/anaconda3/envs/nlptorch/lib/python3.7/site-packages/fastNLP/core/callbacks/progress_callback.py\u001b\\\u001b[2mprogress_callback.py\u001b[0m\u001b]8;;\u001b\\\u001b[2m:\u001b[0m\u001b]8;id=385966;file:///remote-home/pjli/anaconda3/envs/nlptorch/lib/python3.7/site-packages/fastNLP/core/callbacks/progress_callback.py#327\u001b\\\u001b[2m327\u001b[0m\u001b]8;;\u001b\\\n",
       "\u001b[2;36m           \u001b[0m         \u001b[1;36m0.776643\u001b[0m, \u001b[32m\"acc#acc\"\u001b[0m: \u001b[1;36m0.975344\u001b[0m\u001b[1m}\u001b[0m                   \u001b[2m                        \u001b[0m\n"
      ]
     },
     "metadata": {},
     "output_type": "display_data"
    },
    {
     "name": "stdout",
     "output_type": "stream",
     "text": [
      "Epoch:5:  58%|█████▊    | [36:01<32:03, 461.11s/it, ]   \n",
      "\u001b[A\n",
      "\u001b[A\n",
      "\u001b[A\n",
      "\u001b[A\n",
      "\u001b[A\n",
      "\u001b[A\n",
      "\u001b[A\n",
      "\u001b[A\n",
      "\u001b[A\n",
      "\u001b[A\n",
      "\u001b[A\n",
      "\u001b[A\n",
      "\u001b[A\n",
      "\u001b[A\n",
      "\u001b[A\n",
      "\u001b[A\n",
      "\u001b[A\n",
      "\u001b[A\n",
      "\u001b[A\n",
      "\u001b[A\n",
      "\u001b[A\n",
      "\u001b[A\n",
      "\u001b[A\n",
      "\u001b[A\n",
      "\u001b[A\n",
      "\u001b[A\n",
      "\u001b[A\n",
      "\u001b[A\n",
      "\u001b[A\n",
      "\u001b[A\n",
      "\u001b[A\n",
      "\u001b[A\n",
      "\u001b[A\n",
      "\u001b[A\n",
      "\u001b[A\n",
      "\u001b[A\n",
      "\u001b[A\n",
      "\u001b[A\n",
      "\u001b[A\n",
      "\u001b[A\n",
      "\u001b[A\n",
      "\u001b[A"
     ]
    },
    {
     "data": {
      "text/html": [
       "<pre style=\"white-space:pre;overflow-x:auto;line-height:normal;font-family:Menlo,'DejaVu Sans Mono',consolas,'Courier New',monospace\"><span style=\"color: #7fbfbf; text-decoration-color: #7fbfbf\">[16:32:06] </span><span style=\"color: #000080; text-decoration-color: #000080\">INFO    </span> ----------Eval. results on Epoch:<span style=\"color: #008080; text-decoration-color: #008080; font-weight: bold\">5</span>,              <a href=\"file:///remote-home/pjli/anaconda3/envs/nlptorch/lib/python3.7/site-packages/fastNLP/core/callbacks/progress_callback.py\"><span style=\"color: #7f7f7f; text-decoration-color: #7f7f7f\">progress_callback.py</span></a><span style=\"color: #7f7f7f; text-decoration-color: #7f7f7f\">:</span><a href=\"file:///remote-home/pjli/anaconda3/envs/nlptorch/lib/python3.7/site-packages/fastNLP/core/callbacks/progress_callback.py#322\"><span style=\"color: #7f7f7f; text-decoration-color: #7f7f7f\">322</span></a>\n",
       "<span style=\"color: #7fbfbf; text-decoration-color: #7fbfbf\">           </span>         Batch:<span style=\"color: #008080; text-decoration-color: #008080; font-weight: bold\">1080</span>----------                             <span style=\"color: #7f7f7f; text-decoration-color: #7f7f7f\">                        </span>\n",
       "</pre>\n"
      ],
      "text/plain": [
       "\u001b[2;36m[16:32:06]\u001b[0m\u001b[2;36m \u001b[0m\u001b[34mINFO    \u001b[0m ----------Eval. results on Epoch:\u001b[1;36m5\u001b[0m,              \u001b]8;id=637561;file:///remote-home/pjli/anaconda3/envs/nlptorch/lib/python3.7/site-packages/fastNLP/core/callbacks/progress_callback.py\u001b\\\u001b[2mprogress_callback.py\u001b[0m\u001b]8;;\u001b\\\u001b[2m:\u001b[0m\u001b]8;id=142798;file:///remote-home/pjli/anaconda3/envs/nlptorch/lib/python3.7/site-packages/fastNLP/core/callbacks/progress_callback.py#322\u001b\\\u001b[2m322\u001b[0m\u001b]8;;\u001b\\\n",
       "\u001b[2;36m           \u001b[0m         Batch:\u001b[1;36m1080\u001b[0m----------                             \u001b[2m                        \u001b[0m\n"
      ]
     },
     "metadata": {},
     "output_type": "display_data"
    },
    {
     "data": {
      "text/html": [
       "<pre style=\"white-space:pre;overflow-x:auto;line-height:normal;font-family:Menlo,'DejaVu Sans Mono',consolas,'Courier New',monospace\"><span style=\"color: #7fbfbf; text-decoration-color: #7fbfbf\">           </span><span style=\"color: #000080; text-decoration-color: #000080\">INFO    </span> <span style=\"font-weight: bold\">{</span><span style=\"color: #008000; text-decoration-color: #008000\">\"f#F1\"</span>: <span style=\"color: #008080; text-decoration-color: #008080; font-weight: bold\">0.801368</span>, <span style=\"color: #008000; text-decoration-color: #008000\">\"pre#F1\"</span>: <span style=\"color: #008080; text-decoration-color: #008080; font-weight: bold\">0.839015</span>, <span style=\"color: #008000; text-decoration-color: #008000\">\"rec#F1\"</span>: <a href=\"file:///remote-home/pjli/anaconda3/envs/nlptorch/lib/python3.7/site-packages/fastNLP/core/callbacks/progress_callback.py\"><span style=\"color: #7f7f7f; text-decoration-color: #7f7f7f\">progress_callback.py</span></a><span style=\"color: #7f7f7f; text-decoration-color: #7f7f7f\">:</span><a href=\"file:///remote-home/pjli/anaconda3/envs/nlptorch/lib/python3.7/site-packages/fastNLP/core/callbacks/progress_callback.py#327\"><span style=\"color: #7f7f7f; text-decoration-color: #7f7f7f\">327</span></a>\n",
       "<span style=\"color: #7fbfbf; text-decoration-color: #7fbfbf\">           </span>         <span style=\"color: #008080; text-decoration-color: #008080; font-weight: bold\">0.766955</span>, <span style=\"color: #008000; text-decoration-color: #008000\">\"acc#acc\"</span>: <span style=\"color: #008080; text-decoration-color: #008080; font-weight: bold\">0.97487</span><span style=\"font-weight: bold\">}</span>                    <span style=\"color: #7f7f7f; text-decoration-color: #7f7f7f\">                        </span>\n",
       "</pre>\n"
      ],
      "text/plain": [
       "\u001b[2;36m          \u001b[0m\u001b[2;36m \u001b[0m\u001b[34mINFO    \u001b[0m \u001b[1m{\u001b[0m\u001b[32m\"f#F1\"\u001b[0m: \u001b[1;36m0.801368\u001b[0m, \u001b[32m\"pre#F1\"\u001b[0m: \u001b[1;36m0.839015\u001b[0m, \u001b[32m\"rec#F1\"\u001b[0m: \u001b]8;id=489700;file:///remote-home/pjli/anaconda3/envs/nlptorch/lib/python3.7/site-packages/fastNLP/core/callbacks/progress_callback.py\u001b\\\u001b[2mprogress_callback.py\u001b[0m\u001b]8;;\u001b\\\u001b[2m:\u001b[0m\u001b]8;id=492389;file:///remote-home/pjli/anaconda3/envs/nlptorch/lib/python3.7/site-packages/fastNLP/core/callbacks/progress_callback.py#327\u001b\\\u001b[2m327\u001b[0m\u001b]8;;\u001b\\\n",
       "\u001b[2;36m           \u001b[0m         \u001b[1;36m0.766955\u001b[0m, \u001b[32m\"acc#acc\"\u001b[0m: \u001b[1;36m0.97487\u001b[0m\u001b[1m}\u001b[0m                    \u001b[2m                        \u001b[0m\n"
      ]
     },
     "metadata": {},
     "output_type": "display_data"
    },
    {
     "name": "stdout",
     "output_type": "stream",
     "text": [
      "Epoch:5:  60%|█████▉    | [37:00<26:27, 394.96s/it, ]   \n",
      "\u001b[A\n",
      "\u001b[A\n",
      "\u001b[A\n",
      "\u001b[A\n",
      "\u001b[A\n",
      "\u001b[A\n",
      "\u001b[A\n",
      "\u001b[A\n",
      "\u001b[A\n",
      "\u001b[A\n",
      "\u001b[A\n",
      "\u001b[A\n",
      "\u001b[A\n",
      "\u001b[A\n",
      "\u001b[A\n",
      "\u001b[A\n",
      "\u001b[A\n",
      "\u001b[A\n",
      "\u001b[A\n",
      "\u001b[A\n",
      "\u001b[A\n",
      "\u001b[A\n",
      "\u001b[A\n",
      "\u001b[A\n",
      "\u001b[A\n",
      "\u001b[A\n",
      "\u001b[A\n",
      "\u001b[A\n",
      "\u001b[A\n",
      "\u001b[A\n",
      "\u001b[A\n",
      "\u001b[A\n",
      "\u001b[A\n",
      "\u001b[A\n",
      "\u001b[A\n",
      "\u001b[A\n",
      "\u001b[A\n",
      "\u001b[A\n",
      "\u001b[A\n",
      "\u001b[A\n",
      "\u001b[A"
     ]
    },
    {
     "data": {
      "text/html": [
       "<pre style=\"white-space:pre;overflow-x:auto;line-height:normal;font-family:Menlo,'DejaVu Sans Mono',consolas,'Courier New',monospace\"><span style=\"color: #7fbfbf; text-decoration-color: #7fbfbf\">[16:33:05] </span><span style=\"color: #000080; text-decoration-color: #000080\">INFO    </span> ++++++++++Eval. results on Epoch:<span style=\"color: #008080; text-decoration-color: #008080; font-weight: bold\">5</span>,              <a href=\"file:///remote-home/pjli/anaconda3/envs/nlptorch/lib/python3.7/site-packages/fastNLP/core/callbacks/progress_callback.py\"><span style=\"color: #7f7f7f; text-decoration-color: #7f7f7f\">progress_callback.py</span></a><span style=\"color: #7f7f7f; text-decoration-color: #7f7f7f\">:</span><a href=\"file:///remote-home/pjli/anaconda3/envs/nlptorch/lib/python3.7/site-packages/fastNLP/core/callbacks/progress_callback.py#322\"><span style=\"color: #7f7f7f; text-decoration-color: #7f7f7f\">322</span></a>\n",
       "<span style=\"color: #7fbfbf; text-decoration-color: #7fbfbf\">           </span>         Batch:<span style=\"color: #008080; text-decoration-color: #008080; font-weight: bold\">1280</span>++++++++++                             <span style=\"color: #7f7f7f; text-decoration-color: #7f7f7f\">                        </span>\n",
       "</pre>\n"
      ],
      "text/plain": [
       "\u001b[2;36m[16:33:05]\u001b[0m\u001b[2;36m \u001b[0m\u001b[34mINFO    \u001b[0m ++++++++++Eval. results on Epoch:\u001b[1;36m5\u001b[0m,              \u001b]8;id=93241;file:///remote-home/pjli/anaconda3/envs/nlptorch/lib/python3.7/site-packages/fastNLP/core/callbacks/progress_callback.py\u001b\\\u001b[2mprogress_callback.py\u001b[0m\u001b]8;;\u001b\\\u001b[2m:\u001b[0m\u001b]8;id=937837;file:///remote-home/pjli/anaconda3/envs/nlptorch/lib/python3.7/site-packages/fastNLP/core/callbacks/progress_callback.py#322\u001b\\\u001b[2m322\u001b[0m\u001b]8;;\u001b\\\n",
       "\u001b[2;36m           \u001b[0m         Batch:\u001b[1;36m1280\u001b[0m++++++++++                             \u001b[2m                        \u001b[0m\n"
      ]
     },
     "metadata": {},
     "output_type": "display_data"
    },
    {
     "data": {
      "text/html": [
       "<pre style=\"white-space:pre;overflow-x:auto;line-height:normal;font-family:Menlo,'DejaVu Sans Mono',consolas,'Courier New',monospace\"><span style=\"color: #7fbfbf; text-decoration-color: #7fbfbf\">           </span><span style=\"color: #000080; text-decoration-color: #000080\">INFO    </span> <span style=\"font-weight: bold\">{</span><span style=\"color: #008000; text-decoration-color: #008000\">\"f#F1\"</span>: <span style=\"color: #008080; text-decoration-color: #008080; font-weight: bold\">0.819136</span>, <span style=\"color: #008000; text-decoration-color: #008000\">\"pre#F1\"</span>: <span style=\"color: #008080; text-decoration-color: #008080; font-weight: bold\">0.854179</span>, <span style=\"color: #008000; text-decoration-color: #008000\">\"rec#F1\"</span>: <a href=\"file:///remote-home/pjli/anaconda3/envs/nlptorch/lib/python3.7/site-packages/fastNLP/core/callbacks/progress_callback.py\"><span style=\"color: #7f7f7f; text-decoration-color: #7f7f7f\">progress_callback.py</span></a><span style=\"color: #7f7f7f; text-decoration-color: #7f7f7f\">:</span><a href=\"file:///remote-home/pjli/anaconda3/envs/nlptorch/lib/python3.7/site-packages/fastNLP/core/callbacks/progress_callback.py#327\"><span style=\"color: #7f7f7f; text-decoration-color: #7f7f7f\">327</span></a>\n",
       "<span style=\"color: #7fbfbf; text-decoration-color: #7fbfbf\">           </span>         <span style=\"color: #008080; text-decoration-color: #008080; font-weight: bold\">0.786855</span>, <span style=\"color: #008000; text-decoration-color: #008000\">\"acc#acc\"</span>: <span style=\"color: #008080; text-decoration-color: #008080; font-weight: bold\">0.976527</span><span style=\"font-weight: bold\">}</span>                   <span style=\"color: #7f7f7f; text-decoration-color: #7f7f7f\">                        </span>\n",
       "</pre>\n"
      ],
      "text/plain": [
       "\u001b[2;36m          \u001b[0m\u001b[2;36m \u001b[0m\u001b[34mINFO    \u001b[0m \u001b[1m{\u001b[0m\u001b[32m\"f#F1\"\u001b[0m: \u001b[1;36m0.819136\u001b[0m, \u001b[32m\"pre#F1\"\u001b[0m: \u001b[1;36m0.854179\u001b[0m, \u001b[32m\"rec#F1\"\u001b[0m: \u001b]8;id=866356;file:///remote-home/pjli/anaconda3/envs/nlptorch/lib/python3.7/site-packages/fastNLP/core/callbacks/progress_callback.py\u001b\\\u001b[2mprogress_callback.py\u001b[0m\u001b]8;;\u001b\\\u001b[2m:\u001b[0m\u001b]8;id=87821;file:///remote-home/pjli/anaconda3/envs/nlptorch/lib/python3.7/site-packages/fastNLP/core/callbacks/progress_callback.py#327\u001b\\\u001b[2m327\u001b[0m\u001b]8;;\u001b\\\n",
       "\u001b[2;36m           \u001b[0m         \u001b[1;36m0.786855\u001b[0m, \u001b[32m\"acc#acc\"\u001b[0m: \u001b[1;36m0.976527\u001b[0m\u001b[1m}\u001b[0m                   \u001b[2m                        \u001b[0m\n"
      ]
     },
     "metadata": {},
     "output_type": "display_data"
    },
    {
     "name": "stdout",
     "output_type": "stream",
     "text": [
      "Epoch:6:  61%|██████▏   | [37:58<24:00, 372.58s/it, ]   \n",
      "\u001b[A\n",
      "\u001b[A\n",
      "\u001b[A\n",
      "\u001b[A\n",
      "\u001b[A\n",
      "\u001b[A\n",
      "\u001b[A\n",
      "\u001b[A\n",
      "\u001b[A\n",
      "\u001b[A\n",
      "\u001b[A\n",
      "\u001b[A\n",
      "\u001b[A\n",
      "\u001b[A\n",
      "\u001b[A\n",
      "\u001b[A\n",
      "\u001b[A\n",
      "\u001b[A\n",
      "\u001b[A\n",
      "\u001b[A\n",
      "\u001b[A\n",
      "\u001b[A\n",
      "\u001b[A\n",
      "\u001b[A\n",
      "\u001b[A\n",
      "\u001b[A\n",
      "\u001b[A\n",
      "\u001b[A\n",
      "\u001b[A\n",
      "\u001b[A\n",
      "\u001b[A\n",
      "\u001b[A\n",
      "\u001b[A\n",
      "\u001b[A\n",
      "\u001b[A\n",
      "\u001b[A\n",
      "\u001b[A\n",
      "\u001b[A\n",
      "\u001b[A\n",
      "\u001b[A\n",
      "\u001b[A\n",
      "\u001b[A\n",
      "\u001b[A\n",
      "\u001b[A\n",
      "\u001b[A"
     ]
    },
    {
     "data": {
      "text/html": [
       "<pre style=\"white-space:pre;overflow-x:auto;line-height:normal;font-family:Menlo,'DejaVu Sans Mono',consolas,'Courier New',monospace\"><span style=\"color: #7fbfbf; text-decoration-color: #7fbfbf\">[16:34:04] </span><span style=\"color: #000080; text-decoration-color: #000080\">INFO    </span> ++++++++++Eval. results on Epoch:<span style=\"color: #008080; text-decoration-color: #008080; font-weight: bold\">6</span>,              <a href=\"file:///remote-home/pjli/anaconda3/envs/nlptorch/lib/python3.7/site-packages/fastNLP/core/callbacks/progress_callback.py\"><span style=\"color: #7f7f7f; text-decoration-color: #7f7f7f\">progress_callback.py</span></a><span style=\"color: #7f7f7f; text-decoration-color: #7f7f7f\">:</span><a href=\"file:///remote-home/pjli/anaconda3/envs/nlptorch/lib/python3.7/site-packages/fastNLP/core/callbacks/progress_callback.py#322\"><span style=\"color: #7f7f7f; text-decoration-color: #7f7f7f\">322</span></a>\n",
       "<span style=\"color: #7fbfbf; text-decoration-color: #7fbfbf\">           </span>         Batch:<span style=\"color: #008080; text-decoration-color: #008080; font-weight: bold\">176</span>++++++++++                              <span style=\"color: #7f7f7f; text-decoration-color: #7f7f7f\">                        </span>\n",
       "</pre>\n"
      ],
      "text/plain": [
       "\u001b[2;36m[16:34:04]\u001b[0m\u001b[2;36m \u001b[0m\u001b[34mINFO    \u001b[0m ++++++++++Eval. results on Epoch:\u001b[1;36m6\u001b[0m,              \u001b]8;id=666146;file:///remote-home/pjli/anaconda3/envs/nlptorch/lib/python3.7/site-packages/fastNLP/core/callbacks/progress_callback.py\u001b\\\u001b[2mprogress_callback.py\u001b[0m\u001b]8;;\u001b\\\u001b[2m:\u001b[0m\u001b]8;id=683000;file:///remote-home/pjli/anaconda3/envs/nlptorch/lib/python3.7/site-packages/fastNLP/core/callbacks/progress_callback.py#322\u001b\\\u001b[2m322\u001b[0m\u001b]8;;\u001b\\\n",
       "\u001b[2;36m           \u001b[0m         Batch:\u001b[1;36m176\u001b[0m++++++++++                              \u001b[2m                        \u001b[0m\n"
      ]
     },
     "metadata": {},
     "output_type": "display_data"
    },
    {
     "data": {
      "text/html": [
       "<pre style=\"white-space:pre;overflow-x:auto;line-height:normal;font-family:Menlo,'DejaVu Sans Mono',consolas,'Courier New',monospace\"><span style=\"color: #7fbfbf; text-decoration-color: #7fbfbf\">           </span><span style=\"color: #000080; text-decoration-color: #000080\">INFO    </span> <span style=\"font-weight: bold\">{</span><span style=\"color: #008000; text-decoration-color: #008000\">\"f#F1\"</span>: <span style=\"color: #008080; text-decoration-color: #008080; font-weight: bold\">0.821563</span>, <span style=\"color: #008000; text-decoration-color: #008000\">\"pre#F1\"</span>: <span style=\"color: #008080; text-decoration-color: #008080; font-weight: bold\">0.846432</span>, <span style=\"color: #008000; text-decoration-color: #008000\">\"rec#F1\"</span>: <a href=\"file:///remote-home/pjli/anaconda3/envs/nlptorch/lib/python3.7/site-packages/fastNLP/core/callbacks/progress_callback.py\"><span style=\"color: #7f7f7f; text-decoration-color: #7f7f7f\">progress_callback.py</span></a><span style=\"color: #7f7f7f; text-decoration-color: #7f7f7f\">:</span><a href=\"file:///remote-home/pjli/anaconda3/envs/nlptorch/lib/python3.7/site-packages/fastNLP/core/callbacks/progress_callback.py#327\"><span style=\"color: #7f7f7f; text-decoration-color: #7f7f7f\">327</span></a>\n",
       "<span style=\"color: #7fbfbf; text-decoration-color: #7fbfbf\">           </span>         <span style=\"color: #008080; text-decoration-color: #008080; font-weight: bold\">0.798115</span>, <span style=\"color: #008000; text-decoration-color: #008000\">\"acc#acc\"</span>: <span style=\"color: #008080; text-decoration-color: #008080; font-weight: bold\">0.976691</span><span style=\"font-weight: bold\">}</span>                   <span style=\"color: #7f7f7f; text-decoration-color: #7f7f7f\">                        </span>\n",
       "</pre>\n"
      ],
      "text/plain": [
       "\u001b[2;36m          \u001b[0m\u001b[2;36m \u001b[0m\u001b[34mINFO    \u001b[0m \u001b[1m{\u001b[0m\u001b[32m\"f#F1\"\u001b[0m: \u001b[1;36m0.821563\u001b[0m, \u001b[32m\"pre#F1\"\u001b[0m: \u001b[1;36m0.846432\u001b[0m, \u001b[32m\"rec#F1\"\u001b[0m: \u001b]8;id=421918;file:///remote-home/pjli/anaconda3/envs/nlptorch/lib/python3.7/site-packages/fastNLP/core/callbacks/progress_callback.py\u001b\\\u001b[2mprogress_callback.py\u001b[0m\u001b]8;;\u001b\\\u001b[2m:\u001b[0m\u001b]8;id=376319;file:///remote-home/pjli/anaconda3/envs/nlptorch/lib/python3.7/site-packages/fastNLP/core/callbacks/progress_callback.py#327\u001b\\\u001b[2m327\u001b[0m\u001b]8;;\u001b\\\n",
       "\u001b[2;36m           \u001b[0m         \u001b[1;36m0.798115\u001b[0m, \u001b[32m\"acc#acc\"\u001b[0m: \u001b[1;36m0.976691\u001b[0m\u001b[1m}\u001b[0m                   \u001b[2m                        \u001b[0m\n"
      ]
     },
     "metadata": {},
     "output_type": "display_data"
    },
    {
     "name": "stdout",
     "output_type": "stream",
     "text": [
      "Epoch:6:  63%|██████▎   | [38:58<21:04, 340.70s/it, ]   \n",
      "\u001b[A\n",
      "\u001b[A\n",
      "\u001b[A\n",
      "\u001b[A\n",
      "\u001b[A\n",
      "\u001b[A\n",
      "\u001b[A\n",
      "\u001b[A\n",
      "\u001b[A\n",
      "\u001b[A\n",
      "\u001b[A\n",
      "\u001b[A\n",
      "\u001b[A\n",
      "\u001b[A\n",
      "\u001b[A\n",
      "\u001b[A\n",
      "\u001b[A\n",
      "\u001b[A\n",
      "\u001b[A\n",
      "\u001b[A\n",
      "\u001b[A\n",
      "\u001b[A\n",
      "\u001b[A\n",
      "\u001b[A\n",
      "\u001b[A\n",
      "\u001b[A\n",
      "\u001b[A\n",
      "\u001b[A\n",
      "\u001b[A\n",
      "\u001b[A\n",
      "\u001b[A\n",
      "\u001b[A\n",
      "\u001b[A\n",
      "\u001b[A\n",
      "\u001b[A\n",
      "\u001b[A\n",
      "\u001b[A\n",
      "\u001b[A\n",
      "\u001b[A\n",
      "\u001b[A\n",
      "\u001b[A"
     ]
    },
    {
     "data": {
      "text/html": [
       "<pre style=\"white-space:pre;overflow-x:auto;line-height:normal;font-family:Menlo,'DejaVu Sans Mono',consolas,'Courier New',monospace\"><span style=\"color: #7fbfbf; text-decoration-color: #7fbfbf\">[16:35:03] </span><span style=\"color: #000080; text-decoration-color: #000080\">INFO    </span> ----------Eval. results on Epoch:<span style=\"color: #008080; text-decoration-color: #008080; font-weight: bold\">6</span>,              <a href=\"file:///remote-home/pjli/anaconda3/envs/nlptorch/lib/python3.7/site-packages/fastNLP/core/callbacks/progress_callback.py\"><span style=\"color: #7f7f7f; text-decoration-color: #7f7f7f\">progress_callback.py</span></a><span style=\"color: #7f7f7f; text-decoration-color: #7f7f7f\">:</span><a href=\"file:///remote-home/pjli/anaconda3/envs/nlptorch/lib/python3.7/site-packages/fastNLP/core/callbacks/progress_callback.py#322\"><span style=\"color: #7f7f7f; text-decoration-color: #7f7f7f\">322</span></a>\n",
       "<span style=\"color: #7fbfbf; text-decoration-color: #7fbfbf\">           </span>         Batch:<span style=\"color: #008080; text-decoration-color: #008080; font-weight: bold\">376</span>----------                              <span style=\"color: #7f7f7f; text-decoration-color: #7f7f7f\">                        </span>\n",
       "</pre>\n"
      ],
      "text/plain": [
       "\u001b[2;36m[16:35:03]\u001b[0m\u001b[2;36m \u001b[0m\u001b[34mINFO    \u001b[0m ----------Eval. results on Epoch:\u001b[1;36m6\u001b[0m,              \u001b]8;id=772138;file:///remote-home/pjli/anaconda3/envs/nlptorch/lib/python3.7/site-packages/fastNLP/core/callbacks/progress_callback.py\u001b\\\u001b[2mprogress_callback.py\u001b[0m\u001b]8;;\u001b\\\u001b[2m:\u001b[0m\u001b]8;id=43697;file:///remote-home/pjli/anaconda3/envs/nlptorch/lib/python3.7/site-packages/fastNLP/core/callbacks/progress_callback.py#322\u001b\\\u001b[2m322\u001b[0m\u001b]8;;\u001b\\\n",
       "\u001b[2;36m           \u001b[0m         Batch:\u001b[1;36m376\u001b[0m----------                              \u001b[2m                        \u001b[0m\n"
      ]
     },
     "metadata": {},
     "output_type": "display_data"
    },
    {
     "data": {
      "text/html": [
       "<pre style=\"white-space:pre;overflow-x:auto;line-height:normal;font-family:Menlo,'DejaVu Sans Mono',consolas,'Courier New',monospace\"><span style=\"color: #7fbfbf; text-decoration-color: #7fbfbf\">           </span><span style=\"color: #000080; text-decoration-color: #000080\">INFO    </span> <span style=\"font-weight: bold\">{</span><span style=\"color: #008000; text-decoration-color: #008000\">\"f#F1\"</span>: <span style=\"color: #008080; text-decoration-color: #008080; font-weight: bold\">0.814169</span>, <span style=\"color: #008000; text-decoration-color: #008000\">\"pre#F1\"</span>: <span style=\"color: #008080; text-decoration-color: #008080; font-weight: bold\">0.848623</span>, <span style=\"color: #008000; text-decoration-color: #008000\">\"rec#F1\"</span>: <a href=\"file:///remote-home/pjli/anaconda3/envs/nlptorch/lib/python3.7/site-packages/fastNLP/core/callbacks/progress_callback.py\"><span style=\"color: #7f7f7f; text-decoration-color: #7f7f7f\">progress_callback.py</span></a><span style=\"color: #7f7f7f; text-decoration-color: #7f7f7f\">:</span><a href=\"file:///remote-home/pjli/anaconda3/envs/nlptorch/lib/python3.7/site-packages/fastNLP/core/callbacks/progress_callback.py#327\"><span style=\"color: #7f7f7f; text-decoration-color: #7f7f7f\">327</span></a>\n",
       "<span style=\"color: #7fbfbf; text-decoration-color: #7fbfbf\">           </span>         <span style=\"color: #008080; text-decoration-color: #008080; font-weight: bold\">0.782404</span>, <span style=\"color: #008000; text-decoration-color: #008000\">\"acc#acc\"</span>: <span style=\"color: #008080; text-decoration-color: #008080; font-weight: bold\">0.975844</span><span style=\"font-weight: bold\">}</span>                   <span style=\"color: #7f7f7f; text-decoration-color: #7f7f7f\">                        </span>\n",
       "</pre>\n"
      ],
      "text/plain": [
       "\u001b[2;36m          \u001b[0m\u001b[2;36m \u001b[0m\u001b[34mINFO    \u001b[0m \u001b[1m{\u001b[0m\u001b[32m\"f#F1\"\u001b[0m: \u001b[1;36m0.814169\u001b[0m, \u001b[32m\"pre#F1\"\u001b[0m: \u001b[1;36m0.848623\u001b[0m, \u001b[32m\"rec#F1\"\u001b[0m: \u001b]8;id=731173;file:///remote-home/pjli/anaconda3/envs/nlptorch/lib/python3.7/site-packages/fastNLP/core/callbacks/progress_callback.py\u001b\\\u001b[2mprogress_callback.py\u001b[0m\u001b]8;;\u001b\\\u001b[2m:\u001b[0m\u001b]8;id=515578;file:///remote-home/pjli/anaconda3/envs/nlptorch/lib/python3.7/site-packages/fastNLP/core/callbacks/progress_callback.py#327\u001b\\\u001b[2m327\u001b[0m\u001b]8;;\u001b\\\n",
       "\u001b[2;36m           \u001b[0m         \u001b[1;36m0.782404\u001b[0m, \u001b[32m\"acc#acc\"\u001b[0m: \u001b[1;36m0.975844\u001b[0m\u001b[1m}\u001b[0m                   \u001b[2m                        \u001b[0m\n"
      ]
     },
     "metadata": {},
     "output_type": "display_data"
    },
    {
     "name": "stdout",
     "output_type": "stream",
     "text": [
      "Epoch:6:  64%|██████▍   | [39:54<19:39, 331.49s/it, ]   \n",
      "\u001b[A\n",
      "\u001b[A\n",
      "\u001b[A\n",
      "\u001b[A\n",
      "\u001b[A\n",
      "\u001b[A\n",
      "\u001b[A\n",
      "\u001b[A\n",
      "\u001b[A\n",
      "\u001b[A\n",
      "\u001b[A\n",
      "\u001b[A\n",
      "\u001b[A\n",
      "\u001b[A\n",
      "\u001b[A\n",
      "\u001b[A\n",
      "\u001b[A\n",
      "\u001b[A\n",
      "\u001b[A\n",
      "\u001b[A\n",
      "\u001b[A\n",
      "\u001b[A\n",
      "\u001b[A\n",
      "\u001b[A\n",
      "\u001b[A\n",
      "\u001b[A\n",
      "\u001b[A\n",
      "\u001b[A\n",
      "\u001b[A\n",
      "\u001b[A\n",
      "\u001b[A\n",
      "\u001b[A\n",
      "\u001b[A\n",
      "\u001b[A\n",
      "\u001b[A\n",
      "\u001b[A\n",
      "\u001b[A\n",
      "\u001b[A\n",
      "\u001b[A\n",
      "\u001b[A\n",
      "\u001b[A\n",
      "\u001b[A\n",
      "\u001b[A"
     ]
    },
    {
     "data": {
      "text/html": [
       "<pre style=\"white-space:pre;overflow-x:auto;line-height:normal;font-family:Menlo,'DejaVu Sans Mono',consolas,'Courier New',monospace\"><span style=\"color: #7fbfbf; text-decoration-color: #7fbfbf\">[16:36:00] </span><span style=\"color: #000080; text-decoration-color: #000080\">INFO    </span> ----------Eval. results on Epoch:<span style=\"color: #008080; text-decoration-color: #008080; font-weight: bold\">6</span>,              <a href=\"file:///remote-home/pjli/anaconda3/envs/nlptorch/lib/python3.7/site-packages/fastNLP/core/callbacks/progress_callback.py\"><span style=\"color: #7f7f7f; text-decoration-color: #7f7f7f\">progress_callback.py</span></a><span style=\"color: #7f7f7f; text-decoration-color: #7f7f7f\">:</span><a href=\"file:///remote-home/pjli/anaconda3/envs/nlptorch/lib/python3.7/site-packages/fastNLP/core/callbacks/progress_callback.py#322\"><span style=\"color: #7f7f7f; text-decoration-color: #7f7f7f\">322</span></a>\n",
       "<span style=\"color: #7fbfbf; text-decoration-color: #7fbfbf\">           </span>         Batch:<span style=\"color: #008080; text-decoration-color: #008080; font-weight: bold\">576</span>----------                              <span style=\"color: #7f7f7f; text-decoration-color: #7f7f7f\">                        </span>\n",
       "</pre>\n"
      ],
      "text/plain": [
       "\u001b[2;36m[16:36:00]\u001b[0m\u001b[2;36m \u001b[0m\u001b[34mINFO    \u001b[0m ----------Eval. results on Epoch:\u001b[1;36m6\u001b[0m,              \u001b]8;id=322766;file:///remote-home/pjli/anaconda3/envs/nlptorch/lib/python3.7/site-packages/fastNLP/core/callbacks/progress_callback.py\u001b\\\u001b[2mprogress_callback.py\u001b[0m\u001b]8;;\u001b\\\u001b[2m:\u001b[0m\u001b]8;id=946330;file:///remote-home/pjli/anaconda3/envs/nlptorch/lib/python3.7/site-packages/fastNLP/core/callbacks/progress_callback.py#322\u001b\\\u001b[2m322\u001b[0m\u001b]8;;\u001b\\\n",
       "\u001b[2;36m           \u001b[0m         Batch:\u001b[1;36m576\u001b[0m----------                              \u001b[2m                        \u001b[0m\n"
      ]
     },
     "metadata": {},
     "output_type": "display_data"
    },
    {
     "data": {
      "text/html": [
       "<pre style=\"white-space:pre;overflow-x:auto;line-height:normal;font-family:Menlo,'DejaVu Sans Mono',consolas,'Courier New',monospace\"><span style=\"color: #7fbfbf; text-decoration-color: #7fbfbf\">           </span><span style=\"color: #000080; text-decoration-color: #000080\">INFO    </span> <span style=\"font-weight: bold\">{</span><span style=\"color: #008000; text-decoration-color: #008000\">\"f#F1\"</span>: <span style=\"color: #008080; text-decoration-color: #008080; font-weight: bold\">0.820625</span>, <span style=\"color: #008000; text-decoration-color: #008000\">\"pre#F1\"</span>: <span style=\"color: #008080; text-decoration-color: #008080; font-weight: bold\">0.856492</span>, <span style=\"color: #008000; text-decoration-color: #008000\">\"rec#F1\"</span>: <a href=\"file:///remote-home/pjli/anaconda3/envs/nlptorch/lib/python3.7/site-packages/fastNLP/core/callbacks/progress_callback.py\"><span style=\"color: #7f7f7f; text-decoration-color: #7f7f7f\">progress_callback.py</span></a><span style=\"color: #7f7f7f; text-decoration-color: #7f7f7f\">:</span><a href=\"file:///remote-home/pjli/anaconda3/envs/nlptorch/lib/python3.7/site-packages/fastNLP/core/callbacks/progress_callback.py#327\"><span style=\"color: #7f7f7f; text-decoration-color: #7f7f7f\">327</span></a>\n",
       "<span style=\"color: #7fbfbf; text-decoration-color: #7fbfbf\">           </span>         <span style=\"color: #008080; text-decoration-color: #008080; font-weight: bold\">0.787641</span>, <span style=\"color: #008000; text-decoration-color: #008000\">\"acc#acc\"</span>: <span style=\"color: #008080; text-decoration-color: #008080; font-weight: bold\">0.976691</span><span style=\"font-weight: bold\">}</span>                   <span style=\"color: #7f7f7f; text-decoration-color: #7f7f7f\">                        </span>\n",
       "</pre>\n"
      ],
      "text/plain": [
       "\u001b[2;36m          \u001b[0m\u001b[2;36m \u001b[0m\u001b[34mINFO    \u001b[0m \u001b[1m{\u001b[0m\u001b[32m\"f#F1\"\u001b[0m: \u001b[1;36m0.820625\u001b[0m, \u001b[32m\"pre#F1\"\u001b[0m: \u001b[1;36m0.856492\u001b[0m, \u001b[32m\"rec#F1\"\u001b[0m: \u001b]8;id=441586;file:///remote-home/pjli/anaconda3/envs/nlptorch/lib/python3.7/site-packages/fastNLP/core/callbacks/progress_callback.py\u001b\\\u001b[2mprogress_callback.py\u001b[0m\u001b]8;;\u001b\\\u001b[2m:\u001b[0m\u001b]8;id=439269;file:///remote-home/pjli/anaconda3/envs/nlptorch/lib/python3.7/site-packages/fastNLP/core/callbacks/progress_callback.py#327\u001b\\\u001b[2m327\u001b[0m\u001b]8;;\u001b\\\n",
       "\u001b[2;36m           \u001b[0m         \u001b[1;36m0.787641\u001b[0m, \u001b[32m\"acc#acc\"\u001b[0m: \u001b[1;36m0.976691\u001b[0m\u001b[1m}\u001b[0m                   \u001b[2m                        \u001b[0m\n"
      ]
     },
     "metadata": {},
     "output_type": "display_data"
    },
    {
     "name": "stdout",
     "output_type": "stream",
     "text": [
      "Epoch:6:  66%|██████▌   | [40:52<16:52, 297.48s/it, ]   \n",
      "\u001b[A\n",
      "\u001b[A\n",
      "\u001b[A\n",
      "\u001b[A\n",
      "\u001b[A\n",
      "\u001b[A\n",
      "\u001b[A\n",
      "\u001b[A\n",
      "\u001b[A\n",
      "\u001b[A\n",
      "\u001b[A\n",
      "\u001b[A\n",
      "\u001b[A\n",
      "\u001b[A\n",
      "\u001b[A\n",
      "\u001b[A\n",
      "\u001b[A\n",
      "\u001b[A\n",
      "\u001b[A\n",
      "\u001b[A\n",
      "\u001b[A\n",
      "\u001b[A\n",
      "\u001b[A\n",
      "\u001b[A\n",
      "\u001b[A\n",
      "\u001b[A\n",
      "\u001b[A\n",
      "\u001b[A\n",
      "\u001b[A\n",
      "\u001b[A\n",
      "\u001b[A\n",
      "\u001b[A\n",
      "\u001b[A\n",
      "\u001b[A\n",
      "\u001b[A\n",
      "\u001b[A\n",
      "\u001b[A\n",
      "\u001b[A\n",
      "\u001b[A\n",
      "\u001b[A\n",
      "\u001b[A\n",
      "\u001b[A\n",
      "\u001b[A\n",
      "\u001b[A\n",
      "\u001b[A"
     ]
    },
    {
     "data": {
      "text/html": [
       "<pre style=\"white-space:pre;overflow-x:auto;line-height:normal;font-family:Menlo,'DejaVu Sans Mono',consolas,'Courier New',monospace\"><span style=\"color: #7fbfbf; text-decoration-color: #7fbfbf\">[16:36:58] </span><span style=\"color: #000080; text-decoration-color: #000080\">INFO    </span> ++++++++++Eval. results on Epoch:<span style=\"color: #008080; text-decoration-color: #008080; font-weight: bold\">6</span>,              <a href=\"file:///remote-home/pjli/anaconda3/envs/nlptorch/lib/python3.7/site-packages/fastNLP/core/callbacks/progress_callback.py\"><span style=\"color: #7f7f7f; text-decoration-color: #7f7f7f\">progress_callback.py</span></a><span style=\"color: #7f7f7f; text-decoration-color: #7f7f7f\">:</span><a href=\"file:///remote-home/pjli/anaconda3/envs/nlptorch/lib/python3.7/site-packages/fastNLP/core/callbacks/progress_callback.py#322\"><span style=\"color: #7f7f7f; text-decoration-color: #7f7f7f\">322</span></a>\n",
       "<span style=\"color: #7fbfbf; text-decoration-color: #7fbfbf\">           </span>         Batch:<span style=\"color: #008080; text-decoration-color: #008080; font-weight: bold\">776</span>++++++++++                              <span style=\"color: #7f7f7f; text-decoration-color: #7f7f7f\">                        </span>\n",
       "</pre>\n"
      ],
      "text/plain": [
       "\u001b[2;36m[16:36:58]\u001b[0m\u001b[2;36m \u001b[0m\u001b[34mINFO    \u001b[0m ++++++++++Eval. results on Epoch:\u001b[1;36m6\u001b[0m,              \u001b]8;id=537081;file:///remote-home/pjli/anaconda3/envs/nlptorch/lib/python3.7/site-packages/fastNLP/core/callbacks/progress_callback.py\u001b\\\u001b[2mprogress_callback.py\u001b[0m\u001b]8;;\u001b\\\u001b[2m:\u001b[0m\u001b]8;id=514577;file:///remote-home/pjli/anaconda3/envs/nlptorch/lib/python3.7/site-packages/fastNLP/core/callbacks/progress_callback.py#322\u001b\\\u001b[2m322\u001b[0m\u001b]8;;\u001b\\\n",
       "\u001b[2;36m           \u001b[0m         Batch:\u001b[1;36m776\u001b[0m++++++++++                              \u001b[2m                        \u001b[0m\n"
      ]
     },
     "metadata": {},
     "output_type": "display_data"
    },
    {
     "data": {
      "text/html": [
       "<pre style=\"white-space:pre;overflow-x:auto;line-height:normal;font-family:Menlo,'DejaVu Sans Mono',consolas,'Courier New',monospace\"><span style=\"color: #7fbfbf; text-decoration-color: #7fbfbf\">           </span><span style=\"color: #000080; text-decoration-color: #000080\">INFO    </span> <span style=\"font-weight: bold\">{</span><span style=\"color: #008000; text-decoration-color: #008000\">\"f#F1\"</span>: <span style=\"color: #008080; text-decoration-color: #008080; font-weight: bold\">0.821803</span>, <span style=\"color: #008000; text-decoration-color: #008000\">\"pre#F1\"</span>: <span style=\"color: #008080; text-decoration-color: #008080; font-weight: bold\">0.845472</span>, <span style=\"color: #008000; text-decoration-color: #008000\">\"rec#F1\"</span>: <a href=\"file:///remote-home/pjli/anaconda3/envs/nlptorch/lib/python3.7/site-packages/fastNLP/core/callbacks/progress_callback.py\"><span style=\"color: #7f7f7f; text-decoration-color: #7f7f7f\">progress_callback.py</span></a><span style=\"color: #7f7f7f; text-decoration-color: #7f7f7f\">:</span><a href=\"file:///remote-home/pjli/anaconda3/envs/nlptorch/lib/python3.7/site-packages/fastNLP/core/callbacks/progress_callback.py#327\"><span style=\"color: #7f7f7f; text-decoration-color: #7f7f7f\">327</span></a>\n",
       "<span style=\"color: #7fbfbf; text-decoration-color: #7fbfbf\">           </span>         <span style=\"color: #008080; text-decoration-color: #008080; font-weight: bold\">0.799424</span>, <span style=\"color: #008000; text-decoration-color: #008000\">\"acc#acc\"</span>: <span style=\"color: #008080; text-decoration-color: #008080; font-weight: bold\">0.976609</span><span style=\"font-weight: bold\">}</span>                   <span style=\"color: #7f7f7f; text-decoration-color: #7f7f7f\">                        </span>\n",
       "</pre>\n"
      ],
      "text/plain": [
       "\u001b[2;36m          \u001b[0m\u001b[2;36m \u001b[0m\u001b[34mINFO    \u001b[0m \u001b[1m{\u001b[0m\u001b[32m\"f#F1\"\u001b[0m: \u001b[1;36m0.821803\u001b[0m, \u001b[32m\"pre#F1\"\u001b[0m: \u001b[1;36m0.845472\u001b[0m, \u001b[32m\"rec#F1\"\u001b[0m: \u001b]8;id=417485;file:///remote-home/pjli/anaconda3/envs/nlptorch/lib/python3.7/site-packages/fastNLP/core/callbacks/progress_callback.py\u001b\\\u001b[2mprogress_callback.py\u001b[0m\u001b]8;;\u001b\\\u001b[2m:\u001b[0m\u001b]8;id=988176;file:///remote-home/pjli/anaconda3/envs/nlptorch/lib/python3.7/site-packages/fastNLP/core/callbacks/progress_callback.py#327\u001b\\\u001b[2m327\u001b[0m\u001b]8;;\u001b\\\n",
       "\u001b[2;36m           \u001b[0m         \u001b[1;36m0.799424\u001b[0m, \u001b[32m\"acc#acc\"\u001b[0m: \u001b[1;36m0.976609\u001b[0m\u001b[1m}\u001b[0m                   \u001b[2m                        \u001b[0m\n"
      ]
     },
     "metadata": {},
     "output_type": "display_data"
    },
    {
     "name": "stdout",
     "output_type": "stream",
     "text": [
      "Epoch:6:  67%|██████▋   | [41:49<15:14, 281.34s/it, ]   \n",
      "\u001b[A\n",
      "\u001b[A\n",
      "\u001b[A\n",
      "\u001b[A\n",
      "\u001b[A\n",
      "\u001b[A\n",
      "\u001b[A\n",
      "\u001b[A\n",
      "\u001b[A\n",
      "\u001b[A\n",
      "\u001b[A\n",
      "\u001b[A\n",
      "\u001b[A\n",
      "\u001b[A\n",
      "\u001b[A\n",
      "\u001b[A\n",
      "\u001b[A\n",
      "\u001b[A\n",
      "\u001b[A\n",
      "\u001b[A\n",
      "\u001b[A\n",
      "\u001b[A\n",
      "\u001b[A\n",
      "\u001b[A\n",
      "\u001b[A\n",
      "\u001b[A\n",
      "\u001b[A\n",
      "\u001b[A\n",
      "\u001b[A\n",
      "\u001b[A\n",
      "\u001b[A\n",
      "\u001b[A\n",
      "\u001b[A\n",
      "\u001b[A\n",
      "\u001b[A\n",
      "\u001b[A\n",
      "\u001b[A\n",
      "\u001b[A\n",
      "\u001b[A\n",
      "\u001b[A\n",
      "\u001b[A\n",
      "\u001b[A\n",
      "\u001b[A"
     ]
    },
    {
     "data": {
      "text/html": [
       "<pre style=\"white-space:pre;overflow-x:auto;line-height:normal;font-family:Menlo,'DejaVu Sans Mono',consolas,'Courier New',monospace\"><span style=\"color: #7fbfbf; text-decoration-color: #7fbfbf\">[16:37:55] </span><span style=\"color: #000080; text-decoration-color: #000080\">INFO    </span> ----------Eval. results on Epoch:<span style=\"color: #008080; text-decoration-color: #008080; font-weight: bold\">6</span>,              <a href=\"file:///remote-home/pjli/anaconda3/envs/nlptorch/lib/python3.7/site-packages/fastNLP/core/callbacks/progress_callback.py\"><span style=\"color: #7f7f7f; text-decoration-color: #7f7f7f\">progress_callback.py</span></a><span style=\"color: #7f7f7f; text-decoration-color: #7f7f7f\">:</span><a href=\"file:///remote-home/pjli/anaconda3/envs/nlptorch/lib/python3.7/site-packages/fastNLP/core/callbacks/progress_callback.py#322\"><span style=\"color: #7f7f7f; text-decoration-color: #7f7f7f\">322</span></a>\n",
       "<span style=\"color: #7fbfbf; text-decoration-color: #7fbfbf\">           </span>         Batch:<span style=\"color: #008080; text-decoration-color: #008080; font-weight: bold\">976</span>----------                              <span style=\"color: #7f7f7f; text-decoration-color: #7f7f7f\">                        </span>\n",
       "</pre>\n"
      ],
      "text/plain": [
       "\u001b[2;36m[16:37:55]\u001b[0m\u001b[2;36m \u001b[0m\u001b[34mINFO    \u001b[0m ----------Eval. results on Epoch:\u001b[1;36m6\u001b[0m,              \u001b]8;id=466563;file:///remote-home/pjli/anaconda3/envs/nlptorch/lib/python3.7/site-packages/fastNLP/core/callbacks/progress_callback.py\u001b\\\u001b[2mprogress_callback.py\u001b[0m\u001b]8;;\u001b\\\u001b[2m:\u001b[0m\u001b]8;id=954775;file:///remote-home/pjli/anaconda3/envs/nlptorch/lib/python3.7/site-packages/fastNLP/core/callbacks/progress_callback.py#322\u001b\\\u001b[2m322\u001b[0m\u001b]8;;\u001b\\\n",
       "\u001b[2;36m           \u001b[0m         Batch:\u001b[1;36m976\u001b[0m----------                              \u001b[2m                        \u001b[0m\n"
      ]
     },
     "metadata": {},
     "output_type": "display_data"
    },
    {
     "data": {
      "text/html": [
       "<pre style=\"white-space:pre;overflow-x:auto;line-height:normal;font-family:Menlo,'DejaVu Sans Mono',consolas,'Courier New',monospace\"><span style=\"color: #7fbfbf; text-decoration-color: #7fbfbf\">           </span><span style=\"color: #000080; text-decoration-color: #000080\">INFO    </span> <span style=\"font-weight: bold\">{</span><span style=\"color: #008000; text-decoration-color: #008000\">\"f#F1\"</span>: <span style=\"color: #008080; text-decoration-color: #008080; font-weight: bold\">0.821722</span>, <span style=\"color: #008000; text-decoration-color: #008000\">\"pre#F1\"</span>: <span style=\"color: #008080; text-decoration-color: #008080; font-weight: bold\">0.846474</span>, <span style=\"color: #008000; text-decoration-color: #008000\">\"rec#F1\"</span>: <a href=\"file:///remote-home/pjli/anaconda3/envs/nlptorch/lib/python3.7/site-packages/fastNLP/core/callbacks/progress_callback.py\"><span style=\"color: #7f7f7f; text-decoration-color: #7f7f7f\">progress_callback.py</span></a><span style=\"color: #7f7f7f; text-decoration-color: #7f7f7f\">:</span><a href=\"file:///remote-home/pjli/anaconda3/envs/nlptorch/lib/python3.7/site-packages/fastNLP/core/callbacks/progress_callback.py#327\"><span style=\"color: #7f7f7f; text-decoration-color: #7f7f7f\">327</span></a>\n",
       "<span style=\"color: #7fbfbf; text-decoration-color: #7fbfbf\">           </span>         <span style=\"color: #008080; text-decoration-color: #008080; font-weight: bold\">0.798377</span>, <span style=\"color: #008000; text-decoration-color: #008000\">\"acc#acc\"</span>: <span style=\"color: #008080; text-decoration-color: #008080; font-weight: bold\">0.976991</span><span style=\"font-weight: bold\">}</span>                   <span style=\"color: #7f7f7f; text-decoration-color: #7f7f7f\">                        </span>\n",
       "</pre>\n"
      ],
      "text/plain": [
       "\u001b[2;36m          \u001b[0m\u001b[2;36m \u001b[0m\u001b[34mINFO    \u001b[0m \u001b[1m{\u001b[0m\u001b[32m\"f#F1\"\u001b[0m: \u001b[1;36m0.821722\u001b[0m, \u001b[32m\"pre#F1\"\u001b[0m: \u001b[1;36m0.846474\u001b[0m, \u001b[32m\"rec#F1\"\u001b[0m: \u001b]8;id=21103;file:///remote-home/pjli/anaconda3/envs/nlptorch/lib/python3.7/site-packages/fastNLP/core/callbacks/progress_callback.py\u001b\\\u001b[2mprogress_callback.py\u001b[0m\u001b]8;;\u001b\\\u001b[2m:\u001b[0m\u001b]8;id=768250;file:///remote-home/pjli/anaconda3/envs/nlptorch/lib/python3.7/site-packages/fastNLP/core/callbacks/progress_callback.py#327\u001b\\\u001b[2m327\u001b[0m\u001b]8;;\u001b\\\n",
       "\u001b[2;36m           \u001b[0m         \u001b[1;36m0.798377\u001b[0m, \u001b[32m\"acc#acc\"\u001b[0m: \u001b[1;36m0.976991\u001b[0m\u001b[1m}\u001b[0m                   \u001b[2m                        \u001b[0m\n"
      ]
     },
     "metadata": {},
     "output_type": "display_data"
    },
    {
     "name": "stdout",
     "output_type": "stream",
     "text": [
      "Epoch:6:  69%|██████▉   | [42:50<17:26, 337.83s/it, ]   \n",
      "\u001b[A\n",
      "\u001b[A\n",
      "\u001b[A\n",
      "\u001b[A\n",
      "\u001b[A\n",
      "\u001b[A\n",
      "\u001b[A\n",
      "\u001b[A\n",
      "\u001b[A\n",
      "\u001b[A\n",
      "\u001b[A\n",
      "\u001b[A\n",
      "\u001b[A\n",
      "\u001b[A\n",
      "\u001b[A\n",
      "\u001b[A\n",
      "\u001b[A\n",
      "\u001b[A\n",
      "\u001b[A\n",
      "\u001b[A\n",
      "\u001b[A\n",
      "\u001b[A\n",
      "\u001b[A\n",
      "\u001b[A\n",
      "\u001b[A\n",
      "\u001b[A\n",
      "\u001b[A\n",
      "\u001b[A\n",
      "\u001b[A\n",
      "\u001b[A\n",
      "\u001b[A\n",
      "\u001b[A\n",
      "\u001b[A\n",
      "\u001b[A\n",
      "\u001b[A\n",
      "\u001b[A\n",
      "\u001b[A\n",
      "\u001b[A\n",
      "\u001b[A\n",
      "\u001b[A\n",
      "\u001b[A\n",
      "\u001b[A\n",
      "\u001b[A"
     ]
    },
    {
     "data": {
      "text/html": [
       "<pre style=\"white-space:pre;overflow-x:auto;line-height:normal;font-family:Menlo,'DejaVu Sans Mono',consolas,'Courier New',monospace\"><span style=\"color: #7fbfbf; text-decoration-color: #7fbfbf\">[16:38:55] </span><span style=\"color: #000080; text-decoration-color: #000080\">INFO    </span> ++++++++++Eval. results on Epoch:<span style=\"color: #008080; text-decoration-color: #008080; font-weight: bold\">6</span>,              <a href=\"file:///remote-home/pjli/anaconda3/envs/nlptorch/lib/python3.7/site-packages/fastNLP/core/callbacks/progress_callback.py\"><span style=\"color: #7f7f7f; text-decoration-color: #7f7f7f\">progress_callback.py</span></a><span style=\"color: #7f7f7f; text-decoration-color: #7f7f7f\">:</span><a href=\"file:///remote-home/pjli/anaconda3/envs/nlptorch/lib/python3.7/site-packages/fastNLP/core/callbacks/progress_callback.py#322\"><span style=\"color: #7f7f7f; text-decoration-color: #7f7f7f\">322</span></a>\n",
       "<span style=\"color: #7fbfbf; text-decoration-color: #7fbfbf\">           </span>         Batch:<span style=\"color: #008080; text-decoration-color: #008080; font-weight: bold\">1176</span>++++++++++                             <span style=\"color: #7f7f7f; text-decoration-color: #7f7f7f\">                        </span>\n",
       "</pre>\n"
      ],
      "text/plain": [
       "\u001b[2;36m[16:38:55]\u001b[0m\u001b[2;36m \u001b[0m\u001b[34mINFO    \u001b[0m ++++++++++Eval. results on Epoch:\u001b[1;36m6\u001b[0m,              \u001b]8;id=950258;file:///remote-home/pjli/anaconda3/envs/nlptorch/lib/python3.7/site-packages/fastNLP/core/callbacks/progress_callback.py\u001b\\\u001b[2mprogress_callback.py\u001b[0m\u001b]8;;\u001b\\\u001b[2m:\u001b[0m\u001b]8;id=376933;file:///remote-home/pjli/anaconda3/envs/nlptorch/lib/python3.7/site-packages/fastNLP/core/callbacks/progress_callback.py#322\u001b\\\u001b[2m322\u001b[0m\u001b]8;;\u001b\\\n",
       "\u001b[2;36m           \u001b[0m         Batch:\u001b[1;36m1176\u001b[0m++++++++++                             \u001b[2m                        \u001b[0m\n"
      ]
     },
     "metadata": {},
     "output_type": "display_data"
    },
    {
     "data": {
      "text/html": [
       "<pre style=\"white-space:pre;overflow-x:auto;line-height:normal;font-family:Menlo,'DejaVu Sans Mono',consolas,'Courier New',monospace\"><span style=\"color: #7fbfbf; text-decoration-color: #7fbfbf\">           </span><span style=\"color: #000080; text-decoration-color: #000080\">INFO    </span> <span style=\"font-weight: bold\">{</span><span style=\"color: #008000; text-decoration-color: #008000\">\"f#F1\"</span>: <span style=\"color: #008080; text-decoration-color: #008080; font-weight: bold\">0.822947</span>, <span style=\"color: #008000; text-decoration-color: #008000\">\"pre#F1\"</span>: <span style=\"color: #008080; text-decoration-color: #008080; font-weight: bold\">0.866957</span>, <span style=\"color: #008000; text-decoration-color: #008000\">\"rec#F1\"</span>: <a href=\"file:///remote-home/pjli/anaconda3/envs/nlptorch/lib/python3.7/site-packages/fastNLP/core/callbacks/progress_callback.py\"><span style=\"color: #7f7f7f; text-decoration-color: #7f7f7f\">progress_callback.py</span></a><span style=\"color: #7f7f7f; text-decoration-color: #7f7f7f\">:</span><a href=\"file:///remote-home/pjli/anaconda3/envs/nlptorch/lib/python3.7/site-packages/fastNLP/core/callbacks/progress_callback.py#327\"><span style=\"color: #7f7f7f; text-decoration-color: #7f7f7f\">327</span></a>\n",
       "<span style=\"color: #7fbfbf; text-decoration-color: #7fbfbf\">           </span>         <span style=\"color: #008080; text-decoration-color: #008080; font-weight: bold\">0.783189</span>, <span style=\"color: #008000; text-decoration-color: #008000\">\"acc#acc\"</span>: <span style=\"color: #008080; text-decoration-color: #008080; font-weight: bold\">0.976445</span><span style=\"font-weight: bold\">}</span>                   <span style=\"color: #7f7f7f; text-decoration-color: #7f7f7f\">                        </span>\n",
       "</pre>\n"
      ],
      "text/plain": [
       "\u001b[2;36m          \u001b[0m\u001b[2;36m \u001b[0m\u001b[34mINFO    \u001b[0m \u001b[1m{\u001b[0m\u001b[32m\"f#F1\"\u001b[0m: \u001b[1;36m0.822947\u001b[0m, \u001b[32m\"pre#F1\"\u001b[0m: \u001b[1;36m0.866957\u001b[0m, \u001b[32m\"rec#F1\"\u001b[0m: \u001b]8;id=837689;file:///remote-home/pjli/anaconda3/envs/nlptorch/lib/python3.7/site-packages/fastNLP/core/callbacks/progress_callback.py\u001b\\\u001b[2mprogress_callback.py\u001b[0m\u001b]8;;\u001b\\\u001b[2m:\u001b[0m\u001b]8;id=202123;file:///remote-home/pjli/anaconda3/envs/nlptorch/lib/python3.7/site-packages/fastNLP/core/callbacks/progress_callback.py#327\u001b\\\u001b[2m327\u001b[0m\u001b]8;;\u001b\\\n",
       "\u001b[2;36m           \u001b[0m         \u001b[1;36m0.783189\u001b[0m, \u001b[32m\"acc#acc\"\u001b[0m: \u001b[1;36m0.976445\u001b[0m\u001b[1m}\u001b[0m                   \u001b[2m                        \u001b[0m\n"
      ]
     },
     "metadata": {},
     "output_type": "display_data"
    },
    {
     "name": "stdout",
     "output_type": "stream",
     "text": [
      "Epoch:7:  71%|███████   | [43:48<13:53, 283.08s/it, ]   \n",
      "\u001b[A\n",
      "\u001b[A\n",
      "\u001b[A\n",
      "\u001b[A\n",
      "\u001b[A\n",
      "\u001b[A\n",
      "\u001b[A\n",
      "\u001b[A\n",
      "\u001b[A\n",
      "\u001b[A\n",
      "\u001b[A\n",
      "\u001b[A\n",
      "\u001b[A\n",
      "\u001b[A\n",
      "\u001b[A\n",
      "\u001b[A\n",
      "\u001b[A\n",
      "\u001b[A\n",
      "\u001b[A\n",
      "\u001b[A\n",
      "\u001b[A\n",
      "\u001b[A\n",
      "\u001b[A\n",
      "\u001b[A\n",
      "\u001b[A\n",
      "\u001b[A\n",
      "\u001b[A\n",
      "\u001b[A\n",
      "\u001b[A\n",
      "\u001b[A\n",
      "\u001b[A\n",
      "\u001b[A\n",
      "\u001b[A\n",
      "\u001b[A\n",
      "\u001b[A\n",
      "\u001b[A\n",
      "\u001b[A\n",
      "\u001b[A\n",
      "\u001b[A\n",
      "\u001b[A\n",
      "\u001b[A\n",
      "\u001b[A\n",
      "\u001b[A\n",
      "\u001b[A\n",
      "\u001b[A\n",
      "\u001b[A\n",
      "\u001b[A"
     ]
    },
    {
     "data": {
      "text/html": [
       "<pre style=\"white-space:pre;overflow-x:auto;line-height:normal;font-family:Menlo,'DejaVu Sans Mono',consolas,'Courier New',monospace\"><span style=\"color: #7fbfbf; text-decoration-color: #7fbfbf\">[16:39:54] </span><span style=\"color: #000080; text-decoration-color: #000080\">INFO    </span> ++++++++++Eval. results on Epoch:<span style=\"color: #008080; text-decoration-color: #008080; font-weight: bold\">7</span>,              <a href=\"file:///remote-home/pjli/anaconda3/envs/nlptorch/lib/python3.7/site-packages/fastNLP/core/callbacks/progress_callback.py\"><span style=\"color: #7f7f7f; text-decoration-color: #7f7f7f\">progress_callback.py</span></a><span style=\"color: #7f7f7f; text-decoration-color: #7f7f7f\">:</span><a href=\"file:///remote-home/pjli/anaconda3/envs/nlptorch/lib/python3.7/site-packages/fastNLP/core/callbacks/progress_callback.py#322\"><span style=\"color: #7f7f7f; text-decoration-color: #7f7f7f\">322</span></a>\n",
       "<span style=\"color: #7fbfbf; text-decoration-color: #7fbfbf\">           </span>         Batch:<span style=\"color: #008080; text-decoration-color: #008080; font-weight: bold\">72</span>++++++++++                               <span style=\"color: #7f7f7f; text-decoration-color: #7f7f7f\">                        </span>\n",
       "</pre>\n"
      ],
      "text/plain": [
       "\u001b[2;36m[16:39:54]\u001b[0m\u001b[2;36m \u001b[0m\u001b[34mINFO    \u001b[0m ++++++++++Eval. results on Epoch:\u001b[1;36m7\u001b[0m,              \u001b]8;id=725852;file:///remote-home/pjli/anaconda3/envs/nlptorch/lib/python3.7/site-packages/fastNLP/core/callbacks/progress_callback.py\u001b\\\u001b[2mprogress_callback.py\u001b[0m\u001b]8;;\u001b\\\u001b[2m:\u001b[0m\u001b]8;id=486492;file:///remote-home/pjli/anaconda3/envs/nlptorch/lib/python3.7/site-packages/fastNLP/core/callbacks/progress_callback.py#322\u001b\\\u001b[2m322\u001b[0m\u001b]8;;\u001b\\\n",
       "\u001b[2;36m           \u001b[0m         Batch:\u001b[1;36m72\u001b[0m++++++++++                               \u001b[2m                        \u001b[0m\n"
      ]
     },
     "metadata": {},
     "output_type": "display_data"
    },
    {
     "data": {
      "text/html": [
       "<pre style=\"white-space:pre;overflow-x:auto;line-height:normal;font-family:Menlo,'DejaVu Sans Mono',consolas,'Courier New',monospace\"><span style=\"color: #7fbfbf; text-decoration-color: #7fbfbf\">           </span><span style=\"color: #000080; text-decoration-color: #000080\">INFO    </span> <span style=\"font-weight: bold\">{</span><span style=\"color: #008000; text-decoration-color: #008000\">\"f#F1\"</span>: <span style=\"color: #008080; text-decoration-color: #008080; font-weight: bold\">0.825329</span>, <span style=\"color: #008000; text-decoration-color: #008000\">\"pre#F1\"</span>: <span style=\"color: #008080; text-decoration-color: #008080; font-weight: bold\">0.846217</span>, <span style=\"color: #008000; text-decoration-color: #008000\">\"rec#F1\"</span>: <a href=\"file:///remote-home/pjli/anaconda3/envs/nlptorch/lib/python3.7/site-packages/fastNLP/core/callbacks/progress_callback.py\"><span style=\"color: #7f7f7f; text-decoration-color: #7f7f7f\">progress_callback.py</span></a><span style=\"color: #7f7f7f; text-decoration-color: #7f7f7f\">:</span><a href=\"file:///remote-home/pjli/anaconda3/envs/nlptorch/lib/python3.7/site-packages/fastNLP/core/callbacks/progress_callback.py#327\"><span style=\"color: #7f7f7f; text-decoration-color: #7f7f7f\">327</span></a>\n",
       "<span style=\"color: #7fbfbf; text-decoration-color: #7fbfbf\">           </span>         <span style=\"color: #008080; text-decoration-color: #008080; font-weight: bold\">0.805446</span>, <span style=\"color: #008000; text-decoration-color: #008000\">\"acc#acc\"</span>: <span style=\"color: #008080; text-decoration-color: #008080; font-weight: bold\">0.977919</span><span style=\"font-weight: bold\">}</span>                   <span style=\"color: #7f7f7f; text-decoration-color: #7f7f7f\">                        </span>\n",
       "</pre>\n"
      ],
      "text/plain": [
       "\u001b[2;36m          \u001b[0m\u001b[2;36m \u001b[0m\u001b[34mINFO    \u001b[0m \u001b[1m{\u001b[0m\u001b[32m\"f#F1\"\u001b[0m: \u001b[1;36m0.825329\u001b[0m, \u001b[32m\"pre#F1\"\u001b[0m: \u001b[1;36m0.846217\u001b[0m, \u001b[32m\"rec#F1\"\u001b[0m: \u001b]8;id=574166;file:///remote-home/pjli/anaconda3/envs/nlptorch/lib/python3.7/site-packages/fastNLP/core/callbacks/progress_callback.py\u001b\\\u001b[2mprogress_callback.py\u001b[0m\u001b]8;;\u001b\\\u001b[2m:\u001b[0m\u001b]8;id=981106;file:///remote-home/pjli/anaconda3/envs/nlptorch/lib/python3.7/site-packages/fastNLP/core/callbacks/progress_callback.py#327\u001b\\\u001b[2m327\u001b[0m\u001b]8;;\u001b\\\n",
       "\u001b[2;36m           \u001b[0m         \u001b[1;36m0.805446\u001b[0m, \u001b[32m\"acc#acc\"\u001b[0m: \u001b[1;36m0.977919\u001b[0m\u001b[1m}\u001b[0m                   \u001b[2m                        \u001b[0m\n"
      ]
     },
     "metadata": {},
     "output_type": "display_data"
    },
    {
     "name": "stdout",
     "output_type": "stream",
     "text": [
      "Epoch:7:  72%|███████▏  | [44:44<12:51, 276.42s/it, ]   \n",
      "\u001b[A\n",
      "\u001b[A\n",
      "\u001b[A\n",
      "\u001b[A\n",
      "\u001b[A\n",
      "\u001b[A\n",
      "\u001b[A\n",
      "\u001b[A\n",
      "\u001b[A\n",
      "\u001b[A\n",
      "\u001b[A\n",
      "\u001b[A\n",
      "\u001b[A\n",
      "\u001b[A\n",
      "\u001b[A\n",
      "\u001b[A\n",
      "\u001b[A\n",
      "\u001b[A\n",
      "\u001b[A\n",
      "\u001b[A\n",
      "\u001b[A\n",
      "\u001b[A\n",
      "\u001b[A\n",
      "\u001b[A\n",
      "\u001b[A\n",
      "\u001b[A\n",
      "\u001b[A\n",
      "\u001b[A\n",
      "\u001b[A\n",
      "\u001b[A\n",
      "\u001b[A\n",
      "\u001b[A\n",
      "\u001b[A\n",
      "\u001b[A\n",
      "\u001b[A\n",
      "\u001b[A\n",
      "\u001b[A\n",
      "\u001b[A\n",
      "\u001b[A\n",
      "\u001b[A\n",
      "\u001b[A\n",
      "\u001b[A\n",
      "\u001b[A\n",
      "\u001b[A\n",
      "\u001b[A"
     ]
    },
    {
     "data": {
      "text/html": [
       "<pre style=\"white-space:pre;overflow-x:auto;line-height:normal;font-family:Menlo,'DejaVu Sans Mono',consolas,'Courier New',monospace\"><span style=\"color: #7fbfbf; text-decoration-color: #7fbfbf\">[16:40:50] </span><span style=\"color: #000080; text-decoration-color: #000080\">INFO    </span> ----------Eval. results on Epoch:<span style=\"color: #008080; text-decoration-color: #008080; font-weight: bold\">7</span>,              <a href=\"file:///remote-home/pjli/anaconda3/envs/nlptorch/lib/python3.7/site-packages/fastNLP/core/callbacks/progress_callback.py\"><span style=\"color: #7f7f7f; text-decoration-color: #7f7f7f\">progress_callback.py</span></a><span style=\"color: #7f7f7f; text-decoration-color: #7f7f7f\">:</span><a href=\"file:///remote-home/pjli/anaconda3/envs/nlptorch/lib/python3.7/site-packages/fastNLP/core/callbacks/progress_callback.py#322\"><span style=\"color: #7f7f7f; text-decoration-color: #7f7f7f\">322</span></a>\n",
       "<span style=\"color: #7fbfbf; text-decoration-color: #7fbfbf\">           </span>         Batch:<span style=\"color: #008080; text-decoration-color: #008080; font-weight: bold\">272</span>----------                              <span style=\"color: #7f7f7f; text-decoration-color: #7f7f7f\">                        </span>\n",
       "</pre>\n"
      ],
      "text/plain": [
       "\u001b[2;36m[16:40:50]\u001b[0m\u001b[2;36m \u001b[0m\u001b[34mINFO    \u001b[0m ----------Eval. results on Epoch:\u001b[1;36m7\u001b[0m,              \u001b]8;id=881908;file:///remote-home/pjli/anaconda3/envs/nlptorch/lib/python3.7/site-packages/fastNLP/core/callbacks/progress_callback.py\u001b\\\u001b[2mprogress_callback.py\u001b[0m\u001b]8;;\u001b\\\u001b[2m:\u001b[0m\u001b]8;id=680343;file:///remote-home/pjli/anaconda3/envs/nlptorch/lib/python3.7/site-packages/fastNLP/core/callbacks/progress_callback.py#322\u001b\\\u001b[2m322\u001b[0m\u001b]8;;\u001b\\\n",
       "\u001b[2;36m           \u001b[0m         Batch:\u001b[1;36m272\u001b[0m----------                              \u001b[2m                        \u001b[0m\n"
      ]
     },
     "metadata": {},
     "output_type": "display_data"
    },
    {
     "data": {
      "text/html": [
       "<pre style=\"white-space:pre;overflow-x:auto;line-height:normal;font-family:Menlo,'DejaVu Sans Mono',consolas,'Courier New',monospace\"><span style=\"color: #7fbfbf; text-decoration-color: #7fbfbf\">           </span><span style=\"color: #000080; text-decoration-color: #000080\">INFO    </span> <span style=\"font-weight: bold\">{</span><span style=\"color: #008000; text-decoration-color: #008000\">\"f#F1\"</span>: <span style=\"color: #008080; text-decoration-color: #008080; font-weight: bold\">0.821568</span>, <span style=\"color: #008000; text-decoration-color: #008000\">\"pre#F1\"</span>: <span style=\"color: #008080; text-decoration-color: #008080; font-weight: bold\">0.844389</span>, <span style=\"color: #008000; text-decoration-color: #008000\">\"rec#F1\"</span>: <a href=\"file:///remote-home/pjli/anaconda3/envs/nlptorch/lib/python3.7/site-packages/fastNLP/core/callbacks/progress_callback.py\"><span style=\"color: #7f7f7f; text-decoration-color: #7f7f7f\">progress_callback.py</span></a><span style=\"color: #7f7f7f; text-decoration-color: #7f7f7f\">:</span><a href=\"file:///remote-home/pjli/anaconda3/envs/nlptorch/lib/python3.7/site-packages/fastNLP/core/callbacks/progress_callback.py#327\"><span style=\"color: #7f7f7f; text-decoration-color: #7f7f7f\">327</span></a>\n",
       "<span style=\"color: #7fbfbf; text-decoration-color: #7fbfbf\">           </span>         <span style=\"color: #008080; text-decoration-color: #008080; font-weight: bold\">0.799948</span>, <span style=\"color: #008000; text-decoration-color: #008000\">\"acc#acc\"</span>: <span style=\"color: #008080; text-decoration-color: #008080; font-weight: bold\">0.976663</span><span style=\"font-weight: bold\">}</span>                   <span style=\"color: #7f7f7f; text-decoration-color: #7f7f7f\">                        </span>\n",
       "</pre>\n"
      ],
      "text/plain": [
       "\u001b[2;36m          \u001b[0m\u001b[2;36m \u001b[0m\u001b[34mINFO    \u001b[0m \u001b[1m{\u001b[0m\u001b[32m\"f#F1\"\u001b[0m: \u001b[1;36m0.821568\u001b[0m, \u001b[32m\"pre#F1\"\u001b[0m: \u001b[1;36m0.844389\u001b[0m, \u001b[32m\"rec#F1\"\u001b[0m: \u001b]8;id=972957;file:///remote-home/pjli/anaconda3/envs/nlptorch/lib/python3.7/site-packages/fastNLP/core/callbacks/progress_callback.py\u001b\\\u001b[2mprogress_callback.py\u001b[0m\u001b]8;;\u001b\\\u001b[2m:\u001b[0m\u001b]8;id=121250;file:///remote-home/pjli/anaconda3/envs/nlptorch/lib/python3.7/site-packages/fastNLP/core/callbacks/progress_callback.py#327\u001b\\\u001b[2m327\u001b[0m\u001b]8;;\u001b\\\n",
       "\u001b[2;36m           \u001b[0m         \u001b[1;36m0.799948\u001b[0m, \u001b[32m\"acc#acc\"\u001b[0m: \u001b[1;36m0.976663\u001b[0m\u001b[1m}\u001b[0m                   \u001b[2m                        \u001b[0m\n"
      ]
     },
     "metadata": {},
     "output_type": "display_data"
    },
    {
     "name": "stdout",
     "output_type": "stream",
     "text": [
      "Epoch:7:  74%|███████▎  | [45:39<16:18, 371.09s/it, ]   \n",
      "\u001b[A\n",
      "\u001b[A\n",
      "\u001b[A\n",
      "\u001b[A\n",
      "\u001b[A\n",
      "\u001b[A\n",
      "\u001b[A\n",
      "\u001b[A\n",
      "\u001b[A\n",
      "\u001b[A\n",
      "\u001b[A\n",
      "\u001b[A\n",
      "\u001b[A\n",
      "\u001b[A\n",
      "\u001b[A\n",
      "\u001b[A\n",
      "\u001b[A\n",
      "\u001b[A\n",
      "\u001b[A\n",
      "\u001b[A\n",
      "\u001b[A\n",
      "\u001b[A\n",
      "\u001b[A\n",
      "\u001b[A\n",
      "\u001b[A\n",
      "\u001b[A\n",
      "\u001b[A\n",
      "\u001b[A\n",
      "\u001b[A\n",
      "\u001b[A\n",
      "\u001b[A\n",
      "\u001b[A\n",
      "\u001b[A\n",
      "\u001b[A\n",
      "\u001b[A\n",
      "\u001b[A\n",
      "\u001b[A\n",
      "\u001b[A\n",
      "\u001b[A\n",
      "\u001b[A\n",
      "\u001b[A\n",
      "\u001b[A\n",
      "\u001b[A\n",
      "\u001b[A\n",
      "\u001b[A\n",
      "\u001b[A\n",
      "\u001b[A"
     ]
    },
    {
     "data": {
      "text/html": [
       "<pre style=\"white-space:pre;overflow-x:auto;line-height:normal;font-family:Menlo,'DejaVu Sans Mono',consolas,'Courier New',monospace\"><span style=\"color: #7fbfbf; text-decoration-color: #7fbfbf\">[16:41:45] </span><span style=\"color: #000080; text-decoration-color: #000080\">INFO    </span> ----------Eval. results on Epoch:<span style=\"color: #008080; text-decoration-color: #008080; font-weight: bold\">7</span>,              <a href=\"file:///remote-home/pjli/anaconda3/envs/nlptorch/lib/python3.7/site-packages/fastNLP/core/callbacks/progress_callback.py\"><span style=\"color: #7f7f7f; text-decoration-color: #7f7f7f\">progress_callback.py</span></a><span style=\"color: #7f7f7f; text-decoration-color: #7f7f7f\">:</span><a href=\"file:///remote-home/pjli/anaconda3/envs/nlptorch/lib/python3.7/site-packages/fastNLP/core/callbacks/progress_callback.py#322\"><span style=\"color: #7f7f7f; text-decoration-color: #7f7f7f\">322</span></a>\n",
       "<span style=\"color: #7fbfbf; text-decoration-color: #7fbfbf\">           </span>         Batch:<span style=\"color: #008080; text-decoration-color: #008080; font-weight: bold\">472</span>----------                              <span style=\"color: #7f7f7f; text-decoration-color: #7f7f7f\">                        </span>\n",
       "</pre>\n"
      ],
      "text/plain": [
       "\u001b[2;36m[16:41:45]\u001b[0m\u001b[2;36m \u001b[0m\u001b[34mINFO    \u001b[0m ----------Eval. results on Epoch:\u001b[1;36m7\u001b[0m,              \u001b]8;id=883192;file:///remote-home/pjli/anaconda3/envs/nlptorch/lib/python3.7/site-packages/fastNLP/core/callbacks/progress_callback.py\u001b\\\u001b[2mprogress_callback.py\u001b[0m\u001b]8;;\u001b\\\u001b[2m:\u001b[0m\u001b]8;id=164164;file:///remote-home/pjli/anaconda3/envs/nlptorch/lib/python3.7/site-packages/fastNLP/core/callbacks/progress_callback.py#322\u001b\\\u001b[2m322\u001b[0m\u001b]8;;\u001b\\\n",
       "\u001b[2;36m           \u001b[0m         Batch:\u001b[1;36m472\u001b[0m----------                              \u001b[2m                        \u001b[0m\n"
      ]
     },
     "metadata": {},
     "output_type": "display_data"
    },
    {
     "data": {
      "text/html": [
       "<pre style=\"white-space:pre;overflow-x:auto;line-height:normal;font-family:Menlo,'DejaVu Sans Mono',consolas,'Courier New',monospace\"><span style=\"color: #7fbfbf; text-decoration-color: #7fbfbf\">           </span><span style=\"color: #000080; text-decoration-color: #000080\">INFO    </span> <span style=\"font-weight: bold\">{</span><span style=\"color: #008000; text-decoration-color: #008000\">\"f#F1\"</span>: <span style=\"color: #008080; text-decoration-color: #008080; font-weight: bold\">0.825289</span>, <span style=\"color: #008000; text-decoration-color: #008000\">\"pre#F1\"</span>: <span style=\"color: #008080; text-decoration-color: #008080; font-weight: bold\">0.858314</span>, <span style=\"color: #008000; text-decoration-color: #008000\">\"rec#F1\"</span>: <a href=\"file:///remote-home/pjli/anaconda3/envs/nlptorch/lib/python3.7/site-packages/fastNLP/core/callbacks/progress_callback.py\"><span style=\"color: #7f7f7f; text-decoration-color: #7f7f7f\">progress_callback.py</span></a><span style=\"color: #7f7f7f; text-decoration-color: #7f7f7f\">:</span><a href=\"file:///remote-home/pjli/anaconda3/envs/nlptorch/lib/python3.7/site-packages/fastNLP/core/callbacks/progress_callback.py#327\"><span style=\"color: #7f7f7f; text-decoration-color: #7f7f7f\">327</span></a>\n",
       "<span style=\"color: #7fbfbf; text-decoration-color: #7fbfbf\">           </span>         <span style=\"color: #008080; text-decoration-color: #008080; font-weight: bold\">0.794711</span>, <span style=\"color: #008000; text-decoration-color: #008000\">\"acc#acc\"</span>: <span style=\"color: #008080; text-decoration-color: #008080; font-weight: bold\">0.9772</span><span style=\"font-weight: bold\">}</span>                     <span style=\"color: #7f7f7f; text-decoration-color: #7f7f7f\">                        </span>\n",
       "</pre>\n"
      ],
      "text/plain": [
       "\u001b[2;36m          \u001b[0m\u001b[2;36m \u001b[0m\u001b[34mINFO    \u001b[0m \u001b[1m{\u001b[0m\u001b[32m\"f#F1\"\u001b[0m: \u001b[1;36m0.825289\u001b[0m, \u001b[32m\"pre#F1\"\u001b[0m: \u001b[1;36m0.858314\u001b[0m, \u001b[32m\"rec#F1\"\u001b[0m: \u001b]8;id=559471;file:///remote-home/pjli/anaconda3/envs/nlptorch/lib/python3.7/site-packages/fastNLP/core/callbacks/progress_callback.py\u001b\\\u001b[2mprogress_callback.py\u001b[0m\u001b]8;;\u001b\\\u001b[2m:\u001b[0m\u001b]8;id=4746;file:///remote-home/pjli/anaconda3/envs/nlptorch/lib/python3.7/site-packages/fastNLP/core/callbacks/progress_callback.py#327\u001b\\\u001b[2m327\u001b[0m\u001b]8;;\u001b\\\n",
       "\u001b[2;36m           \u001b[0m         \u001b[1;36m0.794711\u001b[0m, \u001b[32m\"acc#acc\"\u001b[0m: \u001b[1;36m0.9772\u001b[0m\u001b[1m}\u001b[0m                     \u001b[2m                        \u001b[0m\n"
      ]
     },
     "metadata": {},
     "output_type": "display_data"
    },
    {
     "name": "stdout",
     "output_type": "stream",
     "text": [
      "Epoch:7:  75%|███████▌  | [46:35<11:23, 274.95s/it, ]   \n",
      "\u001b[A\n",
      "\u001b[A\n",
      "\u001b[A\n",
      "\u001b[A\n",
      "\u001b[A\n",
      "\u001b[A\n",
      "\u001b[A\n",
      "\u001b[A\n",
      "\u001b[A\n",
      "\u001b[A\n",
      "\u001b[A\n",
      "\u001b[A\n",
      "\u001b[A\n",
      "\u001b[A\n",
      "\u001b[A\n",
      "\u001b[A\n",
      "\u001b[A\n",
      "\u001b[A\n",
      "\u001b[A\n",
      "\u001b[A\n",
      "\u001b[A\n",
      "\u001b[A\n",
      "\u001b[A\n",
      "\u001b[A\n",
      "\u001b[A\n",
      "\u001b[A\n",
      "\u001b[A\n",
      "\u001b[A\n",
      "\u001b[A\n",
      "\u001b[A\n",
      "\u001b[A\n",
      "\u001b[A\n",
      "\u001b[A\n",
      "\u001b[A\n",
      "\u001b[A\n",
      "\u001b[A\n",
      "\u001b[A\n",
      "\u001b[A\n",
      "\u001b[A\n",
      "\u001b[A"
     ]
    },
    {
     "data": {
      "text/html": [
       "<pre style=\"white-space:pre;overflow-x:auto;line-height:normal;font-family:Menlo,'DejaVu Sans Mono',consolas,'Courier New',monospace\"><span style=\"color: #7fbfbf; text-decoration-color: #7fbfbf\">[16:42:40] </span><span style=\"color: #000080; text-decoration-color: #000080\">INFO    </span> ++++++++++Eval. results on Epoch:<span style=\"color: #008080; text-decoration-color: #008080; font-weight: bold\">7</span>,              <a href=\"file:///remote-home/pjli/anaconda3/envs/nlptorch/lib/python3.7/site-packages/fastNLP/core/callbacks/progress_callback.py\"><span style=\"color: #7f7f7f; text-decoration-color: #7f7f7f\">progress_callback.py</span></a><span style=\"color: #7f7f7f; text-decoration-color: #7f7f7f\">:</span><a href=\"file:///remote-home/pjli/anaconda3/envs/nlptorch/lib/python3.7/site-packages/fastNLP/core/callbacks/progress_callback.py#322\"><span style=\"color: #7f7f7f; text-decoration-color: #7f7f7f\">322</span></a>\n",
       "<span style=\"color: #7fbfbf; text-decoration-color: #7fbfbf\">           </span>         Batch:<span style=\"color: #008080; text-decoration-color: #008080; font-weight: bold\">672</span>++++++++++                              <span style=\"color: #7f7f7f; text-decoration-color: #7f7f7f\">                        </span>\n",
       "</pre>\n"
      ],
      "text/plain": [
       "\u001b[2;36m[16:42:40]\u001b[0m\u001b[2;36m \u001b[0m\u001b[34mINFO    \u001b[0m ++++++++++Eval. results on Epoch:\u001b[1;36m7\u001b[0m,              \u001b]8;id=660426;file:///remote-home/pjli/anaconda3/envs/nlptorch/lib/python3.7/site-packages/fastNLP/core/callbacks/progress_callback.py\u001b\\\u001b[2mprogress_callback.py\u001b[0m\u001b]8;;\u001b\\\u001b[2m:\u001b[0m\u001b]8;id=186566;file:///remote-home/pjli/anaconda3/envs/nlptorch/lib/python3.7/site-packages/fastNLP/core/callbacks/progress_callback.py#322\u001b\\\u001b[2m322\u001b[0m\u001b]8;;\u001b\\\n",
       "\u001b[2;36m           \u001b[0m         Batch:\u001b[1;36m672\u001b[0m++++++++++                              \u001b[2m                        \u001b[0m\n"
      ]
     },
     "metadata": {},
     "output_type": "display_data"
    },
    {
     "data": {
      "text/html": [
       "<pre style=\"white-space:pre;overflow-x:auto;line-height:normal;font-family:Menlo,'DejaVu Sans Mono',consolas,'Courier New',monospace\"><span style=\"color: #7fbfbf; text-decoration-color: #7fbfbf\">           </span><span style=\"color: #000080; text-decoration-color: #000080\">INFO    </span> <span style=\"font-weight: bold\">{</span><span style=\"color: #008000; text-decoration-color: #008000\">\"f#F1\"</span>: <span style=\"color: #008080; text-decoration-color: #008080; font-weight: bold\">0.828165</span>, <span style=\"color: #008000; text-decoration-color: #008000\">\"pre#F1\"</span>: <span style=\"color: #008080; text-decoration-color: #008080; font-weight: bold\">0.857543</span>, <span style=\"color: #008000; text-decoration-color: #008000\">\"rec#F1\"</span>: <a href=\"file:///remote-home/pjli/anaconda3/envs/nlptorch/lib/python3.7/site-packages/fastNLP/core/callbacks/progress_callback.py\"><span style=\"color: #7f7f7f; text-decoration-color: #7f7f7f\">progress_callback.py</span></a><span style=\"color: #7f7f7f; text-decoration-color: #7f7f7f\">:</span><a href=\"file:///remote-home/pjli/anaconda3/envs/nlptorch/lib/python3.7/site-packages/fastNLP/core/callbacks/progress_callback.py#327\"><span style=\"color: #7f7f7f; text-decoration-color: #7f7f7f\">327</span></a>\n",
       "<span style=\"color: #7fbfbf; text-decoration-color: #7fbfbf\">           </span>         <span style=\"color: #008080; text-decoration-color: #008080; font-weight: bold\">0.800733</span>, <span style=\"color: #008000; text-decoration-color: #008000\">\"acc#acc\"</span>: <span style=\"color: #008080; text-decoration-color: #008080; font-weight: bold\">0.977464</span><span style=\"font-weight: bold\">}</span>                   <span style=\"color: #7f7f7f; text-decoration-color: #7f7f7f\">                        </span>\n",
       "</pre>\n"
      ],
      "text/plain": [
       "\u001b[2;36m          \u001b[0m\u001b[2;36m \u001b[0m\u001b[34mINFO    \u001b[0m \u001b[1m{\u001b[0m\u001b[32m\"f#F1\"\u001b[0m: \u001b[1;36m0.828165\u001b[0m, \u001b[32m\"pre#F1\"\u001b[0m: \u001b[1;36m0.857543\u001b[0m, \u001b[32m\"rec#F1\"\u001b[0m: \u001b]8;id=838010;file:///remote-home/pjli/anaconda3/envs/nlptorch/lib/python3.7/site-packages/fastNLP/core/callbacks/progress_callback.py\u001b\\\u001b[2mprogress_callback.py\u001b[0m\u001b]8;;\u001b\\\u001b[2m:\u001b[0m\u001b]8;id=424717;file:///remote-home/pjli/anaconda3/envs/nlptorch/lib/python3.7/site-packages/fastNLP/core/callbacks/progress_callback.py#327\u001b\\\u001b[2m327\u001b[0m\u001b]8;;\u001b\\\n",
       "\u001b[2;36m           \u001b[0m         \u001b[1;36m0.800733\u001b[0m, \u001b[32m\"acc#acc\"\u001b[0m: \u001b[1;36m0.977464\u001b[0m\u001b[1m}\u001b[0m                   \u001b[2m                        \u001b[0m\n"
      ]
     },
     "metadata": {},
     "output_type": "display_data"
    },
    {
     "name": "stdout",
     "output_type": "stream",
     "text": [
      "Epoch:7:  77%|███████▋  | [47:34<11:06, 285.99s/it, ]   \n",
      "\u001b[A\n",
      "\u001b[A\n",
      "\u001b[A\n",
      "\u001b[A\n",
      "\u001b[A\n",
      "\u001b[A\n",
      "\u001b[A\n",
      "\u001b[A\n",
      "\u001b[A\n",
      "\u001b[A\n",
      "\u001b[A\n",
      "\u001b[A\n",
      "\u001b[A\n",
      "\u001b[A\n",
      "\u001b[A\n",
      "\u001b[A\n",
      "\u001b[A\n",
      "\u001b[A\n",
      "\u001b[A\n",
      "\u001b[A\n",
      "\u001b[A\n",
      "\u001b[A\n",
      "\u001b[A\n",
      "\u001b[A\n",
      "\u001b[A\n",
      "\u001b[A\n",
      "\u001b[A\n",
      "\u001b[A\n",
      "\u001b[A\n",
      "\u001b[A\n",
      "\u001b[A\n",
      "\u001b[A\n",
      "\u001b[A\n",
      "\u001b[A\n",
      "\u001b[A\n",
      "\u001b[A\n",
      "\u001b[A\n",
      "\u001b[A\n",
      "\u001b[A\n",
      "\u001b[A\n",
      "\u001b[A\n",
      "\u001b[A"
     ]
    },
    {
     "data": {
      "text/html": [
       "<pre style=\"white-space:pre;overflow-x:auto;line-height:normal;font-family:Menlo,'DejaVu Sans Mono',consolas,'Courier New',monospace\"><span style=\"color: #7fbfbf; text-decoration-color: #7fbfbf\">[16:43:40] </span><span style=\"color: #000080; text-decoration-color: #000080\">INFO    </span> ++++++++++Eval. results on Epoch:<span style=\"color: #008080; text-decoration-color: #008080; font-weight: bold\">7</span>,              <a href=\"file:///remote-home/pjli/anaconda3/envs/nlptorch/lib/python3.7/site-packages/fastNLP/core/callbacks/progress_callback.py\"><span style=\"color: #7f7f7f; text-decoration-color: #7f7f7f\">progress_callback.py</span></a><span style=\"color: #7f7f7f; text-decoration-color: #7f7f7f\">:</span><a href=\"file:///remote-home/pjli/anaconda3/envs/nlptorch/lib/python3.7/site-packages/fastNLP/core/callbacks/progress_callback.py#322\"><span style=\"color: #7f7f7f; text-decoration-color: #7f7f7f\">322</span></a>\n",
       "<span style=\"color: #7fbfbf; text-decoration-color: #7fbfbf\">           </span>         Batch:<span style=\"color: #008080; text-decoration-color: #008080; font-weight: bold\">872</span>++++++++++                              <span style=\"color: #7f7f7f; text-decoration-color: #7f7f7f\">                        </span>\n",
       "</pre>\n"
      ],
      "text/plain": [
       "\u001b[2;36m[16:43:40]\u001b[0m\u001b[2;36m \u001b[0m\u001b[34mINFO    \u001b[0m ++++++++++Eval. results on Epoch:\u001b[1;36m7\u001b[0m,              \u001b]8;id=997564;file:///remote-home/pjli/anaconda3/envs/nlptorch/lib/python3.7/site-packages/fastNLP/core/callbacks/progress_callback.py\u001b\\\u001b[2mprogress_callback.py\u001b[0m\u001b]8;;\u001b\\\u001b[2m:\u001b[0m\u001b]8;id=588416;file:///remote-home/pjli/anaconda3/envs/nlptorch/lib/python3.7/site-packages/fastNLP/core/callbacks/progress_callback.py#322\u001b\\\u001b[2m322\u001b[0m\u001b]8;;\u001b\\\n",
       "\u001b[2;36m           \u001b[0m         Batch:\u001b[1;36m872\u001b[0m++++++++++                              \u001b[2m                        \u001b[0m\n"
      ]
     },
     "metadata": {},
     "output_type": "display_data"
    },
    {
     "data": {
      "text/html": [
       "<pre style=\"white-space:pre;overflow-x:auto;line-height:normal;font-family:Menlo,'DejaVu Sans Mono',consolas,'Courier New',monospace\"><span style=\"color: #7fbfbf; text-decoration-color: #7fbfbf\">           </span><span style=\"color: #000080; text-decoration-color: #000080\">INFO    </span> <span style=\"font-weight: bold\">{</span><span style=\"color: #008000; text-decoration-color: #008000\">\"f#F1\"</span>: <span style=\"color: #008080; text-decoration-color: #008080; font-weight: bold\">0.830922</span>, <span style=\"color: #008000; text-decoration-color: #008000\">\"pre#F1\"</span>: <span style=\"color: #008080; text-decoration-color: #008080; font-weight: bold\">0.850754</span>, <span style=\"color: #008000; text-decoration-color: #008000\">\"rec#F1\"</span>: <a href=\"file:///remote-home/pjli/anaconda3/envs/nlptorch/lib/python3.7/site-packages/fastNLP/core/callbacks/progress_callback.py\"><span style=\"color: #7f7f7f; text-decoration-color: #7f7f7f\">progress_callback.py</span></a><span style=\"color: #7f7f7f; text-decoration-color: #7f7f7f\">:</span><a href=\"file:///remote-home/pjli/anaconda3/envs/nlptorch/lib/python3.7/site-packages/fastNLP/core/callbacks/progress_callback.py#327\"><span style=\"color: #7f7f7f; text-decoration-color: #7f7f7f\">327</span></a>\n",
       "<span style=\"color: #7fbfbf; text-decoration-color: #7fbfbf\">           </span>         <span style=\"color: #008080; text-decoration-color: #008080; font-weight: bold\">0.811993</span>, <span style=\"color: #008000; text-decoration-color: #008000\">\"acc#acc\"</span>: <span style=\"color: #008080; text-decoration-color: #008080; font-weight: bold\">0.977828</span><span style=\"font-weight: bold\">}</span>                   <span style=\"color: #7f7f7f; text-decoration-color: #7f7f7f\">                        </span>\n",
       "</pre>\n"
      ],
      "text/plain": [
       "\u001b[2;36m          \u001b[0m\u001b[2;36m \u001b[0m\u001b[34mINFO    \u001b[0m \u001b[1m{\u001b[0m\u001b[32m\"f#F1\"\u001b[0m: \u001b[1;36m0.830922\u001b[0m, \u001b[32m\"pre#F1\"\u001b[0m: \u001b[1;36m0.850754\u001b[0m, \u001b[32m\"rec#F1\"\u001b[0m: \u001b]8;id=382278;file:///remote-home/pjli/anaconda3/envs/nlptorch/lib/python3.7/site-packages/fastNLP/core/callbacks/progress_callback.py\u001b\\\u001b[2mprogress_callback.py\u001b[0m\u001b]8;;\u001b\\\u001b[2m:\u001b[0m\u001b]8;id=667923;file:///remote-home/pjli/anaconda3/envs/nlptorch/lib/python3.7/site-packages/fastNLP/core/callbacks/progress_callback.py#327\u001b\\\u001b[2m327\u001b[0m\u001b]8;;\u001b\\\n",
       "\u001b[2;36m           \u001b[0m         \u001b[1;36m0.811993\u001b[0m, \u001b[32m\"acc#acc\"\u001b[0m: \u001b[1;36m0.977828\u001b[0m\u001b[1m}\u001b[0m                   \u001b[2m                        \u001b[0m\n"
      ]
     },
     "metadata": {},
     "output_type": "display_data"
    },
    {
     "name": "stdout",
     "output_type": "stream",
     "text": [
      "Epoch:7:  78%|███████▊  | [48:33<14:08, 389.49s/it, ]   \n",
      "\u001b[A\n",
      "\u001b[A\n",
      "\u001b[A\n",
      "\u001b[A\n",
      "\u001b[A\n",
      "\u001b[A\n",
      "\u001b[A\n",
      "\u001b[A\n",
      "\u001b[A\n",
      "\u001b[A\n",
      "\u001b[A\n",
      "\u001b[A\n",
      "\u001b[A\n",
      "\u001b[A\n",
      "\u001b[A\n",
      "\u001b[A\n",
      "\u001b[A\n",
      "\u001b[A\n",
      "\u001b[A\n",
      "\u001b[A\n",
      "\u001b[A\n",
      "\u001b[A\n",
      "\u001b[A\n",
      "\u001b[A\n",
      "\u001b[A\n",
      "\u001b[A\n",
      "\u001b[A\n",
      "\u001b[A\n",
      "\u001b[A\n",
      "\u001b[A\n",
      "\u001b[A\n",
      "\u001b[A\n",
      "\u001b[A\n",
      "\u001b[A\n",
      "\u001b[A\n",
      "\u001b[A\n",
      "\u001b[A\n",
      "\u001b[A\n",
      "\u001b[A\n",
      "\u001b[A\n",
      "\u001b[A\n",
      "\u001b[A"
     ]
    },
    {
     "data": {
      "text/html": [
       "<pre style=\"white-space:pre;overflow-x:auto;line-height:normal;font-family:Menlo,'DejaVu Sans Mono',consolas,'Courier New',monospace\"><span style=\"color: #7fbfbf; text-decoration-color: #7fbfbf\">[16:44:39] </span><span style=\"color: #000080; text-decoration-color: #000080\">INFO    </span> ----------Eval. results on Epoch:<span style=\"color: #008080; text-decoration-color: #008080; font-weight: bold\">7</span>,              <a href=\"file:///remote-home/pjli/anaconda3/envs/nlptorch/lib/python3.7/site-packages/fastNLP/core/callbacks/progress_callback.py\"><span style=\"color: #7f7f7f; text-decoration-color: #7f7f7f\">progress_callback.py</span></a><span style=\"color: #7f7f7f; text-decoration-color: #7f7f7f\">:</span><a href=\"file:///remote-home/pjli/anaconda3/envs/nlptorch/lib/python3.7/site-packages/fastNLP/core/callbacks/progress_callback.py#322\"><span style=\"color: #7f7f7f; text-decoration-color: #7f7f7f\">322</span></a>\n",
       "<span style=\"color: #7fbfbf; text-decoration-color: #7fbfbf\">           </span>         Batch:<span style=\"color: #008080; text-decoration-color: #008080; font-weight: bold\">1072</span>----------                             <span style=\"color: #7f7f7f; text-decoration-color: #7f7f7f\">                        </span>\n",
       "</pre>\n"
      ],
      "text/plain": [
       "\u001b[2;36m[16:44:39]\u001b[0m\u001b[2;36m \u001b[0m\u001b[34mINFO    \u001b[0m ----------Eval. results on Epoch:\u001b[1;36m7\u001b[0m,              \u001b]8;id=749886;file:///remote-home/pjli/anaconda3/envs/nlptorch/lib/python3.7/site-packages/fastNLP/core/callbacks/progress_callback.py\u001b\\\u001b[2mprogress_callback.py\u001b[0m\u001b]8;;\u001b\\\u001b[2m:\u001b[0m\u001b]8;id=391818;file:///remote-home/pjli/anaconda3/envs/nlptorch/lib/python3.7/site-packages/fastNLP/core/callbacks/progress_callback.py#322\u001b\\\u001b[2m322\u001b[0m\u001b]8;;\u001b\\\n",
       "\u001b[2;36m           \u001b[0m         Batch:\u001b[1;36m1072\u001b[0m----------                             \u001b[2m                        \u001b[0m\n"
      ]
     },
     "metadata": {},
     "output_type": "display_data"
    },
    {
     "data": {
      "text/html": [
       "<pre style=\"white-space:pre;overflow-x:auto;line-height:normal;font-family:Menlo,'DejaVu Sans Mono',consolas,'Courier New',monospace\"><span style=\"color: #7fbfbf; text-decoration-color: #7fbfbf\">           </span><span style=\"color: #000080; text-decoration-color: #000080\">INFO    </span> <span style=\"font-weight: bold\">{</span><span style=\"color: #008000; text-decoration-color: #008000\">\"f#F1\"</span>: <span style=\"color: #008080; text-decoration-color: #008080; font-weight: bold\">0.827355</span>, <span style=\"color: #008000; text-decoration-color: #008000\">\"pre#F1\"</span>: <span style=\"color: #008080; text-decoration-color: #008080; font-weight: bold\">0.849614</span>, <span style=\"color: #008000; text-decoration-color: #008000\">\"rec#F1\"</span>: <a href=\"file:///remote-home/pjli/anaconda3/envs/nlptorch/lib/python3.7/site-packages/fastNLP/core/callbacks/progress_callback.py\"><span style=\"color: #7f7f7f; text-decoration-color: #7f7f7f\">progress_callback.py</span></a><span style=\"color: #7f7f7f; text-decoration-color: #7f7f7f\">:</span><a href=\"file:///remote-home/pjli/anaconda3/envs/nlptorch/lib/python3.7/site-packages/fastNLP/core/callbacks/progress_callback.py#327\"><span style=\"color: #7f7f7f; text-decoration-color: #7f7f7f\">327</span></a>\n",
       "<span style=\"color: #7fbfbf; text-decoration-color: #7fbfbf\">           </span>         <span style=\"color: #008080; text-decoration-color: #008080; font-weight: bold\">0.806232</span>, <span style=\"color: #008000; text-decoration-color: #008000\">\"acc#acc\"</span>: <span style=\"color: #008080; text-decoration-color: #008080; font-weight: bold\">0.977382</span><span style=\"font-weight: bold\">}</span>                   <span style=\"color: #7f7f7f; text-decoration-color: #7f7f7f\">                        </span>\n",
       "</pre>\n"
      ],
      "text/plain": [
       "\u001b[2;36m          \u001b[0m\u001b[2;36m \u001b[0m\u001b[34mINFO    \u001b[0m \u001b[1m{\u001b[0m\u001b[32m\"f#F1\"\u001b[0m: \u001b[1;36m0.827355\u001b[0m, \u001b[32m\"pre#F1\"\u001b[0m: \u001b[1;36m0.849614\u001b[0m, \u001b[32m\"rec#F1\"\u001b[0m: \u001b]8;id=111885;file:///remote-home/pjli/anaconda3/envs/nlptorch/lib/python3.7/site-packages/fastNLP/core/callbacks/progress_callback.py\u001b\\\u001b[2mprogress_callback.py\u001b[0m\u001b]8;;\u001b\\\u001b[2m:\u001b[0m\u001b]8;id=924426;file:///remote-home/pjli/anaconda3/envs/nlptorch/lib/python3.7/site-packages/fastNLP/core/callbacks/progress_callback.py#327\u001b\\\u001b[2m327\u001b[0m\u001b]8;;\u001b\\\n",
       "\u001b[2;36m           \u001b[0m         \u001b[1;36m0.806232\u001b[0m, \u001b[32m\"acc#acc\"\u001b[0m: \u001b[1;36m0.977382\u001b[0m\u001b[1m}\u001b[0m                   \u001b[2m                        \u001b[0m\n"
      ]
     },
     "metadata": {},
     "output_type": "display_data"
    },
    {
     "name": "stdout",
     "output_type": "stream",
     "text": [
      "Epoch:7:  80%|███████▉  | [49:31<09:26, 279.66s/it, ]   \n",
      "\u001b[A\n",
      "\u001b[A\n",
      "\u001b[A\n",
      "\u001b[A\n",
      "\u001b[A\n",
      "\u001b[A\n",
      "\u001b[A\n",
      "\u001b[A\n",
      "\u001b[A\n",
      "\u001b[A\n",
      "\u001b[A\n",
      "\u001b[A\n",
      "\u001b[A\n",
      "\u001b[A\n",
      "\u001b[A\n",
      "\u001b[A\n",
      "\u001b[A\n",
      "\u001b[A\n",
      "\u001b[A\n",
      "\u001b[A\n",
      "\u001b[A\n",
      "\u001b[A\n",
      "\u001b[A\n",
      "\u001b[A\n",
      "\u001b[A\n",
      "\u001b[A\n",
      "\u001b[A\n",
      "\u001b[A\n",
      "\u001b[A\n",
      "\u001b[A\n",
      "\u001b[A\n",
      "\u001b[A\n",
      "\u001b[A\n",
      "\u001b[A\n",
      "\u001b[A\n",
      "\u001b[A\n",
      "\u001b[A\n",
      "\u001b[A\n",
      "\u001b[A\n",
      "\u001b[A\n",
      "\u001b[A\n",
      "\u001b[A\n",
      "\u001b[A\n",
      "\u001b[A\n",
      "\u001b[A"
     ]
    },
    {
     "data": {
      "text/html": [
       "<pre style=\"white-space:pre;overflow-x:auto;line-height:normal;font-family:Menlo,'DejaVu Sans Mono',consolas,'Courier New',monospace\"><span style=\"color: #7fbfbf; text-decoration-color: #7fbfbf\">[16:45:37] </span><span style=\"color: #000080; text-decoration-color: #000080\">INFO    </span> ----------Eval. results on Epoch:<span style=\"color: #008080; text-decoration-color: #008080; font-weight: bold\">7</span>,              <a href=\"file:///remote-home/pjli/anaconda3/envs/nlptorch/lib/python3.7/site-packages/fastNLP/core/callbacks/progress_callback.py\"><span style=\"color: #7f7f7f; text-decoration-color: #7f7f7f\">progress_callback.py</span></a><span style=\"color: #7f7f7f; text-decoration-color: #7f7f7f\">:</span><a href=\"file:///remote-home/pjli/anaconda3/envs/nlptorch/lib/python3.7/site-packages/fastNLP/core/callbacks/progress_callback.py#322\"><span style=\"color: #7f7f7f; text-decoration-color: #7f7f7f\">322</span></a>\n",
       "<span style=\"color: #7fbfbf; text-decoration-color: #7fbfbf\">           </span>         Batch:<span style=\"color: #008080; text-decoration-color: #008080; font-weight: bold\">1272</span>----------                             <span style=\"color: #7f7f7f; text-decoration-color: #7f7f7f\">                        </span>\n",
       "</pre>\n"
      ],
      "text/plain": [
       "\u001b[2;36m[16:45:37]\u001b[0m\u001b[2;36m \u001b[0m\u001b[34mINFO    \u001b[0m ----------Eval. results on Epoch:\u001b[1;36m7\u001b[0m,              \u001b]8;id=217773;file:///remote-home/pjli/anaconda3/envs/nlptorch/lib/python3.7/site-packages/fastNLP/core/callbacks/progress_callback.py\u001b\\\u001b[2mprogress_callback.py\u001b[0m\u001b]8;;\u001b\\\u001b[2m:\u001b[0m\u001b]8;id=646445;file:///remote-home/pjli/anaconda3/envs/nlptorch/lib/python3.7/site-packages/fastNLP/core/callbacks/progress_callback.py#322\u001b\\\u001b[2m322\u001b[0m\u001b]8;;\u001b\\\n",
       "\u001b[2;36m           \u001b[0m         Batch:\u001b[1;36m1272\u001b[0m----------                             \u001b[2m                        \u001b[0m\n"
      ]
     },
     "metadata": {},
     "output_type": "display_data"
    },
    {
     "data": {
      "text/html": [
       "<pre style=\"white-space:pre;overflow-x:auto;line-height:normal;font-family:Menlo,'DejaVu Sans Mono',consolas,'Courier New',monospace\"><span style=\"color: #7fbfbf; text-decoration-color: #7fbfbf\">           </span><span style=\"color: #000080; text-decoration-color: #000080\">INFO    </span> <span style=\"font-weight: bold\">{</span><span style=\"color: #008000; text-decoration-color: #008000\">\"f#F1\"</span>: <span style=\"color: #008080; text-decoration-color: #008080; font-weight: bold\">0.827009</span>, <span style=\"color: #008000; text-decoration-color: #008000\">\"pre#F1\"</span>: <span style=\"color: #008080; text-decoration-color: #008080; font-weight: bold\">0.853876</span>, <span style=\"color: #008000; text-decoration-color: #008000\">\"rec#F1\"</span>: <a href=\"file:///remote-home/pjli/anaconda3/envs/nlptorch/lib/python3.7/site-packages/fastNLP/core/callbacks/progress_callback.py\"><span style=\"color: #7f7f7f; text-decoration-color: #7f7f7f\">progress_callback.py</span></a><span style=\"color: #7f7f7f; text-decoration-color: #7f7f7f\">:</span><a href=\"file:///remote-home/pjli/anaconda3/envs/nlptorch/lib/python3.7/site-packages/fastNLP/core/callbacks/progress_callback.py#327\"><span style=\"color: #7f7f7f; text-decoration-color: #7f7f7f\">327</span></a>\n",
       "<span style=\"color: #7fbfbf; text-decoration-color: #7fbfbf\">           </span>         <span style=\"color: #008080; text-decoration-color: #008080; font-weight: bold\">0.801781</span>, <span style=\"color: #008000; text-decoration-color: #008000\">\"acc#acc\"</span>: <span style=\"color: #008080; text-decoration-color: #008080; font-weight: bold\">0.977391</span><span style=\"font-weight: bold\">}</span>                   <span style=\"color: #7f7f7f; text-decoration-color: #7f7f7f\">                        </span>\n",
       "</pre>\n"
      ],
      "text/plain": [
       "\u001b[2;36m          \u001b[0m\u001b[2;36m \u001b[0m\u001b[34mINFO    \u001b[0m \u001b[1m{\u001b[0m\u001b[32m\"f#F1\"\u001b[0m: \u001b[1;36m0.827009\u001b[0m, \u001b[32m\"pre#F1\"\u001b[0m: \u001b[1;36m0.853876\u001b[0m, \u001b[32m\"rec#F1\"\u001b[0m: \u001b]8;id=723140;file:///remote-home/pjli/anaconda3/envs/nlptorch/lib/python3.7/site-packages/fastNLP/core/callbacks/progress_callback.py\u001b\\\u001b[2mprogress_callback.py\u001b[0m\u001b]8;;\u001b\\\u001b[2m:\u001b[0m\u001b]8;id=522513;file:///remote-home/pjli/anaconda3/envs/nlptorch/lib/python3.7/site-packages/fastNLP/core/callbacks/progress_callback.py#327\u001b\\\u001b[2m327\u001b[0m\u001b]8;;\u001b\\\n",
       "\u001b[2;36m           \u001b[0m         \u001b[1;36m0.801781\u001b[0m, \u001b[32m\"acc#acc\"\u001b[0m: \u001b[1;36m0.977391\u001b[0m\u001b[1m}\u001b[0m                   \u001b[2m                        \u001b[0m\n"
      ]
     },
     "metadata": {},
     "output_type": "display_data"
    },
    {
     "name": "stdout",
     "output_type": "stream",
     "text": [
      "Epoch:8:  81%|████████▏ | [50:32<09:29, 304.54s/it, ]   \n",
      "\u001b[A\n",
      "\u001b[A\n",
      "\u001b[A\n",
      "\u001b[A\n",
      "\u001b[A\n",
      "\u001b[A\n",
      "\u001b[A\n",
      "\u001b[A\n",
      "\u001b[A\n",
      "\u001b[A\n",
      "\u001b[A\n",
      "\u001b[A\n",
      "\u001b[A\n",
      "\u001b[A\n",
      "\u001b[A\n",
      "\u001b[A\n",
      "\u001b[A\n",
      "\u001b[A\n",
      "\u001b[A\n",
      "\u001b[A\n",
      "\u001b[A\n",
      "\u001b[A\n",
      "\u001b[A\n",
      "\u001b[A\n",
      "\u001b[A\n",
      "\u001b[A\n",
      "\u001b[A\n",
      "\u001b[A\n",
      "\u001b[A\n",
      "\u001b[A\n",
      "\u001b[A\n",
      "\u001b[A\n",
      "\u001b[A\n",
      "\u001b[A\n",
      "\u001b[A\n",
      "\u001b[A\n",
      "\u001b[A\n",
      "\u001b[A\n",
      "\u001b[A\n",
      "\u001b[A\n",
      "\u001b[A"
     ]
    },
    {
     "data": {
      "text/html": [
       "<pre style=\"white-space:pre;overflow-x:auto;line-height:normal;font-family:Menlo,'DejaVu Sans Mono',consolas,'Courier New',monospace\"><span style=\"color: #7fbfbf; text-decoration-color: #7fbfbf\">[16:46:37] </span><span style=\"color: #000080; text-decoration-color: #000080\">INFO    </span> ----------Eval. results on Epoch:<span style=\"color: #008080; text-decoration-color: #008080; font-weight: bold\">8</span>,              <a href=\"file:///remote-home/pjli/anaconda3/envs/nlptorch/lib/python3.7/site-packages/fastNLP/core/callbacks/progress_callback.py\"><span style=\"color: #7f7f7f; text-decoration-color: #7f7f7f\">progress_callback.py</span></a><span style=\"color: #7f7f7f; text-decoration-color: #7f7f7f\">:</span><a href=\"file:///remote-home/pjli/anaconda3/envs/nlptorch/lib/python3.7/site-packages/fastNLP/core/callbacks/progress_callback.py#322\"><span style=\"color: #7f7f7f; text-decoration-color: #7f7f7f\">322</span></a>\n",
       "<span style=\"color: #7fbfbf; text-decoration-color: #7fbfbf\">           </span>         Batch:<span style=\"color: #008080; text-decoration-color: #008080; font-weight: bold\">168</span>----------                              <span style=\"color: #7f7f7f; text-decoration-color: #7f7f7f\">                        </span>\n",
       "</pre>\n"
      ],
      "text/plain": [
       "\u001b[2;36m[16:46:37]\u001b[0m\u001b[2;36m \u001b[0m\u001b[34mINFO    \u001b[0m ----------Eval. results on Epoch:\u001b[1;36m8\u001b[0m,              \u001b]8;id=292432;file:///remote-home/pjli/anaconda3/envs/nlptorch/lib/python3.7/site-packages/fastNLP/core/callbacks/progress_callback.py\u001b\\\u001b[2mprogress_callback.py\u001b[0m\u001b]8;;\u001b\\\u001b[2m:\u001b[0m\u001b]8;id=773313;file:///remote-home/pjli/anaconda3/envs/nlptorch/lib/python3.7/site-packages/fastNLP/core/callbacks/progress_callback.py#322\u001b\\\u001b[2m322\u001b[0m\u001b]8;;\u001b\\\n",
       "\u001b[2;36m           \u001b[0m         Batch:\u001b[1;36m168\u001b[0m----------                              \u001b[2m                        \u001b[0m\n"
      ]
     },
     "metadata": {},
     "output_type": "display_data"
    },
    {
     "data": {
      "text/html": [
       "<pre style=\"white-space:pre;overflow-x:auto;line-height:normal;font-family:Menlo,'DejaVu Sans Mono',consolas,'Courier New',monospace\"><span style=\"color: #7fbfbf; text-decoration-color: #7fbfbf\">           </span><span style=\"color: #000080; text-decoration-color: #000080\">INFO    </span> <span style=\"font-weight: bold\">{</span><span style=\"color: #008000; text-decoration-color: #008000\">\"f#F1\"</span>: <span style=\"color: #008080; text-decoration-color: #008080; font-weight: bold\">0.82911</span>, <span style=\"color: #008000; text-decoration-color: #008000\">\"pre#F1\"</span>: <span style=\"color: #008080; text-decoration-color: #008080; font-weight: bold\">0.85927</span>, <span style=\"color: #008000; text-decoration-color: #008000\">\"rec#F1\"</span>:   <a href=\"file:///remote-home/pjli/anaconda3/envs/nlptorch/lib/python3.7/site-packages/fastNLP/core/callbacks/progress_callback.py\"><span style=\"color: #7f7f7f; text-decoration-color: #7f7f7f\">progress_callback.py</span></a><span style=\"color: #7f7f7f; text-decoration-color: #7f7f7f\">:</span><a href=\"file:///remote-home/pjli/anaconda3/envs/nlptorch/lib/python3.7/site-packages/fastNLP/core/callbacks/progress_callback.py#327\"><span style=\"color: #7f7f7f; text-decoration-color: #7f7f7f\">327</span></a>\n",
       "<span style=\"color: #7fbfbf; text-decoration-color: #7fbfbf\">           </span>         <span style=\"color: #008080; text-decoration-color: #008080; font-weight: bold\">0.800995</span>, <span style=\"color: #008000; text-decoration-color: #008000\">\"acc#acc\"</span>: <span style=\"color: #008080; text-decoration-color: #008080; font-weight: bold\">0.977756</span><span style=\"font-weight: bold\">}</span>                   <span style=\"color: #7f7f7f; text-decoration-color: #7f7f7f\">                        </span>\n",
       "</pre>\n"
      ],
      "text/plain": [
       "\u001b[2;36m          \u001b[0m\u001b[2;36m \u001b[0m\u001b[34mINFO    \u001b[0m \u001b[1m{\u001b[0m\u001b[32m\"f#F1\"\u001b[0m: \u001b[1;36m0.82911\u001b[0m, \u001b[32m\"pre#F1\"\u001b[0m: \u001b[1;36m0.85927\u001b[0m, \u001b[32m\"rec#F1\"\u001b[0m:   \u001b]8;id=368155;file:///remote-home/pjli/anaconda3/envs/nlptorch/lib/python3.7/site-packages/fastNLP/core/callbacks/progress_callback.py\u001b\\\u001b[2mprogress_callback.py\u001b[0m\u001b]8;;\u001b\\\u001b[2m:\u001b[0m\u001b]8;id=340404;file:///remote-home/pjli/anaconda3/envs/nlptorch/lib/python3.7/site-packages/fastNLP/core/callbacks/progress_callback.py#327\u001b\\\u001b[2m327\u001b[0m\u001b]8;;\u001b\\\n",
       "\u001b[2;36m           \u001b[0m         \u001b[1;36m0.800995\u001b[0m, \u001b[32m\"acc#acc\"\u001b[0m: \u001b[1;36m0.977756\u001b[0m\u001b[1m}\u001b[0m                   \u001b[2m                        \u001b[0m\n"
      ]
     },
     "metadata": {},
     "output_type": "display_data"
    },
    {
     "name": "stdout",
     "output_type": "stream",
     "text": [
      "Epoch:8:  83%|████████▎ | [51:29<10:02, 350.67s/it, ]   \n",
      "\u001b[A\n",
      "\u001b[A\n",
      "\u001b[A\n",
      "\u001b[A\n",
      "\u001b[A\n",
      "\u001b[A\n",
      "\u001b[A\n",
      "\u001b[A\n",
      "\u001b[A\n",
      "\u001b[A\n",
      "\u001b[A\n",
      "\u001b[A\n",
      "\u001b[A\n",
      "\u001b[A\n",
      "\u001b[A\n",
      "\u001b[A\n",
      "\u001b[A\n",
      "\u001b[A\n",
      "\u001b[A\n",
      "\u001b[A\n",
      "\u001b[A\n",
      "\u001b[A\n",
      "\u001b[A\n",
      "\u001b[A\n",
      "\u001b[A\n",
      "\u001b[A\n",
      "\u001b[A\n",
      "\u001b[A\n",
      "\u001b[A\n",
      "\u001b[A\n",
      "\u001b[A\n",
      "\u001b[A\n",
      "\u001b[A\n",
      "\u001b[A\n",
      "\u001b[A\n",
      "\u001b[A\n",
      "\u001b[A\n",
      "\u001b[A\n",
      "\u001b[A\n",
      "\u001b[A\n",
      "\u001b[A\n",
      "\u001b[A\n",
      "\u001b[A\n",
      "\u001b[A\n",
      "\u001b[A\n",
      "\u001b[A"
     ]
    },
    {
     "data": {
      "text/html": [
       "<pre style=\"white-space:pre;overflow-x:auto;line-height:normal;font-family:Menlo,'DejaVu Sans Mono',consolas,'Courier New',monospace\"><span style=\"color: #7fbfbf; text-decoration-color: #7fbfbf\">[16:47:34] </span><span style=\"color: #000080; text-decoration-color: #000080\">INFO    </span> ++++++++++Eval. results on Epoch:<span style=\"color: #008080; text-decoration-color: #008080; font-weight: bold\">8</span>,              <a href=\"file:///remote-home/pjli/anaconda3/envs/nlptorch/lib/python3.7/site-packages/fastNLP/core/callbacks/progress_callback.py\"><span style=\"color: #7f7f7f; text-decoration-color: #7f7f7f\">progress_callback.py</span></a><span style=\"color: #7f7f7f; text-decoration-color: #7f7f7f\">:</span><a href=\"file:///remote-home/pjli/anaconda3/envs/nlptorch/lib/python3.7/site-packages/fastNLP/core/callbacks/progress_callback.py#322\"><span style=\"color: #7f7f7f; text-decoration-color: #7f7f7f\">322</span></a>\n",
       "<span style=\"color: #7fbfbf; text-decoration-color: #7fbfbf\">           </span>         Batch:<span style=\"color: #008080; text-decoration-color: #008080; font-weight: bold\">368</span>++++++++++                              <span style=\"color: #7f7f7f; text-decoration-color: #7f7f7f\">                        </span>\n",
       "</pre>\n"
      ],
      "text/plain": [
       "\u001b[2;36m[16:47:34]\u001b[0m\u001b[2;36m \u001b[0m\u001b[34mINFO    \u001b[0m ++++++++++Eval. results on Epoch:\u001b[1;36m8\u001b[0m,              \u001b]8;id=34186;file:///remote-home/pjli/anaconda3/envs/nlptorch/lib/python3.7/site-packages/fastNLP/core/callbacks/progress_callback.py\u001b\\\u001b[2mprogress_callback.py\u001b[0m\u001b]8;;\u001b\\\u001b[2m:\u001b[0m\u001b]8;id=83046;file:///remote-home/pjli/anaconda3/envs/nlptorch/lib/python3.7/site-packages/fastNLP/core/callbacks/progress_callback.py#322\u001b\\\u001b[2m322\u001b[0m\u001b]8;;\u001b\\\n",
       "\u001b[2;36m           \u001b[0m         Batch:\u001b[1;36m368\u001b[0m++++++++++                              \u001b[2m                        \u001b[0m\n"
      ]
     },
     "metadata": {},
     "output_type": "display_data"
    },
    {
     "data": {
      "text/html": [
       "<pre style=\"white-space:pre;overflow-x:auto;line-height:normal;font-family:Menlo,'DejaVu Sans Mono',consolas,'Courier New',monospace\"><span style=\"color: #7fbfbf; text-decoration-color: #7fbfbf\">           </span><span style=\"color: #000080; text-decoration-color: #000080\">INFO    </span> <span style=\"font-weight: bold\">{</span><span style=\"color: #008000; text-decoration-color: #008000\">\"f#F1\"</span>: <span style=\"color: #008080; text-decoration-color: #008080; font-weight: bold\">0.831866</span>, <span style=\"color: #008000; text-decoration-color: #008000\">\"pre#F1\"</span>: <span style=\"color: #008080; text-decoration-color: #008080; font-weight: bold\">0.861875</span>, <span style=\"color: #008000; text-decoration-color: #008000\">\"rec#F1\"</span>: <a href=\"file:///remote-home/pjli/anaconda3/envs/nlptorch/lib/python3.7/site-packages/fastNLP/core/callbacks/progress_callback.py\"><span style=\"color: #7f7f7f; text-decoration-color: #7f7f7f\">progress_callback.py</span></a><span style=\"color: #7f7f7f; text-decoration-color: #7f7f7f\">:</span><a href=\"file:///remote-home/pjli/anaconda3/envs/nlptorch/lib/python3.7/site-packages/fastNLP/core/callbacks/progress_callback.py#327\"><span style=\"color: #7f7f7f; text-decoration-color: #7f7f7f\">327</span></a>\n",
       "<span style=\"color: #7fbfbf; text-decoration-color: #7fbfbf\">           </span>         <span style=\"color: #008080; text-decoration-color: #008080; font-weight: bold\">0.803875</span>, <span style=\"color: #008000; text-decoration-color: #008000\">\"acc#acc\"</span>: <span style=\"color: #008080; text-decoration-color: #008080; font-weight: bold\">0.977774</span><span style=\"font-weight: bold\">}</span>                   <span style=\"color: #7f7f7f; text-decoration-color: #7f7f7f\">                        </span>\n",
       "</pre>\n"
      ],
      "text/plain": [
       "\u001b[2;36m          \u001b[0m\u001b[2;36m \u001b[0m\u001b[34mINFO    \u001b[0m \u001b[1m{\u001b[0m\u001b[32m\"f#F1\"\u001b[0m: \u001b[1;36m0.831866\u001b[0m, \u001b[32m\"pre#F1\"\u001b[0m: \u001b[1;36m0.861875\u001b[0m, \u001b[32m\"rec#F1\"\u001b[0m: \u001b]8;id=594097;file:///remote-home/pjli/anaconda3/envs/nlptorch/lib/python3.7/site-packages/fastNLP/core/callbacks/progress_callback.py\u001b\\\u001b[2mprogress_callback.py\u001b[0m\u001b]8;;\u001b\\\u001b[2m:\u001b[0m\u001b]8;id=201349;file:///remote-home/pjli/anaconda3/envs/nlptorch/lib/python3.7/site-packages/fastNLP/core/callbacks/progress_callback.py#327\u001b\\\u001b[2m327\u001b[0m\u001b]8;;\u001b\\\n",
       "\u001b[2;36m           \u001b[0m         \u001b[1;36m0.803875\u001b[0m, \u001b[32m\"acc#acc\"\u001b[0m: \u001b[1;36m0.977774\u001b[0m\u001b[1m}\u001b[0m                   \u001b[2m                        \u001b[0m\n"
      ]
     },
     "metadata": {},
     "output_type": "display_data"
    },
    {
     "name": "stdout",
     "output_type": "stream",
     "text": [
      "Epoch:8:  84%|████████▍ | [52:31<09:26, 362.04s/it, ]   \n",
      "\u001b[A\n",
      "\u001b[A\n",
      "\u001b[A\n",
      "\u001b[A\n",
      "\u001b[A\n",
      "\u001b[A\n",
      "\u001b[A\n",
      "\u001b[A\n",
      "\u001b[A\n",
      "\u001b[A\n",
      "\u001b[A\n",
      "\u001b[A\n",
      "\u001b[A\n",
      "\u001b[A\n",
      "\u001b[A\n",
      "\u001b[A\n",
      "\u001b[A\n",
      "\u001b[A\n",
      "\u001b[A\n",
      "\u001b[A\n",
      "\u001b[A\n",
      "\u001b[A\n",
      "\u001b[A\n",
      "\u001b[A\n",
      "\u001b[A\n",
      "\u001b[A\n",
      "\u001b[A\n",
      "\u001b[A\n",
      "\u001b[A\n",
      "\u001b[A\n",
      "\u001b[A\n",
      "\u001b[A\n",
      "\u001b[A\n",
      "\u001b[A\n",
      "\u001b[A\n",
      "\u001b[A\n",
      "\u001b[A\n",
      "\u001b[A\n",
      "\u001b[A\n",
      "\u001b[A\n",
      "\u001b[A\n",
      "\u001b[A\n",
      "\u001b[A\n",
      "\u001b[A\n",
      "\u001b[A\n",
      "\u001b[A"
     ]
    },
    {
     "data": {
      "text/html": [
       "<pre style=\"white-space:pre;overflow-x:auto;line-height:normal;font-family:Menlo,'DejaVu Sans Mono',consolas,'Courier New',monospace\"><span style=\"color: #7fbfbf; text-decoration-color: #7fbfbf\">[16:48:37] </span><span style=\"color: #000080; text-decoration-color: #000080\">INFO    </span> ----------Eval. results on Epoch:<span style=\"color: #008080; text-decoration-color: #008080; font-weight: bold\">8</span>,              <a href=\"file:///remote-home/pjli/anaconda3/envs/nlptorch/lib/python3.7/site-packages/fastNLP/core/callbacks/progress_callback.py\"><span style=\"color: #7f7f7f; text-decoration-color: #7f7f7f\">progress_callback.py</span></a><span style=\"color: #7f7f7f; text-decoration-color: #7f7f7f\">:</span><a href=\"file:///remote-home/pjli/anaconda3/envs/nlptorch/lib/python3.7/site-packages/fastNLP/core/callbacks/progress_callback.py#322\"><span style=\"color: #7f7f7f; text-decoration-color: #7f7f7f\">322</span></a>\n",
       "<span style=\"color: #7fbfbf; text-decoration-color: #7fbfbf\">           </span>         Batch:<span style=\"color: #008080; text-decoration-color: #008080; font-weight: bold\">568</span>----------                              <span style=\"color: #7f7f7f; text-decoration-color: #7f7f7f\">                        </span>\n",
       "</pre>\n"
      ],
      "text/plain": [
       "\u001b[2;36m[16:48:37]\u001b[0m\u001b[2;36m \u001b[0m\u001b[34mINFO    \u001b[0m ----------Eval. results on Epoch:\u001b[1;36m8\u001b[0m,              \u001b]8;id=18429;file:///remote-home/pjli/anaconda3/envs/nlptorch/lib/python3.7/site-packages/fastNLP/core/callbacks/progress_callback.py\u001b\\\u001b[2mprogress_callback.py\u001b[0m\u001b]8;;\u001b\\\u001b[2m:\u001b[0m\u001b]8;id=149323;file:///remote-home/pjli/anaconda3/envs/nlptorch/lib/python3.7/site-packages/fastNLP/core/callbacks/progress_callback.py#322\u001b\\\u001b[2m322\u001b[0m\u001b]8;;\u001b\\\n",
       "\u001b[2;36m           \u001b[0m         Batch:\u001b[1;36m568\u001b[0m----------                              \u001b[2m                        \u001b[0m\n"
      ]
     },
     "metadata": {},
     "output_type": "display_data"
    },
    {
     "data": {
      "text/html": [
       "<pre style=\"white-space:pre;overflow-x:auto;line-height:normal;font-family:Menlo,'DejaVu Sans Mono',consolas,'Courier New',monospace\"><span style=\"color: #7fbfbf; text-decoration-color: #7fbfbf\">           </span><span style=\"color: #000080; text-decoration-color: #000080\">INFO    </span> <span style=\"font-weight: bold\">{</span><span style=\"color: #008000; text-decoration-color: #008000\">\"f#F1\"</span>: <span style=\"color: #008080; text-decoration-color: #008080; font-weight: bold\">0.827884</span>, <span style=\"color: #008000; text-decoration-color: #008000\">\"pre#F1\"</span>: <span style=\"color: #008080; text-decoration-color: #008080; font-weight: bold\">0.855149</span>, <span style=\"color: #008000; text-decoration-color: #008000\">\"rec#F1\"</span>: <a href=\"file:///remote-home/pjli/anaconda3/envs/nlptorch/lib/python3.7/site-packages/fastNLP/core/callbacks/progress_callback.py\"><span style=\"color: #7f7f7f; text-decoration-color: #7f7f7f\">progress_callback.py</span></a><span style=\"color: #7f7f7f; text-decoration-color: #7f7f7f\">:</span><a href=\"file:///remote-home/pjli/anaconda3/envs/nlptorch/lib/python3.7/site-packages/fastNLP/core/callbacks/progress_callback.py#327\"><span style=\"color: #7f7f7f; text-decoration-color: #7f7f7f\">327</span></a>\n",
       "<span style=\"color: #7fbfbf; text-decoration-color: #7fbfbf\">           </span>         <span style=\"color: #008080; text-decoration-color: #008080; font-weight: bold\">0.802304</span>, <span style=\"color: #008000; text-decoration-color: #008000\">\"acc#acc\"</span>: <span style=\"color: #008080; text-decoration-color: #008080; font-weight: bold\">0.977419</span><span style=\"font-weight: bold\">}</span>                   <span style=\"color: #7f7f7f; text-decoration-color: #7f7f7f\">                        </span>\n",
       "</pre>\n"
      ],
      "text/plain": [
       "\u001b[2;36m          \u001b[0m\u001b[2;36m \u001b[0m\u001b[34mINFO    \u001b[0m \u001b[1m{\u001b[0m\u001b[32m\"f#F1\"\u001b[0m: \u001b[1;36m0.827884\u001b[0m, \u001b[32m\"pre#F1\"\u001b[0m: \u001b[1;36m0.855149\u001b[0m, \u001b[32m\"rec#F1\"\u001b[0m: \u001b]8;id=10455;file:///remote-home/pjli/anaconda3/envs/nlptorch/lib/python3.7/site-packages/fastNLP/core/callbacks/progress_callback.py\u001b\\\u001b[2mprogress_callback.py\u001b[0m\u001b]8;;\u001b\\\u001b[2m:\u001b[0m\u001b]8;id=449273;file:///remote-home/pjli/anaconda3/envs/nlptorch/lib/python3.7/site-packages/fastNLP/core/callbacks/progress_callback.py#327\u001b\\\u001b[2m327\u001b[0m\u001b]8;;\u001b\\\n",
       "\u001b[2;36m           \u001b[0m         \u001b[1;36m0.802304\u001b[0m, \u001b[32m\"acc#acc\"\u001b[0m: \u001b[1;36m0.977419\u001b[0m\u001b[1m}\u001b[0m                   \u001b[2m                        \u001b[0m\n"
      ]
     },
     "metadata": {},
     "output_type": "display_data"
    },
    {
     "name": "stdout",
     "output_type": "stream",
     "text": [
      "Epoch:8:  86%|████████▌ | [53:30<07:35, 323.00s/it, ]   \n",
      "\u001b[A\n",
      "\u001b[A\n",
      "\u001b[A\n",
      "\u001b[A\n",
      "\u001b[A\n",
      "\u001b[A\n",
      "\u001b[A\n",
      "\u001b[A\n",
      "\u001b[A\n",
      "\u001b[A\n",
      "\u001b[A\n",
      "\u001b[A\n",
      "\u001b[A\n",
      "\u001b[A\n",
      "\u001b[A\n",
      "\u001b[A\n",
      "\u001b[A\n",
      "\u001b[A\n",
      "\u001b[A\n",
      "\u001b[A\n",
      "\u001b[A\n",
      "\u001b[A\n",
      "\u001b[A\n",
      "\u001b[A\n",
      "\u001b[A\n",
      "\u001b[A\n",
      "\u001b[A\n",
      "\u001b[A\n",
      "\u001b[A\n",
      "\u001b[A\n",
      "\u001b[A\n",
      "\u001b[A\n",
      "\u001b[A\n",
      "\u001b[A\n",
      "\u001b[A\n",
      "\u001b[A\n",
      "\u001b[A\n",
      "\u001b[A\n",
      "\u001b[A"
     ]
    },
    {
     "data": {
      "text/html": [
       "<pre style=\"white-space:pre;overflow-x:auto;line-height:normal;font-family:Menlo,'DejaVu Sans Mono',consolas,'Courier New',monospace\"><span style=\"color: #7fbfbf; text-decoration-color: #7fbfbf\">[16:49:35] </span><span style=\"color: #000080; text-decoration-color: #000080\">INFO    </span> ----------Eval. results on Epoch:<span style=\"color: #008080; text-decoration-color: #008080; font-weight: bold\">8</span>,              <a href=\"file:///remote-home/pjli/anaconda3/envs/nlptorch/lib/python3.7/site-packages/fastNLP/core/callbacks/progress_callback.py\"><span style=\"color: #7f7f7f; text-decoration-color: #7f7f7f\">progress_callback.py</span></a><span style=\"color: #7f7f7f; text-decoration-color: #7f7f7f\">:</span><a href=\"file:///remote-home/pjli/anaconda3/envs/nlptorch/lib/python3.7/site-packages/fastNLP/core/callbacks/progress_callback.py#322\"><span style=\"color: #7f7f7f; text-decoration-color: #7f7f7f\">322</span></a>\n",
       "<span style=\"color: #7fbfbf; text-decoration-color: #7fbfbf\">           </span>         Batch:<span style=\"color: #008080; text-decoration-color: #008080; font-weight: bold\">768</span>----------                              <span style=\"color: #7f7f7f; text-decoration-color: #7f7f7f\">                        </span>\n",
       "</pre>\n"
      ],
      "text/plain": [
       "\u001b[2;36m[16:49:35]\u001b[0m\u001b[2;36m \u001b[0m\u001b[34mINFO    \u001b[0m ----------Eval. results on Epoch:\u001b[1;36m8\u001b[0m,              \u001b]8;id=618617;file:///remote-home/pjli/anaconda3/envs/nlptorch/lib/python3.7/site-packages/fastNLP/core/callbacks/progress_callback.py\u001b\\\u001b[2mprogress_callback.py\u001b[0m\u001b]8;;\u001b\\\u001b[2m:\u001b[0m\u001b]8;id=841868;file:///remote-home/pjli/anaconda3/envs/nlptorch/lib/python3.7/site-packages/fastNLP/core/callbacks/progress_callback.py#322\u001b\\\u001b[2m322\u001b[0m\u001b]8;;\u001b\\\n",
       "\u001b[2;36m           \u001b[0m         Batch:\u001b[1;36m768\u001b[0m----------                              \u001b[2m                        \u001b[0m\n"
      ]
     },
     "metadata": {},
     "output_type": "display_data"
    },
    {
     "data": {
      "text/html": [
       "<pre style=\"white-space:pre;overflow-x:auto;line-height:normal;font-family:Menlo,'DejaVu Sans Mono',consolas,'Courier New',monospace\"><span style=\"color: #7fbfbf; text-decoration-color: #7fbfbf\">           </span><span style=\"color: #000080; text-decoration-color: #000080\">INFO    </span> <span style=\"font-weight: bold\">{</span><span style=\"color: #008000; text-decoration-color: #008000\">\"f#F1\"</span>: <span style=\"color: #008080; text-decoration-color: #008080; font-weight: bold\">0.830543</span>, <span style=\"color: #008000; text-decoration-color: #008000\">\"pre#F1\"</span>: <span style=\"color: #008080; text-decoration-color: #008080; font-weight: bold\">0.850247</span>, <span style=\"color: #008000; text-decoration-color: #008000\">\"rec#F1\"</span>: <a href=\"file:///remote-home/pjli/anaconda3/envs/nlptorch/lib/python3.7/site-packages/fastNLP/core/callbacks/progress_callback.py\"><span style=\"color: #7f7f7f; text-decoration-color: #7f7f7f\">progress_callback.py</span></a><span style=\"color: #7f7f7f; text-decoration-color: #7f7f7f\">:</span><a href=\"file:///remote-home/pjli/anaconda3/envs/nlptorch/lib/python3.7/site-packages/fastNLP/core/callbacks/progress_callback.py#327\"><span style=\"color: #7f7f7f; text-decoration-color: #7f7f7f\">327</span></a>\n",
       "<span style=\"color: #7fbfbf; text-decoration-color: #7fbfbf\">           </span>         <span style=\"color: #008080; text-decoration-color: #008080; font-weight: bold\">0.811731</span>, <span style=\"color: #008000; text-decoration-color: #008000\">\"acc#acc\"</span>: <span style=\"color: #008080; text-decoration-color: #008080; font-weight: bold\">0.977947</span><span style=\"font-weight: bold\">}</span>                   <span style=\"color: #7f7f7f; text-decoration-color: #7f7f7f\">                        </span>\n",
       "</pre>\n"
      ],
      "text/plain": [
       "\u001b[2;36m          \u001b[0m\u001b[2;36m \u001b[0m\u001b[34mINFO    \u001b[0m \u001b[1m{\u001b[0m\u001b[32m\"f#F1\"\u001b[0m: \u001b[1;36m0.830543\u001b[0m, \u001b[32m\"pre#F1\"\u001b[0m: \u001b[1;36m0.850247\u001b[0m, \u001b[32m\"rec#F1\"\u001b[0m: \u001b]8;id=623759;file:///remote-home/pjli/anaconda3/envs/nlptorch/lib/python3.7/site-packages/fastNLP/core/callbacks/progress_callback.py\u001b\\\u001b[2mprogress_callback.py\u001b[0m\u001b]8;;\u001b\\\u001b[2m:\u001b[0m\u001b]8;id=741679;file:///remote-home/pjli/anaconda3/envs/nlptorch/lib/python3.7/site-packages/fastNLP/core/callbacks/progress_callback.py#327\u001b\\\u001b[2m327\u001b[0m\u001b]8;;\u001b\\\n",
       "\u001b[2;36m           \u001b[0m         \u001b[1;36m0.811731\u001b[0m, \u001b[32m\"acc#acc\"\u001b[0m: \u001b[1;36m0.977947\u001b[0m\u001b[1m}\u001b[0m                   \u001b[2m                        \u001b[0m\n"
      ]
     },
     "metadata": {},
     "output_type": "display_data"
    },
    {
     "name": "stdout",
     "output_type": "stream",
     "text": [
      "Epoch:8:  87%|████████▋ | [54:22<06:02, 288.45s/it, ] \n",
      "\u001b[A\n",
      "\u001b[A\n",
      "\u001b[A\n",
      "\u001b[A\n",
      "\u001b[A\n",
      "\u001b[A\n",
      "\u001b[A\n",
      "\u001b[A\n",
      "\u001b[A\n",
      "\u001b[A\n",
      "\u001b[A\n",
      "\u001b[A\n",
      "\u001b[A\n",
      "\u001b[A\n",
      "\u001b[A\n",
      "\u001b[A\n",
      "\u001b[A\n",
      "\u001b[A\n",
      "\u001b[A\n",
      "\u001b[A\n",
      "\u001b[A\n",
      "\u001b[A\n",
      "\u001b[A\n",
      "\u001b[A\n",
      "\u001b[A\n",
      "\u001b[A\n",
      "\u001b[A\n",
      "\u001b[A\n",
      "\u001b[A\n",
      "\u001b[A\n",
      "\u001b[A\n",
      "\u001b[A\n",
      "\u001b[A\n",
      "\u001b[A\n",
      "\u001b[A\n",
      "\u001b[A\n",
      "\u001b[A\n",
      "\u001b[A\n",
      "\u001b[A\n",
      "\u001b[A\n",
      "\u001b[A\n",
      "\u001b[A\n",
      "\u001b[A"
     ]
    },
    {
     "data": {
      "text/html": [
       "<pre style=\"white-space:pre;overflow-x:auto;line-height:normal;font-family:Menlo,'DejaVu Sans Mono',consolas,'Courier New',monospace\"><span style=\"color: #7fbfbf; text-decoration-color: #7fbfbf\">[16:50:28] </span><span style=\"color: #000080; text-decoration-color: #000080\">INFO    </span> ++++++++++Eval. results on Epoch:<span style=\"color: #008080; text-decoration-color: #008080; font-weight: bold\">8</span>,              <a href=\"file:///remote-home/pjli/anaconda3/envs/nlptorch/lib/python3.7/site-packages/fastNLP/core/callbacks/progress_callback.py\"><span style=\"color: #7f7f7f; text-decoration-color: #7f7f7f\">progress_callback.py</span></a><span style=\"color: #7f7f7f; text-decoration-color: #7f7f7f\">:</span><a href=\"file:///remote-home/pjli/anaconda3/envs/nlptorch/lib/python3.7/site-packages/fastNLP/core/callbacks/progress_callback.py#322\"><span style=\"color: #7f7f7f; text-decoration-color: #7f7f7f\">322</span></a>\n",
       "<span style=\"color: #7fbfbf; text-decoration-color: #7fbfbf\">           </span>         Batch:<span style=\"color: #008080; text-decoration-color: #008080; font-weight: bold\">968</span>++++++++++                              <span style=\"color: #7f7f7f; text-decoration-color: #7f7f7f\">                        </span>\n",
       "</pre>\n"
      ],
      "text/plain": [
       "\u001b[2;36m[16:50:28]\u001b[0m\u001b[2;36m \u001b[0m\u001b[34mINFO    \u001b[0m ++++++++++Eval. results on Epoch:\u001b[1;36m8\u001b[0m,              \u001b]8;id=363331;file:///remote-home/pjli/anaconda3/envs/nlptorch/lib/python3.7/site-packages/fastNLP/core/callbacks/progress_callback.py\u001b\\\u001b[2mprogress_callback.py\u001b[0m\u001b]8;;\u001b\\\u001b[2m:\u001b[0m\u001b]8;id=299960;file:///remote-home/pjli/anaconda3/envs/nlptorch/lib/python3.7/site-packages/fastNLP/core/callbacks/progress_callback.py#322\u001b\\\u001b[2m322\u001b[0m\u001b]8;;\u001b\\\n",
       "\u001b[2;36m           \u001b[0m         Batch:\u001b[1;36m968\u001b[0m++++++++++                              \u001b[2m                        \u001b[0m\n"
      ]
     },
     "metadata": {},
     "output_type": "display_data"
    },
    {
     "data": {
      "text/html": [
       "<pre style=\"white-space:pre;overflow-x:auto;line-height:normal;font-family:Menlo,'DejaVu Sans Mono',consolas,'Courier New',monospace\"><span style=\"color: #7fbfbf; text-decoration-color: #7fbfbf\">           </span><span style=\"color: #000080; text-decoration-color: #000080\">INFO    </span> <span style=\"font-weight: bold\">{</span><span style=\"color: #008000; text-decoration-color: #008000\">\"f#F1\"</span>: <span style=\"color: #008080; text-decoration-color: #008080; font-weight: bold\">0.832976</span>, <span style=\"color: #008000; text-decoration-color: #008000\">\"pre#F1\"</span>: <span style=\"color: #008080; text-decoration-color: #008080; font-weight: bold\">0.853337</span>, <span style=\"color: #008000; text-decoration-color: #008000\">\"rec#F1\"</span>: <a href=\"file:///remote-home/pjli/anaconda3/envs/nlptorch/lib/python3.7/site-packages/fastNLP/core/callbacks/progress_callback.py\"><span style=\"color: #7f7f7f; text-decoration-color: #7f7f7f\">progress_callback.py</span></a><span style=\"color: #7f7f7f; text-decoration-color: #7f7f7f\">:</span><a href=\"file:///remote-home/pjli/anaconda3/envs/nlptorch/lib/python3.7/site-packages/fastNLP/core/callbacks/progress_callback.py#327\"><span style=\"color: #7f7f7f; text-decoration-color: #7f7f7f\">327</span></a>\n",
       "<span style=\"color: #7fbfbf; text-decoration-color: #7fbfbf\">           </span>         <span style=\"color: #008080; text-decoration-color: #008080; font-weight: bold\">0.813564</span>, <span style=\"color: #008000; text-decoration-color: #008000\">\"acc#acc\"</span>: <span style=\"color: #008080; text-decoration-color: #008080; font-weight: bold\">0.977901</span><span style=\"font-weight: bold\">}</span>                   <span style=\"color: #7f7f7f; text-decoration-color: #7f7f7f\">                        </span>\n",
       "</pre>\n"
      ],
      "text/plain": [
       "\u001b[2;36m          \u001b[0m\u001b[2;36m \u001b[0m\u001b[34mINFO    \u001b[0m \u001b[1m{\u001b[0m\u001b[32m\"f#F1\"\u001b[0m: \u001b[1;36m0.832976\u001b[0m, \u001b[32m\"pre#F1\"\u001b[0m: \u001b[1;36m0.853337\u001b[0m, \u001b[32m\"rec#F1\"\u001b[0m: \u001b]8;id=937128;file:///remote-home/pjli/anaconda3/envs/nlptorch/lib/python3.7/site-packages/fastNLP/core/callbacks/progress_callback.py\u001b\\\u001b[2mprogress_callback.py\u001b[0m\u001b]8;;\u001b\\\u001b[2m:\u001b[0m\u001b]8;id=984152;file:///remote-home/pjli/anaconda3/envs/nlptorch/lib/python3.7/site-packages/fastNLP/core/callbacks/progress_callback.py#327\u001b\\\u001b[2m327\u001b[0m\u001b]8;;\u001b\\\n",
       "\u001b[2;36m           \u001b[0m         \u001b[1;36m0.813564\u001b[0m, \u001b[32m\"acc#acc\"\u001b[0m: \u001b[1;36m0.977901\u001b[0m\u001b[1m}\u001b[0m                   \u001b[2m                        \u001b[0m\n"
      ]
     },
     "metadata": {},
     "output_type": "display_data"
    },
    {
     "name": "stdout",
     "output_type": "stream",
     "text": [
      "Epoch:8:  89%|████████▉ | [55:17<05:23, 293.09s/it, ] \n",
      "\u001b[A\n",
      "\u001b[A\n",
      "\u001b[A\n",
      "\u001b[A\n",
      "\u001b[A\n",
      "\u001b[A\n",
      "\u001b[A\n",
      "\u001b[A\n",
      "\u001b[A\n",
      "\u001b[A\n",
      "\u001b[A\n",
      "\u001b[A\n",
      "\u001b[A\n",
      "\u001b[A\n",
      "\u001b[A\n",
      "\u001b[A\n",
      "\u001b[A\n",
      "\u001b[A\n",
      "\u001b[A\n",
      "\u001b[A\n",
      "\u001b[A\n",
      "\u001b[A\n",
      "\u001b[A\n",
      "\u001b[A\n",
      "\u001b[A\n",
      "\u001b[A\n",
      "\u001b[A\n",
      "\u001b[A\n",
      "\u001b[A\n",
      "\u001b[A\n",
      "\u001b[A\n",
      "\u001b[A\n",
      "\u001b[A\n",
      "\u001b[A\n",
      "\u001b[A\n",
      "\u001b[A\n",
      "\u001b[A\n",
      "\u001b[A\n",
      "\u001b[A\n",
      "\u001b[A\n",
      "\u001b[A\n",
      "\u001b[A"
     ]
    },
    {
     "data": {
      "text/html": [
       "<pre style=\"white-space:pre;overflow-x:auto;line-height:normal;font-family:Menlo,'DejaVu Sans Mono',consolas,'Courier New',monospace\"><span style=\"color: #7fbfbf; text-decoration-color: #7fbfbf\">[16:51:23] </span><span style=\"color: #000080; text-decoration-color: #000080\">INFO    </span> ----------Eval. results on Epoch:<span style=\"color: #008080; text-decoration-color: #008080; font-weight: bold\">8</span>,              <a href=\"file:///remote-home/pjli/anaconda3/envs/nlptorch/lib/python3.7/site-packages/fastNLP/core/callbacks/progress_callback.py\"><span style=\"color: #7f7f7f; text-decoration-color: #7f7f7f\">progress_callback.py</span></a><span style=\"color: #7f7f7f; text-decoration-color: #7f7f7f\">:</span><a href=\"file:///remote-home/pjli/anaconda3/envs/nlptorch/lib/python3.7/site-packages/fastNLP/core/callbacks/progress_callback.py#322\"><span style=\"color: #7f7f7f; text-decoration-color: #7f7f7f\">322</span></a>\n",
       "<span style=\"color: #7fbfbf; text-decoration-color: #7fbfbf\">           </span>         Batch:<span style=\"color: #008080; text-decoration-color: #008080; font-weight: bold\">1168</span>----------                             <span style=\"color: #7f7f7f; text-decoration-color: #7f7f7f\">                        </span>\n",
       "</pre>\n"
      ],
      "text/plain": [
       "\u001b[2;36m[16:51:23]\u001b[0m\u001b[2;36m \u001b[0m\u001b[34mINFO    \u001b[0m ----------Eval. results on Epoch:\u001b[1;36m8\u001b[0m,              \u001b]8;id=889572;file:///remote-home/pjli/anaconda3/envs/nlptorch/lib/python3.7/site-packages/fastNLP/core/callbacks/progress_callback.py\u001b\\\u001b[2mprogress_callback.py\u001b[0m\u001b]8;;\u001b\\\u001b[2m:\u001b[0m\u001b]8;id=679525;file:///remote-home/pjli/anaconda3/envs/nlptorch/lib/python3.7/site-packages/fastNLP/core/callbacks/progress_callback.py#322\u001b\\\u001b[2m322\u001b[0m\u001b]8;;\u001b\\\n",
       "\u001b[2;36m           \u001b[0m         Batch:\u001b[1;36m1168\u001b[0m----------                             \u001b[2m                        \u001b[0m\n"
      ]
     },
     "metadata": {},
     "output_type": "display_data"
    },
    {
     "data": {
      "text/html": [
       "<pre style=\"white-space:pre;overflow-x:auto;line-height:normal;font-family:Menlo,'DejaVu Sans Mono',consolas,'Courier New',monospace\"><span style=\"color: #7fbfbf; text-decoration-color: #7fbfbf\">           </span><span style=\"color: #000080; text-decoration-color: #000080\">INFO    </span> <span style=\"font-weight: bold\">{</span><span style=\"color: #008000; text-decoration-color: #008000\">\"f#F1\"</span>: <span style=\"color: #008080; text-decoration-color: #008080; font-weight: bold\">0.832545</span>, <span style=\"color: #008000; text-decoration-color: #008000\">\"pre#F1\"</span>: <span style=\"color: #008080; text-decoration-color: #008080; font-weight: bold\">0.860335</span>, <span style=\"color: #008000; text-decoration-color: #008000\">\"rec#F1\"</span>: <a href=\"file:///remote-home/pjli/anaconda3/envs/nlptorch/lib/python3.7/site-packages/fastNLP/core/callbacks/progress_callback.py\"><span style=\"color: #7f7f7f; text-decoration-color: #7f7f7f\">progress_callback.py</span></a><span style=\"color: #7f7f7f; text-decoration-color: #7f7f7f\">:</span><a href=\"file:///remote-home/pjli/anaconda3/envs/nlptorch/lib/python3.7/site-packages/fastNLP/core/callbacks/progress_callback.py#327\"><span style=\"color: #7f7f7f; text-decoration-color: #7f7f7f\">327</span></a>\n",
       "<span style=\"color: #7fbfbf; text-decoration-color: #7fbfbf\">           </span>         <span style=\"color: #008080; text-decoration-color: #008080; font-weight: bold\">0.806494</span>, <span style=\"color: #008000; text-decoration-color: #008000\">\"acc#acc\"</span>: <span style=\"color: #008080; text-decoration-color: #008080; font-weight: bold\">0.977901</span><span style=\"font-weight: bold\">}</span>                   <span style=\"color: #7f7f7f; text-decoration-color: #7f7f7f\">                        </span>\n",
       "</pre>\n"
      ],
      "text/plain": [
       "\u001b[2;36m          \u001b[0m\u001b[2;36m \u001b[0m\u001b[34mINFO    \u001b[0m \u001b[1m{\u001b[0m\u001b[32m\"f#F1\"\u001b[0m: \u001b[1;36m0.832545\u001b[0m, \u001b[32m\"pre#F1\"\u001b[0m: \u001b[1;36m0.860335\u001b[0m, \u001b[32m\"rec#F1\"\u001b[0m: \u001b]8;id=625051;file:///remote-home/pjli/anaconda3/envs/nlptorch/lib/python3.7/site-packages/fastNLP/core/callbacks/progress_callback.py\u001b\\\u001b[2mprogress_callback.py\u001b[0m\u001b]8;;\u001b\\\u001b[2m:\u001b[0m\u001b]8;id=359371;file:///remote-home/pjli/anaconda3/envs/nlptorch/lib/python3.7/site-packages/fastNLP/core/callbacks/progress_callback.py#327\u001b\\\u001b[2m327\u001b[0m\u001b]8;;\u001b\\\n",
       "\u001b[2;36m           \u001b[0m         \u001b[1;36m0.806494\u001b[0m, \u001b[32m\"acc#acc\"\u001b[0m: \u001b[1;36m0.977901\u001b[0m\u001b[1m}\u001b[0m                   \u001b[2m                        \u001b[0m\n"
      ]
     },
     "metadata": {},
     "output_type": "display_data"
    },
    {
     "name": "stdout",
     "output_type": "stream",
     "text": [
      "Epoch:9:  90%|█████████ | [56:12<05:18, 334.68s/it, ] \n",
      "\u001b[A\n",
      "\u001b[A\n",
      "\u001b[A\n",
      "\u001b[A\n",
      "\u001b[A\n",
      "\u001b[A\n",
      "\u001b[A\n",
      "\u001b[A\n",
      "\u001b[A\n",
      "\u001b[A\n",
      "\u001b[A\n",
      "\u001b[A\n",
      "\u001b[A\n",
      "\u001b[A\n",
      "\u001b[A\n",
      "\u001b[A\n",
      "\u001b[A\n",
      "\u001b[A\n",
      "\u001b[A\n",
      "\u001b[A\n",
      "\u001b[A\n",
      "\u001b[A\n",
      "\u001b[A\n",
      "\u001b[A\n",
      "\u001b[A\n",
      "\u001b[A\n",
      "\u001b[A\n",
      "\u001b[A\n",
      "\u001b[A\n",
      "\u001b[A\n",
      "\u001b[A\n",
      "\u001b[A\n",
      "\u001b[A\n",
      "\u001b[A\n",
      "\u001b[A\n",
      "\u001b[A\n",
      "\u001b[A\n",
      "\u001b[A\n",
      "\u001b[A\n",
      "\u001b[A\n",
      "\u001b[A\n",
      "\u001b[A\n",
      "\u001b[A"
     ]
    },
    {
     "data": {
      "text/html": [
       "<pre style=\"white-space:pre;overflow-x:auto;line-height:normal;font-family:Menlo,'DejaVu Sans Mono',consolas,'Courier New',monospace\"><span style=\"color: #7fbfbf; text-decoration-color: #7fbfbf\">[16:52:17] </span><span style=\"color: #000080; text-decoration-color: #000080\">INFO    </span> ++++++++++Eval. results on Epoch:<span style=\"color: #008080; text-decoration-color: #008080; font-weight: bold\">9</span>,              <a href=\"file:///remote-home/pjli/anaconda3/envs/nlptorch/lib/python3.7/site-packages/fastNLP/core/callbacks/progress_callback.py\"><span style=\"color: #7f7f7f; text-decoration-color: #7f7f7f\">progress_callback.py</span></a><span style=\"color: #7f7f7f; text-decoration-color: #7f7f7f\">:</span><a href=\"file:///remote-home/pjli/anaconda3/envs/nlptorch/lib/python3.7/site-packages/fastNLP/core/callbacks/progress_callback.py#322\"><span style=\"color: #7f7f7f; text-decoration-color: #7f7f7f\">322</span></a>\n",
       "<span style=\"color: #7fbfbf; text-decoration-color: #7fbfbf\">           </span>         Batch:<span style=\"color: #008080; text-decoration-color: #008080; font-weight: bold\">64</span>++++++++++                               <span style=\"color: #7f7f7f; text-decoration-color: #7f7f7f\">                        </span>\n",
       "</pre>\n"
      ],
      "text/plain": [
       "\u001b[2;36m[16:52:17]\u001b[0m\u001b[2;36m \u001b[0m\u001b[34mINFO    \u001b[0m ++++++++++Eval. results on Epoch:\u001b[1;36m9\u001b[0m,              \u001b]8;id=374725;file:///remote-home/pjli/anaconda3/envs/nlptorch/lib/python3.7/site-packages/fastNLP/core/callbacks/progress_callback.py\u001b\\\u001b[2mprogress_callback.py\u001b[0m\u001b]8;;\u001b\\\u001b[2m:\u001b[0m\u001b]8;id=486737;file:///remote-home/pjli/anaconda3/envs/nlptorch/lib/python3.7/site-packages/fastNLP/core/callbacks/progress_callback.py#322\u001b\\\u001b[2m322\u001b[0m\u001b]8;;\u001b\\\n",
       "\u001b[2;36m           \u001b[0m         Batch:\u001b[1;36m64\u001b[0m++++++++++                               \u001b[2m                        \u001b[0m\n"
      ]
     },
     "metadata": {},
     "output_type": "display_data"
    },
    {
     "data": {
      "text/html": [
       "<pre style=\"white-space:pre;overflow-x:auto;line-height:normal;font-family:Menlo,'DejaVu Sans Mono',consolas,'Courier New',monospace\"><span style=\"color: #7fbfbf; text-decoration-color: #7fbfbf\">           </span><span style=\"color: #000080; text-decoration-color: #000080\">INFO    </span> <span style=\"font-weight: bold\">{</span><span style=\"color: #008000; text-decoration-color: #008000\">\"f#F1\"</span>: <span style=\"color: #008080; text-decoration-color: #008080; font-weight: bold\">0.833109</span>, <span style=\"color: #008000; text-decoration-color: #008000\">\"pre#F1\"</span>: <span style=\"color: #008080; text-decoration-color: #008080; font-weight: bold\">0.855644</span>, <span style=\"color: #008000; text-decoration-color: #008000\">\"rec#F1\"</span>: <a href=\"file:///remote-home/pjli/anaconda3/envs/nlptorch/lib/python3.7/site-packages/fastNLP/core/callbacks/progress_callback.py\"><span style=\"color: #7f7f7f; text-decoration-color: #7f7f7f\">progress_callback.py</span></a><span style=\"color: #7f7f7f; text-decoration-color: #7f7f7f\">:</span><a href=\"file:///remote-home/pjli/anaconda3/envs/nlptorch/lib/python3.7/site-packages/fastNLP/core/callbacks/progress_callback.py#327\"><span style=\"color: #7f7f7f; text-decoration-color: #7f7f7f\">327</span></a>\n",
       "<span style=\"color: #7fbfbf; text-decoration-color: #7fbfbf\">           </span>         <span style=\"color: #008080; text-decoration-color: #008080; font-weight: bold\">0.811731</span>, <span style=\"color: #008000; text-decoration-color: #008000\">\"acc#acc\"</span>: <span style=\"color: #008080; text-decoration-color: #008080; font-weight: bold\">0.977965</span><span style=\"font-weight: bold\">}</span>                   <span style=\"color: #7f7f7f; text-decoration-color: #7f7f7f\">                        </span>\n",
       "</pre>\n"
      ],
      "text/plain": [
       "\u001b[2;36m          \u001b[0m\u001b[2;36m \u001b[0m\u001b[34mINFO    \u001b[0m \u001b[1m{\u001b[0m\u001b[32m\"f#F1\"\u001b[0m: \u001b[1;36m0.833109\u001b[0m, \u001b[32m\"pre#F1\"\u001b[0m: \u001b[1;36m0.855644\u001b[0m, \u001b[32m\"rec#F1\"\u001b[0m: \u001b]8;id=558209;file:///remote-home/pjli/anaconda3/envs/nlptorch/lib/python3.7/site-packages/fastNLP/core/callbacks/progress_callback.py\u001b\\\u001b[2mprogress_callback.py\u001b[0m\u001b]8;;\u001b\\\u001b[2m:\u001b[0m\u001b]8;id=243831;file:///remote-home/pjli/anaconda3/envs/nlptorch/lib/python3.7/site-packages/fastNLP/core/callbacks/progress_callback.py#327\u001b\\\u001b[2m327\u001b[0m\u001b]8;;\u001b\\\n",
       "\u001b[2;36m           \u001b[0m         \u001b[1;36m0.811731\u001b[0m, \u001b[32m\"acc#acc\"\u001b[0m: \u001b[1;36m0.977965\u001b[0m\u001b[1m}\u001b[0m                   \u001b[2m                        \u001b[0m\n"
      ]
     },
     "metadata": {},
     "output_type": "display_data"
    },
    {
     "name": "stdout",
     "output_type": "stream",
     "text": [
      "Epoch:9:  92%|█████████▏| [57:08<03:52, 291.14s/it, ] \n",
      "\u001b[A\n",
      "\u001b[A\n",
      "\u001b[A\n",
      "\u001b[A\n",
      "\u001b[A\n",
      "\u001b[A\n",
      "\u001b[A\n",
      "\u001b[A\n",
      "\u001b[A\n",
      "\u001b[A\n",
      "\u001b[A\n",
      "\u001b[A\n",
      "\u001b[A\n",
      "\u001b[A\n",
      "\u001b[A\n",
      "\u001b[A\n",
      "\u001b[A\n",
      "\u001b[A\n",
      "\u001b[A\n",
      "\u001b[A\n",
      "\u001b[A\n",
      "\u001b[A\n",
      "\u001b[A\n",
      "\u001b[A\n",
      "\u001b[A\n",
      "\u001b[A\n",
      "\u001b[A\n",
      "\u001b[A\n",
      "\u001b[A\n",
      "\u001b[A\n",
      "\u001b[A\n",
      "\u001b[A\n",
      "\u001b[A\n",
      "\u001b[A\n",
      "\u001b[A\n",
      "\u001b[A\n",
      "\u001b[A\n",
      "\u001b[A\n",
      "\u001b[A\n",
      "\u001b[A\n",
      "\u001b[A\n",
      "\u001b[A\n",
      "\u001b[A\n",
      "\u001b[A\n",
      "\u001b[A"
     ]
    },
    {
     "data": {
      "text/html": [
       "<pre style=\"white-space:pre;overflow-x:auto;line-height:normal;font-family:Menlo,'DejaVu Sans Mono',consolas,'Courier New',monospace\"><span style=\"color: #7fbfbf; text-decoration-color: #7fbfbf\">[16:53:13] </span><span style=\"color: #000080; text-decoration-color: #000080\">INFO    </span> ----------Eval. results on Epoch:<span style=\"color: #008080; text-decoration-color: #008080; font-weight: bold\">9</span>,              <a href=\"file:///remote-home/pjli/anaconda3/envs/nlptorch/lib/python3.7/site-packages/fastNLP/core/callbacks/progress_callback.py\"><span style=\"color: #7f7f7f; text-decoration-color: #7f7f7f\">progress_callback.py</span></a><span style=\"color: #7f7f7f; text-decoration-color: #7f7f7f\">:</span><a href=\"file:///remote-home/pjli/anaconda3/envs/nlptorch/lib/python3.7/site-packages/fastNLP/core/callbacks/progress_callback.py#322\"><span style=\"color: #7f7f7f; text-decoration-color: #7f7f7f\">322</span></a>\n",
       "<span style=\"color: #7fbfbf; text-decoration-color: #7fbfbf\">           </span>         Batch:<span style=\"color: #008080; text-decoration-color: #008080; font-weight: bold\">264</span>----------                              <span style=\"color: #7f7f7f; text-decoration-color: #7f7f7f\">                        </span>\n",
       "</pre>\n"
      ],
      "text/plain": [
       "\u001b[2;36m[16:53:13]\u001b[0m\u001b[2;36m \u001b[0m\u001b[34mINFO    \u001b[0m ----------Eval. results on Epoch:\u001b[1;36m9\u001b[0m,              \u001b]8;id=973848;file:///remote-home/pjli/anaconda3/envs/nlptorch/lib/python3.7/site-packages/fastNLP/core/callbacks/progress_callback.py\u001b\\\u001b[2mprogress_callback.py\u001b[0m\u001b]8;;\u001b\\\u001b[2m:\u001b[0m\u001b]8;id=792024;file:///remote-home/pjli/anaconda3/envs/nlptorch/lib/python3.7/site-packages/fastNLP/core/callbacks/progress_callback.py#322\u001b\\\u001b[2m322\u001b[0m\u001b]8;;\u001b\\\n",
       "\u001b[2;36m           \u001b[0m         Batch:\u001b[1;36m264\u001b[0m----------                              \u001b[2m                        \u001b[0m\n"
      ]
     },
     "metadata": {},
     "output_type": "display_data"
    },
    {
     "data": {
      "text/html": [
       "<pre style=\"white-space:pre;overflow-x:auto;line-height:normal;font-family:Menlo,'DejaVu Sans Mono',consolas,'Courier New',monospace\"><span style=\"color: #7fbfbf; text-decoration-color: #7fbfbf\">           </span><span style=\"color: #000080; text-decoration-color: #000080\">INFO    </span> <span style=\"font-weight: bold\">{</span><span style=\"color: #008000; text-decoration-color: #008000\">\"f#F1\"</span>: <span style=\"color: #008080; text-decoration-color: #008080; font-weight: bold\">0.83206</span>, <span style=\"color: #008000; text-decoration-color: #008000\">\"pre#F1\"</span>: <span style=\"color: #008080; text-decoration-color: #008080; font-weight: bold\">0.852279</span>, <span style=\"color: #008000; text-decoration-color: #008000\">\"rec#F1\"</span>:  <a href=\"file:///remote-home/pjli/anaconda3/envs/nlptorch/lib/python3.7/site-packages/fastNLP/core/callbacks/progress_callback.py\"><span style=\"color: #7f7f7f; text-decoration-color: #7f7f7f\">progress_callback.py</span></a><span style=\"color: #7f7f7f; text-decoration-color: #7f7f7f\">:</span><a href=\"file:///remote-home/pjli/anaconda3/envs/nlptorch/lib/python3.7/site-packages/fastNLP/core/callbacks/progress_callback.py#327\"><span style=\"color: #7f7f7f; text-decoration-color: #7f7f7f\">327</span></a>\n",
       "<span style=\"color: #7fbfbf; text-decoration-color: #7fbfbf\">           </span>         <span style=\"color: #008080; text-decoration-color: #008080; font-weight: bold\">0.812778</span>, <span style=\"color: #008000; text-decoration-color: #008000\">\"acc#acc\"</span>: <span style=\"color: #008080; text-decoration-color: #008080; font-weight: bold\">0.978056</span><span style=\"font-weight: bold\">}</span>                   <span style=\"color: #7f7f7f; text-decoration-color: #7f7f7f\">                        </span>\n",
       "</pre>\n"
      ],
      "text/plain": [
       "\u001b[2;36m          \u001b[0m\u001b[2;36m \u001b[0m\u001b[34mINFO    \u001b[0m \u001b[1m{\u001b[0m\u001b[32m\"f#F1\"\u001b[0m: \u001b[1;36m0.83206\u001b[0m, \u001b[32m\"pre#F1\"\u001b[0m: \u001b[1;36m0.852279\u001b[0m, \u001b[32m\"rec#F1\"\u001b[0m:  \u001b]8;id=992719;file:///remote-home/pjli/anaconda3/envs/nlptorch/lib/python3.7/site-packages/fastNLP/core/callbacks/progress_callback.py\u001b\\\u001b[2mprogress_callback.py\u001b[0m\u001b]8;;\u001b\\\u001b[2m:\u001b[0m\u001b]8;id=937495;file:///remote-home/pjli/anaconda3/envs/nlptorch/lib/python3.7/site-packages/fastNLP/core/callbacks/progress_callback.py#327\u001b\\\u001b[2m327\u001b[0m\u001b]8;;\u001b\\\n",
       "\u001b[2;36m           \u001b[0m         \u001b[1;36m0.812778\u001b[0m, \u001b[32m\"acc#acc\"\u001b[0m: \u001b[1;36m0.978056\u001b[0m\u001b[1m}\u001b[0m                   \u001b[2m                        \u001b[0m\n"
      ]
     },
     "metadata": {},
     "output_type": "display_data"
    },
    {
     "name": "stdout",
     "output_type": "stream",
     "text": [
      "Epoch:9:  94%|█████████▎| [58:03<03:37, 338.36s/it, ] \n",
      "\u001b[A\n",
      "\u001b[A\n",
      "\u001b[A\n",
      "\u001b[A\n",
      "\u001b[A\n",
      "\u001b[A\n",
      "\u001b[A\n",
      "\u001b[A\n",
      "\u001b[A\n",
      "\u001b[A\n",
      "\u001b[A\n",
      "\u001b[A\n",
      "\u001b[A\n",
      "\u001b[A\n",
      "\u001b[A\n",
      "\u001b[A\n",
      "\u001b[A\n",
      "\u001b[A\n",
      "\u001b[A\n",
      "\u001b[A\n",
      "\u001b[A\n",
      "\u001b[A\n",
      "\u001b[A\n",
      "\u001b[A\n",
      "\u001b[A\n",
      "\u001b[A\n",
      "\u001b[A\n",
      "\u001b[A\n",
      "\u001b[A\n",
      "\u001b[A\n",
      "\u001b[A\n",
      "\u001b[A\n",
      "\u001b[A\n",
      "\u001b[A\n",
      "\u001b[A\n",
      "\u001b[A\n",
      "\u001b[A\n",
      "\u001b[A\n",
      "\u001b[A\n",
      "\u001b[A\n",
      "\u001b[A\n",
      "\u001b[A"
     ]
    },
    {
     "data": {
      "text/html": [
       "<pre style=\"white-space:pre;overflow-x:auto;line-height:normal;font-family:Menlo,'DejaVu Sans Mono',consolas,'Courier New',monospace\"><span style=\"color: #7fbfbf; text-decoration-color: #7fbfbf\">[16:54:08] </span><span style=\"color: #000080; text-decoration-color: #000080\">INFO    </span> ++++++++++Eval. results on Epoch:<span style=\"color: #008080; text-decoration-color: #008080; font-weight: bold\">9</span>,              <a href=\"file:///remote-home/pjli/anaconda3/envs/nlptorch/lib/python3.7/site-packages/fastNLP/core/callbacks/progress_callback.py\"><span style=\"color: #7f7f7f; text-decoration-color: #7f7f7f\">progress_callback.py</span></a><span style=\"color: #7f7f7f; text-decoration-color: #7f7f7f\">:</span><a href=\"file:///remote-home/pjli/anaconda3/envs/nlptorch/lib/python3.7/site-packages/fastNLP/core/callbacks/progress_callback.py#322\"><span style=\"color: #7f7f7f; text-decoration-color: #7f7f7f\">322</span></a>\n",
       "<span style=\"color: #7fbfbf; text-decoration-color: #7fbfbf\">           </span>         Batch:<span style=\"color: #008080; text-decoration-color: #008080; font-weight: bold\">464</span>++++++++++                              <span style=\"color: #7f7f7f; text-decoration-color: #7f7f7f\">                        </span>\n",
       "</pre>\n"
      ],
      "text/plain": [
       "\u001b[2;36m[16:54:08]\u001b[0m\u001b[2;36m \u001b[0m\u001b[34mINFO    \u001b[0m ++++++++++Eval. results on Epoch:\u001b[1;36m9\u001b[0m,              \u001b]8;id=801953;file:///remote-home/pjli/anaconda3/envs/nlptorch/lib/python3.7/site-packages/fastNLP/core/callbacks/progress_callback.py\u001b\\\u001b[2mprogress_callback.py\u001b[0m\u001b]8;;\u001b\\\u001b[2m:\u001b[0m\u001b]8;id=337550;file:///remote-home/pjli/anaconda3/envs/nlptorch/lib/python3.7/site-packages/fastNLP/core/callbacks/progress_callback.py#322\u001b\\\u001b[2m322\u001b[0m\u001b]8;;\u001b\\\n",
       "\u001b[2;36m           \u001b[0m         Batch:\u001b[1;36m464\u001b[0m++++++++++                              \u001b[2m                        \u001b[0m\n"
      ]
     },
     "metadata": {},
     "output_type": "display_data"
    },
    {
     "data": {
      "text/html": [
       "<pre style=\"white-space:pre;overflow-x:auto;line-height:normal;font-family:Menlo,'DejaVu Sans Mono',consolas,'Courier New',monospace\"><span style=\"color: #7fbfbf; text-decoration-color: #7fbfbf\">           </span><span style=\"color: #000080; text-decoration-color: #000080\">INFO    </span> <span style=\"font-weight: bold\">{</span><span style=\"color: #008000; text-decoration-color: #008000\">\"f#F1\"</span>: <span style=\"color: #008080; text-decoration-color: #008080; font-weight: bold\">0.835419</span>, <span style=\"color: #008000; text-decoration-color: #008000\">\"pre#F1\"</span>: <span style=\"color: #008080; text-decoration-color: #008080; font-weight: bold\">0.859358</span>, <span style=\"color: #008000; text-decoration-color: #008000\">\"rec#F1\"</span>: <a href=\"file:///remote-home/pjli/anaconda3/envs/nlptorch/lib/python3.7/site-packages/fastNLP/core/callbacks/progress_callback.py\"><span style=\"color: #7f7f7f; text-decoration-color: #7f7f7f\">progress_callback.py</span></a><span style=\"color: #7f7f7f; text-decoration-color: #7f7f7f\">:</span><a href=\"file:///remote-home/pjli/anaconda3/envs/nlptorch/lib/python3.7/site-packages/fastNLP/core/callbacks/progress_callback.py#327\"><span style=\"color: #7f7f7f; text-decoration-color: #7f7f7f\">327</span></a>\n",
       "<span style=\"color: #7fbfbf; text-decoration-color: #7fbfbf\">           </span>         <span style=\"color: #008080; text-decoration-color: #008080; font-weight: bold\">0.812778</span>, <span style=\"color: #008000; text-decoration-color: #008000\">\"acc#acc\"</span>: <span style=\"color: #008080; text-decoration-color: #008080; font-weight: bold\">0.978202</span><span style=\"font-weight: bold\">}</span>                   <span style=\"color: #7f7f7f; text-decoration-color: #7f7f7f\">                        </span>\n",
       "</pre>\n"
      ],
      "text/plain": [
       "\u001b[2;36m          \u001b[0m\u001b[2;36m \u001b[0m\u001b[34mINFO    \u001b[0m \u001b[1m{\u001b[0m\u001b[32m\"f#F1\"\u001b[0m: \u001b[1;36m0.835419\u001b[0m, \u001b[32m\"pre#F1\"\u001b[0m: \u001b[1;36m0.859358\u001b[0m, \u001b[32m\"rec#F1\"\u001b[0m: \u001b]8;id=217317;file:///remote-home/pjli/anaconda3/envs/nlptorch/lib/python3.7/site-packages/fastNLP/core/callbacks/progress_callback.py\u001b\\\u001b[2mprogress_callback.py\u001b[0m\u001b]8;;\u001b\\\u001b[2m:\u001b[0m\u001b]8;id=696868;file:///remote-home/pjli/anaconda3/envs/nlptorch/lib/python3.7/site-packages/fastNLP/core/callbacks/progress_callback.py#327\u001b\\\u001b[2m327\u001b[0m\u001b]8;;\u001b\\\n",
       "\u001b[2;36m           \u001b[0m         \u001b[1;36m0.812778\u001b[0m, \u001b[32m\"acc#acc\"\u001b[0m: \u001b[1;36m0.978202\u001b[0m\u001b[1m}\u001b[0m                   \u001b[2m                        \u001b[0m\n"
      ]
     },
     "metadata": {},
     "output_type": "display_data"
    },
    {
     "name": "stdout",
     "output_type": "stream",
     "text": [
      "Epoch:9:  95%|█████████▌| [58:59<02:24, 295.03s/it, ] \n",
      "\u001b[A\n",
      "\u001b[A\n",
      "\u001b[A\n",
      "\u001b[A\n",
      "\u001b[A\n",
      "\u001b[A\n",
      "\u001b[A\n",
      "\u001b[A\n",
      "\u001b[A\n",
      "\u001b[A\n",
      "\u001b[A\n",
      "\u001b[A\n",
      "\u001b[A\n",
      "\u001b[A\n",
      "\u001b[A\n",
      "\u001b[A\n",
      "\u001b[A\n",
      "\u001b[A\n",
      "\u001b[A\n",
      "\u001b[A\n",
      "\u001b[A\n",
      "\u001b[A\n",
      "\u001b[A\n",
      "\u001b[A\n",
      "\u001b[A\n",
      "\u001b[A\n",
      "\u001b[A\n",
      "\u001b[A\n",
      "\u001b[A\n",
      "\u001b[A\n",
      "\u001b[A\n",
      "\u001b[A\n",
      "\u001b[A\n",
      "\u001b[A\n",
      "\u001b[A\n",
      "\u001b[A\n",
      "\u001b[A\n",
      "\u001b[A\n",
      "\u001b[A\n",
      "\u001b[A\n",
      "\u001b[A\n",
      "\u001b[A\n",
      "\u001b[A\n",
      "\u001b[A"
     ]
    },
    {
     "data": {
      "text/html": [
       "<pre style=\"white-space:pre;overflow-x:auto;line-height:normal;font-family:Menlo,'DejaVu Sans Mono',consolas,'Courier New',monospace\"><span style=\"color: #7fbfbf; text-decoration-color: #7fbfbf\">[16:55:04] </span><span style=\"color: #000080; text-decoration-color: #000080\">INFO    </span> ----------Eval. results on Epoch:<span style=\"color: #008080; text-decoration-color: #008080; font-weight: bold\">9</span>,              <a href=\"file:///remote-home/pjli/anaconda3/envs/nlptorch/lib/python3.7/site-packages/fastNLP/core/callbacks/progress_callback.py\"><span style=\"color: #7f7f7f; text-decoration-color: #7f7f7f\">progress_callback.py</span></a><span style=\"color: #7f7f7f; text-decoration-color: #7f7f7f\">:</span><a href=\"file:///remote-home/pjli/anaconda3/envs/nlptorch/lib/python3.7/site-packages/fastNLP/core/callbacks/progress_callback.py#322\"><span style=\"color: #7f7f7f; text-decoration-color: #7f7f7f\">322</span></a>\n",
       "<span style=\"color: #7fbfbf; text-decoration-color: #7fbfbf\">           </span>         Batch:<span style=\"color: #008080; text-decoration-color: #008080; font-weight: bold\">664</span>----------                              <span style=\"color: #7f7f7f; text-decoration-color: #7f7f7f\">                        </span>\n",
       "</pre>\n"
      ],
      "text/plain": [
       "\u001b[2;36m[16:55:04]\u001b[0m\u001b[2;36m \u001b[0m\u001b[34mINFO    \u001b[0m ----------Eval. results on Epoch:\u001b[1;36m9\u001b[0m,              \u001b]8;id=159879;file:///remote-home/pjli/anaconda3/envs/nlptorch/lib/python3.7/site-packages/fastNLP/core/callbacks/progress_callback.py\u001b\\\u001b[2mprogress_callback.py\u001b[0m\u001b]8;;\u001b\\\u001b[2m:\u001b[0m\u001b]8;id=418762;file:///remote-home/pjli/anaconda3/envs/nlptorch/lib/python3.7/site-packages/fastNLP/core/callbacks/progress_callback.py#322\u001b\\\u001b[2m322\u001b[0m\u001b]8;;\u001b\\\n",
       "\u001b[2;36m           \u001b[0m         Batch:\u001b[1;36m664\u001b[0m----------                              \u001b[2m                        \u001b[0m\n"
      ]
     },
     "metadata": {},
     "output_type": "display_data"
    },
    {
     "data": {
      "text/html": [
       "<pre style=\"white-space:pre;overflow-x:auto;line-height:normal;font-family:Menlo,'DejaVu Sans Mono',consolas,'Courier New',monospace\"><span style=\"color: #7fbfbf; text-decoration-color: #7fbfbf\">           </span><span style=\"color: #000080; text-decoration-color: #000080\">INFO    </span> <span style=\"font-weight: bold\">{</span><span style=\"color: #008000; text-decoration-color: #008000\">\"f#F1\"</span>: <span style=\"color: #008080; text-decoration-color: #008080; font-weight: bold\">0.833738</span>, <span style=\"color: #008000; text-decoration-color: #008000\">\"pre#F1\"</span>: <span style=\"color: #008080; text-decoration-color: #008080; font-weight: bold\">0.858729</span>, <span style=\"color: #008000; text-decoration-color: #008000\">\"rec#F1\"</span>: <a href=\"file:///remote-home/pjli/anaconda3/envs/nlptorch/lib/python3.7/site-packages/fastNLP/core/callbacks/progress_callback.py\"><span style=\"color: #7f7f7f; text-decoration-color: #7f7f7f\">progress_callback.py</span></a><span style=\"color: #7f7f7f; text-decoration-color: #7f7f7f\">:</span><a href=\"file:///remote-home/pjli/anaconda3/envs/nlptorch/lib/python3.7/site-packages/fastNLP/core/callbacks/progress_callback.py#327\"><span style=\"color: #7f7f7f; text-decoration-color: #7f7f7f\">327</span></a>\n",
       "<span style=\"color: #7fbfbf; text-decoration-color: #7fbfbf\">           </span>         <span style=\"color: #008080; text-decoration-color: #008080; font-weight: bold\">0.81016</span>, <span style=\"color: #008000; text-decoration-color: #008000\">\"acc#acc\"</span>: <span style=\"color: #008080; text-decoration-color: #008080; font-weight: bold\">0.978083</span><span style=\"font-weight: bold\">}</span>                    <span style=\"color: #7f7f7f; text-decoration-color: #7f7f7f\">                        </span>\n",
       "</pre>\n"
      ],
      "text/plain": [
       "\u001b[2;36m          \u001b[0m\u001b[2;36m \u001b[0m\u001b[34mINFO    \u001b[0m \u001b[1m{\u001b[0m\u001b[32m\"f#F1\"\u001b[0m: \u001b[1;36m0.833738\u001b[0m, \u001b[32m\"pre#F1\"\u001b[0m: \u001b[1;36m0.858729\u001b[0m, \u001b[32m\"rec#F1\"\u001b[0m: \u001b]8;id=727215;file:///remote-home/pjli/anaconda3/envs/nlptorch/lib/python3.7/site-packages/fastNLP/core/callbacks/progress_callback.py\u001b\\\u001b[2mprogress_callback.py\u001b[0m\u001b]8;;\u001b\\\u001b[2m:\u001b[0m\u001b]8;id=917050;file:///remote-home/pjli/anaconda3/envs/nlptorch/lib/python3.7/site-packages/fastNLP/core/callbacks/progress_callback.py#327\u001b\\\u001b[2m327\u001b[0m\u001b]8;;\u001b\\\n",
       "\u001b[2;36m           \u001b[0m         \u001b[1;36m0.81016\u001b[0m, \u001b[32m\"acc#acc\"\u001b[0m: \u001b[1;36m0.978083\u001b[0m\u001b[1m}\u001b[0m                    \u001b[2m                        \u001b[0m\n"
      ]
     },
     "metadata": {},
     "output_type": "display_data"
    },
    {
     "name": "stdout",
     "output_type": "stream",
     "text": [
      "Epoch:9:  97%|█████████▋| [59:56<01:56, 344.73s/it, ] \n",
      "\u001b[A\n",
      "\u001b[A\n",
      "\u001b[A\n",
      "\u001b[A\n",
      "\u001b[A\n",
      "\u001b[A\n",
      "\u001b[A\n",
      "\u001b[A\n",
      "\u001b[A\n",
      "\u001b[A\n",
      "\u001b[A\n",
      "\u001b[A\n",
      "\u001b[A\n",
      "\u001b[A\n",
      "\u001b[A\n",
      "\u001b[A\n",
      "\u001b[A\n",
      "\u001b[A\n",
      "\u001b[A\n",
      "\u001b[A\n",
      "\u001b[A\n",
      "\u001b[A\n",
      "\u001b[A\n",
      "\u001b[A\n",
      "\u001b[A\n",
      "\u001b[A\n",
      "\u001b[A\n",
      "\u001b[A\n",
      "\u001b[A\n",
      "\u001b[A\n",
      "\u001b[A\n",
      "\u001b[A\n",
      "\u001b[A\n",
      "\u001b[A\n",
      "\u001b[A\n",
      "\u001b[A\n",
      "\u001b[A\n",
      "\u001b[A\n",
      "\u001b[A\n",
      "\u001b[A\n",
      "\u001b[A"
     ]
    },
    {
     "data": {
      "text/html": [
       "<pre style=\"white-space:pre;overflow-x:auto;line-height:normal;font-family:Menlo,'DejaVu Sans Mono',consolas,'Courier New',monospace\"><span style=\"color: #7fbfbf; text-decoration-color: #7fbfbf\">[16:56:01] </span><span style=\"color: #000080; text-decoration-color: #000080\">INFO    </span> ++++++++++Eval. results on Epoch:<span style=\"color: #008080; text-decoration-color: #008080; font-weight: bold\">9</span>,              <a href=\"file:///remote-home/pjli/anaconda3/envs/nlptorch/lib/python3.7/site-packages/fastNLP/core/callbacks/progress_callback.py\"><span style=\"color: #7f7f7f; text-decoration-color: #7f7f7f\">progress_callback.py</span></a><span style=\"color: #7f7f7f; text-decoration-color: #7f7f7f\">:</span><a href=\"file:///remote-home/pjli/anaconda3/envs/nlptorch/lib/python3.7/site-packages/fastNLP/core/callbacks/progress_callback.py#322\"><span style=\"color: #7f7f7f; text-decoration-color: #7f7f7f\">322</span></a>\n",
       "<span style=\"color: #7fbfbf; text-decoration-color: #7fbfbf\">           </span>         Batch:<span style=\"color: #008080; text-decoration-color: #008080; font-weight: bold\">864</span>++++++++++                              <span style=\"color: #7f7f7f; text-decoration-color: #7f7f7f\">                        </span>\n",
       "</pre>\n"
      ],
      "text/plain": [
       "\u001b[2;36m[16:56:01]\u001b[0m\u001b[2;36m \u001b[0m\u001b[34mINFO    \u001b[0m ++++++++++Eval. results on Epoch:\u001b[1;36m9\u001b[0m,              \u001b]8;id=878616;file:///remote-home/pjli/anaconda3/envs/nlptorch/lib/python3.7/site-packages/fastNLP/core/callbacks/progress_callback.py\u001b\\\u001b[2mprogress_callback.py\u001b[0m\u001b]8;;\u001b\\\u001b[2m:\u001b[0m\u001b]8;id=117255;file:///remote-home/pjli/anaconda3/envs/nlptorch/lib/python3.7/site-packages/fastNLP/core/callbacks/progress_callback.py#322\u001b\\\u001b[2m322\u001b[0m\u001b]8;;\u001b\\\n",
       "\u001b[2;36m           \u001b[0m         Batch:\u001b[1;36m864\u001b[0m++++++++++                              \u001b[2m                        \u001b[0m\n"
      ]
     },
     "metadata": {},
     "output_type": "display_data"
    },
    {
     "data": {
      "text/html": [
       "<pre style=\"white-space:pre;overflow-x:auto;line-height:normal;font-family:Menlo,'DejaVu Sans Mono',consolas,'Courier New',monospace\"><span style=\"color: #7fbfbf; text-decoration-color: #7fbfbf\">           </span><span style=\"color: #000080; text-decoration-color: #000080\">INFO    </span> <span style=\"font-weight: bold\">{</span><span style=\"color: #008000; text-decoration-color: #008000\">\"f#F1\"</span>: <span style=\"color: #008080; text-decoration-color: #008080; font-weight: bold\">0.836074</span>, <span style=\"color: #008000; text-decoration-color: #008000\">\"pre#F1\"</span>: <span style=\"color: #008080; text-decoration-color: #008080; font-weight: bold\">0.861628</span>, <span style=\"color: #008000; text-decoration-color: #008000\">\"rec#F1\"</span>: <a href=\"file:///remote-home/pjli/anaconda3/envs/nlptorch/lib/python3.7/site-packages/fastNLP/core/callbacks/progress_callback.py\"><span style=\"color: #7f7f7f; text-decoration-color: #7f7f7f\">progress_callback.py</span></a><span style=\"color: #7f7f7f; text-decoration-color: #7f7f7f\">:</span><a href=\"file:///remote-home/pjli/anaconda3/envs/nlptorch/lib/python3.7/site-packages/fastNLP/core/callbacks/progress_callback.py#327\"><span style=\"color: #7f7f7f; text-decoration-color: #7f7f7f\">327</span></a>\n",
       "<span style=\"color: #7fbfbf; text-decoration-color: #7fbfbf\">           </span>         <span style=\"color: #008080; text-decoration-color: #008080; font-weight: bold\">0.811993</span>, <span style=\"color: #008000; text-decoration-color: #008000\">\"acc#acc\"</span>: <span style=\"color: #008080; text-decoration-color: #008080; font-weight: bold\">0.978338</span><span style=\"font-weight: bold\">}</span>                   <span style=\"color: #7f7f7f; text-decoration-color: #7f7f7f\">                        </span>\n",
       "</pre>\n"
      ],
      "text/plain": [
       "\u001b[2;36m          \u001b[0m\u001b[2;36m \u001b[0m\u001b[34mINFO    \u001b[0m \u001b[1m{\u001b[0m\u001b[32m\"f#F1\"\u001b[0m: \u001b[1;36m0.836074\u001b[0m, \u001b[32m\"pre#F1\"\u001b[0m: \u001b[1;36m0.861628\u001b[0m, \u001b[32m\"rec#F1\"\u001b[0m: \u001b]8;id=527744;file:///remote-home/pjli/anaconda3/envs/nlptorch/lib/python3.7/site-packages/fastNLP/core/callbacks/progress_callback.py\u001b\\\u001b[2mprogress_callback.py\u001b[0m\u001b]8;;\u001b\\\u001b[2m:\u001b[0m\u001b]8;id=927081;file:///remote-home/pjli/anaconda3/envs/nlptorch/lib/python3.7/site-packages/fastNLP/core/callbacks/progress_callback.py#327\u001b\\\u001b[2m327\u001b[0m\u001b]8;;\u001b\\\n",
       "\u001b[2;36m           \u001b[0m         \u001b[1;36m0.811993\u001b[0m, \u001b[32m\"acc#acc\"\u001b[0m: \u001b[1;36m0.978338\u001b[0m\u001b[1m}\u001b[0m                   \u001b[2m                        \u001b[0m\n"
      ]
     },
     "metadata": {},
     "output_type": "display_data"
    },
    {
     "name": "stdout",
     "output_type": "stream",
     "text": [
      "Epoch:9:  98%|█████████▊| [1:00:52<00:53, 290.73s/it, ] \n",
      "\u001b[A\n",
      "\u001b[A\n",
      "\u001b[A\n",
      "\u001b[A\n",
      "\u001b[A\n",
      "\u001b[A\n",
      "\u001b[A\n",
      "\u001b[A\n",
      "\u001b[A\n",
      "\u001b[A\n",
      "\u001b[A\n",
      "\u001b[A\n",
      "\u001b[A\n",
      "\u001b[A\n",
      "\u001b[A\n",
      "\u001b[A\n",
      "\u001b[A\n",
      "\u001b[A\n",
      "\u001b[A\n",
      "\u001b[A\n",
      "\u001b[A\n",
      "\u001b[A\n",
      "\u001b[A\n",
      "\u001b[A\n",
      "\u001b[A\n",
      "\u001b[A\n",
      "\u001b[A\n",
      "\u001b[A\n",
      "\u001b[A\n",
      "\u001b[A\n",
      "\u001b[A\n",
      "\u001b[A\n",
      "\u001b[A\n",
      "\u001b[A\n",
      "\u001b[A\n",
      "\u001b[A\n",
      "\u001b[A\n",
      "\u001b[A\n",
      "\u001b[A\n",
      "\u001b[A\n",
      "\u001b[A\n",
      "\u001b[A\n",
      "\u001b[A"
     ]
    },
    {
     "data": {
      "text/html": [
       "<pre style=\"white-space:pre;overflow-x:auto;line-height:normal;font-family:Menlo,'DejaVu Sans Mono',consolas,'Courier New',monospace\"><span style=\"color: #7fbfbf; text-decoration-color: #7fbfbf\">[16:56:57] </span><span style=\"color: #000080; text-decoration-color: #000080\">INFO    </span> ----------Eval. results on Epoch:<span style=\"color: #008080; text-decoration-color: #008080; font-weight: bold\">9</span>,              <a href=\"file:///remote-home/pjli/anaconda3/envs/nlptorch/lib/python3.7/site-packages/fastNLP/core/callbacks/progress_callback.py\"><span style=\"color: #7f7f7f; text-decoration-color: #7f7f7f\">progress_callback.py</span></a><span style=\"color: #7f7f7f; text-decoration-color: #7f7f7f\">:</span><a href=\"file:///remote-home/pjli/anaconda3/envs/nlptorch/lib/python3.7/site-packages/fastNLP/core/callbacks/progress_callback.py#322\"><span style=\"color: #7f7f7f; text-decoration-color: #7f7f7f\">322</span></a>\n",
       "<span style=\"color: #7fbfbf; text-decoration-color: #7fbfbf\">           </span>         Batch:<span style=\"color: #008080; text-decoration-color: #008080; font-weight: bold\">1064</span>----------                             <span style=\"color: #7f7f7f; text-decoration-color: #7f7f7f\">                        </span>\n",
       "</pre>\n"
      ],
      "text/plain": [
       "\u001b[2;36m[16:56:57]\u001b[0m\u001b[2;36m \u001b[0m\u001b[34mINFO    \u001b[0m ----------Eval. results on Epoch:\u001b[1;36m9\u001b[0m,              \u001b]8;id=96556;file:///remote-home/pjli/anaconda3/envs/nlptorch/lib/python3.7/site-packages/fastNLP/core/callbacks/progress_callback.py\u001b\\\u001b[2mprogress_callback.py\u001b[0m\u001b]8;;\u001b\\\u001b[2m:\u001b[0m\u001b]8;id=444411;file:///remote-home/pjli/anaconda3/envs/nlptorch/lib/python3.7/site-packages/fastNLP/core/callbacks/progress_callback.py#322\u001b\\\u001b[2m322\u001b[0m\u001b]8;;\u001b\\\n",
       "\u001b[2;36m           \u001b[0m         Batch:\u001b[1;36m1064\u001b[0m----------                             \u001b[2m                        \u001b[0m\n"
      ]
     },
     "metadata": {},
     "output_type": "display_data"
    },
    {
     "data": {
      "text/html": [
       "<pre style=\"white-space:pre;overflow-x:auto;line-height:normal;font-family:Menlo,'DejaVu Sans Mono',consolas,'Courier New',monospace\"><span style=\"color: #7fbfbf; text-decoration-color: #7fbfbf\">[16:56:58] </span><span style=\"color: #000080; text-decoration-color: #000080\">INFO    </span> <span style=\"font-weight: bold\">{</span><span style=\"color: #008000; text-decoration-color: #008000\">\"f#F1\"</span>: <span style=\"color: #008080; text-decoration-color: #008080; font-weight: bold\">0.835559</span>, <span style=\"color: #008000; text-decoration-color: #008000\">\"pre#F1\"</span>: <span style=\"color: #008080; text-decoration-color: #008080; font-weight: bold\">0.861714</span>, <span style=\"color: #008000; text-decoration-color: #008000\">\"rec#F1\"</span>: <a href=\"file:///remote-home/pjli/anaconda3/envs/nlptorch/lib/python3.7/site-packages/fastNLP/core/callbacks/progress_callback.py\"><span style=\"color: #7f7f7f; text-decoration-color: #7f7f7f\">progress_callback.py</span></a><span style=\"color: #7f7f7f; text-decoration-color: #7f7f7f\">:</span><a href=\"file:///remote-home/pjli/anaconda3/envs/nlptorch/lib/python3.7/site-packages/fastNLP/core/callbacks/progress_callback.py#327\"><span style=\"color: #7f7f7f; text-decoration-color: #7f7f7f\">327</span></a>\n",
       "<span style=\"color: #7fbfbf; text-decoration-color: #7fbfbf\">           </span>         <span style=\"color: #008080; text-decoration-color: #008080; font-weight: bold\">0.810945</span>, <span style=\"color: #008000; text-decoration-color: #008000\">\"acc#acc\"</span>: <span style=\"color: #008080; text-decoration-color: #008080; font-weight: bold\">0.978229</span><span style=\"font-weight: bold\">}</span>                   <span style=\"color: #7f7f7f; text-decoration-color: #7f7f7f\">                        </span>\n",
       "</pre>\n"
      ],
      "text/plain": [
       "\u001b[2;36m[16:56:58]\u001b[0m\u001b[2;36m \u001b[0m\u001b[34mINFO    \u001b[0m \u001b[1m{\u001b[0m\u001b[32m\"f#F1\"\u001b[0m: \u001b[1;36m0.835559\u001b[0m, \u001b[32m\"pre#F1\"\u001b[0m: \u001b[1;36m0.861714\u001b[0m, \u001b[32m\"rec#F1\"\u001b[0m: \u001b]8;id=388655;file:///remote-home/pjli/anaconda3/envs/nlptorch/lib/python3.7/site-packages/fastNLP/core/callbacks/progress_callback.py\u001b\\\u001b[2mprogress_callback.py\u001b[0m\u001b]8;;\u001b\\\u001b[2m:\u001b[0m\u001b]8;id=255964;file:///remote-home/pjli/anaconda3/envs/nlptorch/lib/python3.7/site-packages/fastNLP/core/callbacks/progress_callback.py#327\u001b\\\u001b[2m327\u001b[0m\u001b]8;;\u001b\\\n",
       "\u001b[2;36m           \u001b[0m         \u001b[1;36m0.810945\u001b[0m, \u001b[32m\"acc#acc\"\u001b[0m: \u001b[1;36m0.978229\u001b[0m\u001b[1m}\u001b[0m                   \u001b[2m                        \u001b[0m\n"
      ]
     },
     "metadata": {},
     "output_type": "display_data"
    },
    {
     "name": "stdout",
     "output_type": "stream",
     "text": [
      "Epoch:9: 100%|█████████▉| [1:01:54<00:09, 317.76s/it, ] \n",
      "\u001b[A\n",
      "\u001b[A\n",
      "\u001b[A\n",
      "\u001b[A\n",
      "\u001b[A\n",
      "\u001b[A\n",
      "\u001b[A\n",
      "\u001b[A\n",
      "\u001b[A\n",
      "\u001b[A\n",
      "\u001b[A\n",
      "\u001b[A\n",
      "\u001b[A\n",
      "\u001b[A\n",
      "\u001b[A\n",
      "\u001b[A\n",
      "\u001b[A\n",
      "\u001b[A\n",
      "\u001b[A\n",
      "\u001b[A\n",
      "\u001b[A\n",
      "\u001b[A\n",
      "\u001b[A\n",
      "\u001b[A\n",
      "\u001b[A\n",
      "\u001b[A\n",
      "\u001b[A\n",
      "\u001b[A\n",
      "\u001b[A\n",
      "\u001b[A\n",
      "\u001b[A\n",
      "\u001b[A\n",
      "\u001b[A\n",
      "\u001b[A\n",
      "\u001b[A\n",
      "\u001b[A\n",
      "\u001b[A\n",
      "\u001b[A\n",
      "\u001b[A\n",
      "\u001b[A\n",
      "\u001b[A\n",
      "\u001b[A\n",
      "\u001b[A"
     ]
    },
    {
     "data": {
      "text/html": [
       "<pre style=\"white-space:pre;overflow-x:auto;line-height:normal;font-family:Menlo,'DejaVu Sans Mono',consolas,'Courier New',monospace\"><span style=\"color: #7fbfbf; text-decoration-color: #7fbfbf\">[16:57:59] </span><span style=\"color: #000080; text-decoration-color: #000080\">INFO    </span> ----------Eval. results on Epoch:<span style=\"color: #008080; text-decoration-color: #008080; font-weight: bold\">9</span>,              <a href=\"file:///remote-home/pjli/anaconda3/envs/nlptorch/lib/python3.7/site-packages/fastNLP/core/callbacks/progress_callback.py\"><span style=\"color: #7f7f7f; text-decoration-color: #7f7f7f\">progress_callback.py</span></a><span style=\"color: #7f7f7f; text-decoration-color: #7f7f7f\">:</span><a href=\"file:///remote-home/pjli/anaconda3/envs/nlptorch/lib/python3.7/site-packages/fastNLP/core/callbacks/progress_callback.py#322\"><span style=\"color: #7f7f7f; text-decoration-color: #7f7f7f\">322</span></a>\n",
       "<span style=\"color: #7fbfbf; text-decoration-color: #7fbfbf\">           </span>         Batch:<span style=\"color: #008080; text-decoration-color: #008080; font-weight: bold\">1264</span>----------                             <span style=\"color: #7f7f7f; text-decoration-color: #7f7f7f\">                        </span>\n",
       "</pre>\n"
      ],
      "text/plain": [
       "\u001b[2;36m[16:57:59]\u001b[0m\u001b[2;36m \u001b[0m\u001b[34mINFO    \u001b[0m ----------Eval. results on Epoch:\u001b[1;36m9\u001b[0m,              \u001b]8;id=63901;file:///remote-home/pjli/anaconda3/envs/nlptorch/lib/python3.7/site-packages/fastNLP/core/callbacks/progress_callback.py\u001b\\\u001b[2mprogress_callback.py\u001b[0m\u001b]8;;\u001b\\\u001b[2m:\u001b[0m\u001b]8;id=276814;file:///remote-home/pjli/anaconda3/envs/nlptorch/lib/python3.7/site-packages/fastNLP/core/callbacks/progress_callback.py#322\u001b\\\u001b[2m322\u001b[0m\u001b]8;;\u001b\\\n",
       "\u001b[2;36m           \u001b[0m         Batch:\u001b[1;36m1264\u001b[0m----------                             \u001b[2m                        \u001b[0m\n"
      ]
     },
     "metadata": {},
     "output_type": "display_data"
    },
    {
     "data": {
      "text/html": [
       "<pre style=\"white-space:pre;overflow-x:auto;line-height:normal;font-family:Menlo,'DejaVu Sans Mono',consolas,'Courier New',monospace\"><span style=\"color: #7fbfbf; text-decoration-color: #7fbfbf\">           </span><span style=\"color: #000080; text-decoration-color: #000080\">INFO    </span> <span style=\"font-weight: bold\">{</span><span style=\"color: #008000; text-decoration-color: #008000\">\"f#F1\"</span>: <span style=\"color: #008080; text-decoration-color: #008080; font-weight: bold\">0.833759</span>, <span style=\"color: #008000; text-decoration-color: #008000\">\"pre#F1\"</span>: <span style=\"color: #008080; text-decoration-color: #008080; font-weight: bold\">0.856433</span>, <span style=\"color: #008000; text-decoration-color: #008000\">\"rec#F1\"</span>: <a href=\"file:///remote-home/pjli/anaconda3/envs/nlptorch/lib/python3.7/site-packages/fastNLP/core/callbacks/progress_callback.py\"><span style=\"color: #7f7f7f; text-decoration-color: #7f7f7f\">progress_callback.py</span></a><span style=\"color: #7f7f7f; text-decoration-color: #7f7f7f\">:</span><a href=\"file:///remote-home/pjli/anaconda3/envs/nlptorch/lib/python3.7/site-packages/fastNLP/core/callbacks/progress_callback.py#327\"><span style=\"color: #7f7f7f; text-decoration-color: #7f7f7f\">327</span></a>\n",
       "<span style=\"color: #7fbfbf; text-decoration-color: #7fbfbf\">           </span>         <span style=\"color: #008080; text-decoration-color: #008080; font-weight: bold\">0.812255</span>, <span style=\"color: #008000; text-decoration-color: #008000\">\"acc#acc\"</span>: <span style=\"color: #008080; text-decoration-color: #008080; font-weight: bold\">0.978183</span><span style=\"font-weight: bold\">}</span>                   <span style=\"color: #7f7f7f; text-decoration-color: #7f7f7f\">                        </span>\n",
       "</pre>\n"
      ],
      "text/plain": [
       "\u001b[2;36m          \u001b[0m\u001b[2;36m \u001b[0m\u001b[34mINFO    \u001b[0m \u001b[1m{\u001b[0m\u001b[32m\"f#F1\"\u001b[0m: \u001b[1;36m0.833759\u001b[0m, \u001b[32m\"pre#F1\"\u001b[0m: \u001b[1;36m0.856433\u001b[0m, \u001b[32m\"rec#F1\"\u001b[0m: \u001b]8;id=357201;file:///remote-home/pjli/anaconda3/envs/nlptorch/lib/python3.7/site-packages/fastNLP/core/callbacks/progress_callback.py\u001b\\\u001b[2mprogress_callback.py\u001b[0m\u001b]8;;\u001b\\\u001b[2m:\u001b[0m\u001b]8;id=965326;file:///remote-home/pjli/anaconda3/envs/nlptorch/lib/python3.7/site-packages/fastNLP/core/callbacks/progress_callback.py#327\u001b\\\u001b[2m327\u001b[0m\u001b]8;;\u001b\\\n",
       "\u001b[2;36m           \u001b[0m         \u001b[1;36m0.812255\u001b[0m, \u001b[32m\"acc#acc\"\u001b[0m: \u001b[1;36m0.978183\u001b[0m\u001b[1m}\u001b[0m                   \u001b[2m                        \u001b[0m\n"
      ]
     },
     "metadata": {},
     "output_type": "display_data"
    },
    {
     "name": "stdout",
     "output_type": "stream",
     "text": [
      "Epoch:9: 100%|█████████▉| [1:02:11<00:00, 341.95s/it, ] "
     ]
    },
    {
     "data": {
      "text/html": [
       "<pre style=\"white-space:pre;overflow-x:auto;line-height:normal;font-family:Menlo,'DejaVu Sans Mono',consolas,'Courier New',monospace\"><span style=\"color: #7fbfbf; text-decoration-color: #7fbfbf\">[16:58:11] </span><span style=\"color: #000080; text-decoration-color: #000080\">INFO    </span> The best performance for monitor f#<span style=\"color: #00ff00; text-decoration-color: #00ff00; font-weight: bold\">F1:0</span>.<span style=\"color: #008080; text-decoration-color: #008080; font-weight: bold\">836074</span>    <a href=\"file:///remote-home/pjli/anaconda3/envs/nlptorch/lib/python3.7/site-packages/fastNLP/core/callbacks/progress_callback.py\"><span style=\"color: #7f7f7f; text-decoration-color: #7f7f7f\">progress_callback.py</span></a><span style=\"color: #7f7f7f; text-decoration-color: #7f7f7f\">:</span><a href=\"file:///remote-home/pjli/anaconda3/envs/nlptorch/lib/python3.7/site-packages/fastNLP/core/callbacks/progress_callback.py#37\"><span style=\"color: #7f7f7f; text-decoration-color: #7f7f7f\">37</span></a>\n",
       "<span style=\"color: #7fbfbf; text-decoration-color: #7fbfbf\">           </span>         was achieved in Epoch:<span style=\"color: #008080; text-decoration-color: #008080; font-weight: bold\">9</span>, Global Batch:<span style=\"color: #008080; text-decoration-color: #008080; font-weight: bold\">12600</span>. The  <span style=\"color: #7f7f7f; text-decoration-color: #7f7f7f\">                       </span>\n",
       "<span style=\"color: #7fbfbf; text-decoration-color: #7fbfbf\">           </span>         evaluation result:                                <span style=\"color: #7f7f7f; text-decoration-color: #7f7f7f\">                       </span>\n",
       "<span style=\"color: #7fbfbf; text-decoration-color: #7fbfbf\">           </span>         <span style=\"font-weight: bold\">{</span><span style=\"color: #008000; text-decoration-color: #008000\">'f#F1'</span>: <span style=\"color: #008080; text-decoration-color: #008080; font-weight: bold\">0.836074</span>, <span style=\"color: #008000; text-decoration-color: #008000\">'pre#F1'</span>: <span style=\"color: #008080; text-decoration-color: #008080; font-weight: bold\">0.861628</span>, <span style=\"color: #008000; text-decoration-color: #008000\">'rec#F1'</span>:  <span style=\"color: #7f7f7f; text-decoration-color: #7f7f7f\">                       </span>\n",
       "<span style=\"color: #7fbfbf; text-decoration-color: #7fbfbf\">           </span>         <span style=\"color: #008080; text-decoration-color: #008080; font-weight: bold\">0.811993</span>, <span style=\"color: #008000; text-decoration-color: #008000\">'acc#acc'</span>: <span style=\"color: #008080; text-decoration-color: #008080; font-weight: bold\">0.978338</span><span style=\"font-weight: bold\">}</span>                    <span style=\"color: #7f7f7f; text-decoration-color: #7f7f7f\">                       </span>\n",
       "</pre>\n"
      ],
      "text/plain": [
       "\u001b[2;36m[16:58:11]\u001b[0m\u001b[2;36m \u001b[0m\u001b[34mINFO    \u001b[0m The best performance for monitor f#\u001b[1;92mF1:0\u001b[0m.\u001b[1;36m836074\u001b[0m    \u001b]8;id=868052;file:///remote-home/pjli/anaconda3/envs/nlptorch/lib/python3.7/site-packages/fastNLP/core/callbacks/progress_callback.py\u001b\\\u001b[2mprogress_callback.py\u001b[0m\u001b]8;;\u001b\\\u001b[2m:\u001b[0m\u001b]8;id=459827;file:///remote-home/pjli/anaconda3/envs/nlptorch/lib/python3.7/site-packages/fastNLP/core/callbacks/progress_callback.py#37\u001b\\\u001b[2m37\u001b[0m\u001b]8;;\u001b\\\n",
       "\u001b[2;36m           \u001b[0m         was achieved in Epoch:\u001b[1;36m9\u001b[0m, Global Batch:\u001b[1;36m12600\u001b[0m. The  \u001b[2m                       \u001b[0m\n",
       "\u001b[2;36m           \u001b[0m         evaluation result:                                \u001b[2m                       \u001b[0m\n",
       "\u001b[2;36m           \u001b[0m         \u001b[1m{\u001b[0m\u001b[32m'f#F1'\u001b[0m: \u001b[1;36m0.836074\u001b[0m, \u001b[32m'pre#F1'\u001b[0m: \u001b[1;36m0.861628\u001b[0m, \u001b[32m'rec#F1'\u001b[0m:  \u001b[2m                       \u001b[0m\n",
       "\u001b[2;36m           \u001b[0m         \u001b[1;36m0.811993\u001b[0m, \u001b[32m'acc#acc'\u001b[0m: \u001b[1;36m0.978338\u001b[0m\u001b[1m}\u001b[0m                    \u001b[2m                       \u001b[0m\n"
      ]
     },
     "metadata": {},
     "output_type": "display_data"
    },
    {
     "name": "stdout",
     "output_type": "stream",
     "text": [
      "                                                       "
     ]
    },
    {
     "data": {
      "text/html": [
       "<pre style=\"white-space:pre;overflow-x:auto;line-height:normal;font-family:Menlo,'DejaVu Sans Mono',consolas,'Courier New',monospace\"><span style=\"color: #7fbfbf; text-decoration-color: #7fbfbf\">           </span><span style=\"color: #000080; text-decoration-color: #000080\">INFO    </span> Loading best model from buffer with f#F1: <a href=\"file:///remote-home/pjli/anaconda3/envs/nlptorch/lib/python3.7/site-packages/fastNLP/core/callbacks/load_best_model_callback.py\"><span style=\"color: #7f7f7f; text-decoration-color: #7f7f7f\">load_best_model_callback.py</span></a><span style=\"color: #7f7f7f; text-decoration-color: #7f7f7f\">:</span><a href=\"file:///remote-home/pjli/anaconda3/envs/nlptorch/lib/python3.7/site-packages/fastNLP/core/callbacks/load_best_model_callback.py#120\"><span style=\"color: #7f7f7f; text-decoration-color: #7f7f7f\">120</span></a>\n",
       "<span style=\"color: #7fbfbf; text-decoration-color: #7fbfbf\">           </span>         <span style=\"color: #008080; text-decoration-color: #008080; font-weight: bold\">0.836074</span> <span style=\"font-weight: bold\">(</span>achieved in Epoch: <span style=\"color: #008080; text-decoration-color: #008080; font-weight: bold\">9</span>, Global    <span style=\"color: #7f7f7f; text-decoration-color: #7f7f7f\">                               </span>\n",
       "<span style=\"color: #7fbfbf; text-decoration-color: #7fbfbf\">           </span>         Batch: <span style=\"color: #008080; text-decoration-color: #008080; font-weight: bold\">12600</span><span style=\"font-weight: bold\">)</span> <span style=\"color: #808000; text-decoration-color: #808000\">...</span>                         <span style=\"color: #7f7f7f; text-decoration-color: #7f7f7f\">                               </span>\n",
       "</pre>\n"
      ],
      "text/plain": [
       "\u001b[2;36m          \u001b[0m\u001b[2;36m \u001b[0m\u001b[34mINFO    \u001b[0m Loading best model from buffer with f#F1: \u001b]8;id=87438;file:///remote-home/pjli/anaconda3/envs/nlptorch/lib/python3.7/site-packages/fastNLP/core/callbacks/load_best_model_callback.py\u001b\\\u001b[2mload_best_model_callback.py\u001b[0m\u001b]8;;\u001b\\\u001b[2m:\u001b[0m\u001b]8;id=45455;file:///remote-home/pjli/anaconda3/envs/nlptorch/lib/python3.7/site-packages/fastNLP/core/callbacks/load_best_model_callback.py#120\u001b\\\u001b[2m120\u001b[0m\u001b]8;;\u001b\\\n",
       "\u001b[2;36m           \u001b[0m         \u001b[1;36m0.836074\u001b[0m \u001b[1m(\u001b[0machieved in Epoch: \u001b[1;36m9\u001b[0m, Global    \u001b[2m                               \u001b[0m\n",
       "\u001b[2;36m           \u001b[0m         Batch: \u001b[1;36m12600\u001b[0m\u001b[1m)\u001b[0m \u001b[33m...\u001b[0m                         \u001b[2m                               \u001b[0m\n"
      ]
     },
     "metadata": {},
     "output_type": "display_data"
    }
   ],
   "source": [
    "trainer.run()"
   ]
  },
  {
   "cell_type": "code",
   "execution_count": 10,
   "metadata": {},
   "outputs": [
    {
     "name": "stdout",
     "output_type": "stream",
     "text": [
      "                                                              \r"
     ]
    },
    {
     "data": {
      "text/plain": [
       "{'f#F1': 0.836074, 'pre#F1': 0.861628, 'rec#F1': 0.811993, 'acc#acc': 0.978338}"
      ]
     },
     "execution_count": 10,
     "metadata": {},
     "output_type": "execute_result"
    }
   ],
   "source": [
    "trainer.evaluator.run()"
   ]
  },
  {
   "cell_type": "code",
   "execution_count": 11,
   "metadata": {},
   "outputs": [
    {
     "data": {
      "text/html": [
       "<pre style=\"white-space:pre;overflow-x:auto;line-height:normal;font-family:Menlo,'DejaVu Sans Mono',consolas,'Courier New',monospace\">/remote-home/pjli/anaconda3/envs/nlptorch/lib/python3.7/site-packages/rich/live.py:221: \n",
       "UserWarning: install \"ipywidgets\" for Jupyter support\n",
       "  warnings.warn('install \"ipywidgets\" for Jupyter support')\n",
       "</pre>\n"
      ],
      "text/plain": [
       "/remote-home/pjli/anaconda3/envs/nlptorch/lib/python3.7/site-packages/rich/live.py:221: \n",
       "UserWarning: install \"ipywidgets\" for Jupyter support\n",
       "  warnings.warn('install \"ipywidgets\" for Jupyter support')\n"
      ]
     },
     "metadata": {},
     "output_type": "display_data"
    },
    {
     "data": {
      "text/html": [
       "<pre style=\"white-space:pre;overflow-x:auto;line-height:normal;font-family:Menlo,'DejaVu Sans Mono',consolas,'Courier New',monospace\"></pre>\n"
      ],
      "text/plain": []
     },
     "metadata": {},
     "output_type": "display_data"
    },
    {
     "data": {
      "text/html": [
       "<pre style=\"white-space:pre;overflow-x:auto;line-height:normal;font-family:Menlo,'DejaVu Sans Mono',consolas,'Courier New',monospace\"><span style=\"font-weight: bold\">{</span><span style=\"color: #008000; text-decoration-color: #008000\">'f#F1'</span>: <span style=\"color: #008080; text-decoration-color: #008080; font-weight: bold\">0.837955</span>, <span style=\"color: #008000; text-decoration-color: #008000\">'pre#F1'</span>: <span style=\"color: #008080; text-decoration-color: #008080; font-weight: bold\">0.859384</span>, <span style=\"color: #008000; text-decoration-color: #008000\">'rec#F1'</span>: <span style=\"color: #008080; text-decoration-color: #008080; font-weight: bold\">0.817568</span>, <span style=\"color: #008000; text-decoration-color: #008000\">'acc#acc'</span>: <span style=\"color: #008080; text-decoration-color: #008080; font-weight: bold\">0.978613</span><span style=\"font-weight: bold\">}</span>\n",
       "</pre>\n"
      ],
      "text/plain": [
       "\u001b[1m{\u001b[0m\u001b[32m'f#F1'\u001b[0m: \u001b[1;36m0.837955\u001b[0m, \u001b[32m'pre#F1'\u001b[0m: \u001b[1;36m0.859384\u001b[0m, \u001b[32m'rec#F1'\u001b[0m: \u001b[1;36m0.817568\u001b[0m, \u001b[32m'acc#acc'\u001b[0m: \u001b[1;36m0.978613\u001b[0m\u001b[1m}\u001b[0m\n"
      ]
     },
     "metadata": {},
     "output_type": "display_data"
    },
    {
     "data": {
      "text/plain": [
       "{'f#F1': 0.837955, 'pre#F1': 0.859384, 'rec#F1': 0.817568, 'acc#acc': 0.978613}"
      ]
     },
     "execution_count": 11,
     "metadata": {},
     "output_type": "execute_result"
    }
   ],
   "source": [
    "testor.run()"
   ]
  },
  {
   "cell_type": "code",
   "execution_count": 12,
   "metadata": {},
   "outputs": [
    {
     "ename": "",
     "evalue": "",
     "output_type": "error",
     "traceback": [
      "\u001b[1;31mCanceled future for execute_request message before replies were done"
     ]
    },
    {
     "ename": "",
     "evalue": "",
     "output_type": "error",
     "traceback": [
      "\u001b[1;31m在当前单元格或上一个单元格中执行代码时 Kernel 崩溃。请查看单元格中的代码，以确定故障的可能原因。有关详细信息，请单击 <a href='https://aka.ms/vscodeJupyterKernelCrash'>此处</a>。有关更多详细信息，请查看 Jupyter <a href='command:jupyter.viewOutput'>log</a>。"
     ]
    }
   ],
   "source": [
    "import os\n",
    " \n",
    "pid = os.getpid()\n",
    "!kill -9 $pid"
   ]
  }
 ],
 "metadata": {
  "kernelspec": {
   "display_name": "nlptorch",
   "language": "python",
   "name": "python3"
  },
  "language_info": {
   "codemirror_mode": {
    "name": "ipython",
    "version": 3
   },
   "file_extension": ".py",
   "mimetype": "text/x-python",
   "name": "python",
   "nbconvert_exporter": "python",
   "pygments_lexer": "ipython3",
   "version": "3.7.0"
  },
  "orig_nbformat": 4,
  "vscode": {
   "interpreter": {
    "hash": "2e1614f01fc18788ff73ea789935570289b12e51c5efba0be572b7a2437dbd96"
   }
  }
 },
 "nbformat": 4,
 "nbformat_minor": 2
}
